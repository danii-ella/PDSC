{
 "cells": [
  {
   "cell_type": "code",
   "execution_count": 1,
   "id": "35bdb73e",
   "metadata": {},
   "outputs": [
    {
     "name": "stdout",
     "output_type": "stream",
     "text": [
      "ppp\n",
      "yyy\n",
      "ttt\n",
      "hhh\n",
      "ooo\n",
      "nnn\n"
     ]
    }
   ],
   "source": [
    "word = 'python'\n",
    "for char in word:\n",
    "    print(char*3)"
   ]
  },
  {
   "cell_type": "code",
   "execution_count": 2,
   "id": "6d95426a",
   "metadata": {},
   "outputs": [
    {
     "name": "stdout",
     "output_type": "stream",
     "text": [
      "ppp/yyy/ttt/hhh/ooo/nnn/"
     ]
    }
   ],
   "source": [
    "word = 'python'\n",
    "for char in word:\n",
    "    print(char*3,end='/')"
   ]
  },
  {
   "cell_type": "code",
   "execution_count": 3,
   "id": "470c890c",
   "metadata": {},
   "outputs": [],
   "source": [
    "#have a list of 5 friends\n",
    "#hey {name}, this is a reminder of our meeting on friday, 12pm"
   ]
  },
  {
   "cell_type": "code",
   "execution_count": 5,
   "id": "ebbeaf91",
   "metadata": {},
   "outputs": [
    {
     "name": "stdout",
     "output_type": "stream",
     "text": [
      "hey Daniel, this is a reminder of our meeting on friday, 12pm\n",
      "hey Jemimah, this is a reminder of our meeting on friday, 12pm\n",
      "hey David, this is a reminder of our meeting on friday, 12pm\n",
      "hey Victress, this is a reminder of our meeting on friday, 12pm\n",
      "hey Anuri, this is a reminder of our meeting on friday, 12pm\n"
     ]
    }
   ],
   "source": [
    "FriendName = 'Daniel','Jemimah','David','Victress','Anuri'\n",
    "for name in FriendName:\n",
    "    print(f'hey {name}, this is a reminder of our meeting on friday, 12pm')"
   ]
  },
  {
   "cell_type": "code",
   "execution_count": 7,
   "id": "d9629f3a",
   "metadata": {},
   "outputs": [],
   "source": [
    "#FriendName = 'Daniel','Jemimah','David','Victress','Anuri'\n",
    "#for name in FriendName:\n",
    " #   print(name)"
   ]
  },
  {
   "cell_type": "code",
   "execution_count": 8,
   "id": "61af8f73",
   "metadata": {},
   "outputs": [],
   "source": [
    "#Write a program to check if an item is in stock and calculate the total cost of items in a shopping cart"
   ]
  },
  {
   "cell_type": "code",
   "execution_count": 16,
   "id": "71b63a3e",
   "metadata": {},
   "outputs": [
    {
     "name": "stdout",
     "output_type": "stream",
     "text": [
      "The totalcost of item in the cart is N51000\n"
     ]
    }
   ],
   "source": [
    "Product = {\n",
    "    'item1':{'Name':'Big Burger','Price':3000,'Stock':30},\n",
    "    'item2':{'Name':'Small Burger','Price':1500,'Stock':60},\n",
    "    'item3':{'Name':'Chicken Pie','Price':900,'Stock':100},\n",
    "}\n",
    "cart = []\n",
    "totalcost = 0\n",
    "cart.append(('item1',5))\n",
    "cart.append(('item2',15))\n",
    "cart.append(('item3',15))\n",
    "for item in cart:\n",
    "    id,quantity = item\n",
    "    if id in Product and Product[id]['Stock'] >= quantity:\n",
    "        totalcost += Product[id]['Price'] * quantity\n",
    "        #totalcost = totalcost + (products[id]['Price']*quantity) also same as the previous line\n",
    "    else:\n",
    "        print('Product out of stock')\n",
    "if totalcost > 0:\n",
    "    print(f'The totalcost of item in the cart is N{totalcost}')\n",
    "else:\n",
    "    print('No item in the cart')"
   ]
  },
  {
   "cell_type": "code",
   "execution_count": 6,
   "id": "8b5e3e87",
   "metadata": {},
   "outputs": [
    {
     "ename": "KeyboardInterrupt",
     "evalue": "Interrupted by user",
     "output_type": "error",
     "traceback": [
      "\u001b[1;31m---------------------------------------------------------------------------\u001b[0m",
      "\u001b[1;31mKeyboardInterrupt\u001b[0m                         Traceback (most recent call last)",
      "Cell \u001b[1;32mIn[6], line 1\u001b[0m\n\u001b[1;32m----> 1\u001b[0m usernumber \u001b[38;5;241m=\u001b[39m \u001b[38;5;28mint\u001b[39m(\u001b[38;5;28minput\u001b[39m(\u001b[38;5;124m'\u001b[39m\u001b[38;5;124mEnter A Number:\u001b[39m\u001b[38;5;124m'\u001b[39m))\n\u001b[0;32m      2\u001b[0m \u001b[38;5;28;01mimport\u001b[39;00m \u001b[38;5;21;01mmath\u001b[39;00m\n\u001b[0;32m      3\u001b[0m counter \u001b[38;5;241m=\u001b[39m \u001b[38;5;241m0\u001b[39m\n",
      "File \u001b[1;32m~\\anaconda3\\Lib\\site-packages\\ipykernel\\kernelbase.py:1202\u001b[0m, in \u001b[0;36mKernel.raw_input\u001b[1;34m(self, prompt)\u001b[0m\n\u001b[0;32m   1200\u001b[0m     msg \u001b[38;5;241m=\u001b[39m \u001b[38;5;124m\"\u001b[39m\u001b[38;5;124mraw_input was called, but this frontend does not support input requests.\u001b[39m\u001b[38;5;124m\"\u001b[39m\n\u001b[0;32m   1201\u001b[0m     \u001b[38;5;28;01mraise\u001b[39;00m StdinNotImplementedError(msg)\n\u001b[1;32m-> 1202\u001b[0m \u001b[38;5;28;01mreturn\u001b[39;00m \u001b[38;5;28mself\u001b[39m\u001b[38;5;241m.\u001b[39m_input_request(\n\u001b[0;32m   1203\u001b[0m     \u001b[38;5;28mstr\u001b[39m(prompt),\n\u001b[0;32m   1204\u001b[0m     \u001b[38;5;28mself\u001b[39m\u001b[38;5;241m.\u001b[39m_parent_ident[\u001b[38;5;124m\"\u001b[39m\u001b[38;5;124mshell\u001b[39m\u001b[38;5;124m\"\u001b[39m],\n\u001b[0;32m   1205\u001b[0m     \u001b[38;5;28mself\u001b[39m\u001b[38;5;241m.\u001b[39mget_parent(\u001b[38;5;124m\"\u001b[39m\u001b[38;5;124mshell\u001b[39m\u001b[38;5;124m\"\u001b[39m),\n\u001b[0;32m   1206\u001b[0m     password\u001b[38;5;241m=\u001b[39m\u001b[38;5;28;01mFalse\u001b[39;00m,\n\u001b[0;32m   1207\u001b[0m )\n",
      "File \u001b[1;32m~\\anaconda3\\Lib\\site-packages\\ipykernel\\kernelbase.py:1245\u001b[0m, in \u001b[0;36mKernel._input_request\u001b[1;34m(self, prompt, ident, parent, password)\u001b[0m\n\u001b[0;32m   1242\u001b[0m \u001b[38;5;28;01mexcept\u001b[39;00m \u001b[38;5;167;01mKeyboardInterrupt\u001b[39;00m:\n\u001b[0;32m   1243\u001b[0m     \u001b[38;5;66;03m# re-raise KeyboardInterrupt, to truncate traceback\u001b[39;00m\n\u001b[0;32m   1244\u001b[0m     msg \u001b[38;5;241m=\u001b[39m \u001b[38;5;124m\"\u001b[39m\u001b[38;5;124mInterrupted by user\u001b[39m\u001b[38;5;124m\"\u001b[39m\n\u001b[1;32m-> 1245\u001b[0m     \u001b[38;5;28;01mraise\u001b[39;00m \u001b[38;5;167;01mKeyboardInterrupt\u001b[39;00m(msg) \u001b[38;5;28;01mfrom\u001b[39;00m \u001b[38;5;28;01mNone\u001b[39;00m\n\u001b[0;32m   1246\u001b[0m \u001b[38;5;28;01mexcept\u001b[39;00m \u001b[38;5;167;01mException\u001b[39;00m:\n\u001b[0;32m   1247\u001b[0m     \u001b[38;5;28mself\u001b[39m\u001b[38;5;241m.\u001b[39mlog\u001b[38;5;241m.\u001b[39mwarning(\u001b[38;5;124m\"\u001b[39m\u001b[38;5;124mInvalid Message:\u001b[39m\u001b[38;5;124m\"\u001b[39m, exc_info\u001b[38;5;241m=\u001b[39m\u001b[38;5;28;01mTrue\u001b[39;00m)\n",
      "\u001b[1;31mKeyboardInterrupt\u001b[0m: Interrupted by user"
     ]
    }
   ],
   "source": [
    "usernumber = int(input('Enter A Number:'))\n",
    "import math\n",
    "counter = 0\n",
    "while usernumber != 0:\n",
    "    print(f'The SQRT of {usernumber} is {math.sqrt(usernumber)}')\n",
    "    counter += 1\n",
    "    usernumber = int(input('Enter A Number:'))"
   ]
  },
  {
   "cell_type": "code",
   "execution_count": 5,
   "id": "99328df9",
   "metadata": {},
   "outputs": [
    {
     "name": "stdout",
     "output_type": "stream",
     "text": [
      "10\n"
     ]
    }
   ],
   "source": [
    "print(counter)"
   ]
  },
  {
   "cell_type": "code",
   "execution_count": null,
   "id": "8f1eba83",
   "metadata": {},
   "outputs": [],
   "source": [
    "#write a simple authentication system that checks a user's credentials to allow maximum attempt of 3 time login"
   ]
  },
  {
   "cell_type": "code",
   "execution_count": null,
   "id": "29e03640",
   "metadata": {},
   "outputs": [],
   "source": [
    "max_amount = 3\n",
    "login_attempt = 0\n",
    "correctusername = 'Datacodepro'\n",
    "correctpassword = 'seyilaw123456'\n",
    "while login_attempt < max_amount:\n",
    "    username = input('Enter your Username:')\n",
    "    password = input('Enter your password:')\n",
    "    if username == correctusername and password == correctpassword:\n",
    "        print('Access Granted...........')\n",
    "        break\n",
    "    else:\n",
    "        print('Login Failed')\n",
    "        login_attempt +=1\n",
    "if login_attempt == max_amount:\n",
    "    print('Maximum Login Reached. Account Locked.......')"
   ]
  },
  {
   "cell_type": "code",
   "execution_count": null,
   "id": "da51d145",
   "metadata": {},
   "outputs": [],
   "source": [
    "#use a while loop to generate a time table from 1 to 12 with a user's number"
   ]
  },
  {
   "cell_type": "code",
   "execution_count": 27,
   "id": "626cb826",
   "metadata": {},
   "outputs": [
    {
     "ename": "SyntaxError",
     "evalue": "unterminated string literal (detected at line 4) (301878563.py, line 4)",
     "output_type": "error",
     "traceback": [
      "\u001b[1;36m  Cell \u001b[1;32mIn[27], line 4\u001b[1;36m\u001b[0m\n\u001b[1;33m    print(f'Number * {constantnumber{0}\u001b[0m\n\u001b[1;37m          ^\u001b[0m\n\u001b[1;31mSyntaxError\u001b[0m\u001b[1;31m:\u001b[0m unterminated string literal (detected at line 4)\n"
     ]
    }
   ],
   "source": [
    "constantnumber = (1,2,3,4,5,6,7,8,9,10,11,12)\n",
    "Number = input('Enter your desired number:')\n",
    "while Number != 0:\n",
    "    print(f'Number} * {constantnumber(0)\n",
    "{Number} * {constantnumber{1}\n",
    "{Number} * {constantnumber{2}\n",
    "{Number} * {constantnumber{3}\n",
    "{Number} * {constantnumber{4}\n",
    "{Number} * {constantnumber{5}')\n",
    "    break"
   ]
  },
  {
   "cell_type": "code",
   "execution_count": 19,
   "id": "0b1f1e9c",
   "metadata": {},
   "outputs": [
    {
     "name": "stdout",
     "output_type": "stream",
     "text": [
      "Enter your number:5\n",
      "5 x 1 = 5\n",
      "5 x 2 = 10\n",
      "5 x 3 = 15\n",
      "5 x 4 = 20\n",
      "5 x 5 = 25\n",
      "5 x 6 = 30\n",
      "5 x 7 = 35\n",
      "5 x 8 = 40\n",
      "5 x 9 = 45\n",
      "5 x 10 = 50\n",
      "5 x 11 = 55\n",
      "5 x 12 = 60\n"
     ]
    }
   ],
   "source": [
    "usernumber = int(input('Enter your number:'))\n",
    "counter = 1\n",
    "while counter <= 12:\n",
    "    print(f'{usernumber} x {counter} = {usernumber * counter}')\n",
    "    counter += 1"
   ]
  },
  {
   "cell_type": "code",
   "execution_count": null,
   "id": "6fac9623",
   "metadata": {},
   "outputs": [],
   "source": []
  }
 ],
 "metadata": {
  "kernelspec": {
   "display_name": "Python 3 (ipykernel)",
   "language": "python",
   "name": "python3"
  },
  "language_info": {
   "codemirror_mode": {
    "name": "ipython",
    "version": 3
   },
   "file_extension": ".py",
   "mimetype": "text/x-python",
   "name": "python",
   "nbconvert_exporter": "python",
   "pygments_lexer": "ipython3",
   "version": "3.11.5"
  }
 },
 "nbformat": 4,
 "nbformat_minor": 5
}
