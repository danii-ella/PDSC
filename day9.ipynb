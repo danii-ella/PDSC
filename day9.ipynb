{
 "cells": [
  {
   "cell_type": "code",
   "execution_count": 1,
   "id": "9ab55f30",
   "metadata": {},
   "outputs": [],
   "source": [
    "#create a comprehensive building estimation calculator that involves considering various "
   ]
  },
  {
   "cell_type": "code",
   "execution_count": 8,
   "id": "5b72940f",
   "metadata": {},
   "outputs": [],
   "source": [
    "class estimationcalculator:\n",
    "    def __init__(self,cost,labour,material,minor_expenses):\n",
    "        self.cost = cost\n",
    "        self.labour = labour\n",
    "        self.material = material\n",
    "        self.minor_expenses = minor_expenses\n",
    "    def landcost(self):\n",
    "        originalprice = input('Enter the original price the land was purchased:')\n",
    "        time = input('Input how many years ago you purchased the land:')\n",
    "        if originalprice > 0:\n",
    "            print('(originalprice * time * 100) is the current land cost')\n",
    "        elif originalprice = 0:\n",
    "            print('This land is free')\n",
    "    def materialcost(self):\n",
    "        originalmaterialcost = input('Enter the original price of the matei')\n",
    "            \n",
    "    "
   ]
  },
  {
   "cell_type": "code",
   "execution_count": 11,
   "id": "f0e46599",
   "metadata": {},
   "outputs": [],
   "source": [
    "#error handling"
   ]
  },
  {
   "cell_type": "code",
   "execution_count": 22,
   "id": "81e9b0e0",
   "metadata": {},
   "outputs": [
    {
     "name": "stdout",
     "output_type": "stream",
     "text": [
      "You have encountered one or more errors\n"
     ]
    }
   ],
   "source": [
    "try:\n",
    "    num1 = int(input('Enter First Number:'))\n",
    "    num2 = int(input('Enter Second Number:'))\n",
    "    option = input('Choose operation option [+,-,*,/]')\n",
    "    if option == '+':\n",
    "        print(f'{num1} + {num2} = {num1 + num2}')\n",
    "    elif option == '-':\n",
    "        print(f'{num1} - {num2} = {num1 - num2}')\n",
    "    elif option == '*':\n",
    "        print(f'{num1} * {num2} = {num1 * num2}')\n",
    "    elif option == '/':\n",
    "        print(f'{num1} / {num2} = {num1 / num2}')\n",
    "except:\n",
    "    print('You have encountered one or more errors')"
   ]
  },
  {
   "cell_type": "code",
   "execution_count": 24,
   "id": "1f84c81f",
   "metadata": {},
   "outputs": [
    {
     "name": "stdout",
     "output_type": "stream",
     "text": [
      "Enter First Number:67\n",
      "Enter Second Number:89\n",
      "Choose operation option [+,-,*,/]+\n",
      "67 + 89 = 156\n",
      "3316327714877346181774068495600728756130379310495495456911338667074635417451404105355832779690716411921958590718594566346743301174259029435702437400468401246539747\n",
      "End of program.....\n"
     ]
    }
   ],
   "source": [
    "try:\n",
    "    num1 = int(input('Enter First Number:'))\n",
    "    num2 = int(input('Enter Second Number:'))\n",
    "    option = input('Choose operation option [+,-,*,/]')\n",
    "    if option == '+':\n",
    "        print(f'{num1} + {num2} = {num1 + num2}')\n",
    "    elif option == '-':\n",
    "        print(f'{num1} - {num2} = {num1 - num2}')\n",
    "    elif option == '*':\n",
    "        print(f'{num1} * {num2} = {num1 * num2}')\n",
    "    elif option == '/':\n",
    "        print(f'{num1} / {num2} = {num1 / num2}')\n",
    "except ValueError:\n",
    "    print('Wrong value for first or second number, only whole number is expected')\n",
    "except ZeroDivisionError:\n",
    "    print('Sorry you cannot divide a number by 0')\n",
    "except:\n",
    "    print('You have encountered one or more errors')\n",
    "else:\n",
    "    print(num1 ** num2)\n",
    "finally:\n",
    "    print('End of program.....')"
   ]
  },
  {
   "cell_type": "code",
   "execution_count": null,
   "id": "54b19807",
   "metadata": {},
   "outputs": [
    {
     "name": "stdout",
     "output_type": "stream",
     "text": [
      "WELCOME TO ALLWELL REAL ESTATE MANAGEMENT BUILDING ESTIMATION CALCULATOR\n"
     ]
    }
   ],
   "source": [
    "def building_estimation_calculator():\n",
    "    print('WELCOME TO ALLWELL REAL ESTATE MANAGEMENT BUILDING ESTIMATION CALCULATOR')\n",
    "#get input from user\n",
    "    try:\n",
    "        land_cost = float(input('Enter the cost of the land: N'))\n",
    "        building_area = float(input('Enter the total area of the building (in per meter square):'))\n",
    "        cost_per_meter_sqr = float(input('Enter the cost per meter square for the building:'))\n",
    "        material_cost_per = float(input('Enter the percentage of total cost for materials:'))\n",
    "        labour_cost_per = float(input('Enter the percentage of total cost for labour:'))\n",
    "    except ValueError:\n",
    "        print('Please enter a valid numerical value')\n",
    "    else:\n",
    "        const_cost = cost_per_meter_sqr * building_area\n",
    "        material_cost = (material_cost_per/100) * const_cost\n",
    "        labour_cost = (labour_cost_per/100) * const_cost\n",
    "        totalcost = land_cost + const_cost + material_cost + labour_cost\n",
    "    finally:\n",
    "        print('ESTIMATION RESULT')\n",
    "        print(f'Land cost: N{land_cost:.2f}')\n",
    "        print(f'Construction cost: N{const_cost:.2f}')\n",
    "        print(f'Material cost at ({material_cost_per}): N{material_cost:.2f}')\n",
    "        print(f'Labour cost at ({labour_cost_per}): N{labour_cost:.2f}')\n",
    "        print(f'Total Estimated cost: N{totalcost:.2f}')\n",
    "building_estimation_calculator()"
   ]
  },
  {
   "cell_type": "code",
   "execution_count": null,
   "id": "e98ddbb8",
   "metadata": {},
   "outputs": [],
   "source": []
  }
 ],
 "metadata": {
  "kernelspec": {
   "display_name": "Python 3 (ipykernel)",
   "language": "python",
   "name": "python3"
  },
  "language_info": {
   "codemirror_mode": {
    "name": "ipython",
    "version": 3
   },
   "file_extension": ".py",
   "mimetype": "text/x-python",
   "name": "python",
   "nbconvert_exporter": "python",
   "pygments_lexer": "ipython3",
   "version": "3.11.5"
  }
 },
 "nbformat": 4,
 "nbformat_minor": 5
}
