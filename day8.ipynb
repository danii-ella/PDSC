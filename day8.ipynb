{
 "cells": [
  {
   "cell_type": "code",
   "execution_count": 24,
   "id": "869c1277",
   "metadata": {},
   "outputs": [
    {
     "data": {
      "text/plain": [
       "'Ade'"
      ]
     },
     "execution_count": 24,
     "metadata": {},
     "output_type": "execute_result"
    }
   ],
   "source": [
    "class person:\n",
    "    attr1 = 'Ade' #ps since its in a class this is not a variable\n",
    "    attr2 = 45\n",
    "ob = person()\n",
    "ob.attr1"
   ]
  },
  {
   "cell_type": "code",
   "execution_count": 12,
   "id": "f30971ff",
   "metadata": {},
   "outputs": [],
   "source": [
    "class person:\n",
    "    attr1 = 'Ade' #ps since its in a class this is not a variable\n",
    "    attr2 = 45\n",
    "    \n",
    "    def details(self):\n",
    "        print(f'''_PERSON DETAILS_\n",
    "NAME:{self.attr1}\n",
    "AGE:{self.attr2}\n",
    "''')\n",
    "ob = person()"
   ]
  },
  {
   "cell_type": "code",
   "execution_count": 13,
   "id": "9cc7fee7",
   "metadata": {},
   "outputs": [
    {
     "name": "stdout",
     "output_type": "stream",
     "text": [
      "_PERSON DETAILS_\n",
      "NAME:Ade\n",
      "AGE:45\n",
      "\n"
     ]
    }
   ],
   "source": [
    "ob.details()"
   ]
  },
  {
   "cell_type": "code",
   "execution_count": null,
   "id": "4525a18b",
   "metadata": {},
   "outputs": [],
   "source": [
    "class EARLYCODEMONIAPP:\n",
    "    def __init__(self):\n",
    "        self.balance = 0\n",
    "        \n",
    "    def deposit(self):\n",
    "        amount = float(input('Enter deposit amount:'))\n",
    "        self.balance += amount \n",
    "        print('Transaction Succesful')\n",
    "        \n",
    "    def transfer(self):\n",
    "        amount = float(input('Enter transfer amount:'))\n",
    "        if amount > self.balance or amount == 0:\n",
    "            print ('Transaction Failed, Insufficient Fund...')\n",
    "        else:\n",
    "            self.balance -= amount \n",
    "            print ('Transaction Successfull')\n",
    "        \n",
    "    def airtime(self):\n",
    "        amount = float(input('Enter airtime amount:'))\n",
    "        if amount > self.balance or amount == 0:\n",
    "            print ('Transaction Failed, Insufficient Fund...')\n",
    "        else:\n",
    "            self.balance -= amount \n",
    "            print ('Transaction Successfull')\n",
    "            \n",
    "    def data(self):\n",
    "        amount = float(input('Enter data amount:'))\n",
    "        if amount > self.balance or amount == 0:\n",
    "            print ('Transaction Failed, Insufficient Fund...')\n",
    "        else:\n",
    "            self.balance -= amount \n",
    "            print ('Transaction Successfull')\n",
    "            \n",
    "    def checkbalance(self):\n",
    "        print(f'Your Available Balance is {self.balance}')\n",
    "        \n",
    "app = EARLYCODEMONIAPP()\n",
    "operation = True\n",
    "passid = '1111'\n",
    "password = input('Enter your app password:')\n",
    "if passid == password:\n",
    "    while operation:\n",
    "        print('''OPERATION LIST\n",
    "1. DEPOSIT\n",
    "2. TRANSFER\n",
    "3. AIRTIME\n",
    "4. DATA\n",
    "5. CHECKBALANCE\n",
    "''')\n",
    "        choice = input('Enter Operation Choice:')\n",
    "        if choice == 'deposit':\n",
    "            app.deposit()\n",
    "        elif choice == 'transfer':\n",
    "            app.transfer()\n",
    "        elif choice == 'airtime':\n",
    "            app.airtime()\n",
    "        elif choice == 'data':\n",
    "            app.data()\n",
    "        elif choice == 'checkbalance':\n",
    "            app.checkbalance()\n",
    "        elif choice == 'quit':\n",
    "            operation = false\n",
    "            print('Login Out Of App')\n",
    "            break          \n",
    "else:\n",
    "    print('Invalid Password')"
   ]
  },
  {
   "cell_type": "code",
   "execution_count": 20,
   "id": "1a29c195",
   "metadata": {},
   "outputs": [],
   "source": [
    "class phonesimulation:\n",
    "    def __init__(self,brand,model,color,year):\n",
    "        self.brand = brand\n",
    "        self.model = model\n",
    "        self.color = color\n",
    "        self.year = year\n",
    "    def audio(self):\n",
    "        option = input('Enter audio option:')\n",
    "        if option == 'Play':\n",
    "            print('Audio Playing')\n",
    "        elif option == 'Stop':\n",
    "            print('Audio stop playing')\n",
    "phone1 = phonesimulation('Tecno','Camon 20 pro','Black',2023)"
   ]
  },
  {
   "cell_type": "code",
   "execution_count": 21,
   "id": "eb67ca4c",
   "metadata": {},
   "outputs": [
    {
     "name": "stdout",
     "output_type": "stream",
     "text": [
      "Enter audio option:Play\n",
      "Audio Playing\n"
     ]
    }
   ],
   "source": [
    "phone1.audio()"
   ]
  },
  {
   "cell_type": "code",
   "execution_count": 22,
   "id": "39741040",
   "metadata": {},
   "outputs": [],
   "source": [
    "class anothersimulation(phonesimulation):\n",
    "    def camera(self):\n",
    "        option = input('Enter Camera Option')\n",
    "        if option == 'selfie':\n",
    "            print('Front Rear Camera Activated')\n",
    "        elif option == 'normal':\n",
    "            print('Back Rear Camera Activated')\n",
    "phone2 = anothersimulation('Tecno','Camon 20 Pro','Black',2024)"
   ]
  },
  {
   "cell_type": "code",
   "execution_count": 23,
   "id": "5ef3a79f",
   "metadata": {},
   "outputs": [
    {
     "name": "stdout",
     "output_type": "stream",
     "text": [
      "Enter Camera Optionselfie\n",
      "Front Rear Camera Activated\n"
     ]
    }
   ],
   "source": [
    "phone2.camera()"
   ]
  },
  {
   "cell_type": "code",
   "execution_count": null,
   "id": "f64f10d2",
   "metadata": {},
   "outputs": [],
   "source": []
  }
 ],
 "metadata": {
  "kernelspec": {
   "display_name": "Python 3 (ipykernel)",
   "language": "python",
   "name": "python3"
  },
  "language_info": {
   "codemirror_mode": {
    "name": "ipython",
    "version": 3
   },
   "file_extension": ".py",
   "mimetype": "text/x-python",
   "name": "python",
   "nbconvert_exporter": "python",
   "pygments_lexer": "ipython3",
   "version": "3.11.5"
  }
 },
 "nbformat": 4,
 "nbformat_minor": 5
}
