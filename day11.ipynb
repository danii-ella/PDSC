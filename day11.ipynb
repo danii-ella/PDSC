{
 "cells": [
  {
   "cell_type": "code",
   "execution_count": 17,
   "id": "e43a72e9",
   "metadata": {},
   "outputs": [
    {
     "ename": "SyntaxError",
     "evalue": "f-string: unmatched '[' (2997403773.py, line 13)",
     "output_type": "error",
     "traceback": [
      "\u001b[1;36m  Cell \u001b[1;32mIn[17], line 13\u001b[1;36m\u001b[0m\n\u001b[1;33m    print(f'Item ID: {item_id}, Name: {item ['name']}, Quantity: {item ['quantity']}')\u001b[0m\n\u001b[1;37m                                              ^\u001b[0m\n\u001b[1;31mSyntaxError\u001b[0m\u001b[1;31m:\u001b[0m f-string: unmatched '['\n"
     ]
    }
   ],
   "source": [
    "stock = {}\n",
    "\n",
    "def add_item(item_id, name, quantity):\n",
    "    if item_id not in stock:\n",
    "        stock[item_id] = {'name':name, 'quantity':quantity}\n",
    "        print(f'Item {name} added to stock with ID {item_id}')\n",
    "    else:\n",
    "        print(f'Item with ID {item_id} already exists. Use update_item to modify.')\n",
    "        \n",
    "def search_item(item_id):\n",
    "    if item_id in stock:\n",
    "        item = stock[item_id]\n",
    "        print(f'Item ID: {item_id}, Name: {item ['name']}, Quantity: {item ['quantity']}')\n",
    "    else:\n",
    "        print(f'Item with ID {item_id} not found in stock.')\n",
    "\n",
    "def delete_item(item_id):\n",
    "    if item_id in stock:\n",
    "        del(stock[item_id])\n",
    "        print (f'Item with ID {item_id} deleted from stock')\n",
    "    else: \n",
    "        print(f'Item with ID {item_id} not found in stock')\n",
    "\n",
    "def display_stock():\n",
    "    print('\\nCurrent Stock:')\n",
    "    for item_id, item in stock.items():\n",
    "        print(f'Item ID: {item_id}, Name: {item ['name']}, Quantity: {item['quantity']}')\n",
    "        \n",
    "def update_item(item_id,newvalue):\n",
    "    if item_id in stock:\n",
    "        item_id['quantity'] = newvalue\n",
    "        print(f'Item Updated Successfully')\n",
    "    else:\n",
    "        pritn()"
   ]
  },
  {
   "cell_type": "code",
   "execution_count": 9,
   "id": "03bc5052",
   "metadata": {},
   "outputs": [
    {
     "name": "stdout",
     "output_type": "stream",
     "text": [
      "Item Too Sweet 25Kg Rice added to stock with ID 100\n",
      "Item Honey beans 30Kg added to stock with ID 200\n",
      "Item Golden Oil 50Kg  added to stock with ID 300\n",
      "Item Mr Pasta Macaroni 10Kg added to stock with ID 400\n",
      "Item Mr Pasta Spaghetti 10Kg added to stock with ID 500\n"
     ]
    }
   ],
   "source": [
    "add_item(100,'Too Sweet 25Kg Rice',25)\n",
    "add_item(200,'Honey beans 30Kg',20)\n",
    "add_item(300,'Golden Oil 50Kg ',30)\n",
    "add_item(400,'Mr Pasta Macaroni 10Kg',50)\n",
    "add_item(500,'Mr Pasta Spaghetti 10Kg',50)"
   ]
  },
  {
   "cell_type": "code",
   "execution_count": 10,
   "id": "91badd25",
   "metadata": {},
   "outputs": [
    {
     "name": "stdout",
     "output_type": "stream",
     "text": [
      "{100: {'name': 'Too Sweet 25Kg Rice', 'quantity': 25}, 200: {'name': 'Honey beans 30Kg', 'quantity': 20}, 300: {'name': 'Golden Oil 50Kg ', 'quantity': 30}, 400: {'name': 'Mr Pasta Macaroni 10Kg', 'quantity': 50}, 500: {'name': 'Mr Pasta Spaghetti 10Kg', 'quantity': 50}}\n"
     ]
    }
   ],
   "source": [
    "print(stock)"
   ]
  },
  {
   "cell_type": "code",
   "execution_count": 12,
   "id": "ffe6de97",
   "metadata": {},
   "outputs": [
    {
     "data": {
      "text/plain": [
       "{100: {'name': 'Too Sweet 25Kg Rice', 'quantity': 25},\n",
       " 200: {'name': 'Honey beans 30Kg', 'quantity': 20},\n",
       " 300: {'name': 'Golden Oil 50Kg ', 'quantity': 30},\n",
       " 400: {'name': 'Mr Pasta Macaroni 10Kg', 'quantity': 50},\n",
       " 500: {'name': 'Mr Pasta Spaghetti 10Kg', 'quantity': 50}}"
      ]
     },
     "execution_count": 12,
     "metadata": {},
     "output_type": "execute_result"
    }
   ],
   "source": [
    "stock"
   ]
  },
  {
   "cell_type": "code",
   "execution_count": 15,
   "id": "355627cf",
   "metadata": {},
   "outputs": [
    {
     "ename": "NameError",
     "evalue": "name 'name' is not defined",
     "output_type": "error",
     "traceback": [
      "\u001b[1;31m---------------------------------------------------------------------------\u001b[0m",
      "\u001b[1;31mNameError\u001b[0m                                 Traceback (most recent call last)",
      "Cell \u001b[1;32mIn[15], line 1\u001b[0m\n\u001b[1;32m----> 1\u001b[0m search_item(\u001b[38;5;241m100\u001b[39m)\n",
      "Cell \u001b[1;32mIn[5], line 13\u001b[0m, in \u001b[0;36msearch_item\u001b[1;34m(item_id)\u001b[0m\n\u001b[0;32m     11\u001b[0m \u001b[38;5;28;01mif\u001b[39;00m item_id \u001b[38;5;129;01min\u001b[39;00m stock:\n\u001b[0;32m     12\u001b[0m     item \u001b[38;5;241m=\u001b[39m stock[item_id]\n\u001b[1;32m---> 13\u001b[0m     \u001b[38;5;28mprint\u001b[39m(\u001b[38;5;124mf\u001b[39m\u001b[38;5;124m'\u001b[39m\u001b[38;5;124mItem ID: \u001b[39m\u001b[38;5;132;01m{\u001b[39;00mitem_id\u001b[38;5;132;01m}\u001b[39;00m\u001b[38;5;124m, Name: item \u001b[39m\u001b[38;5;132;01m{\u001b[39;00mname\u001b[38;5;132;01m}\u001b[39;00m\u001b[38;5;124m, Quantity: item \u001b[39m\u001b[38;5;132;01m{\u001b[39;00mquantity\u001b[38;5;132;01m}\u001b[39;00m\u001b[38;5;124m'\u001b[39m)\n\u001b[0;32m     14\u001b[0m \u001b[38;5;28;01melse\u001b[39;00m:\n\u001b[0;32m     15\u001b[0m     \u001b[38;5;28mprint\u001b[39m(\u001b[38;5;124mf\u001b[39m\u001b[38;5;124m'\u001b[39m\u001b[38;5;124mItem with ID \u001b[39m\u001b[38;5;132;01m{\u001b[39;00mitem_id\u001b[38;5;132;01m}\u001b[39;00m\u001b[38;5;124m not found in stock.\u001b[39m\u001b[38;5;124m'\u001b[39m)\n",
      "\u001b[1;31mNameError\u001b[0m: name 'name' is not defined"
     ]
    }
   ],
   "source": [
    "search_item(100)"
   ]
  },
  {
   "cell_type": "code",
   "execution_count": 18,
   "id": "09faca3c",
   "metadata": {},
   "outputs": [
    {
     "data": {
      "text/plain": [
       "130"
      ]
     },
     "execution_count": 18,
     "metadata": {},
     "output_type": "execute_result"
    }
   ],
   "source": [
    "#lambda function (used to check if users name id in\n",
    "(lambda x,y:x + y) (78,52)      \n"
   ]
  },
  {
   "cell_type": "code",
   "execution_count": 19,
   "id": "077725db",
   "metadata": {},
   "outputs": [
    {
     "name": "stdout",
     "output_type": "stream",
     "text": [
      "enter your name:nim\n"
     ]
    },
    {
     "data": {
      "text/plain": [
       "'nim not in upper case'"
      ]
     },
     "execution_count": 19,
     "metadata": {},
     "output_type": "execute_result"
    }
   ],
   "source": [
    "(lambda name:f'{name} is in upper case' if name == name.upper() else f'{name} not in upper case')(input('enter your name:'))"
   ]
  },
  {
   "cell_type": "code",
   "execution_count": 20,
   "id": "c982851d",
   "metadata": {},
   "outputs": [],
   "source": [
    "#map: map is used for the modification of sequence like string, tuple and list where the lambda function carries the \n",
    "#operation and the final outcome is returned as a list"
   ]
  },
  {
   "cell_type": "code",
   "execution_count": 21,
   "id": "9d687b1a",
   "metadata": {},
   "outputs": [
    {
     "data": {
      "text/plain": [
       "['PYTHON',\n",
       " 'C++',\n",
       " 'JAVA',\n",
       " 'PHP',\n",
       " 'GO',\n",
       " 'RUBY',\n",
       " 'PERL',\n",
       " 'RUST',\n",
       " 'JULIA',\n",
       " 'COBOL']"
      ]
     },
     "execution_count": 21,
     "metadata": {},
     "output_type": "execute_result"
    }
   ],
   "source": [
    "language_name = ['Python','c++','java','php','go','ruby','perl','rust','julia','cobol']\n",
    "finaloutcome = list(map(lambda x: x.upper(),language_name))\n",
    "finaloutcome"
   ]
  },
  {
   "cell_type": "code",
   "execution_count": 22,
   "id": "1996ff04",
   "metadata": {},
   "outputs": [],
   "source": [
    "#filter: filter is used for selection in sequence like string, tuple and list where the lambda function carries the \n",
    "#operation and the final outcome is returned as a list or tuple"
   ]
  },
  {
   "cell_type": "code",
   "execution_count": 23,
   "id": "f561f771",
   "metadata": {},
   "outputs": [
    {
     "data": {
      "text/plain": [
       "['RUBY', 'RUST']"
      ]
     },
     "execution_count": 23,
     "metadata": {},
     "output_type": "execute_result"
    }
   ],
   "source": [
    "finaloutcome2 = list(filter(lambda x: x.startswith('R'),finaloutcome))\n",
    "finaloutcome2"
   ]
  },
  {
   "cell_type": "code",
   "execution_count": 31,
   "id": "67ab5635",
   "metadata": {},
   "outputs": [],
   "source": [
    "#Work yay\n",
    "#From the sequence below find the even and odd numbers seprated in different list\n",
    "\n",
    "numbers = []\n",
    "import random\n",
    "for i in range (1,51):\n",
    "    num = random.randint(14,89)\n",
    "    numbers.append(num)"
   ]
  },
  {
   "cell_type": "code",
   "execution_count": 32,
   "id": "0f45af03",
   "metadata": {
    "scrolled": true
   },
   "outputs": [
    {
     "name": "stdout",
     "output_type": "stream",
     "text": [
      "[58, 17, 14, 32, 38, 54, 31, 65, 74, 34, 83, 75, 36, 47, 36, 71, 15, 84, 62, 16, 48, 42, 71, 89, 34, 22, 80, 71, 44, 31, 72, 81, 36, 83, 62, 87, 21, 46, 84, 71, 48, 21, 61, 59, 44, 62, 58, 80, 88, 33]\n"
     ]
    }
   ],
   "source": [
    "print(numbers)"
   ]
  },
  {
   "cell_type": "code",
   "execution_count": 33,
   "id": "b7bc034c",
   "metadata": {},
   "outputs": [
    {
     "name": "stdout",
     "output_type": "stream",
     "text": [
      "[58, 14, 32, 38, 54, 74, 34, 36, 36, 84, 62, 16, 48, 42, 34, 22, 80, 44, 72, 36, 62, 46, 84, 48, 44, 62, 58, 80, 88]\n"
     ]
    }
   ],
   "source": [
    "even = list(filter(lambda x: x% 2 ==0,numbers))\n",
    "print(even)"
   ]
  },
  {
   "cell_type": "code",
   "execution_count": 34,
   "id": "f5f5fc59",
   "metadata": {},
   "outputs": [
    {
     "name": "stdout",
     "output_type": "stream",
     "text": [
      "[17, 31, 65, 83, 75, 47, 71, 15, 71, 89, 71, 31, 81, 83, 87, 21, 71, 21, 61, 59, 33]\n"
     ]
    }
   ],
   "source": [
    "odd = list(filter(lambda x: x% 2 == 1,numbers))\n",
    "print(odd)"
   ]
  },
  {
   "cell_type": "code",
   "execution_count": null,
   "id": "6c4a1232",
   "metadata": {},
   "outputs": [],
   "source": []
  },
  {
   "cell_type": "code",
   "execution_count": null,
   "id": "5a9aea77",
   "metadata": {},
   "outputs": [],
   "source": []
  },
  {
   "cell_type": "code",
   "execution_count": null,
   "id": "b1202ec5",
   "metadata": {},
   "outputs": [],
   "source": []
  },
  {
   "cell_type": "code",
   "execution_count": null,
   "id": "12262477",
   "metadata": {},
   "outputs": [],
   "source": []
  }
 ],
 "metadata": {
  "kernelspec": {
   "display_name": "Python 3 (ipykernel)",
   "language": "python",
   "name": "python3"
  },
  "language_info": {
   "codemirror_mode": {
    "name": "ipython",
    "version": 3
   },
   "file_extension": ".py",
   "mimetype": "text/x-python",
   "name": "python",
   "nbconvert_exporter": "python",
   "pygments_lexer": "ipython3",
   "version": "3.11.5"
  }
 },
 "nbformat": 4,
 "nbformat_minor": 5
}
