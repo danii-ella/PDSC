{
 "cells": [
  {
   "cell_type": "code",
   "execution_count": 6,
   "metadata": {},
   "outputs": [
    {
     "name": "stdout",
     "output_type": "stream",
     "text": [
      "\n",
      "NumPy\n",
      "=====\n",
      "\n",
      "Provides\n",
      "  1. An array object of arbitrary homogeneous items\n",
      "  2. Fast mathematical operations over arrays\n",
      "  3. Linear Algebra, Fourier Transforms, Random Number Generation\n",
      "\n",
      "How to use the documentation\n",
      "----------------------------\n",
      "Documentation is available in two forms: docstrings provided\n",
      "with the code, and a loose standing reference guide, available from\n",
      "`the NumPy homepage <https://numpy.org>`_.\n",
      "\n",
      "We recommend exploring the docstrings using\n",
      "`IPython <https://ipython.org>`_, an advanced Python shell with\n",
      "TAB-completion and introspection capabilities.  See below for further\n",
      "instructions.\n",
      "\n",
      "The docstring examples assume that `numpy` has been imported as ``np``::\n",
      "\n",
      "  >>> import numpy as np\n",
      "\n",
      "Code snippets are indicated by three greater-than signs::\n",
      "\n",
      "  >>> x = 42\n",
      "  >>> x = x + 1\n",
      "\n",
      "Use the built-in ``help`` function to view a function's docstring::\n",
      "\n",
      "  >>> help(np.sort)\n",
      "  ... # doctest: +SKIP\n",
      "\n",
      "For some objects, ``np.info(obj)`` may provide additional help.  This is\n",
      "particularly true if you see the line \"Help on ufunc object:\" at the top\n",
      "of the help() page.  Ufuncs are implemented in C, not Python, for speed.\n",
      "The native Python help() does not know how to view their help, but our\n",
      "np.info() function does.\n",
      "\n",
      "To search for documents containing a keyword, do::\n",
      "\n",
      "  >>> np.lookfor('keyword')\n",
      "  ... # doctest: +SKIP\n",
      "\n",
      "General-purpose documents like a glossary and help on the basic concepts\n",
      "of numpy are available under the ``doc`` sub-module::\n",
      "\n",
      "  >>> from numpy import doc\n",
      "  >>> help(doc)\n",
      "  ... # doctest: +SKIP\n",
      "\n",
      "Available subpackages\n",
      "---------------------\n",
      "lib\n",
      "    Basic functions used by several sub-packages.\n",
      "random\n",
      "    Core Random Tools\n",
      "linalg\n",
      "    Core Linear Algebra Tools\n",
      "fft\n",
      "    Core FFT routines\n",
      "polynomial\n",
      "    Polynomial tools\n",
      "testing\n",
      "    NumPy testing tools\n",
      "distutils\n",
      "    Enhancements to distutils with support for\n",
      "    Fortran compilers support and more  (for Python <= 3.11).\n",
      "\n",
      "Utilities\n",
      "---------\n",
      "test\n",
      "    Run numpy unittests\n",
      "show_config\n",
      "    Show numpy build configuration\n",
      "matlib\n",
      "    Make everything matrices.\n",
      "__version__\n",
      "    NumPy version string\n",
      "\n",
      "Viewing documentation using IPython\n",
      "-----------------------------------\n",
      "\n",
      "Start IPython and import `numpy` usually under the alias ``np``: `import\n",
      "numpy as np`.  Then, directly past or use the ``%cpaste`` magic to paste\n",
      "examples into the shell.  To see which functions are available in `numpy`,\n",
      "type ``np.<TAB>`` (where ``<TAB>`` refers to the TAB key), or use\n",
      "``np.*cos*?<ENTER>`` (where ``<ENTER>`` refers to the ENTER key) to narrow\n",
      "down the list.  To view the docstring for a function, use\n",
      "``np.cos?<ENTER>`` (to view the docstring) and ``np.cos??<ENTER>`` (to view\n",
      "the source code).\n",
      "\n",
      "Copies vs. in-place operation\n",
      "-----------------------------\n",
      "Most of the functions in `numpy` return a copy of the array argument\n",
      "(e.g., `np.sort`).  In-place versions of these functions are often\n",
      "available as array methods, i.e. ``x = np.array([1,2,3]); x.sort()``.\n",
      "Exceptions to this rule are documented.\n",
      "\n",
      "\n"
     ]
    }
   ],
   "source": [
    "import numpy as np\n",
    "print(np.__doc__)"
   ]
  },
  {
   "cell_type": "code",
   "execution_count": 7,
   "metadata": {},
   "outputs": [
    {
     "name": "stdout",
     "output_type": "stream",
     "text": [
      "[14 12 35 36]\n"
     ]
    }
   ],
   "source": [
    "arr1 = np.array([14,12,35,36])\n",
    "print(arr1)"
   ]
  },
  {
   "cell_type": "code",
   "execution_count": 8,
   "metadata": {},
   "outputs": [
    {
     "data": {
      "text/plain": [
       "1"
      ]
     },
     "execution_count": 8,
     "metadata": {},
     "output_type": "execute_result"
    }
   ],
   "source": [
    "arr1.ndim"
   ]
  },
  {
   "cell_type": "code",
   "execution_count": 9,
   "metadata": {},
   "outputs": [
    {
     "data": {
      "text/plain": [
       "(4,)"
      ]
     },
     "execution_count": 9,
     "metadata": {},
     "output_type": "execute_result"
    }
   ],
   "source": [
    "arr1.shape"
   ]
  },
  {
   "cell_type": "code",
   "execution_count": 10,
   "metadata": {},
   "outputs": [
    {
     "data": {
      "text/plain": [
       "dtype('int32')"
      ]
     },
     "execution_count": 10,
     "metadata": {},
     "output_type": "execute_result"
    }
   ],
   "source": [
    "arr1.dtype"
   ]
  },
  {
   "cell_type": "code",
   "execution_count": 11,
   "metadata": {},
   "outputs": [
    {
     "name": "stdout",
     "output_type": "stream",
     "text": [
      "[[14 52 36 39]\n",
      " [78 75 42 63]\n",
      " [45 42 36 39]]\n"
     ]
    }
   ],
   "source": [
    "arr2 = np.array([[14,52,36,39],[78,75,42,63],[45,42,36,39]])\n",
    "print(arr2)"
   ]
  },
  {
   "cell_type": "code",
   "execution_count": 12,
   "metadata": {},
   "outputs": [
    {
     "data": {
      "text/plain": [
       "2"
      ]
     },
     "execution_count": 12,
     "metadata": {},
     "output_type": "execute_result"
    }
   ],
   "source": [
    "arr2.ndim"
   ]
  },
  {
   "cell_type": "code",
   "execution_count": 13,
   "metadata": {},
   "outputs": [
    {
     "data": {
      "text/plain": [
       "(3, 4)"
      ]
     },
     "execution_count": 13,
     "metadata": {},
     "output_type": "execute_result"
    }
   ],
   "source": [
    "arr2.shape"
   ]
  },
  {
   "cell_type": "code",
   "execution_count": 14,
   "metadata": {},
   "outputs": [
    {
     "data": {
      "text/plain": [
       "array([14.        , 15.44897959, 16.89795918, 18.34693878, 19.79591837,\n",
       "       21.24489796, 22.69387755, 24.14285714, 25.59183673, 27.04081633,\n",
       "       28.48979592, 29.93877551, 31.3877551 , 32.83673469, 34.28571429,\n",
       "       35.73469388, 37.18367347, 38.63265306, 40.08163265, 41.53061224,\n",
       "       42.97959184, 44.42857143, 45.87755102, 47.32653061, 48.7755102 ,\n",
       "       50.2244898 , 51.67346939, 53.12244898, 54.57142857, 56.02040816,\n",
       "       57.46938776, 58.91836735, 60.36734694, 61.81632653, 63.26530612,\n",
       "       64.71428571, 66.16326531, 67.6122449 , 69.06122449, 70.51020408,\n",
       "       71.95918367, 73.40816327, 74.85714286, 76.30612245, 77.75510204,\n",
       "       79.20408163, 80.65306122, 82.10204082, 83.55102041, 85.        ])"
      ]
     },
     "execution_count": 14,
     "metadata": {},
     "output_type": "execute_result"
    }
   ],
   "source": [
    "#creating an array that is evenly spaced\n",
    "np.linspace(14,85)"
   ]
  },
  {
   "cell_type": "code",
   "execution_count": 15,
   "metadata": {},
   "outputs": [
    {
     "data": {
      "text/plain": [
       "array([14.        , 17.73684211, 21.47368421, 25.21052632, 28.94736842,\n",
       "       32.68421053, 36.42105263, 40.15789474, 43.89473684, 47.63157895,\n",
       "       51.36842105, 55.10526316, 58.84210526, 62.57894737, 66.31578947,\n",
       "       70.05263158, 73.78947368, 77.52631579, 81.26315789, 85.        ])"
      ]
     },
     "execution_count": 15,
     "metadata": {},
     "output_type": "execute_result"
    }
   ],
   "source": [
    "np.linspace(14,85, 20)"
   ]
  },
  {
   "cell_type": "code",
   "execution_count": 16,
   "metadata": {},
   "outputs": [
    {
     "data": {
      "text/plain": [
       "array([ 1.        ,  1.47368421,  1.94736842,  2.42105263,  2.89473684,\n",
       "        3.36842105,  3.84210526,  4.31578947,  4.78947368,  5.26315789,\n",
       "        5.73684211,  6.21052632,  6.68421053,  7.15789474,  7.63157895,\n",
       "        8.10526316,  8.57894737,  9.05263158,  9.52631579, 10.        ])"
      ]
     },
     "execution_count": 16,
     "metadata": {},
     "output_type": "execute_result"
    }
   ],
   "source": [
    "np.linspace(1,10, 20)"
   ]
  },
  {
   "cell_type": "code",
   "execution_count": 17,
   "metadata": {},
   "outputs": [
    {
     "data": {
      "text/plain": [
       "array([0., 0., 0., 0., 0., 0., 0., 0., 0., 0., 0., 0., 0., 0., 0., 0., 0.,\n",
       "       0., 0., 0.])"
      ]
     },
     "execution_count": 17,
     "metadata": {},
     "output_type": "execute_result"
    }
   ],
   "source": [
    "np.zeros(20)"
   ]
  },
  {
   "cell_type": "code",
   "execution_count": 18,
   "metadata": {},
   "outputs": [
    {
     "data": {
      "text/plain": [
       "array([[0., 0., 0., 0., 0.],\n",
       "       [0., 0., 0., 0., 0.],\n",
       "       [0., 0., 0., 0., 0.],\n",
       "       [0., 0., 0., 0., 0.],\n",
       "       [0., 0., 0., 0., 0.]])"
      ]
     },
     "execution_count": 18,
     "metadata": {},
     "output_type": "execute_result"
    }
   ],
   "source": [
    "np.zeros((5,5))"
   ]
  },
  {
   "cell_type": "code",
   "execution_count": 19,
   "metadata": {},
   "outputs": [
    {
     "data": {
      "text/plain": [
       "array([1., 1., 1., 1., 1., 1., 1., 1., 1., 1.])"
      ]
     },
     "execution_count": 19,
     "metadata": {},
     "output_type": "execute_result"
    }
   ],
   "source": [
    "np.ones(10)"
   ]
  },
  {
   "cell_type": "code",
   "execution_count": 20,
   "metadata": {},
   "outputs": [
    {
     "data": {
      "text/plain": [
       "array([[1., 1., 1., 1., 1., 1., 1.],\n",
       "       [1., 1., 1., 1., 1., 1., 1.],\n",
       "       [1., 1., 1., 1., 1., 1., 1.],\n",
       "       [1., 1., 1., 1., 1., 1., 1.]])"
      ]
     },
     "execution_count": 20,
     "metadata": {},
     "output_type": "execute_result"
    }
   ],
   "source": [
    "np.ones((4,7))"
   ]
  },
  {
   "cell_type": "code",
   "execution_count": 21,
   "metadata": {},
   "outputs": [
    {
     "data": {
      "text/plain": [
       "array([[2., 2., 2., 2., 2., 2., 2., 2., 2., 2.],\n",
       "       [2., 2., 2., 2., 2., 2., 2., 2., 2., 2.],\n",
       "       [2., 2., 2., 2., 2., 2., 2., 2., 2., 2.],\n",
       "       [2., 2., 2., 2., 2., 2., 2., 2., 2., 2.],\n",
       "       [2., 2., 2., 2., 2., 2., 2., 2., 2., 2.]])"
      ]
     },
     "execution_count": 21,
     "metadata": {},
     "output_type": "execute_result"
    }
   ],
   "source": [
    "np.ones((5,10)) * 2"
   ]
  },
  {
   "cell_type": "code",
   "execution_count": 22,
   "metadata": {},
   "outputs": [
    {
     "data": {
      "text/plain": [
       "array([[1., 0., 0., 0., 0., 0., 0.],\n",
       "       [0., 1., 0., 0., 0., 0., 0.],\n",
       "       [0., 0., 1., 0., 0., 0., 0.],\n",
       "       [0., 0., 0., 1., 0., 0., 0.],\n",
       "       [0., 0., 0., 0., 1., 0., 0.],\n",
       "       [0., 0., 0., 0., 0., 1., 0.],\n",
       "       [0., 0., 0., 0., 0., 0., 1.]])"
      ]
     },
     "execution_count": 22,
     "metadata": {},
     "output_type": "execute_result"
    }
   ],
   "source": [
    "np.eye(7)"
   ]
  },
  {
   "cell_type": "code",
   "execution_count": 23,
   "metadata": {},
   "outputs": [
    {
     "data": {
      "text/plain": [
       "array([[1., 0., 0., 0., 0.],\n",
       "       [0., 1., 0., 0., 0.],\n",
       "       [0., 0., 1., 0., 0.],\n",
       "       [0., 0., 0., 1., 0.]])"
      ]
     },
     "execution_count": 23,
     "metadata": {},
     "output_type": "execute_result"
    }
   ],
   "source": [
    "np.eye(4,5)"
   ]
  },
  {
   "cell_type": "code",
   "execution_count": 24,
   "metadata": {},
   "outputs": [
    {
     "name": "stdout",
     "output_type": "stream",
     "text": [
      "[  1   4   7  10  13  16  19  22  25  28  31  34  37  40  43  46  49  52\n",
      "  55  58  61  64  67  70  73  76  79  82  85  88  91  94  97 100]\n"
     ]
    }
   ],
   "source": [
    "arr3 = np.arange(1,101, 3)\n",
    "print(arr3)"
   ]
  },
  {
   "cell_type": "code",
   "execution_count": 25,
   "metadata": {},
   "outputs": [
    {
     "data": {
      "text/plain": [
       "array([47, 53, 22, 18, 19, 21, 15, 25, 10, 26, 11, 22, 17, 16, 35, 30, 47,\n",
       "       28, 30, 21, 52, 38, 39, 24, 14, 33, 33, 51, 40, 42, 32, 23, 51, 19,\n",
       "       17, 32, 11, 10, 27, 18, 34, 23, 52, 18, 40, 17, 13, 16, 31, 13, 14,\n",
       "       34, 53, 22, 36, 26, 51, 28, 25, 10, 14, 35, 44, 33, 17, 36, 35, 50,\n",
       "       32, 19, 13, 49, 33, 46, 37, 47, 29, 48, 18, 42, 44, 20, 33, 25, 33,\n",
       "       35, 17, 38, 20, 42, 34, 33, 11, 23, 13, 10, 23, 16, 31, 16])"
      ]
     },
     "execution_count": 25,
     "metadata": {},
     "output_type": "execute_result"
    }
   ],
   "source": [
    "#how to generate random numbers\n",
    "np.random.seed(1)\n",
    "arr4 = np.random.randint(10,55,100)\n",
    "arr4"
   ]
  },
  {
   "cell_type": "code",
   "execution_count": 26,
   "metadata": {},
   "outputs": [
    {
     "data": {
      "text/plain": [
       "array([[47, 53, 22, 18, 19, 21, 15, 25, 10, 26],\n",
       "       [11, 22, 17, 16, 35, 30, 47, 28, 30, 21],\n",
       "       [52, 38, 39, 24, 14, 33, 33, 51, 40, 42],\n",
       "       [32, 23, 51, 19, 17, 32, 11, 10, 27, 18],\n",
       "       [34, 23, 52, 18, 40, 17, 13, 16, 31, 13],\n",
       "       [14, 34, 53, 22, 36, 26, 51, 28, 25, 10],\n",
       "       [14, 35, 44, 33, 17, 36, 35, 50, 32, 19],\n",
       "       [13, 49, 33, 46, 37, 47, 29, 48, 18, 42],\n",
       "       [44, 20, 33, 25, 33, 35, 17, 38, 20, 42],\n",
       "       [34, 33, 11, 23, 13, 10, 23, 16, 31, 16]])"
      ]
     },
     "execution_count": 26,
     "metadata": {},
     "output_type": "execute_result"
    }
   ],
   "source": [
    "#how to convert 1d array to 2d\n",
    "arr5 = arr4.reshape(10,10)\n",
    "arr5"
   ]
  },
  {
   "cell_type": "code",
   "execution_count": 29,
   "metadata": {},
   "outputs": [
    {
     "data": {
      "text/plain": [
       "array([47, 53, 22, 18, 19, 21, 15, 25, 10, 26, 11, 22, 17, 16, 35, 30, 47,\n",
       "       28, 30, 21, 52, 38, 39, 24, 14, 33, 33, 51, 40, 42, 32, 23, 51, 19,\n",
       "       17, 32, 11, 10, 27, 18, 34, 23, 52, 18, 40, 17, 13, 16, 31, 13, 14,\n",
       "       34, 53, 22, 36, 26, 51, 28, 25, 10, 14, 35, 44, 33, 17, 36, 35, 50,\n",
       "       32, 19, 13, 49, 33, 46, 37, 47, 29, 48, 18, 42, 44, 20, 33, 25, 33,\n",
       "       35, 17, 38, 20, 42, 34, 33, 11, 23, 13, 10, 23, 16, 31, 16])"
      ]
     },
     "execution_count": 29,
     "metadata": {},
     "output_type": "execute_result"
    }
   ],
   "source": [
    "#converting back to 1d array\n",
    "arr5 = arr5.flatten()\n",
    "arr5"
   ]
  },
  {
   "cell_type": "code",
   "execution_count": 30,
   "metadata": {},
   "outputs": [
    {
     "data": {
      "text/plain": [
       "28.69"
      ]
     },
     "execution_count": 30,
     "metadata": {},
     "output_type": "execute_result"
    }
   ],
   "source": [
    "np.mean(arr5)"
   ]
  },
  {
   "cell_type": "code",
   "execution_count": 31,
   "metadata": {},
   "outputs": [
    {
     "data": {
      "text/plain": [
       "28.0"
      ]
     },
     "execution_count": 31,
     "metadata": {},
     "output_type": "execute_result"
    }
   ],
   "source": [
    "np.median(arr5)"
   ]
  },
  {
   "cell_type": "code",
   "execution_count": 32,
   "metadata": {},
   "outputs": [
    {
     "data": {
      "text/plain": [
       "2869"
      ]
     },
     "execution_count": 32,
     "metadata": {},
     "output_type": "execute_result"
    }
   ],
   "source": [
    "np.sum(arr5)"
   ]
  },
  {
   "cell_type": "code",
   "execution_count": 33,
   "metadata": {},
   "outputs": [
    {
     "data": {
      "text/plain": [
       "12.359364870413042"
      ]
     },
     "execution_count": 33,
     "metadata": {},
     "output_type": "execute_result"
    }
   ],
   "source": [
    "#std-standard deviation\n",
    "np.std(arr5)"
   ]
  },
  {
   "cell_type": "code",
   "execution_count": 34,
   "metadata": {},
   "outputs": [
    {
     "data": {
      "text/plain": [
       "152.7539"
      ]
     },
     "execution_count": 34,
     "metadata": {},
     "output_type": "execute_result"
    }
   ],
   "source": [
    "np.var(arr5)"
   ]
  },
  {
   "cell_type": "code",
   "execution_count": 35,
   "metadata": {},
   "outputs": [
    {
     "data": {
      "text/plain": [
       "array([6.8556546 , 7.28010989, 4.69041576, 4.24264069, 4.35889894,\n",
       "       4.58257569, 3.87298335, 5.        , 3.16227766, 5.09901951,\n",
       "       3.31662479, 4.69041576, 4.12310563, 4.        , 5.91607978,\n",
       "       5.47722558, 6.8556546 , 5.29150262, 5.47722558, 4.58257569,\n",
       "       7.21110255, 6.164414  , 6.244998  , 4.89897949, 3.74165739,\n",
       "       5.74456265, 5.74456265, 7.14142843, 6.32455532, 6.4807407 ,\n",
       "       5.65685425, 4.79583152, 7.14142843, 4.35889894, 4.12310563,\n",
       "       5.65685425, 3.31662479, 3.16227766, 5.19615242, 4.24264069,\n",
       "       5.83095189, 4.79583152, 7.21110255, 4.24264069, 6.32455532,\n",
       "       4.12310563, 3.60555128, 4.        , 5.56776436, 3.60555128,\n",
       "       3.74165739, 5.83095189, 7.28010989, 4.69041576, 6.        ,\n",
       "       5.09901951, 7.14142843, 5.29150262, 5.        , 3.16227766,\n",
       "       3.74165739, 5.91607978, 6.63324958, 5.74456265, 4.12310563,\n",
       "       6.        , 5.91607978, 7.07106781, 5.65685425, 4.35889894,\n",
       "       3.60555128, 7.        , 5.74456265, 6.78232998, 6.08276253,\n",
       "       6.8556546 , 5.38516481, 6.92820323, 4.24264069, 6.4807407 ,\n",
       "       6.63324958, 4.47213595, 5.74456265, 5.        , 5.74456265,\n",
       "       5.91607978, 4.12310563, 6.164414  , 4.47213595, 6.4807407 ,\n",
       "       5.83095189, 5.74456265, 3.31662479, 4.79583152, 3.60555128,\n",
       "       3.16227766, 4.79583152, 4.        , 5.56776436, 4.        ])"
      ]
     },
     "execution_count": 35,
     "metadata": {},
     "output_type": "execute_result"
    }
   ],
   "source": [
    "np.sqrt(arr5)"
   ]
  },
  {
   "cell_type": "code",
   "execution_count": 36,
   "metadata": {},
   "outputs": [
    {
     "data": {
      "text/plain": [
       "array([-0.99233547, -0.91828279, -0.99996083,  0.66031671,  0.98870462,\n",
       "       -0.54772926, -0.75968791,  0.99120281, -0.83907153,  0.64691932,\n",
       "        0.0044257 , -0.99996083, -0.27516334, -0.95765948, -0.90369221,\n",
       "        0.15425145, -0.99233547, -0.96260587,  0.15425145, -0.54772926,\n",
       "       -0.16299078,  0.95507364,  0.26664293,  0.42417901,  0.13673722,\n",
       "       -0.01327675, -0.01327675,  0.7421542 , -0.66693806, -0.39998531,\n",
       "        0.83422336, -0.53283302,  0.7421542 ,  0.98870462, -0.27516334,\n",
       "        0.83422336,  0.0044257 , -0.83907153, -0.29213881,  0.66031671,\n",
       "       -0.84857027, -0.53283302, -0.16299078,  0.66031671, -0.66693806,\n",
       "       -0.27516334,  0.90744678, -0.95765948,  0.91474236,  0.90744678,\n",
       "        0.13673722, -0.84857027, -0.91828279, -0.99996083, -0.12796369,\n",
       "        0.64691932,  0.7421542 , -0.96260587,  0.99120281, -0.83907153,\n",
       "        0.13673722, -0.90369221,  0.99984331, -0.01327675, -0.27516334,\n",
       "       -0.12796369, -0.90369221,  0.96496603,  0.83422336,  0.98870462,\n",
       "        0.90744678,  0.30059254, -0.01327675, -0.43217794,  0.76541405,\n",
       "       -0.99233547, -0.74805753, -0.64014434,  0.66031671, -0.39998531,\n",
       "        0.99984331,  0.40808206, -0.01327675,  0.99120281, -0.01327675,\n",
       "       -0.90369221, -0.27516334,  0.95507364,  0.40808206, -0.39998531,\n",
       "       -0.84857027, -0.01327675,  0.0044257 , -0.53283302,  0.90744678,\n",
       "       -0.83907153, -0.53283302, -0.95765948,  0.91474236, -0.95765948])"
      ]
     },
     "execution_count": 36,
     "metadata": {},
     "output_type": "execute_result"
    }
   ],
   "source": [
    "np.cos(arr5)"
   ]
  },
  {
   "cell_type": "code",
   "execution_count": 37,
   "metadata": {},
   "outputs": [
    {
     "data": {
      "text/plain": [
       "25.0"
      ]
     },
     "execution_count": 37,
     "metadata": {},
     "output_type": "execute_result"
    }
   ],
   "source": [
    "np.percentile(arr5,45)"
   ]
  },
  {
   "cell_type": "code",
   "execution_count": null,
   "metadata": {},
   "outputs": [],
   "source": []
  }
 ],
 "metadata": {
  "kernelspec": {
   "display_name": "Python 3",
   "language": "python",
   "name": "python3"
  },
  "language_info": {
   "codemirror_mode": {
    "name": "ipython",
    "version": 3
   },
   "file_extension": ".py",
   "mimetype": "text/x-python",
   "name": "python",
   "nbconvert_exporter": "python",
   "pygments_lexer": "ipython3",
   "version": "3.11.1"
  }
 },
 "nbformat": 4,
 "nbformat_minor": 2
}
