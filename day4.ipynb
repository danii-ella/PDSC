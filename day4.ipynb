{
 "cells": [
  {
   "cell_type": "code",
   "execution_count": 1,
   "id": "1879e1df",
   "metadata": {},
   "outputs": [
    {
     "name": "stdout",
     "output_type": "stream",
     "text": [
      "['__doc__', '__loader__', '__name__', '__package__', '__spec__', 'acos', 'acosh', 'asin', 'asinh', 'atan', 'atan2', 'atanh', 'cbrt', 'ceil', 'comb', 'copysign', 'cos', 'cosh', 'degrees', 'dist', 'e', 'erf', 'erfc', 'exp', 'exp2', 'expm1', 'fabs', 'factorial', 'floor', 'fmod', 'frexp', 'fsum', 'gamma', 'gcd', 'hypot', 'inf', 'isclose', 'isfinite', 'isinf', 'isnan', 'isqrt', 'lcm', 'ldexp', 'lgamma', 'log', 'log10', 'log1p', 'log2', 'modf', 'nan', 'nextafter', 'perm', 'pi', 'pow', 'prod', 'radians', 'remainder', 'sin', 'sinh', 'sqrt', 'tan', 'tanh', 'tau', 'trunc', 'ulp']\n"
     ]
    }
   ],
   "source": [
    "import math\n",
    "print(dir(math))"
   ]
  },
  {
   "cell_type": "code",
   "execution_count": 2,
   "id": "b1c35c6e",
   "metadata": {},
   "outputs": [
    {
     "data": {
      "text/plain": [
       "'This module provides access to the mathematical functions\\ndefined by the C standard.'"
      ]
     },
     "execution_count": 2,
     "metadata": {},
     "output_type": "execute_result"
    }
   ],
   "source": [
    "math.__doc__"
   ]
  },
  {
   "cell_type": "code",
   "execution_count": 3,
   "id": "aab5e1ab",
   "metadata": {},
   "outputs": [
    {
     "name": "stdout",
     "output_type": "stream",
     "text": [
      "14\n",
      "15\n",
      "-0.47312369706467594\n"
     ]
    }
   ],
   "source": [
    "number = 14.63\n",
    "print(math.floor(number))\n",
    "print(math.ceil(number))\n",
    "print(math.cos(number))"
   ]
  },
  {
   "cell_type": "code",
   "execution_count": 4,
   "id": "c7da0b68",
   "metadata": {},
   "outputs": [
    {
     "name": "stdout",
     "output_type": "stream",
     "text": [
      "['Counter', 'Decimal', 'Fraction', 'LinearRegression', 'NormalDist', 'StatisticsError', '_SQRT2', '__all__', '__annotations__', '__builtins__', '__cached__', '__doc__', '__file__', '__loader__', '__name__', '__package__', '__spec__', '_coerce', '_convert', '_decimal_sqrt_of_frac', '_exact_ratio', '_fail_neg', '_float_sqrt_of_frac', '_integer_sqrt_of_frac_rto', '_isfinite', '_mean_stdev', '_normal_dist_inv_cdf', '_sqrt_bit_width', '_ss', '_sum', 'bisect_left', 'bisect_right', 'correlation', 'covariance', 'defaultdict', 'erf', 'exp', 'fabs', 'fmean', 'fsum', 'geometric_mean', 'groupby', 'harmonic_mean', 'hypot', 'linear_regression', 'log', 'math', 'mean', 'median', 'median_grouped', 'median_high', 'median_low', 'mode', 'mul', 'multimode', 'namedtuple', 'numbers', 'pstdev', 'pvariance', 'quantiles', 'random', 'reduce', 'repeat', 'sqrt', 'stdev', 'sys', 'tau', 'variance']\n"
     ]
    }
   ],
   "source": [
    "import statistics as stat\n",
    "print(dir(stat))"
   ]
  },
  {
   "cell_type": "code",
   "execution_count": 5,
   "id": "4a23ee80",
   "metadata": {},
   "outputs": [
    {
     "name": "stdout",
     "output_type": "stream",
     "text": [
      "81.33333333333333\n"
     ]
    }
   ],
   "source": [
    "score = [87,98,56,92,70,85]\n",
    "print(stat.mean(score))"
   ]
  },
  {
   "cell_type": "code",
   "execution_count": 10,
   "id": "bfa61e5f",
   "metadata": {},
   "outputs": [
    {
     "name": "stdout",
     "output_type": "stream",
     "text": [
      "Please enter chicken weight in Kg:2.5\n",
      "Your total price is 5000.0\n"
     ]
    }
   ],
   "source": [
    "chickenKG = float(input('Please enter chicken weight in Kg:'))\n",
    "perkgprice = 2000\n",
    "if chickenKG >= 1:\n",
    "    print(f'Your total price is {chickenKG * perkgprice}')"
   ]
  },
  {
   "cell_type": "code",
   "execution_count": 12,
   "id": "b190d1e2",
   "metadata": {},
   "outputs": [
    {
     "name": "stdout",
     "output_type": "stream",
     "text": [
      "Please enter chicken weight in Kg:0.9\n",
      "You are free to go the chicken kg is not a chargeable amount.\n"
     ]
    }
   ],
   "source": [
    "chickenKG = float(input('Please enter chicken weight in Kg:'))\n",
    "perkgprice = 2000\n",
    "if chickenKG >= 1:\n",
    "    print(f'Your total price is {chickenKG * perkgprice}')\n",
    "else:\n",
    "    print('You are free to go the chicken kg is not a chargeable amount.')"
   ]
  },
  {
   "cell_type": "code",
   "execution_count": 17,
   "id": "92568607",
   "metadata": {},
   "outputs": [
    {
     "name": "stdout",
     "output_type": "stream",
     "text": [
      "Shipment Region:South South\n",
      "Item Weight in KG:7\n",
      "Item Condition:Fragile\n",
      "Item Quantity:5\n",
      "Enter item cost:500\n",
      "Total Cost plus Shipment is2850.0\n"
     ]
    }
   ],
   "source": [
    "region = input('Shipment Region:')\n",
    "weight = float(input('Item Weight in KG:'))\n",
    "condition = input('Item Condition:')\n",
    "quantity = float(input('Item Quantity:'))\n",
    "costperitem = float(input('Enter item cost:'))\n",
    "if region == 'South South' and condition == 'Fragile':\n",
    "    print(f'Total Cost plus Shipment is{(weight * 10 * quantity) + (quantity * costperitem)}')\n",
    "elif region == 'South South' and condition == 'Non-Fragile':\n",
    "    print(f'Total Cost plus Shipment is{(weight * 8 * quantity) + (quantity * costperitem)}')\n",
    "elif region == 'South East' and condition == 'Non-Fragile':\n",
    "    print(f'Total Cost plus Shipment is{(weight * 9 * quantity) + (quantity * costperitem)}')\n",
    "elif region == 'South East' and condition == 'Fragile':\n",
    "    print(f'Total Cost plus Shipment is{(weight * 12 * quantity) + (quantity * costperitem)}')"
   ]
  },
  {
   "cell_type": "code",
   "execution_count": 19,
   "id": "fa17c823",
   "metadata": {},
   "outputs": [
    {
     "name": "stdout",
     "output_type": "stream",
     "text": [
      "Shipment Region:South South\n",
      "Item Weight in KG:7\n",
      "Item Condition:Fragile\n",
      "Item Quantity:6\n",
      "Enter item cost:56\n",
      "Item Quantity: 6.0\n",
      "Item Cost: 336.0\n",
      "Shipping Fee:420.0\n",
      "Total Cost Plus shipment is 756.0\n"
     ]
    }
   ],
   "source": [
    "region = input('Shipment Region:')\n",
    "weight = float(input('Item Weight in KG:'))\n",
    "condition = input('Item Condition:')\n",
    "quantity = float(input('Item Quantity:'))\n",
    "costperitem = float(input('Enter item cost:'))\n",
    "if region == 'South South' and condition == 'Fragile':\n",
    "    print(f'''Item Quantity: {quantity}\n",
    "Item Cost: {quantity * costperitem}\n",
    "Shipping Fee:{weight * 10 * quantity}\n",
    "Total Cost Plus shipment is {(weight * 10 * quantity) + (quantity * costperitem)}''')\n",
    "elif region == 'South South' and condition == 'Non-Fragile':\n",
    "    print(f'Total Cost plus Shipment is{(weight * 8 * quantity) + (quantity * costperitem)}')\n",
    "elif region == 'South East' and condition == 'Non-Fragile':\n",
    "    print(f'Total Cost plus Shipment is{(weight * 9 * quantity) + (quantity * costperitem)}')\n",
    "elif region == 'South East' and condition == 'Fragile':\n",
    "    print(f'Total Cost plus Shipment is{(weight * 12 * quantity) + (quantity * costperitem)}')    "
   ]
  },
  {
   "cell_type": "code",
   "execution_count": 1,
   "id": "810a9f49",
   "metadata": {},
   "outputs": [
    {
     "name": "stdout",
     "output_type": "stream",
     "text": [
      "Shipment Region:North Central\n",
      "Item Weight in KG:5\n",
      "Item Condition:Fragile\n",
      "Item Quantity:8\n",
      "Enter item cost:890\n",
      "Total Cost plus Shipment is7480.0\n"
     ]
    }
   ],
   "source": [
    "region = input('Shipment Region:')\n",
    "weight = float(input('Item Weight in KG:'))\n",
    "condition = input('Item Condition:')\n",
    "quantity = float(input('Item Quantity:'))\n",
    "costperitem = float(input('Enter item cost:'))\n",
    "if region == 'South South' and condition == 'Fragile':\n",
    "    print(f'Total Cost plus Shipment is{(weight * 10 * quantity) + (quantity * costperitem)}')\n",
    "elif region == 'South South' and condition == 'Non-Fragile':\n",
    "    print(f'Total Cost plus Shipment is{(weight * 8 * quantity) + (quantity * costperitem)}')\n",
    "elif region == 'South East' and condition == 'Non-Fragile':\n",
    "    print(f'Total Cost plus Shipment is{(weight * 9 * quantity) + (quantity * costperitem)}')\n",
    "elif region == 'South East' and condition == 'Fragile':\n",
    "    print(f'Total Cost plus Shipment is{(weight * 12 * quantity) + (quantity * costperitem)}')\n",
    "elif region == 'South West' and condition == 'Fragile':\n",
    "    print(f'Total Cost plus Shipment is{(weight * 11 * quantity) + (quantity * costperitem)}')\n",
    "elif region == 'South West' and condition == 'Non-Fragile':\n",
    "    print(f'Total Cost plus Shipment is{(weight * 7 * quantity) + (quantity * costperitem)}')\n",
    "elif region == 'North Central' and condition == 'Fragile':\n",
    "    print(f'Total Cost plus Shipment is{(weight * 9 * quantity) + (quantity * costperitem)}')\n",
    "elif region == 'North Central' and condition == 'Non-Fragile':\n",
    "    print(f'Total Cost plus Shipment is{(weight * 6 * quantity) + (quantity * costperitem)}')\n",
    "elif region == 'North West' and condition == 'Fragile':\n",
    "    print(f'Total Cost plus Shipment is{(weight * 13 * quantity) + (quantity * costperitem)}')\n",
    "elif region == 'North West' and condition == 'Non-Fragile':\n",
    "    print(f'Total Cost plus Shipment is{(weight * 8.5 * quantity) + (quantity * costperitem)}')\n",
    "elif region == 'North East' and condition == 'Fragile':\n",
    "    print(f'Total Cost plus Shipment is{(weight * 14 * quantity) + (quantity * costperitem)}')\n",
    "elif region == 'North East' and condition == 'Non-Fragile':\n",
    "    print(f'Total Cost plus Shipment is{(weight * 7.5 * quantity) + (quantity * costperitem)}')"
   ]
  },
  {
   "cell_type": "code",
   "execution_count": 3,
   "id": "4cca478f",
   "metadata": {},
   "outputs": [
    {
     "name": "stdout",
     "output_type": "stream",
     "text": [
      "Shipment Region:North West\n",
      "Item Weight in KG:8\n",
      "Item Condition:Fragile\n",
      "Item Quantity:89\n",
      "Enter item cost:90\n",
      "Item Quantity: 89.0\n",
      "Item Cost: 8010.0\n",
      "Shipping Fee: 9256.0\n",
      "Total Cost plus Shipment is 17266.0\n"
     ]
    }
   ],
   "source": [
    "region = input('Shipment Region:')\n",
    "weight = float(input('Item Weight in KG:'))\n",
    "condition = input('Item Condition:')\n",
    "quantity = float(input('Item Quantity:'))\n",
    "costperitem = float(input('Enter item cost:'))\n",
    "if region == 'South South' and condition == 'Fragile':\n",
    "    print(f'''Item Quantity: {quantity}\n",
    "Item Cost: {quantity * costperitem}\n",
    "Shipping Fee:{weight * 10 * quantity}\n",
    "Total Cost plus Shipment is {(weight * 10 * quantity) + (quantity * costperitem)}''')\n",
    "elif region == 'South South' and condition == 'Non-Fragile':\n",
    "    print(f'''Item Quantity: {quantity}\n",
    "Item Cost: {quantity * costperitem}\n",
    "Shipping Fee: {weight * 8 * quantity}\n",
    "Total Cost plus Shipment is {(weight * 8 * quantity) + (quantity * costperitem)}''' )\n",
    "elif region == 'South East' and condition == 'Fragile':\n",
    "    print(f'''Item Quantity: {quantity}\n",
    "Item Cost: {quantity * costperitem}\n",
    "Shipping Fee: {weight * 12 * quantity}\n",
    "Total Cost plus Shipment is {(weight * 12 * quantity) + (quantity * costperitem)}''' )\n",
    "elif region == 'South East' and condition == 'Non-Fragile':\n",
    "    print(f'''Item Quantity: {quantity}\n",
    "Item Cost: {quantity * costperitem}\n",
    "Shipping Fee: {weight * 9 * quantity}\n",
    "Total Cost plus Shipment is {(weight * 9 * quantity) + (quantity * costperitem)}''' )\n",
    "elif region == 'South West' and condition == 'Fragile':\n",
    "    print(f'''Item Quantity: {quantity}\n",
    "Item Cost: {quantity * costperitem}\n",
    "Shipping Fee: {weight * 11 * quantity}\n",
    "Total Cost plus Shipment is {(weight * 11 * quantity) + (quantity * costperitem)}''' )\n",
    "elif region == 'South West' and condition == 'Non-Fragile':\n",
    "    print(f'''Item Quantity: {quantity}\n",
    "Item Cost: {quantity * costperitem}\n",
    "Shipping Fee: {weight * 7 * quantity}\n",
    "Total Cost plus Shipment is {(weight * 7 * quantity) + (quantity * costperitem)}''' )\n",
    "elif region == 'North Central' and condition == 'Fragile':\n",
    "    print(f'''Item Quantity: {quantity}\n",
    "Item Cost: {quantity * costperitem}\n",
    "Shipping Fee: {weight * 9 * quantity}\n",
    "Total Cost plus Shipment is {(weight * 9 * quantity) + (quantity * costperitem)}''' )\n",
    "elif region == 'North Central' and condition == 'Non-Fragile':\n",
    "    print(f'''Item Quantity: {quantity}\n",
    "Item Cost: {quantity * costperitem}\n",
    "Shipping Fee: {weight * 6 * quantity}\n",
    "Total Cost plus Shipment is {(weight * 6 * quantity) + (quantity * costperitem)}''' )\n",
    "elif region == 'North West' and condition == 'Fragile':\n",
    "    print(f'''Item Quantity: {quantity}\n",
    "Item Cost: {quantity * costperitem}\n",
    "Shipping Fee: {weight * 13 * quantity}\n",
    "Total Cost plus Shipment is {(weight * 13 * quantity) + (quantity * costperitem)}''' )\n",
    "elif region == 'North West' and condition == 'Non-Fragile':\n",
    "    print(f'''Item Quantity: {quantity}\n",
    "Item Cost: {quantity * costperitem}\n",
    "Shipping Fee: {weight * 8.5 * quantity}\n",
    "Total Cost plus Shipment is {(weight * 8.5 * quantity) + (quantity * costperitem)}''' )\n",
    "elif region == 'North East' and condition == 'Fragile':\n",
    "    print(f'''Item Quantity: {quantity}\n",
    "Item Cost: {quantity * costperitem}\n",
    "Shipping Fee: {weight * 14 * quantity}\n",
    "Total Cost plus Shipment is {(weight * 14 * quantity) + (quantity * costperitem)}''' )\n",
    "elif region == 'North East' and condition == 'Non-Fragile':\n",
    "    print(f'''Item Quantity: {quantity}\n",
    "Item Cost: {quantity * costperitem}\n",
    "Shipping Fee: {weight * 7.5 * quantity}\n",
    "Total Cost plus Shipment is {(weight * 7.5 * quantity) + (quantity * costperitem)}''' )"
   ]
  },
  {
   "cell_type": "code",
   "execution_count": null,
   "id": "0238ff7f",
   "metadata": {},
   "outputs": [],
   "source": []
  }
 ],
 "metadata": {
  "kernelspec": {
   "display_name": "Python 3 (ipykernel)",
   "language": "python",
   "name": "python3"
  },
  "language_info": {
   "codemirror_mode": {
    "name": "ipython",
    "version": 3
   },
   "file_extension": ".py",
   "mimetype": "text/x-python",
   "name": "python",
   "nbconvert_exporter": "python",
   "pygments_lexer": "ipython3",
   "version": "3.11.5"
  }
 },
 "nbformat": 4,
 "nbformat_minor": 5
}
