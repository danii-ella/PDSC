{
 "cells": [
  {
   "cell_type": "code",
   "execution_count": 1,
   "metadata": {},
   "outputs": [
    {
     "name": "stderr",
     "output_type": "stream",
     "text": [
      "C:\\Users\\Daniella\\AppData\\Local\\Temp\\ipykernel_9788\\1032910720.py:2: DeprecationWarning: \n",
      "Pyarrow will become a required dependency of pandas in the next major release of pandas (pandas 3.0),\n",
      "(to allow more performant data types, such as the Arrow string type, and better interoperability with other libraries)\n",
      "but was not found to be installed on your system.\n",
      "If this would cause problems for you,\n",
      "please provide us feedback at https://github.com/pandas-dev/pandas/issues/54466\n",
      "        \n",
      "  import pandas as pd\n"
     ]
    }
   ],
   "source": [
    "import numpy as np\n",
    "import pandas as pd\n",
    "import matplotlib.pyplot as plt\n",
    "import seaborn as sns\n",
    "import plotly.express as px"
   ]
  },
  {
   "cell_type": "code",
   "execution_count": 2,
   "metadata": {},
   "outputs": [
    {
     "data": {
      "text/html": [
       "<div>\n",
       "<style scoped>\n",
       "    .dataframe tbody tr th:only-of-type {\n",
       "        vertical-align: middle;\n",
       "    }\n",
       "\n",
       "    .dataframe tbody tr th {\n",
       "        vertical-align: top;\n",
       "    }\n",
       "\n",
       "    .dataframe thead th {\n",
       "        text-align: right;\n",
       "    }\n",
       "</style>\n",
       "<table border=\"1\" class=\"dataframe\">\n",
       "  <thead>\n",
       "    <tr style=\"text-align: right;\">\n",
       "      <th></th>\n",
       "      <th>Unnamed: 0</th>\n",
       "      <th>age</th>\n",
       "      <th>gender</th>\n",
       "      <th>year_in_school</th>\n",
       "      <th>major</th>\n",
       "      <th>monthly_income</th>\n",
       "      <th>financial_aid</th>\n",
       "      <th>tuition</th>\n",
       "      <th>housing</th>\n",
       "      <th>food</th>\n",
       "      <th>transportation</th>\n",
       "      <th>books_supplies</th>\n",
       "      <th>entertainment</th>\n",
       "      <th>personal_care</th>\n",
       "      <th>technology</th>\n",
       "      <th>health_wellness</th>\n",
       "      <th>miscellaneous</th>\n",
       "      <th>preferred_payment_method</th>\n",
       "    </tr>\n",
       "  </thead>\n",
       "  <tbody>\n",
       "    <tr>\n",
       "      <th>0</th>\n",
       "      <td>0</td>\n",
       "      <td>19</td>\n",
       "      <td>Non-binary</td>\n",
       "      <td>Freshman</td>\n",
       "      <td>Psychology</td>\n",
       "      <td>958</td>\n",
       "      <td>270</td>\n",
       "      <td>5939</td>\n",
       "      <td>709</td>\n",
       "      <td>296</td>\n",
       "      <td>123</td>\n",
       "      <td>188</td>\n",
       "      <td>41</td>\n",
       "      <td>78</td>\n",
       "      <td>134</td>\n",
       "      <td>127</td>\n",
       "      <td>72</td>\n",
       "      <td>Credit/Debit Card</td>\n",
       "    </tr>\n",
       "    <tr>\n",
       "      <th>1</th>\n",
       "      <td>1</td>\n",
       "      <td>24</td>\n",
       "      <td>Female</td>\n",
       "      <td>Junior</td>\n",
       "      <td>Economics</td>\n",
       "      <td>1006</td>\n",
       "      <td>875</td>\n",
       "      <td>4908</td>\n",
       "      <td>557</td>\n",
       "      <td>365</td>\n",
       "      <td>85</td>\n",
       "      <td>252</td>\n",
       "      <td>74</td>\n",
       "      <td>92</td>\n",
       "      <td>226</td>\n",
       "      <td>129</td>\n",
       "      <td>68</td>\n",
       "      <td>Credit/Debit Card</td>\n",
       "    </tr>\n",
       "    <tr>\n",
       "      <th>2</th>\n",
       "      <td>2</td>\n",
       "      <td>24</td>\n",
       "      <td>Non-binary</td>\n",
       "      <td>Junior</td>\n",
       "      <td>Economics</td>\n",
       "      <td>734</td>\n",
       "      <td>928</td>\n",
       "      <td>3051</td>\n",
       "      <td>666</td>\n",
       "      <td>220</td>\n",
       "      <td>137</td>\n",
       "      <td>99</td>\n",
       "      <td>130</td>\n",
       "      <td>23</td>\n",
       "      <td>239</td>\n",
       "      <td>112</td>\n",
       "      <td>133</td>\n",
       "      <td>Cash</td>\n",
       "    </tr>\n",
       "    <tr>\n",
       "      <th>3</th>\n",
       "      <td>3</td>\n",
       "      <td>23</td>\n",
       "      <td>Female</td>\n",
       "      <td>Senior</td>\n",
       "      <td>Computer Science</td>\n",
       "      <td>617</td>\n",
       "      <td>265</td>\n",
       "      <td>4935</td>\n",
       "      <td>652</td>\n",
       "      <td>289</td>\n",
       "      <td>114</td>\n",
       "      <td>223</td>\n",
       "      <td>99</td>\n",
       "      <td>30</td>\n",
       "      <td>163</td>\n",
       "      <td>105</td>\n",
       "      <td>55</td>\n",
       "      <td>Mobile Payment App</td>\n",
       "    </tr>\n",
       "    <tr>\n",
       "      <th>4</th>\n",
       "      <td>4</td>\n",
       "      <td>20</td>\n",
       "      <td>Female</td>\n",
       "      <td>Senior</td>\n",
       "      <td>Computer Science</td>\n",
       "      <td>810</td>\n",
       "      <td>522</td>\n",
       "      <td>3887</td>\n",
       "      <td>825</td>\n",
       "      <td>372</td>\n",
       "      <td>168</td>\n",
       "      <td>194</td>\n",
       "      <td>48</td>\n",
       "      <td>71</td>\n",
       "      <td>88</td>\n",
       "      <td>71</td>\n",
       "      <td>104</td>\n",
       "      <td>Credit/Debit Card</td>\n",
       "    </tr>\n",
       "  </tbody>\n",
       "</table>\n",
       "</div>"
      ],
      "text/plain": [
       "   Unnamed: 0  age      gender year_in_school             major  \\\n",
       "0           0   19  Non-binary       Freshman        Psychology   \n",
       "1           1   24      Female         Junior         Economics   \n",
       "2           2   24  Non-binary         Junior         Economics   \n",
       "3           3   23      Female         Senior  Computer Science   \n",
       "4           4   20      Female         Senior  Computer Science   \n",
       "\n",
       "   monthly_income  financial_aid  tuition  housing  food  transportation  \\\n",
       "0             958            270     5939      709   296             123   \n",
       "1            1006            875     4908      557   365              85   \n",
       "2             734            928     3051      666   220             137   \n",
       "3             617            265     4935      652   289             114   \n",
       "4             810            522     3887      825   372             168   \n",
       "\n",
       "   books_supplies  entertainment  personal_care  technology  health_wellness  \\\n",
       "0             188             41             78         134              127   \n",
       "1             252             74             92         226              129   \n",
       "2              99            130             23         239              112   \n",
       "3             223             99             30         163              105   \n",
       "4             194             48             71          88               71   \n",
       "\n",
       "   miscellaneous preferred_payment_method  \n",
       "0             72        Credit/Debit Card  \n",
       "1             68        Credit/Debit Card  \n",
       "2            133                     Cash  \n",
       "3             55       Mobile Payment App  \n",
       "4            104        Credit/Debit Card  "
      ]
     },
     "execution_count": 2,
     "metadata": {},
     "output_type": "execute_result"
    }
   ],
   "source": [
    "df = pd.read_csv('student_spending.csv')\n",
    "df.head()"
   ]
  },
  {
   "cell_type": "code",
   "execution_count": 3,
   "metadata": {},
   "outputs": [
    {
     "data": {
      "text/plain": [
       "Unnamed: 0                  0\n",
       "age                         0\n",
       "gender                      0\n",
       "year_in_school              0\n",
       "major                       0\n",
       "monthly_income              0\n",
       "financial_aid               0\n",
       "tuition                     0\n",
       "housing                     0\n",
       "food                        0\n",
       "transportation              0\n",
       "books_supplies              0\n",
       "entertainment               0\n",
       "personal_care               0\n",
       "technology                  0\n",
       "health_wellness             0\n",
       "miscellaneous               0\n",
       "preferred_payment_method    0\n",
       "dtype: int64"
      ]
     },
     "execution_count": 3,
     "metadata": {},
     "output_type": "execute_result"
    }
   ],
   "source": [
    "df.isnull().sum()\n"
   ]
  },
  {
   "cell_type": "code",
   "execution_count": 4,
   "metadata": {},
   "outputs": [
    {
     "data": {
      "application/vnd.plotly.v1+json": {
       "config": {
        "plotlyServerURL": "https://plot.ly"
       },
       "data": [
        {
         "alignmentgroup": "True",
         "hovertemplate": "gender=%{x}<br>monthly_income=%{y}<extra></extra>",
         "legendgroup": "Non-binary",
         "marker": {
          "color": "#636efa"
         },
         "name": "Non-binary",
         "notched": false,
         "offsetgroup": "Non-binary",
         "orientation": "v",
         "showlegend": true,
         "type": "box",
         "x": [
          "Non-binary",
          "Non-binary",
          "Non-binary",
          "Non-binary",
          "Non-binary",
          "Non-binary",
          "Non-binary",
          "Non-binary",
          "Non-binary",
          "Non-binary",
          "Non-binary",
          "Non-binary",
          "Non-binary",
          "Non-binary",
          "Non-binary",
          "Non-binary",
          "Non-binary",
          "Non-binary",
          "Non-binary",
          "Non-binary",
          "Non-binary",
          "Non-binary",
          "Non-binary",
          "Non-binary",
          "Non-binary",
          "Non-binary",
          "Non-binary",
          "Non-binary",
          "Non-binary",
          "Non-binary",
          "Non-binary",
          "Non-binary",
          "Non-binary",
          "Non-binary",
          "Non-binary",
          "Non-binary",
          "Non-binary",
          "Non-binary",
          "Non-binary",
          "Non-binary",
          "Non-binary",
          "Non-binary",
          "Non-binary",
          "Non-binary",
          "Non-binary",
          "Non-binary",
          "Non-binary",
          "Non-binary",
          "Non-binary",
          "Non-binary",
          "Non-binary",
          "Non-binary",
          "Non-binary",
          "Non-binary",
          "Non-binary",
          "Non-binary",
          "Non-binary",
          "Non-binary",
          "Non-binary",
          "Non-binary",
          "Non-binary",
          "Non-binary",
          "Non-binary",
          "Non-binary",
          "Non-binary",
          "Non-binary",
          "Non-binary",
          "Non-binary",
          "Non-binary",
          "Non-binary",
          "Non-binary",
          "Non-binary",
          "Non-binary",
          "Non-binary",
          "Non-binary",
          "Non-binary",
          "Non-binary",
          "Non-binary",
          "Non-binary",
          "Non-binary",
          "Non-binary",
          "Non-binary",
          "Non-binary",
          "Non-binary",
          "Non-binary",
          "Non-binary",
          "Non-binary",
          "Non-binary",
          "Non-binary",
          "Non-binary",
          "Non-binary",
          "Non-binary",
          "Non-binary",
          "Non-binary",
          "Non-binary",
          "Non-binary",
          "Non-binary",
          "Non-binary",
          "Non-binary",
          "Non-binary",
          "Non-binary",
          "Non-binary",
          "Non-binary",
          "Non-binary",
          "Non-binary",
          "Non-binary",
          "Non-binary",
          "Non-binary",
          "Non-binary",
          "Non-binary",
          "Non-binary",
          "Non-binary",
          "Non-binary",
          "Non-binary",
          "Non-binary",
          "Non-binary",
          "Non-binary",
          "Non-binary",
          "Non-binary",
          "Non-binary",
          "Non-binary",
          "Non-binary",
          "Non-binary",
          "Non-binary",
          "Non-binary",
          "Non-binary",
          "Non-binary",
          "Non-binary",
          "Non-binary",
          "Non-binary",
          "Non-binary",
          "Non-binary",
          "Non-binary",
          "Non-binary",
          "Non-binary",
          "Non-binary",
          "Non-binary",
          "Non-binary",
          "Non-binary",
          "Non-binary",
          "Non-binary",
          "Non-binary",
          "Non-binary",
          "Non-binary",
          "Non-binary",
          "Non-binary",
          "Non-binary",
          "Non-binary",
          "Non-binary",
          "Non-binary",
          "Non-binary",
          "Non-binary",
          "Non-binary",
          "Non-binary",
          "Non-binary",
          "Non-binary",
          "Non-binary",
          "Non-binary",
          "Non-binary",
          "Non-binary",
          "Non-binary",
          "Non-binary",
          "Non-binary",
          "Non-binary",
          "Non-binary",
          "Non-binary",
          "Non-binary",
          "Non-binary",
          "Non-binary",
          "Non-binary",
          "Non-binary",
          "Non-binary",
          "Non-binary",
          "Non-binary",
          "Non-binary",
          "Non-binary",
          "Non-binary",
          "Non-binary",
          "Non-binary",
          "Non-binary",
          "Non-binary",
          "Non-binary",
          "Non-binary",
          "Non-binary",
          "Non-binary",
          "Non-binary",
          "Non-binary",
          "Non-binary",
          "Non-binary",
          "Non-binary",
          "Non-binary",
          "Non-binary",
          "Non-binary",
          "Non-binary",
          "Non-binary",
          "Non-binary",
          "Non-binary",
          "Non-binary",
          "Non-binary",
          "Non-binary",
          "Non-binary",
          "Non-binary",
          "Non-binary",
          "Non-binary",
          "Non-binary",
          "Non-binary",
          "Non-binary",
          "Non-binary",
          "Non-binary",
          "Non-binary",
          "Non-binary",
          "Non-binary",
          "Non-binary",
          "Non-binary",
          "Non-binary",
          "Non-binary",
          "Non-binary",
          "Non-binary",
          "Non-binary",
          "Non-binary",
          "Non-binary",
          "Non-binary",
          "Non-binary",
          "Non-binary",
          "Non-binary",
          "Non-binary",
          "Non-binary",
          "Non-binary",
          "Non-binary",
          "Non-binary",
          "Non-binary",
          "Non-binary",
          "Non-binary",
          "Non-binary",
          "Non-binary",
          "Non-binary",
          "Non-binary",
          "Non-binary",
          "Non-binary",
          "Non-binary",
          "Non-binary",
          "Non-binary",
          "Non-binary",
          "Non-binary",
          "Non-binary",
          "Non-binary",
          "Non-binary",
          "Non-binary",
          "Non-binary",
          "Non-binary",
          "Non-binary",
          "Non-binary",
          "Non-binary",
          "Non-binary",
          "Non-binary",
          "Non-binary",
          "Non-binary",
          "Non-binary",
          "Non-binary",
          "Non-binary",
          "Non-binary",
          "Non-binary",
          "Non-binary",
          "Non-binary",
          "Non-binary",
          "Non-binary",
          "Non-binary",
          "Non-binary",
          "Non-binary",
          "Non-binary",
          "Non-binary",
          "Non-binary",
          "Non-binary",
          "Non-binary",
          "Non-binary",
          "Non-binary",
          "Non-binary",
          "Non-binary",
          "Non-binary",
          "Non-binary",
          "Non-binary",
          "Non-binary",
          "Non-binary",
          "Non-binary",
          "Non-binary",
          "Non-binary",
          "Non-binary",
          "Non-binary",
          "Non-binary",
          "Non-binary",
          "Non-binary",
          "Non-binary",
          "Non-binary",
          "Non-binary",
          "Non-binary",
          "Non-binary",
          "Non-binary",
          "Non-binary",
          "Non-binary",
          "Non-binary",
          "Non-binary",
          "Non-binary",
          "Non-binary",
          "Non-binary",
          "Non-binary",
          "Non-binary",
          "Non-binary",
          "Non-binary",
          "Non-binary",
          "Non-binary",
          "Non-binary",
          "Non-binary",
          "Non-binary",
          "Non-binary",
          "Non-binary",
          "Non-binary",
          "Non-binary",
          "Non-binary",
          "Non-binary",
          "Non-binary",
          "Non-binary"
         ],
         "x0": " ",
         "xaxis": "x",
         "y": [
          958,
          734,
          523,
          1402,
          1496,
          1227,
          1225,
          582,
          905,
          531,
          1426,
          522,
          1309,
          1163,
          1451,
          941,
          854,
          668,
          1061,
          1235,
          1424,
          898,
          1164,
          1105,
          1346,
          1240,
          1199,
          1295,
          767,
          1349,
          1030,
          1487,
          1327,
          1095,
          1483,
          998,
          885,
          1147,
          1367,
          1131,
          1189,
          1181,
          855,
          621,
          722,
          912,
          697,
          608,
          1394,
          954,
          968,
          523,
          857,
          889,
          992,
          552,
          700,
          774,
          810,
          919,
          879,
          596,
          1353,
          1112,
          1250,
          1120,
          1277,
          776,
          1097,
          835,
          755,
          639,
          697,
          1379,
          1126,
          618,
          785,
          770,
          1431,
          1489,
          1325,
          694,
          1458,
          925,
          1105,
          1176,
          727,
          1483,
          1000,
          1339,
          1036,
          1488,
          914,
          1468,
          969,
          1304,
          573,
          1085,
          1103,
          816,
          969,
          918,
          982,
          1360,
          931,
          561,
          1282,
          1438,
          1260,
          701,
          842,
          1134,
          992,
          1408,
          1224,
          1349,
          819,
          1102,
          766,
          1403,
          1372,
          1428,
          572,
          558,
          660,
          528,
          1483,
          646,
          563,
          791,
          847,
          725,
          733,
          684,
          1464,
          1230,
          1437,
          1010,
          1461,
          1486,
          1352,
          1146,
          1247,
          526,
          860,
          1420,
          737,
          503,
          1184,
          950,
          1286,
          893,
          1428,
          906,
          991,
          1356,
          1059,
          983,
          1295,
          829,
          1296,
          1006,
          549,
          885,
          1109,
          849,
          503,
          1149,
          1363,
          1056,
          965,
          1232,
          1078,
          1289,
          982,
          834,
          994,
          1412,
          1038,
          1136,
          971,
          1115,
          523,
          533,
          739,
          610,
          1302,
          816,
          1358,
          1372,
          1101,
          648,
          639,
          729,
          1343,
          833,
          748,
          1236,
          1381,
          929,
          1000,
          1415,
          1359,
          1432,
          663,
          1327,
          815,
          728,
          1092,
          1296,
          1483,
          1440,
          1379,
          740,
          604,
          1250,
          567,
          1169,
          834,
          1117,
          1433,
          1255,
          815,
          1022,
          903,
          932,
          603,
          1195,
          1223,
          844,
          1032,
          770,
          911,
          1367,
          509,
          1492,
          1402,
          673,
          998,
          866,
          1408,
          732,
          1107,
          1471,
          536,
          609,
          1316,
          574,
          757,
          794,
          598,
          633,
          1437,
          525,
          1478,
          1344,
          1036,
          664,
          1403,
          587,
          1301,
          777,
          1372,
          1415,
          882,
          1461,
          953,
          539,
          1024,
          555,
          1245,
          1110,
          518,
          1201,
          1402,
          542,
          848,
          1189,
          1280,
          728,
          957,
          1084,
          1309,
          1452,
          1422,
          1053,
          1118,
          1252,
          1224,
          975,
          1168,
          1385,
          1086,
          888,
          1204,
          1345,
          1344,
          779,
          1345,
          534,
          1176,
          836,
          1148,
          1140,
          1092,
          1021,
          653,
          1128,
          938,
          1169,
          514,
          1142,
          1464,
          1038,
          1019,
          669,
          1197,
          1412,
          1391,
          1174,
          541
         ],
         "y0": " ",
         "yaxis": "y"
        },
        {
         "alignmentgroup": "True",
         "hovertemplate": "gender=%{x}<br>monthly_income=%{y}<extra></extra>",
         "legendgroup": "Female",
         "marker": {
          "color": "#EF553B"
         },
         "name": "Female",
         "notched": false,
         "offsetgroup": "Female",
         "orientation": "v",
         "showlegend": true,
         "type": "box",
         "x": [
          "Female",
          "Female",
          "Female",
          "Female",
          "Female",
          "Female",
          "Female",
          "Female",
          "Female",
          "Female",
          "Female",
          "Female",
          "Female",
          "Female",
          "Female",
          "Female",
          "Female",
          "Female",
          "Female",
          "Female",
          "Female",
          "Female",
          "Female",
          "Female",
          "Female",
          "Female",
          "Female",
          "Female",
          "Female",
          "Female",
          "Female",
          "Female",
          "Female",
          "Female",
          "Female",
          "Female",
          "Female",
          "Female",
          "Female",
          "Female",
          "Female",
          "Female",
          "Female",
          "Female",
          "Female",
          "Female",
          "Female",
          "Female",
          "Female",
          "Female",
          "Female",
          "Female",
          "Female",
          "Female",
          "Female",
          "Female",
          "Female",
          "Female",
          "Female",
          "Female",
          "Female",
          "Female",
          "Female",
          "Female",
          "Female",
          "Female",
          "Female",
          "Female",
          "Female",
          "Female",
          "Female",
          "Female",
          "Female",
          "Female",
          "Female",
          "Female",
          "Female",
          "Female",
          "Female",
          "Female",
          "Female",
          "Female",
          "Female",
          "Female",
          "Female",
          "Female",
          "Female",
          "Female",
          "Female",
          "Female",
          "Female",
          "Female",
          "Female",
          "Female",
          "Female",
          "Female",
          "Female",
          "Female",
          "Female",
          "Female",
          "Female",
          "Female",
          "Female",
          "Female",
          "Female",
          "Female",
          "Female",
          "Female",
          "Female",
          "Female",
          "Female",
          "Female",
          "Female",
          "Female",
          "Female",
          "Female",
          "Female",
          "Female",
          "Female",
          "Female",
          "Female",
          "Female",
          "Female",
          "Female",
          "Female",
          "Female",
          "Female",
          "Female",
          "Female",
          "Female",
          "Female",
          "Female",
          "Female",
          "Female",
          "Female",
          "Female",
          "Female",
          "Female",
          "Female",
          "Female",
          "Female",
          "Female",
          "Female",
          "Female",
          "Female",
          "Female",
          "Female",
          "Female",
          "Female",
          "Female",
          "Female",
          "Female",
          "Female",
          "Female",
          "Female",
          "Female",
          "Female",
          "Female",
          "Female",
          "Female",
          "Female",
          "Female",
          "Female",
          "Female",
          "Female",
          "Female",
          "Female",
          "Female",
          "Female",
          "Female",
          "Female",
          "Female",
          "Female",
          "Female",
          "Female",
          "Female",
          "Female",
          "Female",
          "Female",
          "Female",
          "Female",
          "Female",
          "Female",
          "Female",
          "Female",
          "Female",
          "Female",
          "Female",
          "Female",
          "Female",
          "Female",
          "Female",
          "Female",
          "Female",
          "Female",
          "Female",
          "Female",
          "Female",
          "Female",
          "Female",
          "Female",
          "Female",
          "Female",
          "Female",
          "Female",
          "Female",
          "Female",
          "Female",
          "Female",
          "Female",
          "Female",
          "Female",
          "Female",
          "Female",
          "Female",
          "Female",
          "Female",
          "Female",
          "Female",
          "Female",
          "Female",
          "Female",
          "Female",
          "Female",
          "Female",
          "Female",
          "Female",
          "Female",
          "Female",
          "Female",
          "Female",
          "Female",
          "Female",
          "Female",
          "Female",
          "Female",
          "Female",
          "Female",
          "Female",
          "Female",
          "Female",
          "Female",
          "Female",
          "Female",
          "Female",
          "Female",
          "Female",
          "Female",
          "Female",
          "Female",
          "Female",
          "Female",
          "Female",
          "Female",
          "Female",
          "Female",
          "Female",
          "Female",
          "Female",
          "Female",
          "Female",
          "Female",
          "Female",
          "Female",
          "Female",
          "Female",
          "Female",
          "Female",
          "Female",
          "Female",
          "Female",
          "Female",
          "Female",
          "Female",
          "Female",
          "Female",
          "Female",
          "Female",
          "Female",
          "Female",
          "Female",
          "Female",
          "Female",
          "Female",
          "Female",
          "Female",
          "Female",
          "Female",
          "Female",
          "Female",
          "Female",
          "Female",
          "Female",
          "Female",
          "Female",
          "Female",
          "Female",
          "Female",
          "Female",
          "Female",
          "Female",
          "Female",
          "Female",
          "Female",
          "Female",
          "Female",
          "Female",
          "Female",
          "Female",
          "Female",
          "Female",
          "Female",
          "Female",
          "Female",
          "Female",
          "Female",
          "Female",
          "Female",
          "Female",
          "Female",
          "Female",
          "Female",
          "Female"
         ],
         "x0": " ",
         "xaxis": "x",
         "y": [
          1006,
          617,
          810,
          1354,
          631,
          1423,
          1176,
          1419,
          1454,
          1487,
          1157,
          1062,
          1054,
          796,
          1338,
          965,
          600,
          605,
          1274,
          1285,
          588,
          1377,
          1131,
          695,
          1084,
          733,
          1352,
          1204,
          1176,
          1334,
          1442,
          914,
          1484,
          1127,
          930,
          727,
          622,
          1384,
          1035,
          933,
          1115,
          920,
          882,
          959,
          748,
          760,
          702,
          1135,
          1265,
          1175,
          1083,
          1354,
          1037,
          1456,
          571,
          1112,
          1100,
          860,
          656,
          1319,
          917,
          872,
          506,
          1201,
          546,
          810,
          1207,
          1033,
          1286,
          1345,
          1411,
          1355,
          566,
          1310,
          1354,
          1316,
          1488,
          893,
          547,
          1040,
          504,
          1203,
          951,
          578,
          994,
          1203,
          1481,
          1087,
          985,
          637,
          874,
          850,
          811,
          1205,
          1206,
          800,
          1078,
          983,
          880,
          1276,
          1466,
          1338,
          1121,
          1245,
          748,
          1389,
          1122,
          879,
          869,
          615,
          1394,
          800,
          655,
          1495,
          511,
          1161,
          725,
          795,
          543,
          734,
          669,
          1336,
          1436,
          609,
          1309,
          1175,
          1190,
          742,
          582,
          1021,
          990,
          843,
          580,
          975,
          521,
          1444,
          1296,
          1123,
          1020,
          736,
          1212,
          702,
          1444,
          536,
          1309,
          1368,
          802,
          973,
          736,
          833,
          713,
          1486,
          1205,
          1306,
          869,
          1443,
          1049,
          923,
          621,
          640,
          1427,
          1295,
          1219,
          959,
          989,
          668,
          1004,
          1415,
          873,
          921,
          1459,
          1331,
          551,
          1437,
          1331,
          663,
          861,
          802,
          1009,
          502,
          540,
          673,
          681,
          1062,
          1402,
          1320,
          1126,
          664,
          883,
          1246,
          1273,
          916,
          941,
          1301,
          725,
          1197,
          1126,
          1149,
          1226,
          940,
          946,
          843,
          1392,
          854,
          1129,
          1099,
          1263,
          656,
          975,
          1115,
          1054,
          1477,
          558,
          981,
          691,
          1326,
          575,
          1298,
          929,
          663,
          1439,
          1076,
          559,
          1400,
          1460,
          942,
          1186,
          1085,
          714,
          975,
          1420,
          546,
          889,
          1107,
          750,
          811,
          1452,
          737,
          1341,
          999,
          634,
          1480,
          1376,
          613,
          620,
          1419,
          1449,
          1303,
          1268,
          1174,
          635,
          1165,
          1316,
          1106,
          514,
          1433,
          824,
          885,
          549,
          1326,
          789,
          866,
          639,
          935,
          1398,
          892,
          1405,
          1157,
          825,
          1359,
          683,
          1366,
          1130,
          1022,
          771,
          1257,
          1313,
          556,
          845,
          1423,
          1329,
          1021,
          1223,
          1193,
          1333,
          978,
          812,
          1447,
          1030,
          1034,
          1406,
          1334,
          507,
          613,
          1191,
          1287,
          1391,
          1123,
          595,
          1047,
          865,
          696,
          778,
          557,
          1249,
          717,
          857,
          1056,
          645,
          1020,
          528,
          868,
          1260,
          1219,
          1385,
          553,
          933,
          1166,
          973,
          1381,
          1011,
          1346,
          1407
         ],
         "y0": " ",
         "yaxis": "y"
        },
        {
         "alignmentgroup": "True",
         "hovertemplate": "gender=%{x}<br>monthly_income=%{y}<extra></extra>",
         "legendgroup": "Male",
         "marker": {
          "color": "#00cc96"
         },
         "name": "Male",
         "notched": false,
         "offsetgroup": "Male",
         "orientation": "v",
         "showlegend": true,
         "type": "box",
         "x": [
          "Male",
          "Male",
          "Male",
          "Male",
          "Male",
          "Male",
          "Male",
          "Male",
          "Male",
          "Male",
          "Male",
          "Male",
          "Male",
          "Male",
          "Male",
          "Male",
          "Male",
          "Male",
          "Male",
          "Male",
          "Male",
          "Male",
          "Male",
          "Male",
          "Male",
          "Male",
          "Male",
          "Male",
          "Male",
          "Male",
          "Male",
          "Male",
          "Male",
          "Male",
          "Male",
          "Male",
          "Male",
          "Male",
          "Male",
          "Male",
          "Male",
          "Male",
          "Male",
          "Male",
          "Male",
          "Male",
          "Male",
          "Male",
          "Male",
          "Male",
          "Male",
          "Male",
          "Male",
          "Male",
          "Male",
          "Male",
          "Male",
          "Male",
          "Male",
          "Male",
          "Male",
          "Male",
          "Male",
          "Male",
          "Male",
          "Male",
          "Male",
          "Male",
          "Male",
          "Male",
          "Male",
          "Male",
          "Male",
          "Male",
          "Male",
          "Male",
          "Male",
          "Male",
          "Male",
          "Male",
          "Male",
          "Male",
          "Male",
          "Male",
          "Male",
          "Male",
          "Male",
          "Male",
          "Male",
          "Male",
          "Male",
          "Male",
          "Male",
          "Male",
          "Male",
          "Male",
          "Male",
          "Male",
          "Male",
          "Male",
          "Male",
          "Male",
          "Male",
          "Male",
          "Male",
          "Male",
          "Male",
          "Male",
          "Male",
          "Male",
          "Male",
          "Male",
          "Male",
          "Male",
          "Male",
          "Male",
          "Male",
          "Male",
          "Male",
          "Male",
          "Male",
          "Male",
          "Male",
          "Male",
          "Male",
          "Male",
          "Male",
          "Male",
          "Male",
          "Male",
          "Male",
          "Male",
          "Male",
          "Male",
          "Male",
          "Male",
          "Male",
          "Male",
          "Male",
          "Male",
          "Male",
          "Male",
          "Male",
          "Male",
          "Male",
          "Male",
          "Male",
          "Male",
          "Male",
          "Male",
          "Male",
          "Male",
          "Male",
          "Male",
          "Male",
          "Male",
          "Male",
          "Male",
          "Male",
          "Male",
          "Male",
          "Male",
          "Male",
          "Male",
          "Male",
          "Male",
          "Male",
          "Male",
          "Male",
          "Male",
          "Male",
          "Male",
          "Male",
          "Male",
          "Male",
          "Male",
          "Male",
          "Male",
          "Male",
          "Male",
          "Male",
          "Male",
          "Male",
          "Male",
          "Male",
          "Male",
          "Male",
          "Male",
          "Male",
          "Male",
          "Male",
          "Male",
          "Male",
          "Male",
          "Male",
          "Male",
          "Male",
          "Male",
          "Male",
          "Male",
          "Male",
          "Male",
          "Male",
          "Male",
          "Male",
          "Male",
          "Male",
          "Male",
          "Male",
          "Male",
          "Male",
          "Male",
          "Male",
          "Male",
          "Male",
          "Male",
          "Male",
          "Male",
          "Male",
          "Male",
          "Male",
          "Male",
          "Male",
          "Male",
          "Male",
          "Male",
          "Male",
          "Male",
          "Male",
          "Male",
          "Male",
          "Male",
          "Male",
          "Male",
          "Male",
          "Male",
          "Male",
          "Male",
          "Male",
          "Male",
          "Male",
          "Male",
          "Male",
          "Male",
          "Male",
          "Male",
          "Male",
          "Male",
          "Male",
          "Male",
          "Male",
          "Male",
          "Male",
          "Male",
          "Male",
          "Male",
          "Male",
          "Male",
          "Male",
          "Male",
          "Male",
          "Male",
          "Male",
          "Male",
          "Male",
          "Male",
          "Male",
          "Male",
          "Male",
          "Male",
          "Male",
          "Male",
          "Male",
          "Male",
          "Male",
          "Male",
          "Male",
          "Male",
          "Male",
          "Male",
          "Male",
          "Male",
          "Male",
          "Male",
          "Male",
          "Male",
          "Male",
          "Male",
          "Male",
          "Male",
          "Male",
          "Male",
          "Male",
          "Male",
          "Male",
          "Male",
          "Male",
          "Male",
          "Male",
          "Male",
          "Male",
          "Male",
          "Male",
          "Male",
          "Male",
          "Male",
          "Male",
          "Male",
          "Male",
          "Male",
          "Male",
          "Male",
          "Male",
          "Male",
          "Male",
          "Male",
          "Male",
          "Male",
          "Male",
          "Male",
          "Male",
          "Male",
          "Male",
          "Male",
          "Male",
          "Male",
          "Male",
          "Male",
          "Male",
          "Male",
          "Male",
          "Male",
          "Male",
          "Male",
          "Male",
          "Male",
          "Male",
          "Male",
          "Male",
          "Male",
          "Male",
          "Male",
          "Male",
          "Male",
          "Male",
          "Male",
          "Male",
          "Male",
          "Male",
          "Male",
          "Male",
          "Male",
          "Male",
          "Male",
          "Male",
          "Male"
         ],
         "x0": " ",
         "xaxis": "x",
         "y": [
          762,
          1068,
          719,
          1180,
          516,
          667,
          1465,
          1363,
          1328,
          1350,
          804,
          509,
          929,
          1195,
          1036,
          669,
          1294,
          1158,
          1375,
          1092,
          963,
          1184,
          562,
          1218,
          983,
          1351,
          800,
          1006,
          1222,
          1395,
          803,
          1333,
          780,
          810,
          965,
          784,
          970,
          720,
          1286,
          1460,
          836,
          1212,
          726,
          676,
          1213,
          526,
          951,
          1301,
          1103,
          1083,
          1354,
          877,
          649,
          897,
          647,
          901,
          536,
          1354,
          1056,
          620,
          1304,
          963,
          1104,
          1230,
          1020,
          1448,
          1450,
          904,
          527,
          804,
          918,
          812,
          540,
          760,
          1199,
          1444,
          672,
          825,
          1033,
          1365,
          856,
          894,
          809,
          856,
          886,
          1268,
          1159,
          1442,
          1404,
          1087,
          931,
          527,
          744,
          1118,
          1276,
          1424,
          1126,
          1113,
          1381,
          581,
          913,
          1243,
          667,
          737,
          1298,
          1272,
          1112,
          958,
          881,
          1347,
          869,
          1470,
          1471,
          658,
          684,
          907,
          846,
          659,
          1485,
          760,
          805,
          1179,
          602,
          1016,
          1021,
          646,
          1443,
          730,
          1433,
          617,
          716,
          571,
          1268,
          1268,
          1005,
          1356,
          817,
          706,
          1279,
          1457,
          1309,
          1482,
          1468,
          886,
          1303,
          527,
          818,
          1268,
          1253,
          668,
          1022,
          604,
          1346,
          1258,
          925,
          927,
          910,
          1323,
          948,
          672,
          1492,
          627,
          961,
          954,
          1341,
          1195,
          568,
          821,
          1356,
          1399,
          743,
          1384,
          997,
          618,
          959,
          679,
          803,
          1500,
          1005,
          880,
          764,
          1278,
          525,
          872,
          539,
          804,
          1293,
          903,
          1245,
          1338,
          1414,
          528,
          1377,
          766,
          887,
          1040,
          895,
          1113,
          1401,
          772,
          912,
          695,
          1479,
          727,
          622,
          1491,
          1415,
          1305,
          1459,
          1258,
          1399,
          1469,
          560,
          527,
          1165,
          996,
          630,
          542,
          1021,
          1229,
          660,
          555,
          541,
          592,
          925,
          719,
          1245,
          592,
          1227,
          1141,
          703,
          1162,
          1045,
          619,
          941,
          1176,
          816,
          1413,
          1144,
          958,
          775,
          1304,
          731,
          1347,
          665,
          1422,
          1366,
          1259,
          677,
          670,
          645,
          654,
          1141,
          1419,
          1034,
          1218,
          1332,
          553,
          547,
          867,
          863,
          522,
          983,
          996,
          1106,
          610,
          1270,
          804,
          792,
          1045,
          581,
          1115,
          1257,
          1069,
          1139,
          1479,
          1135,
          967,
          1126,
          1009,
          547,
          761,
          895,
          1094,
          509,
          1382,
          505,
          1329,
          1004,
          1397,
          1430,
          1456,
          691,
          1227,
          556,
          932,
          1397,
          844,
          923,
          933,
          1034,
          669,
          569,
          960,
          1288,
          1413,
          1270,
          683,
          888,
          1496,
          965,
          501,
          1495,
          862,
          1037,
          505,
          717,
          1141,
          1399,
          1200,
          1094,
          686,
          513,
          1174,
          1435,
          894,
          1482,
          1476,
          1191,
          1440,
          1483,
          1047,
          1279,
          1280,
          696,
          1038,
          948,
          758,
          643,
          668,
          1186,
          774,
          1236,
          1061,
          1015,
          743,
          913,
          1326,
          1418,
          1013,
          1082,
          1160,
          1293,
          1380,
          764,
          957
         ],
         "y0": " ",
         "yaxis": "y"
        }
       ],
       "layout": {
        "boxmode": "overlay",
        "legend": {
         "title": {
          "text": "gender"
         },
         "tracegroupgap": 0
        },
        "margin": {
         "t": 60
        },
        "template": {
         "data": {
          "bar": [
           {
            "error_x": {
             "color": "#2a3f5f"
            },
            "error_y": {
             "color": "#2a3f5f"
            },
            "marker": {
             "line": {
              "color": "#E5ECF6",
              "width": 0.5
             },
             "pattern": {
              "fillmode": "overlay",
              "size": 10,
              "solidity": 0.2
             }
            },
            "type": "bar"
           }
          ],
          "barpolar": [
           {
            "marker": {
             "line": {
              "color": "#E5ECF6",
              "width": 0.5
             },
             "pattern": {
              "fillmode": "overlay",
              "size": 10,
              "solidity": 0.2
             }
            },
            "type": "barpolar"
           }
          ],
          "carpet": [
           {
            "aaxis": {
             "endlinecolor": "#2a3f5f",
             "gridcolor": "white",
             "linecolor": "white",
             "minorgridcolor": "white",
             "startlinecolor": "#2a3f5f"
            },
            "baxis": {
             "endlinecolor": "#2a3f5f",
             "gridcolor": "white",
             "linecolor": "white",
             "minorgridcolor": "white",
             "startlinecolor": "#2a3f5f"
            },
            "type": "carpet"
           }
          ],
          "choropleth": [
           {
            "colorbar": {
             "outlinewidth": 0,
             "ticks": ""
            },
            "type": "choropleth"
           }
          ],
          "contour": [
           {
            "colorbar": {
             "outlinewidth": 0,
             "ticks": ""
            },
            "colorscale": [
             [
              0,
              "#0d0887"
             ],
             [
              0.1111111111111111,
              "#46039f"
             ],
             [
              0.2222222222222222,
              "#7201a8"
             ],
             [
              0.3333333333333333,
              "#9c179e"
             ],
             [
              0.4444444444444444,
              "#bd3786"
             ],
             [
              0.5555555555555556,
              "#d8576b"
             ],
             [
              0.6666666666666666,
              "#ed7953"
             ],
             [
              0.7777777777777778,
              "#fb9f3a"
             ],
             [
              0.8888888888888888,
              "#fdca26"
             ],
             [
              1,
              "#f0f921"
             ]
            ],
            "type": "contour"
           }
          ],
          "contourcarpet": [
           {
            "colorbar": {
             "outlinewidth": 0,
             "ticks": ""
            },
            "type": "contourcarpet"
           }
          ],
          "heatmap": [
           {
            "colorbar": {
             "outlinewidth": 0,
             "ticks": ""
            },
            "colorscale": [
             [
              0,
              "#0d0887"
             ],
             [
              0.1111111111111111,
              "#46039f"
             ],
             [
              0.2222222222222222,
              "#7201a8"
             ],
             [
              0.3333333333333333,
              "#9c179e"
             ],
             [
              0.4444444444444444,
              "#bd3786"
             ],
             [
              0.5555555555555556,
              "#d8576b"
             ],
             [
              0.6666666666666666,
              "#ed7953"
             ],
             [
              0.7777777777777778,
              "#fb9f3a"
             ],
             [
              0.8888888888888888,
              "#fdca26"
             ],
             [
              1,
              "#f0f921"
             ]
            ],
            "type": "heatmap"
           }
          ],
          "heatmapgl": [
           {
            "colorbar": {
             "outlinewidth": 0,
             "ticks": ""
            },
            "colorscale": [
             [
              0,
              "#0d0887"
             ],
             [
              0.1111111111111111,
              "#46039f"
             ],
             [
              0.2222222222222222,
              "#7201a8"
             ],
             [
              0.3333333333333333,
              "#9c179e"
             ],
             [
              0.4444444444444444,
              "#bd3786"
             ],
             [
              0.5555555555555556,
              "#d8576b"
             ],
             [
              0.6666666666666666,
              "#ed7953"
             ],
             [
              0.7777777777777778,
              "#fb9f3a"
             ],
             [
              0.8888888888888888,
              "#fdca26"
             ],
             [
              1,
              "#f0f921"
             ]
            ],
            "type": "heatmapgl"
           }
          ],
          "histogram": [
           {
            "marker": {
             "pattern": {
              "fillmode": "overlay",
              "size": 10,
              "solidity": 0.2
             }
            },
            "type": "histogram"
           }
          ],
          "histogram2d": [
           {
            "colorbar": {
             "outlinewidth": 0,
             "ticks": ""
            },
            "colorscale": [
             [
              0,
              "#0d0887"
             ],
             [
              0.1111111111111111,
              "#46039f"
             ],
             [
              0.2222222222222222,
              "#7201a8"
             ],
             [
              0.3333333333333333,
              "#9c179e"
             ],
             [
              0.4444444444444444,
              "#bd3786"
             ],
             [
              0.5555555555555556,
              "#d8576b"
             ],
             [
              0.6666666666666666,
              "#ed7953"
             ],
             [
              0.7777777777777778,
              "#fb9f3a"
             ],
             [
              0.8888888888888888,
              "#fdca26"
             ],
             [
              1,
              "#f0f921"
             ]
            ],
            "type": "histogram2d"
           }
          ],
          "histogram2dcontour": [
           {
            "colorbar": {
             "outlinewidth": 0,
             "ticks": ""
            },
            "colorscale": [
             [
              0,
              "#0d0887"
             ],
             [
              0.1111111111111111,
              "#46039f"
             ],
             [
              0.2222222222222222,
              "#7201a8"
             ],
             [
              0.3333333333333333,
              "#9c179e"
             ],
             [
              0.4444444444444444,
              "#bd3786"
             ],
             [
              0.5555555555555556,
              "#d8576b"
             ],
             [
              0.6666666666666666,
              "#ed7953"
             ],
             [
              0.7777777777777778,
              "#fb9f3a"
             ],
             [
              0.8888888888888888,
              "#fdca26"
             ],
             [
              1,
              "#f0f921"
             ]
            ],
            "type": "histogram2dcontour"
           }
          ],
          "mesh3d": [
           {
            "colorbar": {
             "outlinewidth": 0,
             "ticks": ""
            },
            "type": "mesh3d"
           }
          ],
          "parcoords": [
           {
            "line": {
             "colorbar": {
              "outlinewidth": 0,
              "ticks": ""
             }
            },
            "type": "parcoords"
           }
          ],
          "pie": [
           {
            "automargin": true,
            "type": "pie"
           }
          ],
          "scatter": [
           {
            "fillpattern": {
             "fillmode": "overlay",
             "size": 10,
             "solidity": 0.2
            },
            "type": "scatter"
           }
          ],
          "scatter3d": [
           {
            "line": {
             "colorbar": {
              "outlinewidth": 0,
              "ticks": ""
             }
            },
            "marker": {
             "colorbar": {
              "outlinewidth": 0,
              "ticks": ""
             }
            },
            "type": "scatter3d"
           }
          ],
          "scattercarpet": [
           {
            "marker": {
             "colorbar": {
              "outlinewidth": 0,
              "ticks": ""
             }
            },
            "type": "scattercarpet"
           }
          ],
          "scattergeo": [
           {
            "marker": {
             "colorbar": {
              "outlinewidth": 0,
              "ticks": ""
             }
            },
            "type": "scattergeo"
           }
          ],
          "scattergl": [
           {
            "marker": {
             "colorbar": {
              "outlinewidth": 0,
              "ticks": ""
             }
            },
            "type": "scattergl"
           }
          ],
          "scattermapbox": [
           {
            "marker": {
             "colorbar": {
              "outlinewidth": 0,
              "ticks": ""
             }
            },
            "type": "scattermapbox"
           }
          ],
          "scatterpolar": [
           {
            "marker": {
             "colorbar": {
              "outlinewidth": 0,
              "ticks": ""
             }
            },
            "type": "scatterpolar"
           }
          ],
          "scatterpolargl": [
           {
            "marker": {
             "colorbar": {
              "outlinewidth": 0,
              "ticks": ""
             }
            },
            "type": "scatterpolargl"
           }
          ],
          "scatterternary": [
           {
            "marker": {
             "colorbar": {
              "outlinewidth": 0,
              "ticks": ""
             }
            },
            "type": "scatterternary"
           }
          ],
          "surface": [
           {
            "colorbar": {
             "outlinewidth": 0,
             "ticks": ""
            },
            "colorscale": [
             [
              0,
              "#0d0887"
             ],
             [
              0.1111111111111111,
              "#46039f"
             ],
             [
              0.2222222222222222,
              "#7201a8"
             ],
             [
              0.3333333333333333,
              "#9c179e"
             ],
             [
              0.4444444444444444,
              "#bd3786"
             ],
             [
              0.5555555555555556,
              "#d8576b"
             ],
             [
              0.6666666666666666,
              "#ed7953"
             ],
             [
              0.7777777777777778,
              "#fb9f3a"
             ],
             [
              0.8888888888888888,
              "#fdca26"
             ],
             [
              1,
              "#f0f921"
             ]
            ],
            "type": "surface"
           }
          ],
          "table": [
           {
            "cells": {
             "fill": {
              "color": "#EBF0F8"
             },
             "line": {
              "color": "white"
             }
            },
            "header": {
             "fill": {
              "color": "#C8D4E3"
             },
             "line": {
              "color": "white"
             }
            },
            "type": "table"
           }
          ]
         },
         "layout": {
          "annotationdefaults": {
           "arrowcolor": "#2a3f5f",
           "arrowhead": 0,
           "arrowwidth": 1
          },
          "autotypenumbers": "strict",
          "coloraxis": {
           "colorbar": {
            "outlinewidth": 0,
            "ticks": ""
           }
          },
          "colorscale": {
           "diverging": [
            [
             0,
             "#8e0152"
            ],
            [
             0.1,
             "#c51b7d"
            ],
            [
             0.2,
             "#de77ae"
            ],
            [
             0.3,
             "#f1b6da"
            ],
            [
             0.4,
             "#fde0ef"
            ],
            [
             0.5,
             "#f7f7f7"
            ],
            [
             0.6,
             "#e6f5d0"
            ],
            [
             0.7,
             "#b8e186"
            ],
            [
             0.8,
             "#7fbc41"
            ],
            [
             0.9,
             "#4d9221"
            ],
            [
             1,
             "#276419"
            ]
           ],
           "sequential": [
            [
             0,
             "#0d0887"
            ],
            [
             0.1111111111111111,
             "#46039f"
            ],
            [
             0.2222222222222222,
             "#7201a8"
            ],
            [
             0.3333333333333333,
             "#9c179e"
            ],
            [
             0.4444444444444444,
             "#bd3786"
            ],
            [
             0.5555555555555556,
             "#d8576b"
            ],
            [
             0.6666666666666666,
             "#ed7953"
            ],
            [
             0.7777777777777778,
             "#fb9f3a"
            ],
            [
             0.8888888888888888,
             "#fdca26"
            ],
            [
             1,
             "#f0f921"
            ]
           ],
           "sequentialminus": [
            [
             0,
             "#0d0887"
            ],
            [
             0.1111111111111111,
             "#46039f"
            ],
            [
             0.2222222222222222,
             "#7201a8"
            ],
            [
             0.3333333333333333,
             "#9c179e"
            ],
            [
             0.4444444444444444,
             "#bd3786"
            ],
            [
             0.5555555555555556,
             "#d8576b"
            ],
            [
             0.6666666666666666,
             "#ed7953"
            ],
            [
             0.7777777777777778,
             "#fb9f3a"
            ],
            [
             0.8888888888888888,
             "#fdca26"
            ],
            [
             1,
             "#f0f921"
            ]
           ]
          },
          "colorway": [
           "#636efa",
           "#EF553B",
           "#00cc96",
           "#ab63fa",
           "#FFA15A",
           "#19d3f3",
           "#FF6692",
           "#B6E880",
           "#FF97FF",
           "#FECB52"
          ],
          "font": {
           "color": "#2a3f5f"
          },
          "geo": {
           "bgcolor": "white",
           "lakecolor": "white",
           "landcolor": "#E5ECF6",
           "showlakes": true,
           "showland": true,
           "subunitcolor": "white"
          },
          "hoverlabel": {
           "align": "left"
          },
          "hovermode": "closest",
          "mapbox": {
           "style": "light"
          },
          "paper_bgcolor": "white",
          "plot_bgcolor": "#E5ECF6",
          "polar": {
           "angularaxis": {
            "gridcolor": "white",
            "linecolor": "white",
            "ticks": ""
           },
           "bgcolor": "#E5ECF6",
           "radialaxis": {
            "gridcolor": "white",
            "linecolor": "white",
            "ticks": ""
           }
          },
          "scene": {
           "xaxis": {
            "backgroundcolor": "#E5ECF6",
            "gridcolor": "white",
            "gridwidth": 2,
            "linecolor": "white",
            "showbackground": true,
            "ticks": "",
            "zerolinecolor": "white"
           },
           "yaxis": {
            "backgroundcolor": "#E5ECF6",
            "gridcolor": "white",
            "gridwidth": 2,
            "linecolor": "white",
            "showbackground": true,
            "ticks": "",
            "zerolinecolor": "white"
           },
           "zaxis": {
            "backgroundcolor": "#E5ECF6",
            "gridcolor": "white",
            "gridwidth": 2,
            "linecolor": "white",
            "showbackground": true,
            "ticks": "",
            "zerolinecolor": "white"
           }
          },
          "shapedefaults": {
           "line": {
            "color": "#2a3f5f"
           }
          },
          "ternary": {
           "aaxis": {
            "gridcolor": "white",
            "linecolor": "white",
            "ticks": ""
           },
           "baxis": {
            "gridcolor": "white",
            "linecolor": "white",
            "ticks": ""
           },
           "bgcolor": "#E5ECF6",
           "caxis": {
            "gridcolor": "white",
            "linecolor": "white",
            "ticks": ""
           }
          },
          "title": {
           "x": 0.05
          },
          "xaxis": {
           "automargin": true,
           "gridcolor": "white",
           "linecolor": "white",
           "ticks": "",
           "title": {
            "standoff": 15
           },
           "zerolinecolor": "white",
           "zerolinewidth": 2
          },
          "yaxis": {
           "automargin": true,
           "gridcolor": "white",
           "linecolor": "white",
           "ticks": "",
           "title": {
            "standoff": 15
           },
           "zerolinecolor": "white",
           "zerolinewidth": 2
          }
         }
        },
        "xaxis": {
         "anchor": "y",
         "categoryarray": [
          "Non-binary",
          "Female",
          "Male"
         ],
         "categoryorder": "array",
         "domain": [
          0,
          1
         ],
         "title": {
          "text": "gender"
         }
        },
        "yaxis": {
         "anchor": "x",
         "domain": [
          0,
          1
         ],
         "title": {
          "text": "monthly_income"
         }
        }
       }
      }
     },
     "metadata": {},
     "output_type": "display_data"
    }
   ],
   "source": [
    "# How does the distribution of monthly income vary across different genders\n",
    "fig = px.box(df, x='gender', y='monthly_income', color=df['gender'])\n",
    "fig.show()"
   ]
  },
  {
   "cell_type": "code",
   "execution_count": 5,
   "metadata": {},
   "outputs": [
    {
     "data": {
      "application/vnd.plotly.v1+json": {
       "config": {
        "plotlyServerURL": "https://plot.ly"
       },
       "data": [
        {
         "alignmentgroup": "True",
         "hovertemplate": "gender=Non-binary<br>major=%{x}<br>tuition=%{y}<extra></extra>",
         "legendgroup": "Non-binary",
         "marker": {
          "color": "#636efa"
         },
         "name": "Non-binary",
         "notched": false,
         "offsetgroup": "Non-binary",
         "orientation": "v",
         "showlegend": true,
         "type": "box",
         "x": [
          "Psychology",
          "Economics",
          "Computer Science",
          "Computer Science",
          "Economics",
          "Computer Science",
          "Biology",
          "Economics",
          "Psychology",
          "Engineering",
          "Economics",
          "Computer Science",
          "Computer Science",
          "Psychology",
          "Economics",
          "Engineering",
          "Computer Science",
          "Biology",
          "Economics",
          "Computer Science",
          "Economics",
          "Economics",
          "Economics",
          "Biology",
          "Computer Science",
          "Computer Science",
          "Psychology",
          "Economics",
          "Biology",
          "Economics",
          "Engineering",
          "Biology",
          "Computer Science",
          "Economics",
          "Engineering",
          "Computer Science",
          "Biology",
          "Psychology",
          "Biology",
          "Economics",
          "Computer Science",
          "Biology",
          "Engineering",
          "Psychology",
          "Psychology",
          "Biology",
          "Economics",
          "Economics",
          "Engineering",
          "Psychology",
          "Biology",
          "Computer Science",
          "Psychology",
          "Psychology",
          "Psychology",
          "Economics",
          "Economics",
          "Engineering",
          "Economics",
          "Biology",
          "Engineering",
          "Psychology",
          "Biology",
          "Psychology",
          "Biology",
          "Computer Science",
          "Computer Science",
          "Biology",
          "Psychology",
          "Biology",
          "Economics",
          "Engineering",
          "Computer Science",
          "Computer Science",
          "Biology",
          "Biology",
          "Biology",
          "Computer Science",
          "Psychology",
          "Economics",
          "Biology",
          "Engineering",
          "Economics",
          "Biology",
          "Economics",
          "Engineering",
          "Engineering",
          "Biology",
          "Biology",
          "Engineering",
          "Economics",
          "Economics",
          "Psychology",
          "Engineering",
          "Economics",
          "Engineering",
          "Computer Science",
          "Biology",
          "Economics",
          "Psychology",
          "Engineering",
          "Computer Science",
          "Computer Science",
          "Economics",
          "Economics",
          "Economics",
          "Computer Science",
          "Biology",
          "Engineering",
          "Biology",
          "Economics",
          "Engineering",
          "Psychology",
          "Economics",
          "Psychology",
          "Biology",
          "Biology",
          "Economics",
          "Biology",
          "Biology",
          "Engineering",
          "Biology",
          "Economics",
          "Economics",
          "Economics",
          "Biology",
          "Biology",
          "Psychology",
          "Biology",
          "Engineering",
          "Psychology",
          "Economics",
          "Biology",
          "Engineering",
          "Biology",
          "Engineering",
          "Psychology",
          "Biology",
          "Engineering",
          "Biology",
          "Biology",
          "Biology",
          "Psychology",
          "Computer Science",
          "Biology",
          "Economics",
          "Psychology",
          "Psychology",
          "Engineering",
          "Psychology",
          "Economics",
          "Computer Science",
          "Biology",
          "Economics",
          "Computer Science",
          "Computer Science",
          "Economics",
          "Economics",
          "Biology",
          "Biology",
          "Psychology",
          "Biology",
          "Engineering",
          "Engineering",
          "Economics",
          "Economics",
          "Psychology",
          "Psychology",
          "Biology",
          "Engineering",
          "Engineering",
          "Psychology",
          "Computer Science",
          "Engineering",
          "Biology",
          "Biology",
          "Economics",
          "Biology",
          "Engineering",
          "Economics",
          "Computer Science",
          "Economics",
          "Biology",
          "Psychology",
          "Economics",
          "Psychology",
          "Biology",
          "Engineering",
          "Engineering",
          "Engineering",
          "Engineering",
          "Psychology",
          "Computer Science",
          "Engineering",
          "Computer Science",
          "Computer Science",
          "Economics",
          "Biology",
          "Economics",
          "Biology",
          "Psychology",
          "Engineering",
          "Engineering",
          "Economics",
          "Computer Science",
          "Economics",
          "Economics",
          "Biology",
          "Computer Science",
          "Psychology",
          "Economics",
          "Computer Science",
          "Biology",
          "Biology",
          "Engineering",
          "Economics",
          "Computer Science",
          "Economics",
          "Economics",
          "Computer Science",
          "Engineering",
          "Psychology",
          "Computer Science",
          "Computer Science",
          "Biology",
          "Biology",
          "Biology",
          "Computer Science",
          "Psychology",
          "Engineering",
          "Engineering",
          "Computer Science",
          "Psychology",
          "Engineering",
          "Computer Science",
          "Engineering",
          "Biology",
          "Psychology",
          "Biology",
          "Biology",
          "Biology",
          "Biology",
          "Engineering",
          "Psychology",
          "Psychology",
          "Biology",
          "Psychology",
          "Computer Science",
          "Biology",
          "Psychology",
          "Engineering",
          "Biology",
          "Biology",
          "Psychology",
          "Psychology",
          "Computer Science",
          "Economics",
          "Computer Science",
          "Computer Science",
          "Biology",
          "Engineering",
          "Engineering",
          "Economics",
          "Biology",
          "Computer Science",
          "Biology",
          "Biology",
          "Psychology",
          "Economics",
          "Computer Science",
          "Biology",
          "Biology",
          "Engineering",
          "Biology",
          "Psychology",
          "Biology",
          "Biology",
          "Economics",
          "Computer Science",
          "Computer Science",
          "Biology",
          "Engineering",
          "Psychology",
          "Psychology",
          "Psychology",
          "Economics",
          "Biology",
          "Psychology",
          "Psychology",
          "Biology",
          "Economics",
          "Psychology",
          "Biology",
          "Economics",
          "Economics",
          "Economics",
          "Computer Science",
          "Economics",
          "Engineering",
          "Computer Science",
          "Computer Science",
          "Biology",
          "Psychology",
          "Psychology",
          "Economics",
          "Biology",
          "Economics",
          "Computer Science",
          "Biology",
          "Computer Science",
          "Economics",
          "Engineering",
          "Engineering",
          "Computer Science",
          "Engineering",
          "Computer Science",
          "Economics",
          "Psychology",
          "Psychology",
          "Economics",
          "Computer Science"
         ],
         "x0": " ",
         "xaxis": "x",
         "y": [
          5939,
          3051,
          3151,
          5638,
          5301,
          4175,
          4998,
          4210,
          4156,
          3099,
          5943,
          5236,
          5160,
          4951,
          5481,
          3688,
          4824,
          3650,
          5194,
          5442,
          3220,
          5428,
          5212,
          5501,
          5683,
          3901,
          5959,
          4423,
          5096,
          5866,
          3108,
          3167,
          5067,
          4532,
          3413,
          5420,
          4389,
          3709,
          5577,
          3194,
          5568,
          3162,
          4028,
          5893,
          3701,
          3424,
          3756,
          4056,
          4450,
          5756,
          4078,
          4683,
          3939,
          3007,
          5718,
          5312,
          5318,
          5306,
          3709,
          4599,
          5743,
          5494,
          4343,
          3873,
          4859,
          5509,
          4706,
          4353,
          4255,
          3098,
          3221,
          4160,
          5958,
          3665,
          5535,
          4952,
          3495,
          3535,
          5216,
          4710,
          4012,
          4140,
          5143,
          4445,
          4114,
          4044,
          3325,
          3048,
          4171,
          5292,
          4582,
          5185,
          3265,
          4764,
          3771,
          4240,
          3003,
          3056,
          4761,
          3909,
          3449,
          5934,
          4397,
          5759,
          5865,
          4229,
          5824,
          5133,
          3610,
          3235,
          4582,
          5864,
          4210,
          4271,
          5309,
          4273,
          5075,
          5853,
          4782,
          4595,
          4080,
          5495,
          5879,
          4648,
          5689,
          3863,
          3770,
          5700,
          4713,
          5601,
          3374,
          3181,
          3556,
          4569,
          3907,
          3784,
          5522,
          3146,
          4335,
          5843,
          5868,
          4965,
          5692,
          3093,
          5703,
          5141,
          4234,
          3138,
          5610,
          4369,
          5916,
          4417,
          5183,
          3883,
          3317,
          5658,
          3940,
          4654,
          4502,
          5246,
          4574,
          3397,
          5909,
          5717,
          3324,
          5145,
          4627,
          5510,
          3639,
          4665,
          3983,
          5249,
          4983,
          4960,
          5027,
          4874,
          3783,
          6000,
          4378,
          4522,
          3645,
          5206,
          4777,
          5620,
          3099,
          5414,
          3265,
          4614,
          5658,
          4545,
          3718,
          4294,
          4625,
          4464,
          3103,
          4562,
          3962,
          5655,
          3704,
          3357,
          5199,
          3694,
          5747,
          5568,
          3637,
          3975,
          3053,
          5128,
          3997,
          5452,
          4676,
          5852,
          4758,
          4194,
          3687,
          4288,
          3748,
          5537,
          3582,
          3366,
          4777,
          4739,
          4461,
          4797,
          4230,
          5307,
          4879,
          5729,
          3521,
          4017,
          4359,
          5055,
          4595,
          3603,
          3449,
          3720,
          3827,
          4035,
          3199,
          5775,
          3714,
          3335,
          5507,
          4104,
          3744,
          4329,
          3548,
          5976,
          3362,
          3624,
          5824,
          4634,
          4770,
          4547,
          5450,
          5885,
          4911,
          3008,
          5886,
          5035,
          3811,
          4935,
          4227,
          4526,
          4983,
          3664,
          5135,
          4349,
          4532,
          5657,
          4743,
          5325,
          4940,
          4212,
          3124,
          3434,
          4663,
          4230,
          5743,
          3380,
          4956,
          3305,
          5639,
          3275,
          4913,
          4305,
          4423,
          4206,
          4645,
          3952,
          5292,
          5745,
          3425,
          3253,
          4350,
          4809,
          3106,
          3808,
          4585,
          4102,
          4890,
          5807,
          3353,
          5623,
          4819,
          4690,
          5045,
          5302,
          3797,
          4110,
          3039,
          4748,
          3939,
          5211,
          5357,
          4461,
          4424,
          5576,
          3572,
          3649,
          5965
         ],
         "y0": " ",
         "yaxis": "y"
        },
        {
         "alignmentgroup": "True",
         "hovertemplate": "gender=Female<br>major=%{x}<br>tuition=%{y}<extra></extra>",
         "legendgroup": "Female",
         "marker": {
          "color": "#EF553B"
         },
         "name": "Female",
         "notched": false,
         "offsetgroup": "Female",
         "orientation": "v",
         "showlegend": true,
         "type": "box",
         "x": [
          "Economics",
          "Computer Science",
          "Computer Science",
          "Engineering",
          "Economics",
          "Computer Science",
          "Biology",
          "Psychology",
          "Computer Science",
          "Psychology",
          "Engineering",
          "Economics",
          "Biology",
          "Psychology",
          "Economics",
          "Biology",
          "Engineering",
          "Engineering",
          "Economics",
          "Economics",
          "Economics",
          "Engineering",
          "Engineering",
          "Biology",
          "Engineering",
          "Biology",
          "Computer Science",
          "Engineering",
          "Biology",
          "Engineering",
          "Computer Science",
          "Computer Science",
          "Biology",
          "Biology",
          "Biology",
          "Computer Science",
          "Economics",
          "Computer Science",
          "Engineering",
          "Biology",
          "Psychology",
          "Psychology",
          "Psychology",
          "Computer Science",
          "Psychology",
          "Psychology",
          "Computer Science",
          "Engineering",
          "Engineering",
          "Psychology",
          "Psychology",
          "Engineering",
          "Psychology",
          "Engineering",
          "Psychology",
          "Psychology",
          "Economics",
          "Engineering",
          "Engineering",
          "Psychology",
          "Economics",
          "Biology",
          "Psychology",
          "Economics",
          "Economics",
          "Economics",
          "Economics",
          "Engineering",
          "Engineering",
          "Engineering",
          "Biology",
          "Economics",
          "Biology",
          "Economics",
          "Biology",
          "Computer Science",
          "Computer Science",
          "Psychology",
          "Engineering",
          "Economics",
          "Biology",
          "Economics",
          "Psychology",
          "Biology",
          "Economics",
          "Psychology",
          "Computer Science",
          "Economics",
          "Psychology",
          "Biology",
          "Economics",
          "Computer Science",
          "Economics",
          "Psychology",
          "Engineering",
          "Biology",
          "Computer Science",
          "Psychology",
          "Engineering",
          "Psychology",
          "Computer Science",
          "Biology",
          "Psychology",
          "Engineering",
          "Computer Science",
          "Biology",
          "Engineering",
          "Economics",
          "Biology",
          "Economics",
          "Economics",
          "Biology",
          "Economics",
          "Computer Science",
          "Biology",
          "Engineering",
          "Psychology",
          "Engineering",
          "Biology",
          "Economics",
          "Computer Science",
          "Psychology",
          "Economics",
          "Biology",
          "Engineering",
          "Biology",
          "Psychology",
          "Psychology",
          "Biology",
          "Computer Science",
          "Biology",
          "Psychology",
          "Biology",
          "Computer Science",
          "Psychology",
          "Computer Science",
          "Economics",
          "Biology",
          "Psychology",
          "Computer Science",
          "Economics",
          "Psychology",
          "Psychology",
          "Psychology",
          "Engineering",
          "Biology",
          "Engineering",
          "Psychology",
          "Engineering",
          "Engineering",
          "Computer Science",
          "Engineering",
          "Economics",
          "Psychology",
          "Economics",
          "Economics",
          "Engineering",
          "Computer Science",
          "Engineering",
          "Psychology",
          "Computer Science",
          "Psychology",
          "Economics",
          "Engineering",
          "Computer Science",
          "Engineering",
          "Biology",
          "Economics",
          "Biology",
          "Computer Science",
          "Engineering",
          "Psychology",
          "Computer Science",
          "Engineering",
          "Biology",
          "Biology",
          "Engineering",
          "Psychology",
          "Computer Science",
          "Computer Science",
          "Computer Science",
          "Computer Science",
          "Psychology",
          "Computer Science",
          "Engineering",
          "Psychology",
          "Psychology",
          "Biology",
          "Biology",
          "Engineering",
          "Biology",
          "Economics",
          "Psychology",
          "Computer Science",
          "Biology",
          "Computer Science",
          "Computer Science",
          "Computer Science",
          "Psychology",
          "Engineering",
          "Economics",
          "Biology",
          "Computer Science",
          "Biology",
          "Psychology",
          "Engineering",
          "Engineering",
          "Engineering",
          "Economics",
          "Computer Science",
          "Psychology",
          "Engineering",
          "Computer Science",
          "Engineering",
          "Economics",
          "Psychology",
          "Engineering",
          "Engineering",
          "Economics",
          "Biology",
          "Biology",
          "Biology",
          "Economics",
          "Biology",
          "Economics",
          "Computer Science",
          "Psychology",
          "Biology",
          "Engineering",
          "Economics",
          "Engineering",
          "Computer Science",
          "Biology",
          "Psychology",
          "Psychology",
          "Biology",
          "Engineering",
          "Computer Science",
          "Biology",
          "Engineering",
          "Biology",
          "Computer Science",
          "Biology",
          "Computer Science",
          "Computer Science",
          "Biology",
          "Economics",
          "Biology",
          "Computer Science",
          "Biology",
          "Biology",
          "Engineering",
          "Computer Science",
          "Biology",
          "Economics",
          "Engineering",
          "Computer Science",
          "Psychology",
          "Psychology",
          "Engineering",
          "Computer Science",
          "Engineering",
          "Psychology",
          "Economics",
          "Psychology",
          "Computer Science",
          "Biology",
          "Biology",
          "Biology",
          "Economics",
          "Computer Science",
          "Biology",
          "Biology",
          "Engineering",
          "Economics",
          "Computer Science",
          "Computer Science",
          "Engineering",
          "Computer Science",
          "Economics",
          "Biology",
          "Engineering",
          "Engineering",
          "Psychology",
          "Economics",
          "Psychology",
          "Economics",
          "Biology",
          "Computer Science",
          "Engineering",
          "Economics",
          "Psychology",
          "Engineering",
          "Economics",
          "Economics",
          "Biology",
          "Engineering",
          "Economics",
          "Computer Science",
          "Biology",
          "Engineering",
          "Engineering",
          "Economics",
          "Computer Science",
          "Engineering",
          "Computer Science",
          "Computer Science",
          "Psychology",
          "Psychology",
          "Psychology",
          "Psychology",
          "Psychology",
          "Psychology",
          "Computer Science",
          "Engineering",
          "Computer Science",
          "Computer Science",
          "Psychology",
          "Biology",
          "Computer Science",
          "Computer Science",
          "Biology",
          "Biology"
         ],
         "x0": " ",
         "xaxis": "x",
         "y": [
          4908,
          4935,
          3887,
          4973,
          3966,
          3977,
          5201,
          5450,
          3538,
          4401,
          3131,
          4500,
          5486,
          5616,
          5615,
          5344,
          5733,
          5696,
          4639,
          3823,
          4875,
          5414,
          4244,
          4694,
          5205,
          5248,
          3403,
          4261,
          4272,
          3986,
          5371,
          4881,
          4636,
          5104,
          3050,
          4051,
          4707,
          4822,
          3367,
          4706,
          5317,
          3366,
          5570,
          3200,
          4789,
          5429,
          4977,
          4753,
          4579,
          5634,
          5275,
          3691,
          4885,
          3377,
          5579,
          5305,
          4834,
          3057,
          3360,
          4160,
          5010,
          5309,
          4087,
          3748,
          3890,
          3953,
          4361,
          4249,
          3015,
          3889,
          3074,
          5998,
          3542,
          4548,
          3169,
          4316,
          5418,
          5877,
          5070,
          5293,
          4132,
          3234,
          4004,
          4893,
          4885,
          3282,
          4898,
          5282,
          4345,
          5152,
          3452,
          3180,
          3527,
          5781,
          5211,
          3641,
          5416,
          4912,
          4771,
          3568,
          5400,
          3955,
          3517,
          5833,
          3343,
          3610,
          5969,
          5055,
          5866,
          3389,
          4998,
          5867,
          3115,
          5525,
          5383,
          5178,
          4477,
          4126,
          4823,
          4441,
          5929,
          4533,
          5414,
          4477,
          5575,
          5461,
          5107,
          5288,
          4190,
          3755,
          3846,
          4906,
          3789,
          4785,
          5701,
          3721,
          3728,
          5407,
          5837,
          3757,
          5867,
          4901,
          4680,
          5803,
          3419,
          3234,
          3146,
          3600,
          5945,
          3133,
          4116,
          4043,
          3014,
          4943,
          3556,
          4289,
          5972,
          3640,
          5779,
          3719,
          4307,
          4591,
          5149,
          3200,
          3913,
          4067,
          5665,
          3083,
          3887,
          4073,
          4511,
          5918,
          3257,
          3820,
          5479,
          5418,
          4227,
          4626,
          4354,
          3717,
          4582,
          5357,
          5355,
          3394,
          3268,
          5329,
          4242,
          3692,
          5515,
          5420,
          4229,
          5244,
          3048,
          4856,
          4782,
          4227,
          3126,
          5744,
          4066,
          5912,
          5240,
          5071,
          3161,
          3269,
          3885,
          3690,
          3369,
          3586,
          3855,
          4745,
          5634,
          4287,
          4642,
          3266,
          3798,
          5353,
          5231,
          3510,
          3445,
          5655,
          3394,
          4596,
          5303,
          4726,
          3562,
          5805,
          5923,
          4680,
          3751,
          3256,
          3609,
          5457,
          3100,
          5997,
          4144,
          4724,
          3463,
          4964,
          3033,
          5819,
          5961,
          3534,
          3318,
          3640,
          4213,
          4647,
          4790,
          5031,
          5323,
          4894,
          4125,
          4126,
          4432,
          3376,
          4642,
          4125,
          3471,
          5497,
          4796,
          5451,
          3482,
          4865,
          4097,
          3901,
          4709,
          5529,
          5276,
          3509,
          5204,
          3900,
          5671,
          5925,
          4833,
          4305,
          3719,
          5913,
          3335,
          3548,
          5594,
          4484,
          3509,
          5681,
          3930,
          4234,
          5187,
          4420,
          4840,
          4038,
          4883,
          5347,
          3674,
          4772,
          4996,
          5947,
          4490,
          3301,
          4261,
          5507,
          3971,
          4342,
          5189,
          5238,
          5664,
          3510,
          4477,
          5667,
          3851,
          5378,
          3830,
          3874,
          4286,
          3274,
          4060,
          4152,
          4384,
          5030,
          4156,
          3244,
          4709,
          4387,
          3523,
          3688,
          3380
         ],
         "y0": " ",
         "yaxis": "y"
        },
        {
         "alignmentgroup": "True",
         "hovertemplate": "gender=Male<br>major=%{x}<br>tuition=%{y}<extra></extra>",
         "legendgroup": "Male",
         "marker": {
          "color": "#00cc96"
         },
         "name": "Male",
         "notched": false,
         "offsetgroup": "Male",
         "orientation": "v",
         "showlegend": true,
         "type": "box",
         "x": [
          "Biology",
          "Engineering",
          "Economics",
          "Psychology",
          "Computer Science",
          "Economics",
          "Psychology",
          "Biology",
          "Biology",
          "Engineering",
          "Economics",
          "Psychology",
          "Computer Science",
          "Psychology",
          "Psychology",
          "Computer Science",
          "Psychology",
          "Economics",
          "Engineering",
          "Biology",
          "Economics",
          "Engineering",
          "Economics",
          "Economics",
          "Computer Science",
          "Computer Science",
          "Economics",
          "Economics",
          "Economics",
          "Economics",
          "Psychology",
          "Psychology",
          "Psychology",
          "Biology",
          "Computer Science",
          "Psychology",
          "Economics",
          "Engineering",
          "Biology",
          "Biology",
          "Biology",
          "Engineering",
          "Engineering",
          "Economics",
          "Computer Science",
          "Psychology",
          "Computer Science",
          "Computer Science",
          "Psychology",
          "Computer Science",
          "Biology",
          "Biology",
          "Engineering",
          "Computer Science",
          "Computer Science",
          "Economics",
          "Engineering",
          "Biology",
          "Psychology",
          "Economics",
          "Psychology",
          "Biology",
          "Economics",
          "Engineering",
          "Economics",
          "Biology",
          "Economics",
          "Computer Science",
          "Biology",
          "Biology",
          "Computer Science",
          "Psychology",
          "Computer Science",
          "Biology",
          "Biology",
          "Computer Science",
          "Economics",
          "Computer Science",
          "Computer Science",
          "Engineering",
          "Economics",
          "Economics",
          "Computer Science",
          "Economics",
          "Computer Science",
          "Computer Science",
          "Biology",
          "Psychology",
          "Computer Science",
          "Engineering",
          "Computer Science",
          "Engineering",
          "Computer Science",
          "Economics",
          "Engineering",
          "Engineering",
          "Biology",
          "Psychology",
          "Psychology",
          "Psychology",
          "Psychology",
          "Psychology",
          "Biology",
          "Biology",
          "Economics",
          "Psychology",
          "Psychology",
          "Economics",
          "Computer Science",
          "Engineering",
          "Economics",
          "Economics",
          "Engineering",
          "Engineering",
          "Engineering",
          "Computer Science",
          "Computer Science",
          "Biology",
          "Biology",
          "Computer Science",
          "Biology",
          "Engineering",
          "Psychology",
          "Engineering",
          "Computer Science",
          "Psychology",
          "Psychology",
          "Engineering",
          "Biology",
          "Computer Science",
          "Economics",
          "Engineering",
          "Economics",
          "Economics",
          "Computer Science",
          "Engineering",
          "Engineering",
          "Biology",
          "Engineering",
          "Economics",
          "Engineering",
          "Biology",
          "Economics",
          "Economics",
          "Biology",
          "Computer Science",
          "Biology",
          "Engineering",
          "Psychology",
          "Economics",
          "Computer Science",
          "Psychology",
          "Engineering",
          "Psychology",
          "Economics",
          "Computer Science",
          "Biology",
          "Computer Science",
          "Engineering",
          "Biology",
          "Psychology",
          "Computer Science",
          "Computer Science",
          "Engineering",
          "Biology",
          "Computer Science",
          "Economics",
          "Economics",
          "Computer Science",
          "Economics",
          "Economics",
          "Biology",
          "Biology",
          "Engineering",
          "Computer Science",
          "Biology",
          "Psychology",
          "Computer Science",
          "Psychology",
          "Psychology",
          "Psychology",
          "Biology",
          "Biology",
          "Biology",
          "Psychology",
          "Computer Science",
          "Biology",
          "Biology",
          "Engineering",
          "Engineering",
          "Engineering",
          "Engineering",
          "Computer Science",
          "Computer Science",
          "Economics",
          "Biology",
          "Biology",
          "Psychology",
          "Psychology",
          "Psychology",
          "Economics",
          "Psychology",
          "Biology",
          "Computer Science",
          "Computer Science",
          "Computer Science",
          "Biology",
          "Biology",
          "Computer Science",
          "Engineering",
          "Biology",
          "Biology",
          "Engineering",
          "Engineering",
          "Biology",
          "Computer Science",
          "Engineering",
          "Engineering",
          "Computer Science",
          "Economics",
          "Engineering",
          "Computer Science",
          "Engineering",
          "Biology",
          "Engineering",
          "Computer Science",
          "Biology",
          "Computer Science",
          "Economics",
          "Engineering",
          "Biology",
          "Biology",
          "Psychology",
          "Computer Science",
          "Economics",
          "Psychology",
          "Economics",
          "Biology",
          "Engineering",
          "Engineering",
          "Economics",
          "Biology",
          "Biology",
          "Economics",
          "Biology",
          "Economics",
          "Biology",
          "Psychology",
          "Economics",
          "Biology",
          "Economics",
          "Biology",
          "Psychology",
          "Engineering",
          "Engineering",
          "Psychology",
          "Economics",
          "Biology",
          "Economics",
          "Computer Science",
          "Economics",
          "Engineering",
          "Psychology",
          "Biology",
          "Engineering",
          "Economics",
          "Engineering",
          "Engineering",
          "Engineering",
          "Economics",
          "Psychology",
          "Biology",
          "Engineering",
          "Economics",
          "Computer Science",
          "Psychology",
          "Biology",
          "Psychology",
          "Economics",
          "Psychology",
          "Computer Science",
          "Psychology",
          "Biology",
          "Engineering",
          "Biology",
          "Computer Science",
          "Psychology",
          "Biology",
          "Economics",
          "Economics",
          "Engineering",
          "Psychology",
          "Biology",
          "Biology",
          "Economics",
          "Engineering",
          "Economics",
          "Economics",
          "Biology",
          "Biology",
          "Engineering",
          "Psychology",
          "Economics",
          "Engineering",
          "Computer Science",
          "Engineering",
          "Psychology",
          "Engineering",
          "Economics",
          "Psychology",
          "Economics",
          "Biology",
          "Psychology",
          "Engineering",
          "Economics",
          "Engineering",
          "Biology",
          "Biology",
          "Biology",
          "Psychology",
          "Biology",
          "Psychology",
          "Economics",
          "Biology",
          "Engineering",
          "Engineering",
          "Computer Science",
          "Computer Science",
          "Psychology",
          "Economics",
          "Engineering",
          "Economics",
          "Psychology",
          "Computer Science",
          "Economics",
          "Economics",
          "Computer Science",
          "Economics",
          "Computer Science",
          "Engineering",
          "Economics",
          "Computer Science",
          "Economics",
          "Computer Science",
          "Engineering",
          "Computer Science",
          "Engineering",
          "Computer Science",
          "Biology",
          "Economics",
          "Psychology",
          "Engineering",
          "Economics",
          "Psychology",
          "Psychology",
          "Economics"
         ],
         "x0": " ",
         "xaxis": "x",
         "y": [
          4093,
          5138,
          4863,
          4206,
          4878,
          3541,
          5417,
          3222,
          3090,
          3931,
          5332,
          3958,
          3854,
          5269,
          4141,
          3823,
          4079,
          3017,
          5389,
          5841,
          3830,
          5380,
          4560,
          4643,
          5650,
          4529,
          5304,
          3526,
          4236,
          5126,
          3471,
          3300,
          5931,
          4884,
          4992,
          4906,
          5894,
          5309,
          3618,
          3230,
          4311,
          4012,
          3854,
          4129,
          5944,
          4279,
          3172,
          5696,
          5960,
          5692,
          3341,
          4768,
          3046,
          4655,
          4943,
          3388,
          5547,
          5911,
          5433,
          4981,
          3564,
          4951,
          4653,
          4254,
          4645,
          3959,
          4103,
          4075,
          4464,
          3043,
          3012,
          3191,
          5188,
          3712,
          4865,
          5866,
          4520,
          4307,
          5997,
          3066,
          5420,
          3535,
          4079,
          3647,
          3489,
          4960,
          3153,
          5284,
          3920,
          5170,
          3012,
          4231,
          4930,
          3821,
          3809,
          4645,
          3565,
          5456,
          5066,
          3705,
          3541,
          5570,
          4637,
          5522,
          5002,
          3708,
          5832,
          5949,
          4884,
          5766,
          3962,
          5561,
          4388,
          3579,
          5407,
          3358,
          4827,
          5837,
          3659,
          4727,
          4759,
          4058,
          4542,
          5042,
          5979,
          4218,
          3807,
          3483,
          5002,
          3795,
          4056,
          3897,
          5900,
          3788,
          3944,
          5137,
          5754,
          4080,
          3980,
          4232,
          4563,
          4973,
          4845,
          5448,
          4515,
          4577,
          5174,
          3398,
          5096,
          5962,
          3174,
          3326,
          5626,
          5189,
          3755,
          5715,
          5884,
          3373,
          3799,
          3980,
          4495,
          5863,
          5819,
          3455,
          3133,
          3900,
          3025,
          5858,
          5387,
          3413,
          3735,
          3253,
          4000,
          4178,
          4611,
          5466,
          5914,
          5326,
          5596,
          4706,
          4504,
          3566,
          4603,
          5328,
          5598,
          3810,
          3734,
          4215,
          3063,
          4956,
          5141,
          4015,
          4846,
          5019,
          4948,
          3004,
          5734,
          3901,
          5008,
          5891,
          3866,
          3265,
          5517,
          5354,
          4637,
          4924,
          5211,
          5566,
          4957,
          4662,
          4775,
          5685,
          4954,
          5328,
          3264,
          4653,
          4001,
          4638,
          4614,
          4968,
          5365,
          5060,
          5373,
          3801,
          4123,
          3780,
          5452,
          5221,
          3658,
          3621,
          5926,
          5880,
          5381,
          3238,
          3687,
          3352,
          3461,
          4715,
          3881,
          4579,
          4195,
          4540,
          5637,
          5563,
          3645,
          5030,
          3549,
          4943,
          5595,
          5934,
          4694,
          3359,
          5734,
          4089,
          3444,
          5467,
          3512,
          3130,
          5610,
          3014,
          3088,
          3744,
          4216,
          5975,
          3075,
          5142,
          3467,
          5299,
          4401,
          4154,
          4975,
          3779,
          3653,
          5452,
          4743,
          3501,
          4825,
          4629,
          3830,
          4309,
          3465,
          4836,
          5489,
          4651,
          3729,
          4650,
          4935,
          3321,
          5084,
          3186,
          4968,
          3431,
          3636,
          5607,
          4429,
          4386,
          5325,
          5452,
          4576,
          4414,
          4084,
          5509,
          5429,
          5253,
          3829,
          5976,
          4425,
          4718,
          4433,
          4678,
          4599,
          5257,
          5857,
          5473,
          4320,
          5861,
          5618,
          3197,
          4995,
          4547,
          3758,
          5848,
          5909,
          4909,
          3626,
          4496,
          3987,
          5745,
          3373,
          3823,
          4014,
          5892,
          5478,
          4843,
          5246,
          4766,
          5923,
          4974,
          4138,
          3446,
          4387,
          4397,
          3954,
          5826,
          5435,
          3493,
          4183,
          5451,
          3832,
          4119,
          4524,
          3395,
          5635,
          3658,
          5430,
          3497
         ],
         "y0": " ",
         "yaxis": "y"
        }
       ],
       "layout": {
        "boxmode": "group",
        "legend": {
         "title": {
          "text": "gender"
         },
         "tracegroupgap": 0
        },
        "margin": {
         "t": 60
        },
        "template": {
         "data": {
          "bar": [
           {
            "error_x": {
             "color": "#2a3f5f"
            },
            "error_y": {
             "color": "#2a3f5f"
            },
            "marker": {
             "line": {
              "color": "#E5ECF6",
              "width": 0.5
             },
             "pattern": {
              "fillmode": "overlay",
              "size": 10,
              "solidity": 0.2
             }
            },
            "type": "bar"
           }
          ],
          "barpolar": [
           {
            "marker": {
             "line": {
              "color": "#E5ECF6",
              "width": 0.5
             },
             "pattern": {
              "fillmode": "overlay",
              "size": 10,
              "solidity": 0.2
             }
            },
            "type": "barpolar"
           }
          ],
          "carpet": [
           {
            "aaxis": {
             "endlinecolor": "#2a3f5f",
             "gridcolor": "white",
             "linecolor": "white",
             "minorgridcolor": "white",
             "startlinecolor": "#2a3f5f"
            },
            "baxis": {
             "endlinecolor": "#2a3f5f",
             "gridcolor": "white",
             "linecolor": "white",
             "minorgridcolor": "white",
             "startlinecolor": "#2a3f5f"
            },
            "type": "carpet"
           }
          ],
          "choropleth": [
           {
            "colorbar": {
             "outlinewidth": 0,
             "ticks": ""
            },
            "type": "choropleth"
           }
          ],
          "contour": [
           {
            "colorbar": {
             "outlinewidth": 0,
             "ticks": ""
            },
            "colorscale": [
             [
              0,
              "#0d0887"
             ],
             [
              0.1111111111111111,
              "#46039f"
             ],
             [
              0.2222222222222222,
              "#7201a8"
             ],
             [
              0.3333333333333333,
              "#9c179e"
             ],
             [
              0.4444444444444444,
              "#bd3786"
             ],
             [
              0.5555555555555556,
              "#d8576b"
             ],
             [
              0.6666666666666666,
              "#ed7953"
             ],
             [
              0.7777777777777778,
              "#fb9f3a"
             ],
             [
              0.8888888888888888,
              "#fdca26"
             ],
             [
              1,
              "#f0f921"
             ]
            ],
            "type": "contour"
           }
          ],
          "contourcarpet": [
           {
            "colorbar": {
             "outlinewidth": 0,
             "ticks": ""
            },
            "type": "contourcarpet"
           }
          ],
          "heatmap": [
           {
            "colorbar": {
             "outlinewidth": 0,
             "ticks": ""
            },
            "colorscale": [
             [
              0,
              "#0d0887"
             ],
             [
              0.1111111111111111,
              "#46039f"
             ],
             [
              0.2222222222222222,
              "#7201a8"
             ],
             [
              0.3333333333333333,
              "#9c179e"
             ],
             [
              0.4444444444444444,
              "#bd3786"
             ],
             [
              0.5555555555555556,
              "#d8576b"
             ],
             [
              0.6666666666666666,
              "#ed7953"
             ],
             [
              0.7777777777777778,
              "#fb9f3a"
             ],
             [
              0.8888888888888888,
              "#fdca26"
             ],
             [
              1,
              "#f0f921"
             ]
            ],
            "type": "heatmap"
           }
          ],
          "heatmapgl": [
           {
            "colorbar": {
             "outlinewidth": 0,
             "ticks": ""
            },
            "colorscale": [
             [
              0,
              "#0d0887"
             ],
             [
              0.1111111111111111,
              "#46039f"
             ],
             [
              0.2222222222222222,
              "#7201a8"
             ],
             [
              0.3333333333333333,
              "#9c179e"
             ],
             [
              0.4444444444444444,
              "#bd3786"
             ],
             [
              0.5555555555555556,
              "#d8576b"
             ],
             [
              0.6666666666666666,
              "#ed7953"
             ],
             [
              0.7777777777777778,
              "#fb9f3a"
             ],
             [
              0.8888888888888888,
              "#fdca26"
             ],
             [
              1,
              "#f0f921"
             ]
            ],
            "type": "heatmapgl"
           }
          ],
          "histogram": [
           {
            "marker": {
             "pattern": {
              "fillmode": "overlay",
              "size": 10,
              "solidity": 0.2
             }
            },
            "type": "histogram"
           }
          ],
          "histogram2d": [
           {
            "colorbar": {
             "outlinewidth": 0,
             "ticks": ""
            },
            "colorscale": [
             [
              0,
              "#0d0887"
             ],
             [
              0.1111111111111111,
              "#46039f"
             ],
             [
              0.2222222222222222,
              "#7201a8"
             ],
             [
              0.3333333333333333,
              "#9c179e"
             ],
             [
              0.4444444444444444,
              "#bd3786"
             ],
             [
              0.5555555555555556,
              "#d8576b"
             ],
             [
              0.6666666666666666,
              "#ed7953"
             ],
             [
              0.7777777777777778,
              "#fb9f3a"
             ],
             [
              0.8888888888888888,
              "#fdca26"
             ],
             [
              1,
              "#f0f921"
             ]
            ],
            "type": "histogram2d"
           }
          ],
          "histogram2dcontour": [
           {
            "colorbar": {
             "outlinewidth": 0,
             "ticks": ""
            },
            "colorscale": [
             [
              0,
              "#0d0887"
             ],
             [
              0.1111111111111111,
              "#46039f"
             ],
             [
              0.2222222222222222,
              "#7201a8"
             ],
             [
              0.3333333333333333,
              "#9c179e"
             ],
             [
              0.4444444444444444,
              "#bd3786"
             ],
             [
              0.5555555555555556,
              "#d8576b"
             ],
             [
              0.6666666666666666,
              "#ed7953"
             ],
             [
              0.7777777777777778,
              "#fb9f3a"
             ],
             [
              0.8888888888888888,
              "#fdca26"
             ],
             [
              1,
              "#f0f921"
             ]
            ],
            "type": "histogram2dcontour"
           }
          ],
          "mesh3d": [
           {
            "colorbar": {
             "outlinewidth": 0,
             "ticks": ""
            },
            "type": "mesh3d"
           }
          ],
          "parcoords": [
           {
            "line": {
             "colorbar": {
              "outlinewidth": 0,
              "ticks": ""
             }
            },
            "type": "parcoords"
           }
          ],
          "pie": [
           {
            "automargin": true,
            "type": "pie"
           }
          ],
          "scatter": [
           {
            "fillpattern": {
             "fillmode": "overlay",
             "size": 10,
             "solidity": 0.2
            },
            "type": "scatter"
           }
          ],
          "scatter3d": [
           {
            "line": {
             "colorbar": {
              "outlinewidth": 0,
              "ticks": ""
             }
            },
            "marker": {
             "colorbar": {
              "outlinewidth": 0,
              "ticks": ""
             }
            },
            "type": "scatter3d"
           }
          ],
          "scattercarpet": [
           {
            "marker": {
             "colorbar": {
              "outlinewidth": 0,
              "ticks": ""
             }
            },
            "type": "scattercarpet"
           }
          ],
          "scattergeo": [
           {
            "marker": {
             "colorbar": {
              "outlinewidth": 0,
              "ticks": ""
             }
            },
            "type": "scattergeo"
           }
          ],
          "scattergl": [
           {
            "marker": {
             "colorbar": {
              "outlinewidth": 0,
              "ticks": ""
             }
            },
            "type": "scattergl"
           }
          ],
          "scattermapbox": [
           {
            "marker": {
             "colorbar": {
              "outlinewidth": 0,
              "ticks": ""
             }
            },
            "type": "scattermapbox"
           }
          ],
          "scatterpolar": [
           {
            "marker": {
             "colorbar": {
              "outlinewidth": 0,
              "ticks": ""
             }
            },
            "type": "scatterpolar"
           }
          ],
          "scatterpolargl": [
           {
            "marker": {
             "colorbar": {
              "outlinewidth": 0,
              "ticks": ""
             }
            },
            "type": "scatterpolargl"
           }
          ],
          "scatterternary": [
           {
            "marker": {
             "colorbar": {
              "outlinewidth": 0,
              "ticks": ""
             }
            },
            "type": "scatterternary"
           }
          ],
          "surface": [
           {
            "colorbar": {
             "outlinewidth": 0,
             "ticks": ""
            },
            "colorscale": [
             [
              0,
              "#0d0887"
             ],
             [
              0.1111111111111111,
              "#46039f"
             ],
             [
              0.2222222222222222,
              "#7201a8"
             ],
             [
              0.3333333333333333,
              "#9c179e"
             ],
             [
              0.4444444444444444,
              "#bd3786"
             ],
             [
              0.5555555555555556,
              "#d8576b"
             ],
             [
              0.6666666666666666,
              "#ed7953"
             ],
             [
              0.7777777777777778,
              "#fb9f3a"
             ],
             [
              0.8888888888888888,
              "#fdca26"
             ],
             [
              1,
              "#f0f921"
             ]
            ],
            "type": "surface"
           }
          ],
          "table": [
           {
            "cells": {
             "fill": {
              "color": "#EBF0F8"
             },
             "line": {
              "color": "white"
             }
            },
            "header": {
             "fill": {
              "color": "#C8D4E3"
             },
             "line": {
              "color": "white"
             }
            },
            "type": "table"
           }
          ]
         },
         "layout": {
          "annotationdefaults": {
           "arrowcolor": "#2a3f5f",
           "arrowhead": 0,
           "arrowwidth": 1
          },
          "autotypenumbers": "strict",
          "coloraxis": {
           "colorbar": {
            "outlinewidth": 0,
            "ticks": ""
           }
          },
          "colorscale": {
           "diverging": [
            [
             0,
             "#8e0152"
            ],
            [
             0.1,
             "#c51b7d"
            ],
            [
             0.2,
             "#de77ae"
            ],
            [
             0.3,
             "#f1b6da"
            ],
            [
             0.4,
             "#fde0ef"
            ],
            [
             0.5,
             "#f7f7f7"
            ],
            [
             0.6,
             "#e6f5d0"
            ],
            [
             0.7,
             "#b8e186"
            ],
            [
             0.8,
             "#7fbc41"
            ],
            [
             0.9,
             "#4d9221"
            ],
            [
             1,
             "#276419"
            ]
           ],
           "sequential": [
            [
             0,
             "#0d0887"
            ],
            [
             0.1111111111111111,
             "#46039f"
            ],
            [
             0.2222222222222222,
             "#7201a8"
            ],
            [
             0.3333333333333333,
             "#9c179e"
            ],
            [
             0.4444444444444444,
             "#bd3786"
            ],
            [
             0.5555555555555556,
             "#d8576b"
            ],
            [
             0.6666666666666666,
             "#ed7953"
            ],
            [
             0.7777777777777778,
             "#fb9f3a"
            ],
            [
             0.8888888888888888,
             "#fdca26"
            ],
            [
             1,
             "#f0f921"
            ]
           ],
           "sequentialminus": [
            [
             0,
             "#0d0887"
            ],
            [
             0.1111111111111111,
             "#46039f"
            ],
            [
             0.2222222222222222,
             "#7201a8"
            ],
            [
             0.3333333333333333,
             "#9c179e"
            ],
            [
             0.4444444444444444,
             "#bd3786"
            ],
            [
             0.5555555555555556,
             "#d8576b"
            ],
            [
             0.6666666666666666,
             "#ed7953"
            ],
            [
             0.7777777777777778,
             "#fb9f3a"
            ],
            [
             0.8888888888888888,
             "#fdca26"
            ],
            [
             1,
             "#f0f921"
            ]
           ]
          },
          "colorway": [
           "#636efa",
           "#EF553B",
           "#00cc96",
           "#ab63fa",
           "#FFA15A",
           "#19d3f3",
           "#FF6692",
           "#B6E880",
           "#FF97FF",
           "#FECB52"
          ],
          "font": {
           "color": "#2a3f5f"
          },
          "geo": {
           "bgcolor": "white",
           "lakecolor": "white",
           "landcolor": "#E5ECF6",
           "showlakes": true,
           "showland": true,
           "subunitcolor": "white"
          },
          "hoverlabel": {
           "align": "left"
          },
          "hovermode": "closest",
          "mapbox": {
           "style": "light"
          },
          "paper_bgcolor": "white",
          "plot_bgcolor": "#E5ECF6",
          "polar": {
           "angularaxis": {
            "gridcolor": "white",
            "linecolor": "white",
            "ticks": ""
           },
           "bgcolor": "#E5ECF6",
           "radialaxis": {
            "gridcolor": "white",
            "linecolor": "white",
            "ticks": ""
           }
          },
          "scene": {
           "xaxis": {
            "backgroundcolor": "#E5ECF6",
            "gridcolor": "white",
            "gridwidth": 2,
            "linecolor": "white",
            "showbackground": true,
            "ticks": "",
            "zerolinecolor": "white"
           },
           "yaxis": {
            "backgroundcolor": "#E5ECF6",
            "gridcolor": "white",
            "gridwidth": 2,
            "linecolor": "white",
            "showbackground": true,
            "ticks": "",
            "zerolinecolor": "white"
           },
           "zaxis": {
            "backgroundcolor": "#E5ECF6",
            "gridcolor": "white",
            "gridwidth": 2,
            "linecolor": "white",
            "showbackground": true,
            "ticks": "",
            "zerolinecolor": "white"
           }
          },
          "shapedefaults": {
           "line": {
            "color": "#2a3f5f"
           }
          },
          "ternary": {
           "aaxis": {
            "gridcolor": "white",
            "linecolor": "white",
            "ticks": ""
           },
           "baxis": {
            "gridcolor": "white",
            "linecolor": "white",
            "ticks": ""
           },
           "bgcolor": "#E5ECF6",
           "caxis": {
            "gridcolor": "white",
            "linecolor": "white",
            "ticks": ""
           }
          },
          "title": {
           "x": 0.05
          },
          "xaxis": {
           "automargin": true,
           "gridcolor": "white",
           "linecolor": "white",
           "ticks": "",
           "title": {
            "standoff": 15
           },
           "zerolinecolor": "white",
           "zerolinewidth": 2
          },
          "yaxis": {
           "automargin": true,
           "gridcolor": "white",
           "linecolor": "white",
           "ticks": "",
           "title": {
            "standoff": 15
           },
           "zerolinecolor": "white",
           "zerolinewidth": 2
          }
         }
        },
        "xaxis": {
         "anchor": "y",
         "domain": [
          0,
          1
         ],
         "title": {
          "text": "major"
         }
        },
        "yaxis": {
         "anchor": "x",
         "domain": [
          0,
          1
         ],
         "title": {
          "text": "tuition"
         }
        }
       }
      }
     },
     "metadata": {},
     "output_type": "display_data"
    }
   ],
   "source": [
    "# What is the spread of tuition expenses across different major\n",
    "fig = px.box(df, x='major', y='tuition', color=df['gender'])\n",
    "fig.show()"
   ]
  },
  {
   "cell_type": "code",
   "execution_count": 6,
   "metadata": {},
   "outputs": [
    {
     "data": {
      "application/vnd.plotly.v1+json": {
       "config": {
        "plotlyServerURL": "https://plot.ly"
       },
       "data": [
        {
         "alignmentgroup": "True",
         "hovertemplate": "color=Freshman<br>x=%{x}<br>y=%{y}<br>text=%{text}<extra></extra>",
         "legendgroup": "Freshman",
         "marker": {
          "color": "#636efa",
          "pattern": {
           "shape": ""
          }
         },
         "name": "Freshman",
         "offsetgroup": "Freshman",
         "orientation": "v",
         "showlegend": true,
         "text": [
          124.77865612648222
         ],
         "textposition": "auto",
         "type": "bar",
         "x": [
          "Freshman"
         ],
         "xaxis": "x",
         "y": [
          124.77865612648222
         ],
         "yaxis": "y"
        },
        {
         "alignmentgroup": "True",
         "hovertemplate": "color=Junior<br>x=%{x}<br>y=%{y}<br>text=%{text}<extra></extra>",
         "legendgroup": "Junior",
         "marker": {
          "color": "#EF553B",
          "pattern": {
           "shape": ""
          }
         },
         "name": "Junior",
         "offsetgroup": "Junior",
         "orientation": "v",
         "showlegend": true,
         "text": [
          121.75303643724696
         ],
         "textposition": "auto",
         "type": "bar",
         "x": [
          "Junior"
         ],
         "xaxis": "x",
         "y": [
          121.75303643724696
         ],
         "yaxis": "y"
        },
        {
         "alignmentgroup": "True",
         "hovertemplate": "color=Senior<br>x=%{x}<br>y=%{y}<br>text=%{text}<extra></extra>",
         "legendgroup": "Senior",
         "marker": {
          "color": "#00cc96",
          "pattern": {
           "shape": ""
          }
         },
         "name": "Senior",
         "offsetgroup": "Senior",
         "orientation": "v",
         "showlegend": true,
         "text": [
          124.70866141732283
         ],
         "textposition": "auto",
         "type": "bar",
         "x": [
          "Senior"
         ],
         "xaxis": "x",
         "y": [
          124.70866141732283
         ],
         "yaxis": "y"
        },
        {
         "alignmentgroup": "True",
         "hovertemplate": "color=Sophomore<br>x=%{x}<br>y=%{y}<br>text=%{text}<extra></extra>",
         "legendgroup": "Sophomore",
         "marker": {
          "color": "#ab63fa",
          "pattern": {
           "shape": ""
          }
         },
         "name": "Sophomore",
         "offsetgroup": "Sophomore",
         "orientation": "v",
         "showlegend": true,
         "text": [
          127.3130081300813
         ],
         "textposition": "auto",
         "type": "bar",
         "x": [
          "Sophomore"
         ],
         "xaxis": "x",
         "y": [
          127.3130081300813
         ],
         "yaxis": "y"
        }
       ],
       "layout": {
        "barmode": "relative",
        "legend": {
         "title": {
          "text": "color"
         },
         "tracegroupgap": 0
        },
        "margin": {
         "t": 60
        },
        "template": {
         "data": {
          "bar": [
           {
            "error_x": {
             "color": "#2a3f5f"
            },
            "error_y": {
             "color": "#2a3f5f"
            },
            "marker": {
             "line": {
              "color": "#E5ECF6",
              "width": 0.5
             },
             "pattern": {
              "fillmode": "overlay",
              "size": 10,
              "solidity": 0.2
             }
            },
            "type": "bar"
           }
          ],
          "barpolar": [
           {
            "marker": {
             "line": {
              "color": "#E5ECF6",
              "width": 0.5
             },
             "pattern": {
              "fillmode": "overlay",
              "size": 10,
              "solidity": 0.2
             }
            },
            "type": "barpolar"
           }
          ],
          "carpet": [
           {
            "aaxis": {
             "endlinecolor": "#2a3f5f",
             "gridcolor": "white",
             "linecolor": "white",
             "minorgridcolor": "white",
             "startlinecolor": "#2a3f5f"
            },
            "baxis": {
             "endlinecolor": "#2a3f5f",
             "gridcolor": "white",
             "linecolor": "white",
             "minorgridcolor": "white",
             "startlinecolor": "#2a3f5f"
            },
            "type": "carpet"
           }
          ],
          "choropleth": [
           {
            "colorbar": {
             "outlinewidth": 0,
             "ticks": ""
            },
            "type": "choropleth"
           }
          ],
          "contour": [
           {
            "colorbar": {
             "outlinewidth": 0,
             "ticks": ""
            },
            "colorscale": [
             [
              0,
              "#0d0887"
             ],
             [
              0.1111111111111111,
              "#46039f"
             ],
             [
              0.2222222222222222,
              "#7201a8"
             ],
             [
              0.3333333333333333,
              "#9c179e"
             ],
             [
              0.4444444444444444,
              "#bd3786"
             ],
             [
              0.5555555555555556,
              "#d8576b"
             ],
             [
              0.6666666666666666,
              "#ed7953"
             ],
             [
              0.7777777777777778,
              "#fb9f3a"
             ],
             [
              0.8888888888888888,
              "#fdca26"
             ],
             [
              1,
              "#f0f921"
             ]
            ],
            "type": "contour"
           }
          ],
          "contourcarpet": [
           {
            "colorbar": {
             "outlinewidth": 0,
             "ticks": ""
            },
            "type": "contourcarpet"
           }
          ],
          "heatmap": [
           {
            "colorbar": {
             "outlinewidth": 0,
             "ticks": ""
            },
            "colorscale": [
             [
              0,
              "#0d0887"
             ],
             [
              0.1111111111111111,
              "#46039f"
             ],
             [
              0.2222222222222222,
              "#7201a8"
             ],
             [
              0.3333333333333333,
              "#9c179e"
             ],
             [
              0.4444444444444444,
              "#bd3786"
             ],
             [
              0.5555555555555556,
              "#d8576b"
             ],
             [
              0.6666666666666666,
              "#ed7953"
             ],
             [
              0.7777777777777778,
              "#fb9f3a"
             ],
             [
              0.8888888888888888,
              "#fdca26"
             ],
             [
              1,
              "#f0f921"
             ]
            ],
            "type": "heatmap"
           }
          ],
          "heatmapgl": [
           {
            "colorbar": {
             "outlinewidth": 0,
             "ticks": ""
            },
            "colorscale": [
             [
              0,
              "#0d0887"
             ],
             [
              0.1111111111111111,
              "#46039f"
             ],
             [
              0.2222222222222222,
              "#7201a8"
             ],
             [
              0.3333333333333333,
              "#9c179e"
             ],
             [
              0.4444444444444444,
              "#bd3786"
             ],
             [
              0.5555555555555556,
              "#d8576b"
             ],
             [
              0.6666666666666666,
              "#ed7953"
             ],
             [
              0.7777777777777778,
              "#fb9f3a"
             ],
             [
              0.8888888888888888,
              "#fdca26"
             ],
             [
              1,
              "#f0f921"
             ]
            ],
            "type": "heatmapgl"
           }
          ],
          "histogram": [
           {
            "marker": {
             "pattern": {
              "fillmode": "overlay",
              "size": 10,
              "solidity": 0.2
             }
            },
            "type": "histogram"
           }
          ],
          "histogram2d": [
           {
            "colorbar": {
             "outlinewidth": 0,
             "ticks": ""
            },
            "colorscale": [
             [
              0,
              "#0d0887"
             ],
             [
              0.1111111111111111,
              "#46039f"
             ],
             [
              0.2222222222222222,
              "#7201a8"
             ],
             [
              0.3333333333333333,
              "#9c179e"
             ],
             [
              0.4444444444444444,
              "#bd3786"
             ],
             [
              0.5555555555555556,
              "#d8576b"
             ],
             [
              0.6666666666666666,
              "#ed7953"
             ],
             [
              0.7777777777777778,
              "#fb9f3a"
             ],
             [
              0.8888888888888888,
              "#fdca26"
             ],
             [
              1,
              "#f0f921"
             ]
            ],
            "type": "histogram2d"
           }
          ],
          "histogram2dcontour": [
           {
            "colorbar": {
             "outlinewidth": 0,
             "ticks": ""
            },
            "colorscale": [
             [
              0,
              "#0d0887"
             ],
             [
              0.1111111111111111,
              "#46039f"
             ],
             [
              0.2222222222222222,
              "#7201a8"
             ],
             [
              0.3333333333333333,
              "#9c179e"
             ],
             [
              0.4444444444444444,
              "#bd3786"
             ],
             [
              0.5555555555555556,
              "#d8576b"
             ],
             [
              0.6666666666666666,
              "#ed7953"
             ],
             [
              0.7777777777777778,
              "#fb9f3a"
             ],
             [
              0.8888888888888888,
              "#fdca26"
             ],
             [
              1,
              "#f0f921"
             ]
            ],
            "type": "histogram2dcontour"
           }
          ],
          "mesh3d": [
           {
            "colorbar": {
             "outlinewidth": 0,
             "ticks": ""
            },
            "type": "mesh3d"
           }
          ],
          "parcoords": [
           {
            "line": {
             "colorbar": {
              "outlinewidth": 0,
              "ticks": ""
             }
            },
            "type": "parcoords"
           }
          ],
          "pie": [
           {
            "automargin": true,
            "type": "pie"
           }
          ],
          "scatter": [
           {
            "fillpattern": {
             "fillmode": "overlay",
             "size": 10,
             "solidity": 0.2
            },
            "type": "scatter"
           }
          ],
          "scatter3d": [
           {
            "line": {
             "colorbar": {
              "outlinewidth": 0,
              "ticks": ""
             }
            },
            "marker": {
             "colorbar": {
              "outlinewidth": 0,
              "ticks": ""
             }
            },
            "type": "scatter3d"
           }
          ],
          "scattercarpet": [
           {
            "marker": {
             "colorbar": {
              "outlinewidth": 0,
              "ticks": ""
             }
            },
            "type": "scattercarpet"
           }
          ],
          "scattergeo": [
           {
            "marker": {
             "colorbar": {
              "outlinewidth": 0,
              "ticks": ""
             }
            },
            "type": "scattergeo"
           }
          ],
          "scattergl": [
           {
            "marker": {
             "colorbar": {
              "outlinewidth": 0,
              "ticks": ""
             }
            },
            "type": "scattergl"
           }
          ],
          "scattermapbox": [
           {
            "marker": {
             "colorbar": {
              "outlinewidth": 0,
              "ticks": ""
             }
            },
            "type": "scattermapbox"
           }
          ],
          "scatterpolar": [
           {
            "marker": {
             "colorbar": {
              "outlinewidth": 0,
              "ticks": ""
             }
            },
            "type": "scatterpolar"
           }
          ],
          "scatterpolargl": [
           {
            "marker": {
             "colorbar": {
              "outlinewidth": 0,
              "ticks": ""
             }
            },
            "type": "scatterpolargl"
           }
          ],
          "scatterternary": [
           {
            "marker": {
             "colorbar": {
              "outlinewidth": 0,
              "ticks": ""
             }
            },
            "type": "scatterternary"
           }
          ],
          "surface": [
           {
            "colorbar": {
             "outlinewidth": 0,
             "ticks": ""
            },
            "colorscale": [
             [
              0,
              "#0d0887"
             ],
             [
              0.1111111111111111,
              "#46039f"
             ],
             [
              0.2222222222222222,
              "#7201a8"
             ],
             [
              0.3333333333333333,
              "#9c179e"
             ],
             [
              0.4444444444444444,
              "#bd3786"
             ],
             [
              0.5555555555555556,
              "#d8576b"
             ],
             [
              0.6666666666666666,
              "#ed7953"
             ],
             [
              0.7777777777777778,
              "#fb9f3a"
             ],
             [
              0.8888888888888888,
              "#fdca26"
             ],
             [
              1,
              "#f0f921"
             ]
            ],
            "type": "surface"
           }
          ],
          "table": [
           {
            "cells": {
             "fill": {
              "color": "#EBF0F8"
             },
             "line": {
              "color": "white"
             }
            },
            "header": {
             "fill": {
              "color": "#C8D4E3"
             },
             "line": {
              "color": "white"
             }
            },
            "type": "table"
           }
          ]
         },
         "layout": {
          "annotationdefaults": {
           "arrowcolor": "#2a3f5f",
           "arrowhead": 0,
           "arrowwidth": 1
          },
          "autotypenumbers": "strict",
          "coloraxis": {
           "colorbar": {
            "outlinewidth": 0,
            "ticks": ""
           }
          },
          "colorscale": {
           "diverging": [
            [
             0,
             "#8e0152"
            ],
            [
             0.1,
             "#c51b7d"
            ],
            [
             0.2,
             "#de77ae"
            ],
            [
             0.3,
             "#f1b6da"
            ],
            [
             0.4,
             "#fde0ef"
            ],
            [
             0.5,
             "#f7f7f7"
            ],
            [
             0.6,
             "#e6f5d0"
            ],
            [
             0.7,
             "#b8e186"
            ],
            [
             0.8,
             "#7fbc41"
            ],
            [
             0.9,
             "#4d9221"
            ],
            [
             1,
             "#276419"
            ]
           ],
           "sequential": [
            [
             0,
             "#0d0887"
            ],
            [
             0.1111111111111111,
             "#46039f"
            ],
            [
             0.2222222222222222,
             "#7201a8"
            ],
            [
             0.3333333333333333,
             "#9c179e"
            ],
            [
             0.4444444444444444,
             "#bd3786"
            ],
            [
             0.5555555555555556,
             "#d8576b"
            ],
            [
             0.6666666666666666,
             "#ed7953"
            ],
            [
             0.7777777777777778,
             "#fb9f3a"
            ],
            [
             0.8888888888888888,
             "#fdca26"
            ],
            [
             1,
             "#f0f921"
            ]
           ],
           "sequentialminus": [
            [
             0,
             "#0d0887"
            ],
            [
             0.1111111111111111,
             "#46039f"
            ],
            [
             0.2222222222222222,
             "#7201a8"
            ],
            [
             0.3333333333333333,
             "#9c179e"
            ],
            [
             0.4444444444444444,
             "#bd3786"
            ],
            [
             0.5555555555555556,
             "#d8576b"
            ],
            [
             0.6666666666666666,
             "#ed7953"
            ],
            [
             0.7777777777777778,
             "#fb9f3a"
            ],
            [
             0.8888888888888888,
             "#fdca26"
            ],
            [
             1,
             "#f0f921"
            ]
           ]
          },
          "colorway": [
           "#636efa",
           "#EF553B",
           "#00cc96",
           "#ab63fa",
           "#FFA15A",
           "#19d3f3",
           "#FF6692",
           "#B6E880",
           "#FF97FF",
           "#FECB52"
          ],
          "font": {
           "color": "#2a3f5f"
          },
          "geo": {
           "bgcolor": "white",
           "lakecolor": "white",
           "landcolor": "#E5ECF6",
           "showlakes": true,
           "showland": true,
           "subunitcolor": "white"
          },
          "hoverlabel": {
           "align": "left"
          },
          "hovermode": "closest",
          "mapbox": {
           "style": "light"
          },
          "paper_bgcolor": "white",
          "plot_bgcolor": "#E5ECF6",
          "polar": {
           "angularaxis": {
            "gridcolor": "white",
            "linecolor": "white",
            "ticks": ""
           },
           "bgcolor": "#E5ECF6",
           "radialaxis": {
            "gridcolor": "white",
            "linecolor": "white",
            "ticks": ""
           }
          },
          "scene": {
           "xaxis": {
            "backgroundcolor": "#E5ECF6",
            "gridcolor": "white",
            "gridwidth": 2,
            "linecolor": "white",
            "showbackground": true,
            "ticks": "",
            "zerolinecolor": "white"
           },
           "yaxis": {
            "backgroundcolor": "#E5ECF6",
            "gridcolor": "white",
            "gridwidth": 2,
            "linecolor": "white",
            "showbackground": true,
            "ticks": "",
            "zerolinecolor": "white"
           },
           "zaxis": {
            "backgroundcolor": "#E5ECF6",
            "gridcolor": "white",
            "gridwidth": 2,
            "linecolor": "white",
            "showbackground": true,
            "ticks": "",
            "zerolinecolor": "white"
           }
          },
          "shapedefaults": {
           "line": {
            "color": "#2a3f5f"
           }
          },
          "ternary": {
           "aaxis": {
            "gridcolor": "white",
            "linecolor": "white",
            "ticks": ""
           },
           "baxis": {
            "gridcolor": "white",
            "linecolor": "white",
            "ticks": ""
           },
           "bgcolor": "#E5ECF6",
           "caxis": {
            "gridcolor": "white",
            "linecolor": "white",
            "ticks": ""
           }
          },
          "title": {
           "x": 0.05
          },
          "xaxis": {
           "automargin": true,
           "gridcolor": "white",
           "linecolor": "white",
           "ticks": "",
           "title": {
            "standoff": 15
           },
           "zerolinecolor": "white",
           "zerolinewidth": 2
          },
          "yaxis": {
           "automargin": true,
           "gridcolor": "white",
           "linecolor": "white",
           "ticks": "",
           "title": {
            "standoff": 15
           },
           "zerolinecolor": "white",
           "zerolinewidth": 2
          }
         }
        },
        "xaxis": {
         "anchor": "y",
         "domain": [
          0,
          1
         ],
         "title": {
          "text": "x"
         }
        },
        "yaxis": {
         "anchor": "x",
         "domain": [
          0,
          1
         ],
         "title": {
          "text": "y"
         }
        }
       }
      }
     },
     "metadata": {},
     "output_type": "display_data"
    }
   ],
   "source": [
    "# Which year in the school has the highest average transportation expenses?\n",
    "df_avg = df.groupby('year_in_school')['transportation'].apply('mean')\n",
    "fig = px.bar(df, x= df_avg.index, y= df_avg.values, color=df_avg.index, text=df_avg.values)\n",
    "fig.show()"
   ]
  },
  {
   "cell_type": "code",
   "execution_count": 7,
   "metadata": {},
   "outputs": [
    {
     "data": {
      "application/vnd.plotly.v1+json": {
       "config": {
        "plotlyServerURL": "https://plot.ly"
       },
       "data": [
        {
         "alignmentgroup": "True",
         "bingroup": "x",
         "hovertemplate": "age=19<br>preferred_payment_method=%{x}<br>count=%{y}<extra></extra>",
         "legendgroup": "19",
         "marker": {
          "color": "#636efa",
          "pattern": {
           "shape": ""
          }
         },
         "name": "19",
         "offsetgroup": "19",
         "orientation": "v",
         "showlegend": true,
         "texttemplate": "%{value}",
         "type": "histogram",
         "x": [
          "Credit/Debit Card",
          "Mobile Payment App",
          "Credit/Debit Card",
          "Credit/Debit Card",
          "Mobile Payment App",
          "Mobile Payment App",
          "Cash",
          "Mobile Payment App",
          "Mobile Payment App",
          "Mobile Payment App",
          "Cash",
          "Mobile Payment App",
          "Mobile Payment App",
          "Cash",
          "Credit/Debit Card",
          "Mobile Payment App",
          "Cash",
          "Credit/Debit Card",
          "Cash",
          "Cash",
          "Credit/Debit Card",
          "Mobile Payment App",
          "Credit/Debit Card",
          "Cash",
          "Cash",
          "Cash",
          "Mobile Payment App",
          "Mobile Payment App",
          "Mobile Payment App",
          "Credit/Debit Card",
          "Mobile Payment App",
          "Credit/Debit Card",
          "Mobile Payment App",
          "Credit/Debit Card",
          "Cash",
          "Cash",
          "Mobile Payment App",
          "Mobile Payment App",
          "Credit/Debit Card",
          "Cash",
          "Credit/Debit Card",
          "Cash",
          "Cash",
          "Mobile Payment App",
          "Mobile Payment App",
          "Credit/Debit Card",
          "Mobile Payment App",
          "Cash",
          "Mobile Payment App",
          "Cash",
          "Credit/Debit Card",
          "Cash",
          "Mobile Payment App",
          "Cash",
          "Credit/Debit Card",
          "Mobile Payment App",
          "Mobile Payment App",
          "Cash",
          "Cash",
          "Mobile Payment App",
          "Cash",
          "Cash",
          "Credit/Debit Card",
          "Cash",
          "Mobile Payment App",
          "Credit/Debit Card",
          "Mobile Payment App",
          "Credit/Debit Card",
          "Mobile Payment App",
          "Cash",
          "Mobile Payment App",
          "Mobile Payment App",
          "Credit/Debit Card",
          "Cash",
          "Credit/Debit Card",
          "Credit/Debit Card",
          "Credit/Debit Card",
          "Mobile Payment App",
          "Mobile Payment App",
          "Credit/Debit Card",
          "Cash",
          "Mobile Payment App",
          "Credit/Debit Card",
          "Mobile Payment App",
          "Mobile Payment App",
          "Mobile Payment App",
          "Credit/Debit Card",
          "Credit/Debit Card",
          "Cash",
          "Mobile Payment App",
          "Mobile Payment App",
          "Cash",
          "Cash",
          "Cash",
          "Cash",
          "Mobile Payment App",
          "Mobile Payment App",
          "Cash",
          "Cash",
          "Credit/Debit Card",
          "Cash",
          "Mobile Payment App",
          "Credit/Debit Card",
          "Cash",
          "Credit/Debit Card",
          "Mobile Payment App",
          "Cash",
          "Mobile Payment App"
         ],
         "xaxis": "x",
         "yaxis": "y"
        },
        {
         "alignmentgroup": "True",
         "bingroup": "x",
         "hovertemplate": "age=24<br>preferred_payment_method=%{x}<br>count=%{y}<extra></extra>",
         "legendgroup": "24",
         "marker": {
          "color": "#EF553B",
          "pattern": {
           "shape": ""
          }
         },
         "name": "24",
         "offsetgroup": "24",
         "orientation": "v",
         "showlegend": true,
         "texttemplate": "%{value}",
         "type": "histogram",
         "x": [
          "Credit/Debit Card",
          "Cash",
          "Cash",
          "Mobile Payment App",
          "Credit/Debit Card",
          "Credit/Debit Card",
          "Credit/Debit Card",
          "Mobile Payment App",
          "Mobile Payment App",
          "Mobile Payment App",
          "Cash",
          "Mobile Payment App",
          "Credit/Debit Card",
          "Cash",
          "Cash",
          "Credit/Debit Card",
          "Mobile Payment App",
          "Mobile Payment App",
          "Mobile Payment App",
          "Mobile Payment App",
          "Cash",
          "Cash",
          "Credit/Debit Card",
          "Cash",
          "Credit/Debit Card",
          "Mobile Payment App",
          "Credit/Debit Card",
          "Cash",
          "Cash",
          "Credit/Debit Card",
          "Credit/Debit Card",
          "Credit/Debit Card",
          "Cash",
          "Mobile Payment App",
          "Cash",
          "Cash",
          "Credit/Debit Card",
          "Credit/Debit Card",
          "Mobile Payment App",
          "Mobile Payment App",
          "Cash",
          "Cash",
          "Mobile Payment App",
          "Cash",
          "Credit/Debit Card",
          "Mobile Payment App",
          "Credit/Debit Card",
          "Credit/Debit Card",
          "Credit/Debit Card",
          "Credit/Debit Card",
          "Mobile Payment App",
          "Cash",
          "Cash",
          "Mobile Payment App",
          "Mobile Payment App",
          "Credit/Debit Card",
          "Cash",
          "Cash",
          "Mobile Payment App",
          "Credit/Debit Card",
          "Cash",
          "Mobile Payment App",
          "Cash",
          "Credit/Debit Card",
          "Credit/Debit Card",
          "Mobile Payment App",
          "Cash",
          "Cash",
          "Cash",
          "Credit/Debit Card",
          "Credit/Debit Card",
          "Credit/Debit Card",
          "Credit/Debit Card",
          "Mobile Payment App",
          "Mobile Payment App",
          "Cash",
          "Cash",
          "Mobile Payment App",
          "Credit/Debit Card",
          "Mobile Payment App",
          "Mobile Payment App",
          "Credit/Debit Card",
          "Mobile Payment App",
          "Credit/Debit Card",
          "Cash",
          "Credit/Debit Card",
          "Mobile Payment App",
          "Credit/Debit Card",
          "Cash",
          "Cash",
          "Mobile Payment App",
          "Mobile Payment App",
          "Mobile Payment App",
          "Cash",
          "Cash",
          "Credit/Debit Card",
          "Mobile Payment App",
          "Cash",
          "Credit/Debit Card",
          "Cash",
          "Credit/Debit Card",
          "Cash",
          "Mobile Payment App",
          "Credit/Debit Card",
          "Mobile Payment App",
          "Mobile Payment App",
          "Cash",
          "Credit/Debit Card",
          "Cash",
          "Mobile Payment App",
          "Cash",
          "Credit/Debit Card",
          "Mobile Payment App",
          "Cash",
          "Mobile Payment App",
          "Mobile Payment App",
          "Credit/Debit Card",
          "Credit/Debit Card",
          "Cash",
          "Credit/Debit Card",
          "Cash",
          "Cash",
          "Cash",
          "Credit/Debit Card",
          "Mobile Payment App",
          "Cash",
          "Mobile Payment App",
          "Mobile Payment App",
          "Mobile Payment App",
          "Credit/Debit Card",
          "Mobile Payment App",
          "Cash",
          "Credit/Debit Card",
          "Credit/Debit Card",
          "Cash",
          "Cash"
         ],
         "xaxis": "x",
         "yaxis": "y"
        },
        {
         "alignmentgroup": "True",
         "bingroup": "x",
         "hovertemplate": "age=23<br>preferred_payment_method=%{x}<br>count=%{y}<extra></extra>",
         "legendgroup": "23",
         "marker": {
          "color": "#00cc96",
          "pattern": {
           "shape": ""
          }
         },
         "name": "23",
         "offsetgroup": "23",
         "orientation": "v",
         "showlegend": true,
         "texttemplate": "%{value}",
         "type": "histogram",
         "x": [
          "Mobile Payment App",
          "Credit/Debit Card",
          "Mobile Payment App",
          "Credit/Debit Card",
          "Cash",
          "Mobile Payment App",
          "Mobile Payment App",
          "Mobile Payment App",
          "Mobile Payment App",
          "Cash",
          "Cash",
          "Credit/Debit Card",
          "Credit/Debit Card",
          "Mobile Payment App",
          "Mobile Payment App",
          "Cash",
          "Cash",
          "Credit/Debit Card",
          "Mobile Payment App",
          "Mobile Payment App",
          "Mobile Payment App",
          "Credit/Debit Card",
          "Mobile Payment App",
          "Mobile Payment App",
          "Mobile Payment App",
          "Cash",
          "Cash",
          "Credit/Debit Card",
          "Credit/Debit Card",
          "Credit/Debit Card",
          "Credit/Debit Card",
          "Cash",
          "Cash",
          "Cash",
          "Cash",
          "Cash",
          "Credit/Debit Card",
          "Mobile Payment App",
          "Credit/Debit Card",
          "Cash",
          "Cash",
          "Mobile Payment App",
          "Mobile Payment App",
          "Cash",
          "Cash",
          "Mobile Payment App",
          "Credit/Debit Card",
          "Mobile Payment App",
          "Cash",
          "Credit/Debit Card",
          "Mobile Payment App",
          "Credit/Debit Card",
          "Credit/Debit Card",
          "Cash",
          "Cash",
          "Mobile Payment App",
          "Cash",
          "Mobile Payment App",
          "Mobile Payment App",
          "Cash",
          "Mobile Payment App",
          "Credit/Debit Card",
          "Mobile Payment App",
          "Mobile Payment App",
          "Cash",
          "Credit/Debit Card",
          "Mobile Payment App",
          "Credit/Debit Card",
          "Credit/Debit Card",
          "Mobile Payment App",
          "Mobile Payment App",
          "Credit/Debit Card",
          "Credit/Debit Card",
          "Mobile Payment App",
          "Credit/Debit Card",
          "Credit/Debit Card",
          "Credit/Debit Card",
          "Credit/Debit Card",
          "Cash",
          "Mobile Payment App",
          "Credit/Debit Card",
          "Credit/Debit Card",
          "Cash",
          "Cash",
          "Cash",
          "Cash",
          "Cash",
          "Credit/Debit Card",
          "Credit/Debit Card",
          "Cash",
          "Mobile Payment App",
          "Mobile Payment App",
          "Cash",
          "Credit/Debit Card",
          "Cash",
          "Credit/Debit Card",
          "Mobile Payment App",
          "Cash",
          "Cash",
          "Credit/Debit Card",
          "Credit/Debit Card",
          "Cash",
          "Credit/Debit Card",
          "Cash",
          "Cash",
          "Cash",
          "Mobile Payment App",
          "Mobile Payment App",
          "Cash",
          "Mobile Payment App",
          "Mobile Payment App",
          "Cash",
          "Credit/Debit Card",
          "Mobile Payment App",
          "Credit/Debit Card",
          "Cash",
          "Credit/Debit Card",
          "Credit/Debit Card",
          "Credit/Debit Card",
          "Cash",
          "Cash",
          "Credit/Debit Card",
          "Mobile Payment App",
          "Mobile Payment App",
          "Mobile Payment App",
          "Mobile Payment App",
          "Cash",
          "Cash"
         ],
         "xaxis": "x",
         "yaxis": "y"
        },
        {
         "alignmentgroup": "True",
         "bingroup": "x",
         "hovertemplate": "age=20<br>preferred_payment_method=%{x}<br>count=%{y}<extra></extra>",
         "legendgroup": "20",
         "marker": {
          "color": "#ab63fa",
          "pattern": {
           "shape": ""
          }
         },
         "name": "20",
         "offsetgroup": "20",
         "orientation": "v",
         "showlegend": true,
         "texttemplate": "%{value}",
         "type": "histogram",
         "x": [
          "Credit/Debit Card",
          "Mobile Payment App",
          "Credit/Debit Card",
          "Credit/Debit Card",
          "Mobile Payment App",
          "Cash",
          "Mobile Payment App",
          "Mobile Payment App",
          "Mobile Payment App",
          "Mobile Payment App",
          "Mobile Payment App",
          "Credit/Debit Card",
          "Cash",
          "Mobile Payment App",
          "Credit/Debit Card",
          "Cash",
          "Credit/Debit Card",
          "Mobile Payment App",
          "Cash",
          "Mobile Payment App",
          "Mobile Payment App",
          "Cash",
          "Mobile Payment App",
          "Credit/Debit Card",
          "Credit/Debit Card",
          "Cash",
          "Mobile Payment App",
          "Mobile Payment App",
          "Credit/Debit Card",
          "Mobile Payment App",
          "Credit/Debit Card",
          "Mobile Payment App",
          "Credit/Debit Card",
          "Cash",
          "Cash",
          "Cash",
          "Credit/Debit Card",
          "Mobile Payment App",
          "Cash",
          "Mobile Payment App",
          "Credit/Debit Card",
          "Credit/Debit Card",
          "Mobile Payment App",
          "Credit/Debit Card",
          "Cash",
          "Credit/Debit Card",
          "Cash",
          "Mobile Payment App",
          "Mobile Payment App",
          "Mobile Payment App",
          "Mobile Payment App",
          "Credit/Debit Card",
          "Credit/Debit Card",
          "Mobile Payment App",
          "Cash",
          "Mobile Payment App",
          "Credit/Debit Card",
          "Cash",
          "Mobile Payment App",
          "Credit/Debit Card",
          "Mobile Payment App",
          "Credit/Debit Card",
          "Cash",
          "Credit/Debit Card",
          "Cash",
          "Mobile Payment App",
          "Cash",
          "Cash",
          "Mobile Payment App",
          "Mobile Payment App",
          "Cash",
          "Mobile Payment App",
          "Cash",
          "Credit/Debit Card",
          "Credit/Debit Card",
          "Cash",
          "Mobile Payment App",
          "Cash",
          "Credit/Debit Card",
          "Cash",
          "Mobile Payment App",
          "Mobile Payment App",
          "Credit/Debit Card",
          "Mobile Payment App",
          "Credit/Debit Card",
          "Credit/Debit Card",
          "Mobile Payment App",
          "Credit/Debit Card",
          "Credit/Debit Card",
          "Mobile Payment App",
          "Cash",
          "Mobile Payment App",
          "Mobile Payment App",
          "Mobile Payment App",
          "Mobile Payment App",
          "Cash",
          "Mobile Payment App",
          "Cash",
          "Mobile Payment App",
          "Credit/Debit Card",
          "Credit/Debit Card",
          "Mobile Payment App",
          "Mobile Payment App",
          "Credit/Debit Card",
          "Cash",
          "Mobile Payment App",
          "Cash",
          "Mobile Payment App",
          "Credit/Debit Card",
          "Mobile Payment App",
          "Mobile Payment App"
         ],
         "xaxis": "x",
         "yaxis": "y"
        },
        {
         "alignmentgroup": "True",
         "bingroup": "x",
         "hovertemplate": "age=25<br>preferred_payment_method=%{x}<br>count=%{y}<extra></extra>",
         "legendgroup": "25",
         "marker": {
          "color": "#FFA15A",
          "pattern": {
           "shape": ""
          }
         },
         "name": "25",
         "offsetgroup": "25",
         "orientation": "v",
         "showlegend": true,
         "texttemplate": "%{value}",
         "type": "histogram",
         "x": [
          "Mobile Payment App",
          "Credit/Debit Card",
          "Mobile Payment App",
          "Cash",
          "Cash",
          "Cash",
          "Cash",
          "Mobile Payment App",
          "Credit/Debit Card",
          "Credit/Debit Card",
          "Credit/Debit Card",
          "Credit/Debit Card",
          "Cash",
          "Mobile Payment App",
          "Cash",
          "Credit/Debit Card",
          "Mobile Payment App",
          "Mobile Payment App",
          "Mobile Payment App",
          "Cash",
          "Mobile Payment App",
          "Mobile Payment App",
          "Mobile Payment App",
          "Credit/Debit Card",
          "Credit/Debit Card",
          "Credit/Debit Card",
          "Credit/Debit Card",
          "Mobile Payment App",
          "Credit/Debit Card",
          "Mobile Payment App",
          "Mobile Payment App",
          "Mobile Payment App",
          "Cash",
          "Credit/Debit Card",
          "Mobile Payment App",
          "Credit/Debit Card",
          "Credit/Debit Card",
          "Mobile Payment App",
          "Cash",
          "Credit/Debit Card",
          "Credit/Debit Card",
          "Credit/Debit Card",
          "Mobile Payment App",
          "Cash",
          "Credit/Debit Card",
          "Cash",
          "Credit/Debit Card",
          "Mobile Payment App",
          "Cash",
          "Cash",
          "Mobile Payment App",
          "Cash",
          "Cash",
          "Cash",
          "Cash",
          "Credit/Debit Card",
          "Credit/Debit Card",
          "Credit/Debit Card",
          "Cash",
          "Credit/Debit Card",
          "Credit/Debit Card",
          "Mobile Payment App",
          "Mobile Payment App",
          "Mobile Payment App",
          "Cash",
          "Mobile Payment App",
          "Cash",
          "Credit/Debit Card",
          "Mobile Payment App",
          "Cash",
          "Cash",
          "Credit/Debit Card",
          "Cash",
          "Mobile Payment App",
          "Cash",
          "Mobile Payment App",
          "Credit/Debit Card",
          "Mobile Payment App",
          "Mobile Payment App",
          "Credit/Debit Card",
          "Mobile Payment App",
          "Mobile Payment App",
          "Mobile Payment App",
          "Mobile Payment App",
          "Mobile Payment App",
          "Credit/Debit Card",
          "Cash",
          "Cash",
          "Mobile Payment App",
          "Credit/Debit Card",
          "Credit/Debit Card",
          "Credit/Debit Card",
          "Credit/Debit Card",
          "Mobile Payment App",
          "Cash",
          "Credit/Debit Card",
          "Cash",
          "Cash",
          "Mobile Payment App",
          "Credit/Debit Card",
          "Credit/Debit Card",
          "Mobile Payment App",
          "Credit/Debit Card",
          "Mobile Payment App",
          "Mobile Payment App",
          "Mobile Payment App",
          "Credit/Debit Card",
          "Credit/Debit Card",
          "Credit/Debit Card",
          "Credit/Debit Card",
          "Credit/Debit Card",
          "Credit/Debit Card",
          "Mobile Payment App",
          "Credit/Debit Card",
          "Mobile Payment App",
          "Cash",
          "Cash",
          "Mobile Payment App",
          "Cash",
          "Credit/Debit Card",
          "Credit/Debit Card",
          "Credit/Debit Card",
          "Credit/Debit Card",
          "Cash",
          "Credit/Debit Card",
          "Cash",
          "Cash",
          "Credit/Debit Card",
          "Cash",
          "Mobile Payment App",
          "Cash",
          "Cash",
          "Credit/Debit Card",
          "Mobile Payment App",
          "Cash",
          "Mobile Payment App",
          "Cash",
          "Credit/Debit Card",
          "Cash",
          "Mobile Payment App",
          "Cash",
          "Mobile Payment App",
          "Mobile Payment App",
          "Mobile Payment App",
          "Mobile Payment App"
         ],
         "xaxis": "x",
         "yaxis": "y"
        },
        {
         "alignmentgroup": "True",
         "bingroup": "x",
         "hovertemplate": "age=22<br>preferred_payment_method=%{x}<br>count=%{y}<extra></extra>",
         "legendgroup": "22",
         "marker": {
          "color": "#19d3f3",
          "pattern": {
           "shape": ""
          }
         },
         "name": "22",
         "offsetgroup": "22",
         "orientation": "v",
         "showlegend": true,
         "texttemplate": "%{value}",
         "type": "histogram",
         "x": [
          "Credit/Debit Card",
          "Cash",
          "Cash",
          "Cash",
          "Mobile Payment App",
          "Mobile Payment App",
          "Cash",
          "Cash",
          "Mobile Payment App",
          "Cash",
          "Mobile Payment App",
          "Mobile Payment App",
          "Cash",
          "Credit/Debit Card",
          "Credit/Debit Card",
          "Credit/Debit Card",
          "Credit/Debit Card",
          "Mobile Payment App",
          "Mobile Payment App",
          "Credit/Debit Card",
          "Credit/Debit Card",
          "Credit/Debit Card",
          "Credit/Debit Card",
          "Mobile Payment App",
          "Credit/Debit Card",
          "Cash",
          "Credit/Debit Card",
          "Cash",
          "Credit/Debit Card",
          "Credit/Debit Card",
          "Mobile Payment App",
          "Mobile Payment App",
          "Cash",
          "Mobile Payment App",
          "Mobile Payment App",
          "Mobile Payment App",
          "Cash",
          "Mobile Payment App",
          "Cash",
          "Cash",
          "Cash",
          "Credit/Debit Card",
          "Mobile Payment App",
          "Credit/Debit Card",
          "Mobile Payment App",
          "Cash",
          "Credit/Debit Card",
          "Cash",
          "Mobile Payment App",
          "Cash",
          "Cash",
          "Credit/Debit Card",
          "Mobile Payment App",
          "Mobile Payment App",
          "Cash",
          "Mobile Payment App",
          "Mobile Payment App",
          "Mobile Payment App",
          "Credit/Debit Card",
          "Credit/Debit Card",
          "Credit/Debit Card",
          "Credit/Debit Card",
          "Cash",
          "Cash",
          "Credit/Debit Card",
          "Cash",
          "Cash",
          "Mobile Payment App",
          "Credit/Debit Card",
          "Credit/Debit Card",
          "Credit/Debit Card",
          "Credit/Debit Card",
          "Mobile Payment App",
          "Credit/Debit Card",
          "Credit/Debit Card",
          "Credit/Debit Card",
          "Credit/Debit Card",
          "Cash",
          "Credit/Debit Card",
          "Credit/Debit Card",
          "Credit/Debit Card",
          "Mobile Payment App",
          "Credit/Debit Card",
          "Credit/Debit Card",
          "Credit/Debit Card",
          "Credit/Debit Card",
          "Mobile Payment App",
          "Cash",
          "Cash",
          "Cash",
          "Cash",
          "Credit/Debit Card",
          "Credit/Debit Card",
          "Cash",
          "Cash",
          "Cash",
          "Cash",
          "Mobile Payment App",
          "Credit/Debit Card",
          "Credit/Debit Card",
          "Credit/Debit Card",
          "Credit/Debit Card",
          "Credit/Debit Card",
          "Credit/Debit Card",
          "Credit/Debit Card",
          "Cash",
          "Credit/Debit Card",
          "Credit/Debit Card",
          "Mobile Payment App",
          "Mobile Payment App",
          "Mobile Payment App",
          "Mobile Payment App",
          "Cash",
          "Mobile Payment App",
          "Mobile Payment App",
          "Credit/Debit Card",
          "Mobile Payment App",
          "Credit/Debit Card",
          "Mobile Payment App",
          "Credit/Debit Card",
          "Cash",
          "Mobile Payment App",
          "Mobile Payment App",
          "Credit/Debit Card",
          "Mobile Payment App",
          "Credit/Debit Card",
          "Cash",
          "Mobile Payment App",
          "Cash",
          "Mobile Payment App"
         ],
         "xaxis": "x",
         "yaxis": "y"
        },
        {
         "alignmentgroup": "True",
         "bingroup": "x",
         "hovertemplate": "age=18<br>preferred_payment_method=%{x}<br>count=%{y}<extra></extra>",
         "legendgroup": "18",
         "marker": {
          "color": "#FF6692",
          "pattern": {
           "shape": ""
          }
         },
         "name": "18",
         "offsetgroup": "18",
         "orientation": "v",
         "showlegend": true,
         "texttemplate": "%{value}",
         "type": "histogram",
         "x": [
          "Mobile Payment App",
          "Cash",
          "Credit/Debit Card",
          "Mobile Payment App",
          "Cash",
          "Mobile Payment App",
          "Credit/Debit Card",
          "Mobile Payment App",
          "Credit/Debit Card",
          "Credit/Debit Card",
          "Credit/Debit Card",
          "Credit/Debit Card",
          "Credit/Debit Card",
          "Cash",
          "Credit/Debit Card",
          "Cash",
          "Mobile Payment App",
          "Credit/Debit Card",
          "Credit/Debit Card",
          "Credit/Debit Card",
          "Mobile Payment App",
          "Cash",
          "Credit/Debit Card",
          "Credit/Debit Card",
          "Credit/Debit Card",
          "Cash",
          "Credit/Debit Card",
          "Mobile Payment App",
          "Credit/Debit Card",
          "Cash",
          "Credit/Debit Card",
          "Mobile Payment App",
          "Credit/Debit Card",
          "Mobile Payment App",
          "Cash",
          "Cash",
          "Mobile Payment App",
          "Mobile Payment App",
          "Mobile Payment App",
          "Credit/Debit Card",
          "Credit/Debit Card",
          "Cash",
          "Cash",
          "Credit/Debit Card",
          "Mobile Payment App",
          "Cash",
          "Credit/Debit Card",
          "Mobile Payment App",
          "Cash",
          "Credit/Debit Card",
          "Mobile Payment App",
          "Credit/Debit Card",
          "Cash",
          "Mobile Payment App",
          "Cash",
          "Credit/Debit Card",
          "Credit/Debit Card",
          "Cash",
          "Mobile Payment App",
          "Cash",
          "Mobile Payment App",
          "Cash",
          "Credit/Debit Card",
          "Credit/Debit Card",
          "Cash",
          "Cash",
          "Cash",
          "Credit/Debit Card",
          "Cash",
          "Cash",
          "Cash",
          "Credit/Debit Card",
          "Mobile Payment App",
          "Credit/Debit Card",
          "Mobile Payment App",
          "Cash",
          "Cash",
          "Mobile Payment App",
          "Mobile Payment App",
          "Mobile Payment App",
          "Mobile Payment App",
          "Cash",
          "Mobile Payment App",
          "Cash",
          "Credit/Debit Card",
          "Credit/Debit Card",
          "Credit/Debit Card",
          "Credit/Debit Card",
          "Credit/Debit Card",
          "Credit/Debit Card",
          "Mobile Payment App",
          "Cash",
          "Mobile Payment App",
          "Cash",
          "Mobile Payment App",
          "Cash",
          "Mobile Payment App",
          "Cash",
          "Mobile Payment App",
          "Credit/Debit Card",
          "Cash",
          "Cash",
          "Mobile Payment App",
          "Mobile Payment App",
          "Credit/Debit Card",
          "Mobile Payment App",
          "Credit/Debit Card",
          "Mobile Payment App",
          "Mobile Payment App",
          "Cash",
          "Mobile Payment App",
          "Credit/Debit Card",
          "Mobile Payment App",
          "Cash",
          "Mobile Payment App",
          "Cash",
          "Credit/Debit Card",
          "Credit/Debit Card",
          "Credit/Debit Card",
          "Credit/Debit Card",
          "Mobile Payment App",
          "Cash",
          "Mobile Payment App",
          "Mobile Payment App"
         ],
         "xaxis": "x",
         "yaxis": "y"
        },
        {
         "alignmentgroup": "True",
         "bingroup": "x",
         "hovertemplate": "age=21<br>preferred_payment_method=%{x}<br>count=%{y}<extra></extra>",
         "legendgroup": "21",
         "marker": {
          "color": "#B6E880",
          "pattern": {
           "shape": ""
          }
         },
         "name": "21",
         "offsetgroup": "21",
         "orientation": "v",
         "showlegend": true,
         "texttemplate": "%{value}",
         "type": "histogram",
         "x": [
          "Credit/Debit Card",
          "Mobile Payment App",
          "Cash",
          "Cash",
          "Credit/Debit Card",
          "Credit/Debit Card",
          "Cash",
          "Mobile Payment App",
          "Cash",
          "Mobile Payment App",
          "Cash",
          "Mobile Payment App",
          "Credit/Debit Card",
          "Cash",
          "Credit/Debit Card",
          "Mobile Payment App",
          "Cash",
          "Credit/Debit Card",
          "Cash",
          "Credit/Debit Card",
          "Cash",
          "Mobile Payment App",
          "Credit/Debit Card",
          "Credit/Debit Card",
          "Mobile Payment App",
          "Credit/Debit Card",
          "Credit/Debit Card",
          "Credit/Debit Card",
          "Cash",
          "Cash",
          "Mobile Payment App",
          "Credit/Debit Card",
          "Mobile Payment App",
          "Mobile Payment App",
          "Cash",
          "Cash",
          "Credit/Debit Card",
          "Credit/Debit Card",
          "Credit/Debit Card",
          "Mobile Payment App",
          "Mobile Payment App",
          "Mobile Payment App",
          "Mobile Payment App",
          "Mobile Payment App",
          "Credit/Debit Card",
          "Credit/Debit Card",
          "Mobile Payment App",
          "Credit/Debit Card",
          "Mobile Payment App",
          "Cash",
          "Mobile Payment App",
          "Cash",
          "Mobile Payment App",
          "Mobile Payment App",
          "Credit/Debit Card",
          "Credit/Debit Card",
          "Credit/Debit Card",
          "Mobile Payment App",
          "Cash",
          "Credit/Debit Card",
          "Mobile Payment App",
          "Cash",
          "Cash",
          "Credit/Debit Card",
          "Credit/Debit Card",
          "Cash",
          "Credit/Debit Card",
          "Mobile Payment App",
          "Mobile Payment App",
          "Cash",
          "Cash",
          "Credit/Debit Card",
          "Cash",
          "Cash",
          "Credit/Debit Card",
          "Cash",
          "Mobile Payment App",
          "Credit/Debit Card",
          "Mobile Payment App",
          "Credit/Debit Card",
          "Mobile Payment App",
          "Mobile Payment App",
          "Mobile Payment App",
          "Cash",
          "Cash",
          "Credit/Debit Card",
          "Cash",
          "Credit/Debit Card",
          "Cash",
          "Credit/Debit Card",
          "Cash",
          "Mobile Payment App",
          "Cash",
          "Credit/Debit Card",
          "Cash",
          "Credit/Debit Card",
          "Credit/Debit Card",
          "Mobile Payment App",
          "Cash",
          "Cash",
          "Mobile Payment App",
          "Cash",
          "Mobile Payment App",
          "Mobile Payment App",
          "Mobile Payment App",
          "Mobile Payment App",
          "Mobile Payment App",
          "Credit/Debit Card",
          "Cash",
          "Mobile Payment App",
          "Credit/Debit Card",
          "Mobile Payment App",
          "Credit/Debit Card",
          "Credit/Debit Card",
          "Cash",
          "Credit/Debit Card",
          "Cash",
          "Cash"
         ],
         "xaxis": "x",
         "yaxis": "y"
        }
       ],
       "layout": {
        "barmode": "relative",
        "legend": {
         "title": {
          "text": "age"
         },
         "tracegroupgap": 0
        },
        "margin": {
         "t": 60
        },
        "template": {
         "data": {
          "bar": [
           {
            "error_x": {
             "color": "#2a3f5f"
            },
            "error_y": {
             "color": "#2a3f5f"
            },
            "marker": {
             "line": {
              "color": "#E5ECF6",
              "width": 0.5
             },
             "pattern": {
              "fillmode": "overlay",
              "size": 10,
              "solidity": 0.2
             }
            },
            "type": "bar"
           }
          ],
          "barpolar": [
           {
            "marker": {
             "line": {
              "color": "#E5ECF6",
              "width": 0.5
             },
             "pattern": {
              "fillmode": "overlay",
              "size": 10,
              "solidity": 0.2
             }
            },
            "type": "barpolar"
           }
          ],
          "carpet": [
           {
            "aaxis": {
             "endlinecolor": "#2a3f5f",
             "gridcolor": "white",
             "linecolor": "white",
             "minorgridcolor": "white",
             "startlinecolor": "#2a3f5f"
            },
            "baxis": {
             "endlinecolor": "#2a3f5f",
             "gridcolor": "white",
             "linecolor": "white",
             "minorgridcolor": "white",
             "startlinecolor": "#2a3f5f"
            },
            "type": "carpet"
           }
          ],
          "choropleth": [
           {
            "colorbar": {
             "outlinewidth": 0,
             "ticks": ""
            },
            "type": "choropleth"
           }
          ],
          "contour": [
           {
            "colorbar": {
             "outlinewidth": 0,
             "ticks": ""
            },
            "colorscale": [
             [
              0,
              "#0d0887"
             ],
             [
              0.1111111111111111,
              "#46039f"
             ],
             [
              0.2222222222222222,
              "#7201a8"
             ],
             [
              0.3333333333333333,
              "#9c179e"
             ],
             [
              0.4444444444444444,
              "#bd3786"
             ],
             [
              0.5555555555555556,
              "#d8576b"
             ],
             [
              0.6666666666666666,
              "#ed7953"
             ],
             [
              0.7777777777777778,
              "#fb9f3a"
             ],
             [
              0.8888888888888888,
              "#fdca26"
             ],
             [
              1,
              "#f0f921"
             ]
            ],
            "type": "contour"
           }
          ],
          "contourcarpet": [
           {
            "colorbar": {
             "outlinewidth": 0,
             "ticks": ""
            },
            "type": "contourcarpet"
           }
          ],
          "heatmap": [
           {
            "colorbar": {
             "outlinewidth": 0,
             "ticks": ""
            },
            "colorscale": [
             [
              0,
              "#0d0887"
             ],
             [
              0.1111111111111111,
              "#46039f"
             ],
             [
              0.2222222222222222,
              "#7201a8"
             ],
             [
              0.3333333333333333,
              "#9c179e"
             ],
             [
              0.4444444444444444,
              "#bd3786"
             ],
             [
              0.5555555555555556,
              "#d8576b"
             ],
             [
              0.6666666666666666,
              "#ed7953"
             ],
             [
              0.7777777777777778,
              "#fb9f3a"
             ],
             [
              0.8888888888888888,
              "#fdca26"
             ],
             [
              1,
              "#f0f921"
             ]
            ],
            "type": "heatmap"
           }
          ],
          "heatmapgl": [
           {
            "colorbar": {
             "outlinewidth": 0,
             "ticks": ""
            },
            "colorscale": [
             [
              0,
              "#0d0887"
             ],
             [
              0.1111111111111111,
              "#46039f"
             ],
             [
              0.2222222222222222,
              "#7201a8"
             ],
             [
              0.3333333333333333,
              "#9c179e"
             ],
             [
              0.4444444444444444,
              "#bd3786"
             ],
             [
              0.5555555555555556,
              "#d8576b"
             ],
             [
              0.6666666666666666,
              "#ed7953"
             ],
             [
              0.7777777777777778,
              "#fb9f3a"
             ],
             [
              0.8888888888888888,
              "#fdca26"
             ],
             [
              1,
              "#f0f921"
             ]
            ],
            "type": "heatmapgl"
           }
          ],
          "histogram": [
           {
            "marker": {
             "pattern": {
              "fillmode": "overlay",
              "size": 10,
              "solidity": 0.2
             }
            },
            "type": "histogram"
           }
          ],
          "histogram2d": [
           {
            "colorbar": {
             "outlinewidth": 0,
             "ticks": ""
            },
            "colorscale": [
             [
              0,
              "#0d0887"
             ],
             [
              0.1111111111111111,
              "#46039f"
             ],
             [
              0.2222222222222222,
              "#7201a8"
             ],
             [
              0.3333333333333333,
              "#9c179e"
             ],
             [
              0.4444444444444444,
              "#bd3786"
             ],
             [
              0.5555555555555556,
              "#d8576b"
             ],
             [
              0.6666666666666666,
              "#ed7953"
             ],
             [
              0.7777777777777778,
              "#fb9f3a"
             ],
             [
              0.8888888888888888,
              "#fdca26"
             ],
             [
              1,
              "#f0f921"
             ]
            ],
            "type": "histogram2d"
           }
          ],
          "histogram2dcontour": [
           {
            "colorbar": {
             "outlinewidth": 0,
             "ticks": ""
            },
            "colorscale": [
             [
              0,
              "#0d0887"
             ],
             [
              0.1111111111111111,
              "#46039f"
             ],
             [
              0.2222222222222222,
              "#7201a8"
             ],
             [
              0.3333333333333333,
              "#9c179e"
             ],
             [
              0.4444444444444444,
              "#bd3786"
             ],
             [
              0.5555555555555556,
              "#d8576b"
             ],
             [
              0.6666666666666666,
              "#ed7953"
             ],
             [
              0.7777777777777778,
              "#fb9f3a"
             ],
             [
              0.8888888888888888,
              "#fdca26"
             ],
             [
              1,
              "#f0f921"
             ]
            ],
            "type": "histogram2dcontour"
           }
          ],
          "mesh3d": [
           {
            "colorbar": {
             "outlinewidth": 0,
             "ticks": ""
            },
            "type": "mesh3d"
           }
          ],
          "parcoords": [
           {
            "line": {
             "colorbar": {
              "outlinewidth": 0,
              "ticks": ""
             }
            },
            "type": "parcoords"
           }
          ],
          "pie": [
           {
            "automargin": true,
            "type": "pie"
           }
          ],
          "scatter": [
           {
            "fillpattern": {
             "fillmode": "overlay",
             "size": 10,
             "solidity": 0.2
            },
            "type": "scatter"
           }
          ],
          "scatter3d": [
           {
            "line": {
             "colorbar": {
              "outlinewidth": 0,
              "ticks": ""
             }
            },
            "marker": {
             "colorbar": {
              "outlinewidth": 0,
              "ticks": ""
             }
            },
            "type": "scatter3d"
           }
          ],
          "scattercarpet": [
           {
            "marker": {
             "colorbar": {
              "outlinewidth": 0,
              "ticks": ""
             }
            },
            "type": "scattercarpet"
           }
          ],
          "scattergeo": [
           {
            "marker": {
             "colorbar": {
              "outlinewidth": 0,
              "ticks": ""
             }
            },
            "type": "scattergeo"
           }
          ],
          "scattergl": [
           {
            "marker": {
             "colorbar": {
              "outlinewidth": 0,
              "ticks": ""
             }
            },
            "type": "scattergl"
           }
          ],
          "scattermapbox": [
           {
            "marker": {
             "colorbar": {
              "outlinewidth": 0,
              "ticks": ""
             }
            },
            "type": "scattermapbox"
           }
          ],
          "scatterpolar": [
           {
            "marker": {
             "colorbar": {
              "outlinewidth": 0,
              "ticks": ""
             }
            },
            "type": "scatterpolar"
           }
          ],
          "scatterpolargl": [
           {
            "marker": {
             "colorbar": {
              "outlinewidth": 0,
              "ticks": ""
             }
            },
            "type": "scatterpolargl"
           }
          ],
          "scatterternary": [
           {
            "marker": {
             "colorbar": {
              "outlinewidth": 0,
              "ticks": ""
             }
            },
            "type": "scatterternary"
           }
          ],
          "surface": [
           {
            "colorbar": {
             "outlinewidth": 0,
             "ticks": ""
            },
            "colorscale": [
             [
              0,
              "#0d0887"
             ],
             [
              0.1111111111111111,
              "#46039f"
             ],
             [
              0.2222222222222222,
              "#7201a8"
             ],
             [
              0.3333333333333333,
              "#9c179e"
             ],
             [
              0.4444444444444444,
              "#bd3786"
             ],
             [
              0.5555555555555556,
              "#d8576b"
             ],
             [
              0.6666666666666666,
              "#ed7953"
             ],
             [
              0.7777777777777778,
              "#fb9f3a"
             ],
             [
              0.8888888888888888,
              "#fdca26"
             ],
             [
              1,
              "#f0f921"
             ]
            ],
            "type": "surface"
           }
          ],
          "table": [
           {
            "cells": {
             "fill": {
              "color": "#EBF0F8"
             },
             "line": {
              "color": "white"
             }
            },
            "header": {
             "fill": {
              "color": "#C8D4E3"
             },
             "line": {
              "color": "white"
             }
            },
            "type": "table"
           }
          ]
         },
         "layout": {
          "annotationdefaults": {
           "arrowcolor": "#2a3f5f",
           "arrowhead": 0,
           "arrowwidth": 1
          },
          "autotypenumbers": "strict",
          "coloraxis": {
           "colorbar": {
            "outlinewidth": 0,
            "ticks": ""
           }
          },
          "colorscale": {
           "diverging": [
            [
             0,
             "#8e0152"
            ],
            [
             0.1,
             "#c51b7d"
            ],
            [
             0.2,
             "#de77ae"
            ],
            [
             0.3,
             "#f1b6da"
            ],
            [
             0.4,
             "#fde0ef"
            ],
            [
             0.5,
             "#f7f7f7"
            ],
            [
             0.6,
             "#e6f5d0"
            ],
            [
             0.7,
             "#b8e186"
            ],
            [
             0.8,
             "#7fbc41"
            ],
            [
             0.9,
             "#4d9221"
            ],
            [
             1,
             "#276419"
            ]
           ],
           "sequential": [
            [
             0,
             "#0d0887"
            ],
            [
             0.1111111111111111,
             "#46039f"
            ],
            [
             0.2222222222222222,
             "#7201a8"
            ],
            [
             0.3333333333333333,
             "#9c179e"
            ],
            [
             0.4444444444444444,
             "#bd3786"
            ],
            [
             0.5555555555555556,
             "#d8576b"
            ],
            [
             0.6666666666666666,
             "#ed7953"
            ],
            [
             0.7777777777777778,
             "#fb9f3a"
            ],
            [
             0.8888888888888888,
             "#fdca26"
            ],
            [
             1,
             "#f0f921"
            ]
           ],
           "sequentialminus": [
            [
             0,
             "#0d0887"
            ],
            [
             0.1111111111111111,
             "#46039f"
            ],
            [
             0.2222222222222222,
             "#7201a8"
            ],
            [
             0.3333333333333333,
             "#9c179e"
            ],
            [
             0.4444444444444444,
             "#bd3786"
            ],
            [
             0.5555555555555556,
             "#d8576b"
            ],
            [
             0.6666666666666666,
             "#ed7953"
            ],
            [
             0.7777777777777778,
             "#fb9f3a"
            ],
            [
             0.8888888888888888,
             "#fdca26"
            ],
            [
             1,
             "#f0f921"
            ]
           ]
          },
          "colorway": [
           "#636efa",
           "#EF553B",
           "#00cc96",
           "#ab63fa",
           "#FFA15A",
           "#19d3f3",
           "#FF6692",
           "#B6E880",
           "#FF97FF",
           "#FECB52"
          ],
          "font": {
           "color": "#2a3f5f"
          },
          "geo": {
           "bgcolor": "white",
           "lakecolor": "white",
           "landcolor": "#E5ECF6",
           "showlakes": true,
           "showland": true,
           "subunitcolor": "white"
          },
          "hoverlabel": {
           "align": "left"
          },
          "hovermode": "closest",
          "mapbox": {
           "style": "light"
          },
          "paper_bgcolor": "white",
          "plot_bgcolor": "#E5ECF6",
          "polar": {
           "angularaxis": {
            "gridcolor": "white",
            "linecolor": "white",
            "ticks": ""
           },
           "bgcolor": "#E5ECF6",
           "radialaxis": {
            "gridcolor": "white",
            "linecolor": "white",
            "ticks": ""
           }
          },
          "scene": {
           "xaxis": {
            "backgroundcolor": "#E5ECF6",
            "gridcolor": "white",
            "gridwidth": 2,
            "linecolor": "white",
            "showbackground": true,
            "ticks": "",
            "zerolinecolor": "white"
           },
           "yaxis": {
            "backgroundcolor": "#E5ECF6",
            "gridcolor": "white",
            "gridwidth": 2,
            "linecolor": "white",
            "showbackground": true,
            "ticks": "",
            "zerolinecolor": "white"
           },
           "zaxis": {
            "backgroundcolor": "#E5ECF6",
            "gridcolor": "white",
            "gridwidth": 2,
            "linecolor": "white",
            "showbackground": true,
            "ticks": "",
            "zerolinecolor": "white"
           }
          },
          "shapedefaults": {
           "line": {
            "color": "#2a3f5f"
           }
          },
          "ternary": {
           "aaxis": {
            "gridcolor": "white",
            "linecolor": "white",
            "ticks": ""
           },
           "baxis": {
            "gridcolor": "white",
            "linecolor": "white",
            "ticks": ""
           },
           "bgcolor": "#E5ECF6",
           "caxis": {
            "gridcolor": "white",
            "linecolor": "white",
            "ticks": ""
           }
          },
          "title": {
           "x": 0.05
          },
          "xaxis": {
           "automargin": true,
           "gridcolor": "white",
           "linecolor": "white",
           "ticks": "",
           "title": {
            "standoff": 15
           },
           "zerolinecolor": "white",
           "zerolinewidth": 2
          },
          "yaxis": {
           "automargin": true,
           "gridcolor": "white",
           "linecolor": "white",
           "ticks": "",
           "title": {
            "standoff": 15
           },
           "zerolinecolor": "white",
           "zerolinewidth": 2
          }
         }
        },
        "xaxis": {
         "anchor": "y",
         "domain": [
          0,
          1
         ],
         "title": {
          "text": "preferred_payment_method"
         }
        },
        "yaxis": {
         "anchor": "x",
         "domain": [
          0,
          1
         ],
         "title": {
          "text": "count"
         }
        }
       }
      }
     },
     "metadata": {},
     "output_type": "display_data"
    }
   ],
   "source": [
    "#What is the distribution of prefered payment method among different age groups?\n",
    "fig = px.histogram(df, x='preferred_payment_method', text_auto= True, color='age')\n",
    "fig.show()"
   ]
  },
  {
   "cell_type": "code",
   "execution_count": 8,
   "metadata": {},
   "outputs": [
    {
     "data": {
      "application/vnd.plotly.v1+json": {
       "config": {
        "plotlyServerURL": "https://plot.ly"
       },
       "data": [
        {
         "alignmentgroup": "True",
         "hovertemplate": "gender=Female<br>year_in_school=%{x}<br>housing=%{text}<extra></extra>",
         "legendgroup": "Female",
         "marker": {
          "color": "#636efa",
          "pattern": {
           "shape": ""
          }
         },
         "name": "Female",
         "offsetgroup": "Female",
         "orientation": "v",
         "showlegend": true,
         "text": [
          53457,
          57625,
          61796,
          49832
         ],
         "textposition": "auto",
         "type": "bar",
         "x": [
          "Freshman",
          "Junior",
          "Senior",
          "Sophomore"
         ],
         "xaxis": "x",
         "y": [
          53457,
          57625,
          61796,
          49832
         ],
         "yaxis": "y"
        },
        {
         "alignmentgroup": "True",
         "hovertemplate": "gender=Male<br>year_in_school=%{x}<br>housing=%{text}<extra></extra>",
         "legendgroup": "Male",
         "marker": {
          "color": "#EF553B",
          "pattern": {
           "shape": ""
          }
         },
         "name": "Male",
         "offsetgroup": "Male",
         "orientation": "v",
         "showlegend": true,
         "text": [
          65324,
          58317,
          64434,
          63886
         ],
         "textposition": "auto",
         "type": "bar",
         "x": [
          "Freshman",
          "Junior",
          "Senior",
          "Sophomore"
         ],
         "xaxis": "x",
         "y": [
          65324,
          58317,
          64434,
          63886
         ],
         "yaxis": "y"
        },
        {
         "alignmentgroup": "True",
         "hovertemplate": "gender=Non-binary<br>year_in_school=%{x}<br>housing=%{text}<extra></extra>",
         "legendgroup": "Non-binary",
         "marker": {
          "color": "#00cc96",
          "pattern": {
           "shape": ""
          }
         },
         "name": "Non-binary",
         "offsetgroup": "Non-binary",
         "orientation": "v",
         "showlegend": true,
         "text": [
          59132,
          58265,
          53845,
          50093
         ],
         "textposition": "auto",
         "type": "bar",
         "x": [
          "Freshman",
          "Junior",
          "Senior",
          "Sophomore"
         ],
         "xaxis": "x",
         "y": [
          59132,
          58265,
          53845,
          50093
         ],
         "yaxis": "y"
        }
       ],
       "layout": {
        "barmode": "group",
        "legend": {
         "title": {
          "text": "gender"
         },
         "tracegroupgap": 0
        },
        "margin": {
         "t": 60
        },
        "template": {
         "data": {
          "bar": [
           {
            "error_x": {
             "color": "#2a3f5f"
            },
            "error_y": {
             "color": "#2a3f5f"
            },
            "marker": {
             "line": {
              "color": "#E5ECF6",
              "width": 0.5
             },
             "pattern": {
              "fillmode": "overlay",
              "size": 10,
              "solidity": 0.2
             }
            },
            "type": "bar"
           }
          ],
          "barpolar": [
           {
            "marker": {
             "line": {
              "color": "#E5ECF6",
              "width": 0.5
             },
             "pattern": {
              "fillmode": "overlay",
              "size": 10,
              "solidity": 0.2
             }
            },
            "type": "barpolar"
           }
          ],
          "carpet": [
           {
            "aaxis": {
             "endlinecolor": "#2a3f5f",
             "gridcolor": "white",
             "linecolor": "white",
             "minorgridcolor": "white",
             "startlinecolor": "#2a3f5f"
            },
            "baxis": {
             "endlinecolor": "#2a3f5f",
             "gridcolor": "white",
             "linecolor": "white",
             "minorgridcolor": "white",
             "startlinecolor": "#2a3f5f"
            },
            "type": "carpet"
           }
          ],
          "choropleth": [
           {
            "colorbar": {
             "outlinewidth": 0,
             "ticks": ""
            },
            "type": "choropleth"
           }
          ],
          "contour": [
           {
            "colorbar": {
             "outlinewidth": 0,
             "ticks": ""
            },
            "colorscale": [
             [
              0,
              "#0d0887"
             ],
             [
              0.1111111111111111,
              "#46039f"
             ],
             [
              0.2222222222222222,
              "#7201a8"
             ],
             [
              0.3333333333333333,
              "#9c179e"
             ],
             [
              0.4444444444444444,
              "#bd3786"
             ],
             [
              0.5555555555555556,
              "#d8576b"
             ],
             [
              0.6666666666666666,
              "#ed7953"
             ],
             [
              0.7777777777777778,
              "#fb9f3a"
             ],
             [
              0.8888888888888888,
              "#fdca26"
             ],
             [
              1,
              "#f0f921"
             ]
            ],
            "type": "contour"
           }
          ],
          "contourcarpet": [
           {
            "colorbar": {
             "outlinewidth": 0,
             "ticks": ""
            },
            "type": "contourcarpet"
           }
          ],
          "heatmap": [
           {
            "colorbar": {
             "outlinewidth": 0,
             "ticks": ""
            },
            "colorscale": [
             [
              0,
              "#0d0887"
             ],
             [
              0.1111111111111111,
              "#46039f"
             ],
             [
              0.2222222222222222,
              "#7201a8"
             ],
             [
              0.3333333333333333,
              "#9c179e"
             ],
             [
              0.4444444444444444,
              "#bd3786"
             ],
             [
              0.5555555555555556,
              "#d8576b"
             ],
             [
              0.6666666666666666,
              "#ed7953"
             ],
             [
              0.7777777777777778,
              "#fb9f3a"
             ],
             [
              0.8888888888888888,
              "#fdca26"
             ],
             [
              1,
              "#f0f921"
             ]
            ],
            "type": "heatmap"
           }
          ],
          "heatmapgl": [
           {
            "colorbar": {
             "outlinewidth": 0,
             "ticks": ""
            },
            "colorscale": [
             [
              0,
              "#0d0887"
             ],
             [
              0.1111111111111111,
              "#46039f"
             ],
             [
              0.2222222222222222,
              "#7201a8"
             ],
             [
              0.3333333333333333,
              "#9c179e"
             ],
             [
              0.4444444444444444,
              "#bd3786"
             ],
             [
              0.5555555555555556,
              "#d8576b"
             ],
             [
              0.6666666666666666,
              "#ed7953"
             ],
             [
              0.7777777777777778,
              "#fb9f3a"
             ],
             [
              0.8888888888888888,
              "#fdca26"
             ],
             [
              1,
              "#f0f921"
             ]
            ],
            "type": "heatmapgl"
           }
          ],
          "histogram": [
           {
            "marker": {
             "pattern": {
              "fillmode": "overlay",
              "size": 10,
              "solidity": 0.2
             }
            },
            "type": "histogram"
           }
          ],
          "histogram2d": [
           {
            "colorbar": {
             "outlinewidth": 0,
             "ticks": ""
            },
            "colorscale": [
             [
              0,
              "#0d0887"
             ],
             [
              0.1111111111111111,
              "#46039f"
             ],
             [
              0.2222222222222222,
              "#7201a8"
             ],
             [
              0.3333333333333333,
              "#9c179e"
             ],
             [
              0.4444444444444444,
              "#bd3786"
             ],
             [
              0.5555555555555556,
              "#d8576b"
             ],
             [
              0.6666666666666666,
              "#ed7953"
             ],
             [
              0.7777777777777778,
              "#fb9f3a"
             ],
             [
              0.8888888888888888,
              "#fdca26"
             ],
             [
              1,
              "#f0f921"
             ]
            ],
            "type": "histogram2d"
           }
          ],
          "histogram2dcontour": [
           {
            "colorbar": {
             "outlinewidth": 0,
             "ticks": ""
            },
            "colorscale": [
             [
              0,
              "#0d0887"
             ],
             [
              0.1111111111111111,
              "#46039f"
             ],
             [
              0.2222222222222222,
              "#7201a8"
             ],
             [
              0.3333333333333333,
              "#9c179e"
             ],
             [
              0.4444444444444444,
              "#bd3786"
             ],
             [
              0.5555555555555556,
              "#d8576b"
             ],
             [
              0.6666666666666666,
              "#ed7953"
             ],
             [
              0.7777777777777778,
              "#fb9f3a"
             ],
             [
              0.8888888888888888,
              "#fdca26"
             ],
             [
              1,
              "#f0f921"
             ]
            ],
            "type": "histogram2dcontour"
           }
          ],
          "mesh3d": [
           {
            "colorbar": {
             "outlinewidth": 0,
             "ticks": ""
            },
            "type": "mesh3d"
           }
          ],
          "parcoords": [
           {
            "line": {
             "colorbar": {
              "outlinewidth": 0,
              "ticks": ""
             }
            },
            "type": "parcoords"
           }
          ],
          "pie": [
           {
            "automargin": true,
            "type": "pie"
           }
          ],
          "scatter": [
           {
            "fillpattern": {
             "fillmode": "overlay",
             "size": 10,
             "solidity": 0.2
            },
            "type": "scatter"
           }
          ],
          "scatter3d": [
           {
            "line": {
             "colorbar": {
              "outlinewidth": 0,
              "ticks": ""
             }
            },
            "marker": {
             "colorbar": {
              "outlinewidth": 0,
              "ticks": ""
             }
            },
            "type": "scatter3d"
           }
          ],
          "scattercarpet": [
           {
            "marker": {
             "colorbar": {
              "outlinewidth": 0,
              "ticks": ""
             }
            },
            "type": "scattercarpet"
           }
          ],
          "scattergeo": [
           {
            "marker": {
             "colorbar": {
              "outlinewidth": 0,
              "ticks": ""
             }
            },
            "type": "scattergeo"
           }
          ],
          "scattergl": [
           {
            "marker": {
             "colorbar": {
              "outlinewidth": 0,
              "ticks": ""
             }
            },
            "type": "scattergl"
           }
          ],
          "scattermapbox": [
           {
            "marker": {
             "colorbar": {
              "outlinewidth": 0,
              "ticks": ""
             }
            },
            "type": "scattermapbox"
           }
          ],
          "scatterpolar": [
           {
            "marker": {
             "colorbar": {
              "outlinewidth": 0,
              "ticks": ""
             }
            },
            "type": "scatterpolar"
           }
          ],
          "scatterpolargl": [
           {
            "marker": {
             "colorbar": {
              "outlinewidth": 0,
              "ticks": ""
             }
            },
            "type": "scatterpolargl"
           }
          ],
          "scatterternary": [
           {
            "marker": {
             "colorbar": {
              "outlinewidth": 0,
              "ticks": ""
             }
            },
            "type": "scatterternary"
           }
          ],
          "surface": [
           {
            "colorbar": {
             "outlinewidth": 0,
             "ticks": ""
            },
            "colorscale": [
             [
              0,
              "#0d0887"
             ],
             [
              0.1111111111111111,
              "#46039f"
             ],
             [
              0.2222222222222222,
              "#7201a8"
             ],
             [
              0.3333333333333333,
              "#9c179e"
             ],
             [
              0.4444444444444444,
              "#bd3786"
             ],
             [
              0.5555555555555556,
              "#d8576b"
             ],
             [
              0.6666666666666666,
              "#ed7953"
             ],
             [
              0.7777777777777778,
              "#fb9f3a"
             ],
             [
              0.8888888888888888,
              "#fdca26"
             ],
             [
              1,
              "#f0f921"
             ]
            ],
            "type": "surface"
           }
          ],
          "table": [
           {
            "cells": {
             "fill": {
              "color": "#EBF0F8"
             },
             "line": {
              "color": "white"
             }
            },
            "header": {
             "fill": {
              "color": "#C8D4E3"
             },
             "line": {
              "color": "white"
             }
            },
            "type": "table"
           }
          ]
         },
         "layout": {
          "annotationdefaults": {
           "arrowcolor": "#2a3f5f",
           "arrowhead": 0,
           "arrowwidth": 1
          },
          "autotypenumbers": "strict",
          "coloraxis": {
           "colorbar": {
            "outlinewidth": 0,
            "ticks": ""
           }
          },
          "colorscale": {
           "diverging": [
            [
             0,
             "#8e0152"
            ],
            [
             0.1,
             "#c51b7d"
            ],
            [
             0.2,
             "#de77ae"
            ],
            [
             0.3,
             "#f1b6da"
            ],
            [
             0.4,
             "#fde0ef"
            ],
            [
             0.5,
             "#f7f7f7"
            ],
            [
             0.6,
             "#e6f5d0"
            ],
            [
             0.7,
             "#b8e186"
            ],
            [
             0.8,
             "#7fbc41"
            ],
            [
             0.9,
             "#4d9221"
            ],
            [
             1,
             "#276419"
            ]
           ],
           "sequential": [
            [
             0,
             "#0d0887"
            ],
            [
             0.1111111111111111,
             "#46039f"
            ],
            [
             0.2222222222222222,
             "#7201a8"
            ],
            [
             0.3333333333333333,
             "#9c179e"
            ],
            [
             0.4444444444444444,
             "#bd3786"
            ],
            [
             0.5555555555555556,
             "#d8576b"
            ],
            [
             0.6666666666666666,
             "#ed7953"
            ],
            [
             0.7777777777777778,
             "#fb9f3a"
            ],
            [
             0.8888888888888888,
             "#fdca26"
            ],
            [
             1,
             "#f0f921"
            ]
           ],
           "sequentialminus": [
            [
             0,
             "#0d0887"
            ],
            [
             0.1111111111111111,
             "#46039f"
            ],
            [
             0.2222222222222222,
             "#7201a8"
            ],
            [
             0.3333333333333333,
             "#9c179e"
            ],
            [
             0.4444444444444444,
             "#bd3786"
            ],
            [
             0.5555555555555556,
             "#d8576b"
            ],
            [
             0.6666666666666666,
             "#ed7953"
            ],
            [
             0.7777777777777778,
             "#fb9f3a"
            ],
            [
             0.8888888888888888,
             "#fdca26"
            ],
            [
             1,
             "#f0f921"
            ]
           ]
          },
          "colorway": [
           "#636efa",
           "#EF553B",
           "#00cc96",
           "#ab63fa",
           "#FFA15A",
           "#19d3f3",
           "#FF6692",
           "#B6E880",
           "#FF97FF",
           "#FECB52"
          ],
          "font": {
           "color": "#2a3f5f"
          },
          "geo": {
           "bgcolor": "white",
           "lakecolor": "white",
           "landcolor": "#E5ECF6",
           "showlakes": true,
           "showland": true,
           "subunitcolor": "white"
          },
          "hoverlabel": {
           "align": "left"
          },
          "hovermode": "closest",
          "mapbox": {
           "style": "light"
          },
          "paper_bgcolor": "white",
          "plot_bgcolor": "#E5ECF6",
          "polar": {
           "angularaxis": {
            "gridcolor": "white",
            "linecolor": "white",
            "ticks": ""
           },
           "bgcolor": "#E5ECF6",
           "radialaxis": {
            "gridcolor": "white",
            "linecolor": "white",
            "ticks": ""
           }
          },
          "scene": {
           "xaxis": {
            "backgroundcolor": "#E5ECF6",
            "gridcolor": "white",
            "gridwidth": 2,
            "linecolor": "white",
            "showbackground": true,
            "ticks": "",
            "zerolinecolor": "white"
           },
           "yaxis": {
            "backgroundcolor": "#E5ECF6",
            "gridcolor": "white",
            "gridwidth": 2,
            "linecolor": "white",
            "showbackground": true,
            "ticks": "",
            "zerolinecolor": "white"
           },
           "zaxis": {
            "backgroundcolor": "#E5ECF6",
            "gridcolor": "white",
            "gridwidth": 2,
            "linecolor": "white",
            "showbackground": true,
            "ticks": "",
            "zerolinecolor": "white"
           }
          },
          "shapedefaults": {
           "line": {
            "color": "#2a3f5f"
           }
          },
          "ternary": {
           "aaxis": {
            "gridcolor": "white",
            "linecolor": "white",
            "ticks": ""
           },
           "baxis": {
            "gridcolor": "white",
            "linecolor": "white",
            "ticks": ""
           },
           "bgcolor": "#E5ECF6",
           "caxis": {
            "gridcolor": "white",
            "linecolor": "white",
            "ticks": ""
           }
          },
          "title": {
           "x": 0.05
          },
          "xaxis": {
           "automargin": true,
           "gridcolor": "white",
           "linecolor": "white",
           "ticks": "",
           "title": {
            "standoff": 15
           },
           "zerolinecolor": "white",
           "zerolinewidth": 2
          },
          "yaxis": {
           "automargin": true,
           "gridcolor": "white",
           "linecolor": "white",
           "ticks": "",
           "title": {
            "standoff": 15
           },
           "zerolinecolor": "white",
           "zerolinewidth": 2
          }
         }
        },
        "xaxis": {
         "anchor": "y",
         "domain": [
          0,
          1
         ],
         "title": {
          "text": "year_in_school"
         }
        },
        "yaxis": {
         "anchor": "x",
         "domain": [
          0,
          1
         ],
         "title": {
          "text": "housing"
         }
        }
       }
      }
     },
     "metadata": {},
     "output_type": "display_data"
    }
   ],
   "source": [
    "#ow do housing expenses compare between different enders within  each year in school?\n",
    "df_housing = df.groupby(['year_in_school','gender'])['housing'].apply('sum')\n",
    "df_housing= df_housing.reset_index()\n",
    "fig =px.bar(df_housing, x='year_in_school', y='housing', color='gender', text='housing', barmode='group')\n",
    "fig.show()"
   ]
  },
  {
   "cell_type": "code",
   "execution_count": 10,
   "metadata": {},
   "outputs": [
    {
     "data": {
      "application/vnd.plotly.v1+json": {
       "config": {
        "plotlyServerURL": "https://plot.ly"
       },
       "data": [
        {
         "domain": {
          "x": [
           0,
           1
          ],
          "y": [
           0,
           1
          ]
         },
         "hovertemplate": "major=%{label}<br>financial_aid=%{value}<extra></extra>",
         "labels": [
          "Psychology",
          "Economics",
          "Economics",
          "Computer Science",
          "Computer Science",
          "Computer Science",
          "Engineering",
          "Economics",
          "Computer Science",
          "Computer Science",
          "Biology",
          "Engineering",
          "Economics",
          "Biology",
          "Economics",
          "Computer Science",
          "Psychology",
          "Computer Science",
          "Psychology",
          "Engineering",
          "Psychology",
          "Computer Science",
          "Biology",
          "Economics",
          "Economics",
          "Biology",
          "Economics",
          "Psychology",
          "Psychology",
          "Engineering",
          "Economics",
          "Psychology",
          "Computer Science",
          "Economics",
          "Biology",
          "Biology",
          "Engineering",
          "Computer Science",
          "Biology",
          "Engineering",
          "Engineering",
          "Economics",
          "Economics",
          "Psychology",
          "Economics",
          "Computer Science",
          "Psychology",
          "Psychology",
          "Psychology",
          "Economics",
          "Engineering",
          "Economics",
          "Computer Science",
          "Psychology",
          "Engineering",
          "Engineering",
          "Computer Science",
          "Economics",
          "Biology",
          "Biology",
          "Engineering",
          "Engineering",
          "Biology",
          "Economics",
          "Computer Science",
          "Biology",
          "Economics",
          "Engineering",
          "Engineering",
          "Economics",
          "Economics",
          "Computer Science",
          "Economics",
          "Biology",
          "Engineering",
          "Computer Science",
          "Computer Science",
          "Computer Science",
          "Economics",
          "Economics",
          "Biology",
          "Biology",
          "Biology",
          "Computer Science",
          "Biology",
          "Computer Science",
          "Computer Science",
          "Computer Science",
          "Economics",
          "Economics",
          "Psychology",
          "Economics",
          "Economics",
          "Economics",
          "Computer Science",
          "Engineering",
          "Economics",
          "Biology",
          "Biology",
          "Psychology",
          "Psychology",
          "Psychology",
          "Psychology",
          "Psychology",
          "Psychology",
          "Computer Science",
          "Psychology",
          "Biology",
          "Computer Science",
          "Psychology",
          "Economics",
          "Economics",
          "Psychology",
          "Computer Science",
          "Engineering",
          "Biology",
          "Engineering",
          "Engineering",
          "Engineering",
          "Psychology",
          "Psychology",
          "Biology",
          "Computer Science",
          "Economics",
          "Biology",
          "Engineering",
          "Biology",
          "Engineering",
          "Engineering",
          "Computer Science",
          "Biology",
          "Engineering",
          "Psychology",
          "Engineering",
          "Economics",
          "Psychology",
          "Computer Science",
          "Psychology",
          "Economics",
          "Psychology",
          "Computer Science",
          "Computer Science",
          "Psychology",
          "Computer Science",
          "Engineering",
          "Biology",
          "Biology",
          "Engineering",
          "Computer Science",
          "Psychology",
          "Biology",
          "Computer Science",
          "Engineering",
          "Economics",
          "Psychology",
          "Economics",
          "Biology",
          "Economics",
          "Engineering",
          "Psychology",
          "Economics",
          "Computer Science",
          "Economics",
          "Biology",
          "Economics",
          "Engineering",
          "Biology",
          "Psychology",
          "Economics",
          "Economics",
          "Psychology",
          "Engineering",
          "Psychology",
          "Psychology",
          "Biology",
          "Biology",
          "Engineering",
          "Economics",
          "Economics",
          "Engineering",
          "Engineering",
          "Biology",
          "Economics",
          "Economics",
          "Biology",
          "Economics",
          "Biology",
          "Economics",
          "Engineering",
          "Psychology",
          "Biology",
          "Biology",
          "Economics",
          "Computer Science",
          "Computer Science",
          "Computer Science",
          "Psychology",
          "Biology",
          "Biology",
          "Engineering",
          "Computer Science",
          "Economics",
          "Computer Science",
          "Biology",
          "Economics",
          "Psychology",
          "Psychology",
          "Psychology",
          "Computer Science",
          "Psychology",
          "Psychology",
          "Biology",
          "Biology",
          "Biology",
          "Economics",
          "Economics",
          "Computer Science",
          "Psychology",
          "Computer Science",
          "Economics",
          "Economics",
          "Economics",
          "Computer Science",
          "Computer Science",
          "Engineering",
          "Engineering",
          "Economics",
          "Economics",
          "Psychology",
          "Biology",
          "Biology",
          "Economics",
          "Economics",
          "Computer Science",
          "Engineering",
          "Economics",
          "Computer Science",
          "Psychology",
          "Economics",
          "Computer Science",
          "Psychology",
          "Biology",
          "Computer Science",
          "Psychology",
          "Engineering",
          "Biology",
          "Biology",
          "Computer Science",
          "Computer Science",
          "Psychology",
          "Biology",
          "Biology",
          "Computer Science",
          "Computer Science",
          "Psychology",
          "Biology",
          "Economics",
          "Engineering",
          "Computer Science",
          "Psychology",
          "Engineering",
          "Engineering",
          "Computer Science",
          "Economics",
          "Engineering",
          "Engineering",
          "Engineering",
          "Psychology",
          "Computer Science",
          "Computer Science",
          "Computer Science",
          "Biology",
          "Biology",
          "Biology",
          "Biology",
          "Computer Science",
          "Psychology",
          "Biology",
          "Psychology",
          "Engineering",
          "Computer Science",
          "Biology",
          "Engineering",
          "Psychology",
          "Economics",
          "Economics",
          "Biology",
          "Psychology",
          "Biology",
          "Psychology",
          "Engineering",
          "Economics",
          "Economics",
          "Biology",
          "Psychology",
          "Psychology",
          "Economics",
          "Biology",
          "Economics",
          "Biology",
          "Economics",
          "Biology",
          "Computer Science",
          "Economics",
          "Psychology",
          "Biology",
          "Engineering",
          "Psychology",
          "Economics",
          "Engineering",
          "Engineering",
          "Biology",
          "Computer Science",
          "Engineering",
          "Psychology",
          "Biology",
          "Engineering",
          "Economics",
          "Biology",
          "Economics",
          "Economics",
          "Computer Science",
          "Psychology",
          "Economics",
          "Engineering",
          "Biology",
          "Economics",
          "Engineering",
          "Engineering",
          "Engineering",
          "Engineering",
          "Computer Science",
          "Computer Science",
          "Biology",
          "Biology",
          "Economics",
          "Psychology",
          "Psychology",
          "Psychology",
          "Biology",
          "Biology",
          "Engineering",
          "Computer Science",
          "Computer Science",
          "Economics",
          "Biology",
          "Engineering",
          "Biology",
          "Engineering",
          "Computer Science",
          "Psychology",
          "Biology",
          "Biology",
          "Computer Science",
          "Psychology",
          "Economics",
          "Psychology",
          "Engineering",
          "Engineering",
          "Computer Science",
          "Computer Science",
          "Computer Science",
          "Psychology",
          "Computer Science",
          "Psychology",
          "Economics",
          "Economics",
          "Biology",
          "Psychology",
          "Computer Science",
          "Economics",
          "Psychology",
          "Engineering",
          "Economics",
          "Economics",
          "Computer Science",
          "Biology",
          "Psychology",
          "Biology",
          "Psychology",
          "Psychology",
          "Engineering",
          "Biology",
          "Engineering",
          "Economics",
          "Computer Science",
          "Engineering",
          "Psychology",
          "Economics",
          "Biology",
          "Economics",
          "Psychology",
          "Biology",
          "Engineering",
          "Psychology",
          "Engineering",
          "Engineering",
          "Engineering",
          "Computer Science",
          "Economics",
          "Biology",
          "Economics",
          "Engineering",
          "Computer Science",
          "Economics",
          "Engineering",
          "Engineering",
          "Biology",
          "Economics",
          "Engineering",
          "Economics",
          "Psychology",
          "Engineering",
          "Biology",
          "Economics",
          "Economics",
          "Economics",
          "Economics",
          "Biology",
          "Biology",
          "Engineering",
          "Biology",
          "Biology",
          "Economics",
          "Economics",
          "Engineering",
          "Computer Science",
          "Engineering",
          "Economics",
          "Biology",
          "Psychology",
          "Computer Science",
          "Computer Science",
          "Psychology",
          "Economics",
          "Engineering",
          "Biology",
          "Psychology",
          "Biology",
          "Engineering",
          "Biology",
          "Psychology",
          "Engineering",
          "Psychology",
          "Economics",
          "Computer Science",
          "Economics",
          "Biology",
          "Engineering",
          "Psychology",
          "Engineering",
          "Biology",
          "Psychology",
          "Economics",
          "Computer Science",
          "Engineering",
          "Psychology",
          "Computer Science",
          "Biology",
          "Computer Science",
          "Engineering",
          "Biology",
          "Economics",
          "Engineering",
          "Biology",
          "Biology",
          "Computer Science",
          "Engineering",
          "Biology",
          "Engineering",
          "Psychology",
          "Computer Science",
          "Computer Science",
          "Engineering",
          "Biology",
          "Psychology",
          "Computer Science",
          "Biology",
          "Engineering",
          "Biology",
          "Biology",
          "Biology",
          "Computer Science",
          "Psychology",
          "Biology",
          "Engineering",
          "Economics",
          "Psychology",
          "Economics",
          "Computer Science",
          "Computer Science",
          "Computer Science",
          "Biology",
          "Economics",
          "Computer Science",
          "Psychology",
          "Psychology",
          "Computer Science",
          "Psychology",
          "Computer Science",
          "Computer Science",
          "Economics",
          "Engineering",
          "Engineering",
          "Economics",
          "Biology",
          "Biology",
          "Engineering",
          "Psychology",
          "Computer Science",
          "Psychology",
          "Economics",
          "Computer Science",
          "Psychology",
          "Biology",
          "Psychology",
          "Biology",
          "Computer Science",
          "Psychology",
          "Biology",
          "Biology",
          "Economics",
          "Computer Science",
          "Engineering",
          "Biology",
          "Psychology",
          "Computer Science",
          "Economics",
          "Economics",
          "Psychology",
          "Psychology",
          "Economics",
          "Biology",
          "Computer Science",
          "Biology",
          "Psychology",
          "Biology",
          "Biology",
          "Biology",
          "Biology",
          "Biology",
          "Engineering",
          "Engineering",
          "Computer Science",
          "Psychology",
          "Computer Science",
          "Economics",
          "Computer Science",
          "Economics",
          "Psychology",
          "Biology",
          "Biology",
          "Psychology",
          "Biology",
          "Engineering",
          "Engineering",
          "Computer Science",
          "Psychology",
          "Engineering",
          "Engineering",
          "Engineering",
          "Psychology",
          "Engineering",
          "Computer Science",
          "Computer Science",
          "Computer Science",
          "Engineering",
          "Economics",
          "Biology",
          "Engineering",
          "Biology",
          "Psychology",
          "Biology",
          "Psychology",
          "Psychology",
          "Economics",
          "Economics",
          "Biology",
          "Psychology",
          "Biology",
          "Economics",
          "Biology",
          "Biology",
          "Computer Science",
          "Computer Science",
          "Computer Science",
          "Computer Science",
          "Engineering",
          "Biology",
          "Biology",
          "Economics",
          "Computer Science",
          "Economics",
          "Biology",
          "Psychology",
          "Psychology",
          "Economics",
          "Engineering",
          "Psychology",
          "Biology",
          "Engineering",
          "Engineering",
          "Economics",
          "Computer Science",
          "Biology",
          "Computer Science",
          "Engineering",
          "Engineering",
          "Psychology",
          "Engineering",
          "Engineering",
          "Engineering",
          "Biology",
          "Biology",
          "Engineering",
          "Engineering",
          "Biology",
          "Computer Science",
          "Engineering",
          "Engineering",
          "Psychology",
          "Computer Science",
          "Engineering",
          "Computer Science",
          "Economics",
          "Engineering",
          "Computer Science",
          "Computer Science",
          "Computer Science",
          "Engineering",
          "Economics",
          "Engineering",
          "Biology",
          "Biology",
          "Computer Science",
          "Engineering",
          "Computer Science",
          "Engineering",
          "Economics",
          "Biology",
          "Biology",
          "Economics",
          "Psychology",
          "Psychology",
          "Computer Science",
          "Economics",
          "Engineering",
          "Engineering",
          "Engineering",
          "Biology",
          "Economics",
          "Engineering",
          "Engineering",
          "Biology",
          "Biology",
          "Economics",
          "Computer Science",
          "Economics",
          "Psychology",
          "Computer Science",
          "Economics",
          "Biology",
          "Economics",
          "Psychology",
          "Computer Science",
          "Biology",
          "Economics",
          "Biology",
          "Biology",
          "Economics",
          "Engineering",
          "Psychology",
          "Engineering",
          "Economics",
          "Economics",
          "Biology",
          "Biology",
          "Computer Science",
          "Economics",
          "Biology",
          "Computer Science",
          "Biology",
          "Psychology",
          "Biology",
          "Economics",
          "Biology",
          "Biology",
          "Economics",
          "Biology",
          "Engineering",
          "Psychology",
          "Economics",
          "Engineering",
          "Engineering",
          "Economics",
          "Computer Science",
          "Computer Science",
          "Economics",
          "Economics",
          "Computer Science",
          "Economics",
          "Engineering",
          "Biology",
          "Biology",
          "Economics",
          "Psychology",
          "Psychology",
          "Biology",
          "Psychology",
          "Biology",
          "Engineering",
          "Psychology",
          "Computer Science",
          "Engineering",
          "Computer Science",
          "Engineering",
          "Computer Science",
          "Biology",
          "Engineering",
          "Psychology",
          "Economics",
          "Biology",
          "Biology",
          "Biology",
          "Biology",
          "Economics",
          "Computer Science",
          "Economics",
          "Biology",
          "Computer Science",
          "Engineering",
          "Biology",
          "Computer Science",
          "Psychology",
          "Computer Science",
          "Engineering",
          "Computer Science",
          "Psychology",
          "Biology",
          "Engineering",
          "Engineering",
          "Biology",
          "Economics",
          "Economics",
          "Engineering",
          "Computer Science",
          "Psychology",
          "Biology",
          "Engineering",
          "Computer Science",
          "Engineering",
          "Computer Science",
          "Engineering",
          "Biology",
          "Psychology",
          "Biology",
          "Biology",
          "Engineering",
          "Biology",
          "Biology",
          "Biology",
          "Biology",
          "Engineering",
          "Engineering",
          "Computer Science",
          "Psychology",
          "Psychology",
          "Economics",
          "Biology",
          "Psychology",
          "Biology",
          "Psychology",
          "Computer Science",
          "Biology",
          "Engineering",
          "Economics",
          "Biology",
          "Psychology",
          "Computer Science",
          "Engineering",
          "Economics",
          "Psychology",
          "Biology",
          "Biology",
          "Biology",
          "Engineering",
          "Computer Science",
          "Psychology",
          "Economics",
          "Psychology",
          "Psychology",
          "Psychology",
          "Psychology",
          "Computer Science",
          "Psychology",
          "Engineering",
          "Psychology",
          "Computer Science",
          "Biology",
          "Economics",
          "Computer Science",
          "Computer Science",
          "Engineering",
          "Computer Science",
          "Biology",
          "Biology",
          "Computer Science",
          "Engineering",
          "Engineering",
          "Psychology",
          "Engineering",
          "Biology",
          "Economics",
          "Economics",
          "Biology",
          "Psychology",
          "Economics",
          "Economics",
          "Computer Science",
          "Psychology",
          "Biology",
          "Engineering",
          "Biology",
          "Psychology",
          "Computer Science",
          "Psychology",
          "Economics",
          "Biology",
          "Biology",
          "Biology",
          "Computer Science",
          "Biology",
          "Biology",
          "Biology",
          "Economics",
          "Economics",
          "Biology",
          "Engineering",
          "Engineering",
          "Computer Science",
          "Economics",
          "Biology",
          "Psychology",
          "Economics",
          "Biology",
          "Biology",
          "Biology",
          "Biology",
          "Biology",
          "Engineering",
          "Economics",
          "Economics",
          "Computer Science",
          "Biology",
          "Computer Science",
          "Computer Science",
          "Engineering",
          "Psychology",
          "Computer Science",
          "Economics",
          "Engineering",
          "Computer Science",
          "Engineering",
          "Engineering",
          "Biology",
          "Engineering",
          "Psychology",
          "Computer Science",
          "Economics",
          "Engineering",
          "Psychology",
          "Economics",
          "Psychology",
          "Economics",
          "Biology",
          "Engineering",
          "Biology",
          "Engineering",
          "Psychology",
          "Engineering",
          "Economics",
          "Engineering",
          "Psychology",
          "Psychology",
          "Psychology",
          "Biology",
          "Economics",
          "Psychology",
          "Biology",
          "Biology",
          "Psychology",
          "Economics",
          "Biology",
          "Biology",
          "Psychology",
          "Psychology",
          "Economics",
          "Biology",
          "Psychology",
          "Biology",
          "Engineering",
          "Engineering",
          "Economics",
          "Computer Science",
          "Psychology",
          "Computer Science",
          "Economics",
          "Psychology",
          "Economics",
          "Biology",
          "Computer Science",
          "Engineering",
          "Economics",
          "Biology",
          "Psychology",
          "Engineering",
          "Engineering",
          "Economics",
          "Economics",
          "Economics",
          "Psychology",
          "Economics",
          "Computer Science",
          "Economics",
          "Economics",
          "Biology",
          "Engineering",
          "Economics",
          "Computer Science",
          "Economics",
          "Economics",
          "Economics",
          "Computer Science",
          "Engineering",
          "Computer Science",
          "Computer Science",
          "Biology",
          "Biology",
          "Engineering",
          "Psychology",
          "Engineering",
          "Economics",
          "Psychology",
          "Computer Science",
          "Computer Science",
          "Engineering",
          "Economics",
          "Computer Science",
          "Computer Science",
          "Biology",
          "Psychology",
          "Economics",
          "Economics",
          "Computer Science",
          "Engineering",
          "Psychology",
          "Psychology",
          "Computer Science",
          "Economics",
          "Psychology",
          "Computer Science",
          "Economics",
          "Biology",
          "Computer Science",
          "Computer Science",
          "Economics",
          "Engineering",
          "Computer Science",
          "Engineering",
          "Engineering",
          "Psychology",
          "Engineering",
          "Psychology",
          "Computer Science",
          "Computer Science",
          "Computer Science",
          "Biology",
          "Engineering",
          "Computer Science",
          "Economics",
          "Engineering",
          "Computer Science",
          "Computer Science",
          "Psychology",
          "Economics",
          "Biology",
          "Computer Science",
          "Psychology",
          "Engineering",
          "Computer Science",
          "Psychology",
          "Psychology",
          "Economics",
          "Psychology",
          "Psychology",
          "Biology",
          "Biology",
          "Economics",
          "Economics",
          "Computer Science"
         ],
         "legendgroup": "",
         "name": "",
         "showlegend": true,
         "type": "pie",
         "values": [
          270,
          875,
          928,
          265,
          522,
          790,
          69,
          748,
          248,
          74,
          615,
          19,
          540,
          859,
          75,
          26,
          237,
          851,
          311,
          401,
          732,
          549,
          610,
          285,
          56,
          528,
          690,
          705,
          671,
          448,
          3,
          302,
          555,
          110,
          365,
          320,
          675,
          265,
          251,
          392,
          118,
          140,
          449,
          942,
          881,
          348,
          235,
          745,
          260,
          211,
          723,
          479,
          660,
          818,
          90,
          312,
          700,
          653,
          50,
          970,
          722,
          315,
          838,
          989,
          13,
          550,
          367,
          121,
          104,
          728,
          878,
          805,
          367,
          804,
          81,
          354,
          862,
          24,
          155,
          357,
          594,
          850,
          671,
          156,
          768,
          932,
          44,
          143,
          959,
          933,
          516,
          392,
          903,
          625,
          800,
          513,
          723,
          457,
          452,
          796,
          231,
          437,
          149,
          95,
          912,
          258,
          494,
          73,
          322,
          513,
          553,
          873,
          61,
          273,
          675,
          789,
          261,
          240,
          722,
          803,
          10,
          940,
          196,
          165,
          436,
          427,
          620,
          529,
          277,
          935,
          325,
          333,
          990,
          993,
          183,
          215,
          761,
          547,
          535,
          375,
          202,
          163,
          5,
          466,
          47,
          882,
          847,
          577,
          220,
          872,
          606,
          382,
          725,
          315,
          803,
          856,
          206,
          115,
          535,
          931,
          635,
          48,
          387,
          989,
          292,
          397,
          17,
          861,
          215,
          339,
          456,
          64,
          2,
          76,
          970,
          871,
          618,
          180,
          927,
          968,
          649,
          517,
          282,
          918,
          480,
          982,
          52,
          17,
          871,
          337,
          794,
          8,
          809,
          938,
          955,
          77,
          258,
          851,
          640,
          233,
          892,
          970,
          273,
          775,
          115,
          279,
          583,
          539,
          649,
          483,
          680,
          869,
          996,
          460,
          940,
          481,
          792,
          550,
          50,
          174,
          415,
          699,
          882,
          267,
          250,
          744,
          826,
          33,
          586,
          369,
          130,
          327,
          561,
          699,
          865,
          346,
          768,
          316,
          102,
          143,
          715,
          444,
          886,
          5,
          639,
          465,
          113,
          327,
          520,
          463,
          16,
          311,
          910,
          747,
          70,
          244,
          757,
          133,
          950,
          321,
          854,
          438,
          666,
          367,
          606,
          863,
          887,
          500,
          943,
          500,
          977,
          649,
          9,
          916,
          303,
          554,
          856,
          491,
          794,
          675,
          223,
          477,
          790,
          955,
          547,
          202,
          85,
          520,
          735,
          492,
          245,
          563,
          519,
          223,
          634,
          882,
          685,
          647,
          7,
          350,
          35,
          490,
          892,
          971,
          784,
          825,
          566,
          943,
          451,
          186,
          451,
          826,
          97,
          634,
          132,
          270,
          580,
          447,
          177,
          403,
          838,
          638,
          417,
          435,
          777,
          201,
          169,
          840,
          521,
          487,
          728,
          468,
          671,
          963,
          893,
          492,
          194,
          543,
          663,
          53,
          678,
          415,
          93,
          281,
          371,
          431,
          457,
          0,
          223,
          299,
          4,
          795,
          771,
          630,
          608,
          873,
          233,
          201,
          327,
          831,
          207,
          912,
          884,
          881,
          487,
          133,
          222,
          5,
          74,
          628,
          322,
          982,
          374,
          759,
          616,
          416,
          364,
          531,
          764,
          542,
          484,
          68,
          340,
          144,
          491,
          863,
          490,
          242,
          572,
          940,
          157,
          581,
          788,
          552,
          318,
          660,
          498,
          56,
          382,
          475,
          615,
          324,
          705,
          536,
          837,
          858,
          555,
          75,
          490,
          898,
          998,
          37,
          433,
          705,
          333,
          102,
          917,
          831,
          95,
          31,
          803,
          597,
          60,
          823,
          194,
          476,
          108,
          35,
          348,
          92,
          618,
          573,
          405,
          787,
          491,
          696,
          995,
          986,
          353,
          598,
          345,
          464,
          739,
          964,
          36,
          883,
          704,
          144,
          745,
          494,
          83,
          750,
          333,
          476,
          880,
          967,
          777,
          158,
          724,
          441,
          33,
          465,
          561,
          739,
          248,
          549,
          148,
          285,
          213,
          299,
          644,
          995,
          87,
          134,
          958,
          681,
          492,
          475,
          204,
          504,
          899,
          227,
          845,
          269,
          798,
          776,
          340,
          254,
          414,
          770,
          633,
          755,
          550,
          576,
          931,
          995,
          57,
          972,
          115,
          766,
          390,
          653,
          705,
          260,
          351,
          490,
          641,
          109,
          498,
          522,
          656,
          456,
          312,
          891,
          481,
          201,
          115,
          777,
          777,
          640,
          327,
          449,
          836,
          754,
          10,
          184,
          328,
          927,
          668,
          203,
          521,
          670,
          263,
          883,
          369,
          1,
          506,
          148,
          41,
          293,
          661,
          302,
          380,
          772,
          429,
          911,
          289,
          771,
          229,
          158,
          449,
          96,
          685,
          536,
          959,
          80,
          387,
          798,
          387,
          889,
          811,
          648,
          612,
          500,
          857,
          926,
          253,
          825,
          721,
          973,
          924,
          378,
          563,
          392,
          72,
          387,
          859,
          858,
          457,
          398,
          469,
          555,
          671,
          238,
          642,
          197,
          809,
          540,
          501,
          688,
          434,
          100,
          31,
          279,
          815,
          832,
          883,
          423,
          148,
          642,
          744,
          836,
          406,
          996,
          115,
          709,
          658,
          32,
          87,
          208,
          508,
          939,
          663,
          592,
          300,
          337,
          282,
          692,
          528,
          205,
          929,
          699,
          665,
          473,
          794,
          207,
          6,
          410,
          51,
          94,
          296,
          497,
          189,
          657,
          830,
          414,
          498,
          875,
          882,
          126,
          906,
          340,
          499,
          203,
          662,
          226,
          534,
          323,
          482,
          654,
          160,
          970,
          387,
          720,
          304,
          9,
          823,
          109,
          359,
          605,
          905,
          399,
          831,
          43,
          574,
          526,
          616,
          775,
          355,
          169,
          800,
          113,
          902,
          709,
          519,
          232,
          892,
          869,
          650,
          714,
          545,
          871,
          733,
          812,
          735,
          417,
          401,
          674,
          319,
          645,
          139,
          939,
          235,
          751,
          509,
          906,
          691,
          836,
          607,
          234,
          894,
          964,
          633,
          708,
          616,
          971,
          572,
          261,
          57,
          815,
          520,
          82,
          266,
          253,
          76,
          602,
          626,
          839,
          919,
          162,
          705,
          371,
          887,
          330,
          268,
          678,
          646,
          844,
          321,
          555,
          448,
          510,
          988,
          785,
          524,
          766,
          192,
          944,
          250,
          794,
          809,
          991,
          100,
          599,
          504,
          637,
          929,
          299,
          688,
          664,
          582,
          271,
          82,
          461,
          606,
          962,
          827,
          584,
          928,
          581,
          566,
          103,
          511,
          68,
          867,
          280,
          557,
          542,
          389,
          964,
          212,
          710,
          103,
          12,
          45,
          130,
          471,
          166,
          845,
          125,
          402,
          418,
          361,
          150,
          279,
          11,
          93,
          288,
          708,
          513,
          984,
          14,
          46,
          365,
          410,
          611,
          9,
          494,
          885,
          811,
          538,
          789,
          360,
          413,
          756,
          395,
          935,
          757,
          53,
          646,
          796,
          127,
          297,
          883,
          153,
          13,
          854,
          918,
          524,
          912,
          403,
          928,
          925,
          803,
          563,
          494,
          756,
          544,
          710,
          333,
          980,
          803,
          408,
          403,
          468,
          317,
          400,
          565,
          611,
          651,
          375,
          441,
          519,
          18,
          142,
          734,
          905,
          49,
          420,
          227,
          980,
          45,
          483,
          988,
          795,
          818,
          927,
          153,
          814,
          513,
          179,
          879,
          904,
          80,
          114,
          582,
          546,
          484,
          298,
          614,
          561,
          218,
          522,
          465,
          533,
          789,
          422,
          302,
          1000,
          674,
          844,
          293,
          397,
          683,
          860,
          197,
          538,
          974,
          362,
          611,
          341,
          64,
          584,
          321,
          226,
          252,
          123,
          75,
          235,
          211,
          950,
          27,
          81,
          92,
          249,
          832,
          101,
          611,
          1000,
          246,
          357,
          202,
          10,
          38,
          320,
          474,
          892,
          228,
          815,
          207,
          900,
          543,
          550,
          976,
          315,
          239,
          362,
          291,
          825,
          708,
          490,
          686,
          995,
          295,
          546,
          326,
          105,
          15,
          907,
          565,
          715,
          741,
          598,
          351,
          741,
          574,
          988,
          958,
          615,
          581,
          669,
          387,
          639,
          218,
          893,
          79,
          522,
          458,
          650,
          573,
          799,
          255,
          612,
          588,
          333,
          158,
          493,
          104,
          70,
          946,
          670,
          17,
          617,
          817,
          671,
          823,
          510,
          13,
          118,
          227,
          589,
          7,
          698,
          671,
          652,
          695,
          696,
          221,
          168,
          753,
          155,
          259,
          672,
          594,
          286,
          520,
          560,
          393,
          612,
          640
         ]
        }
       ],
       "layout": {
        "legend": {
         "tracegroupgap": 0
        },
        "margin": {
         "t": 60
        },
        "template": {
         "data": {
          "bar": [
           {
            "error_x": {
             "color": "#2a3f5f"
            },
            "error_y": {
             "color": "#2a3f5f"
            },
            "marker": {
             "line": {
              "color": "#E5ECF6",
              "width": 0.5
             },
             "pattern": {
              "fillmode": "overlay",
              "size": 10,
              "solidity": 0.2
             }
            },
            "type": "bar"
           }
          ],
          "barpolar": [
           {
            "marker": {
             "line": {
              "color": "#E5ECF6",
              "width": 0.5
             },
             "pattern": {
              "fillmode": "overlay",
              "size": 10,
              "solidity": 0.2
             }
            },
            "type": "barpolar"
           }
          ],
          "carpet": [
           {
            "aaxis": {
             "endlinecolor": "#2a3f5f",
             "gridcolor": "white",
             "linecolor": "white",
             "minorgridcolor": "white",
             "startlinecolor": "#2a3f5f"
            },
            "baxis": {
             "endlinecolor": "#2a3f5f",
             "gridcolor": "white",
             "linecolor": "white",
             "minorgridcolor": "white",
             "startlinecolor": "#2a3f5f"
            },
            "type": "carpet"
           }
          ],
          "choropleth": [
           {
            "colorbar": {
             "outlinewidth": 0,
             "ticks": ""
            },
            "type": "choropleth"
           }
          ],
          "contour": [
           {
            "colorbar": {
             "outlinewidth": 0,
             "ticks": ""
            },
            "colorscale": [
             [
              0,
              "#0d0887"
             ],
             [
              0.1111111111111111,
              "#46039f"
             ],
             [
              0.2222222222222222,
              "#7201a8"
             ],
             [
              0.3333333333333333,
              "#9c179e"
             ],
             [
              0.4444444444444444,
              "#bd3786"
             ],
             [
              0.5555555555555556,
              "#d8576b"
             ],
             [
              0.6666666666666666,
              "#ed7953"
             ],
             [
              0.7777777777777778,
              "#fb9f3a"
             ],
             [
              0.8888888888888888,
              "#fdca26"
             ],
             [
              1,
              "#f0f921"
             ]
            ],
            "type": "contour"
           }
          ],
          "contourcarpet": [
           {
            "colorbar": {
             "outlinewidth": 0,
             "ticks": ""
            },
            "type": "contourcarpet"
           }
          ],
          "heatmap": [
           {
            "colorbar": {
             "outlinewidth": 0,
             "ticks": ""
            },
            "colorscale": [
             [
              0,
              "#0d0887"
             ],
             [
              0.1111111111111111,
              "#46039f"
             ],
             [
              0.2222222222222222,
              "#7201a8"
             ],
             [
              0.3333333333333333,
              "#9c179e"
             ],
             [
              0.4444444444444444,
              "#bd3786"
             ],
             [
              0.5555555555555556,
              "#d8576b"
             ],
             [
              0.6666666666666666,
              "#ed7953"
             ],
             [
              0.7777777777777778,
              "#fb9f3a"
             ],
             [
              0.8888888888888888,
              "#fdca26"
             ],
             [
              1,
              "#f0f921"
             ]
            ],
            "type": "heatmap"
           }
          ],
          "heatmapgl": [
           {
            "colorbar": {
             "outlinewidth": 0,
             "ticks": ""
            },
            "colorscale": [
             [
              0,
              "#0d0887"
             ],
             [
              0.1111111111111111,
              "#46039f"
             ],
             [
              0.2222222222222222,
              "#7201a8"
             ],
             [
              0.3333333333333333,
              "#9c179e"
             ],
             [
              0.4444444444444444,
              "#bd3786"
             ],
             [
              0.5555555555555556,
              "#d8576b"
             ],
             [
              0.6666666666666666,
              "#ed7953"
             ],
             [
              0.7777777777777778,
              "#fb9f3a"
             ],
             [
              0.8888888888888888,
              "#fdca26"
             ],
             [
              1,
              "#f0f921"
             ]
            ],
            "type": "heatmapgl"
           }
          ],
          "histogram": [
           {
            "marker": {
             "pattern": {
              "fillmode": "overlay",
              "size": 10,
              "solidity": 0.2
             }
            },
            "type": "histogram"
           }
          ],
          "histogram2d": [
           {
            "colorbar": {
             "outlinewidth": 0,
             "ticks": ""
            },
            "colorscale": [
             [
              0,
              "#0d0887"
             ],
             [
              0.1111111111111111,
              "#46039f"
             ],
             [
              0.2222222222222222,
              "#7201a8"
             ],
             [
              0.3333333333333333,
              "#9c179e"
             ],
             [
              0.4444444444444444,
              "#bd3786"
             ],
             [
              0.5555555555555556,
              "#d8576b"
             ],
             [
              0.6666666666666666,
              "#ed7953"
             ],
             [
              0.7777777777777778,
              "#fb9f3a"
             ],
             [
              0.8888888888888888,
              "#fdca26"
             ],
             [
              1,
              "#f0f921"
             ]
            ],
            "type": "histogram2d"
           }
          ],
          "histogram2dcontour": [
           {
            "colorbar": {
             "outlinewidth": 0,
             "ticks": ""
            },
            "colorscale": [
             [
              0,
              "#0d0887"
             ],
             [
              0.1111111111111111,
              "#46039f"
             ],
             [
              0.2222222222222222,
              "#7201a8"
             ],
             [
              0.3333333333333333,
              "#9c179e"
             ],
             [
              0.4444444444444444,
              "#bd3786"
             ],
             [
              0.5555555555555556,
              "#d8576b"
             ],
             [
              0.6666666666666666,
              "#ed7953"
             ],
             [
              0.7777777777777778,
              "#fb9f3a"
             ],
             [
              0.8888888888888888,
              "#fdca26"
             ],
             [
              1,
              "#f0f921"
             ]
            ],
            "type": "histogram2dcontour"
           }
          ],
          "mesh3d": [
           {
            "colorbar": {
             "outlinewidth": 0,
             "ticks": ""
            },
            "type": "mesh3d"
           }
          ],
          "parcoords": [
           {
            "line": {
             "colorbar": {
              "outlinewidth": 0,
              "ticks": ""
             }
            },
            "type": "parcoords"
           }
          ],
          "pie": [
           {
            "automargin": true,
            "type": "pie"
           }
          ],
          "scatter": [
           {
            "fillpattern": {
             "fillmode": "overlay",
             "size": 10,
             "solidity": 0.2
            },
            "type": "scatter"
           }
          ],
          "scatter3d": [
           {
            "line": {
             "colorbar": {
              "outlinewidth": 0,
              "ticks": ""
             }
            },
            "marker": {
             "colorbar": {
              "outlinewidth": 0,
              "ticks": ""
             }
            },
            "type": "scatter3d"
           }
          ],
          "scattercarpet": [
           {
            "marker": {
             "colorbar": {
              "outlinewidth": 0,
              "ticks": ""
             }
            },
            "type": "scattercarpet"
           }
          ],
          "scattergeo": [
           {
            "marker": {
             "colorbar": {
              "outlinewidth": 0,
              "ticks": ""
             }
            },
            "type": "scattergeo"
           }
          ],
          "scattergl": [
           {
            "marker": {
             "colorbar": {
              "outlinewidth": 0,
              "ticks": ""
             }
            },
            "type": "scattergl"
           }
          ],
          "scattermapbox": [
           {
            "marker": {
             "colorbar": {
              "outlinewidth": 0,
              "ticks": ""
             }
            },
            "type": "scattermapbox"
           }
          ],
          "scatterpolar": [
           {
            "marker": {
             "colorbar": {
              "outlinewidth": 0,
              "ticks": ""
             }
            },
            "type": "scatterpolar"
           }
          ],
          "scatterpolargl": [
           {
            "marker": {
             "colorbar": {
              "outlinewidth": 0,
              "ticks": ""
             }
            },
            "type": "scatterpolargl"
           }
          ],
          "scatterternary": [
           {
            "marker": {
             "colorbar": {
              "outlinewidth": 0,
              "ticks": ""
             }
            },
            "type": "scatterternary"
           }
          ],
          "surface": [
           {
            "colorbar": {
             "outlinewidth": 0,
             "ticks": ""
            },
            "colorscale": [
             [
              0,
              "#0d0887"
             ],
             [
              0.1111111111111111,
              "#46039f"
             ],
             [
              0.2222222222222222,
              "#7201a8"
             ],
             [
              0.3333333333333333,
              "#9c179e"
             ],
             [
              0.4444444444444444,
              "#bd3786"
             ],
             [
              0.5555555555555556,
              "#d8576b"
             ],
             [
              0.6666666666666666,
              "#ed7953"
             ],
             [
              0.7777777777777778,
              "#fb9f3a"
             ],
             [
              0.8888888888888888,
              "#fdca26"
             ],
             [
              1,
              "#f0f921"
             ]
            ],
            "type": "surface"
           }
          ],
          "table": [
           {
            "cells": {
             "fill": {
              "color": "#EBF0F8"
             },
             "line": {
              "color": "white"
             }
            },
            "header": {
             "fill": {
              "color": "#C8D4E3"
             },
             "line": {
              "color": "white"
             }
            },
            "type": "table"
           }
          ]
         },
         "layout": {
          "annotationdefaults": {
           "arrowcolor": "#2a3f5f",
           "arrowhead": 0,
           "arrowwidth": 1
          },
          "autotypenumbers": "strict",
          "coloraxis": {
           "colorbar": {
            "outlinewidth": 0,
            "ticks": ""
           }
          },
          "colorscale": {
           "diverging": [
            [
             0,
             "#8e0152"
            ],
            [
             0.1,
             "#c51b7d"
            ],
            [
             0.2,
             "#de77ae"
            ],
            [
             0.3,
             "#f1b6da"
            ],
            [
             0.4,
             "#fde0ef"
            ],
            [
             0.5,
             "#f7f7f7"
            ],
            [
             0.6,
             "#e6f5d0"
            ],
            [
             0.7,
             "#b8e186"
            ],
            [
             0.8,
             "#7fbc41"
            ],
            [
             0.9,
             "#4d9221"
            ],
            [
             1,
             "#276419"
            ]
           ],
           "sequential": [
            [
             0,
             "#0d0887"
            ],
            [
             0.1111111111111111,
             "#46039f"
            ],
            [
             0.2222222222222222,
             "#7201a8"
            ],
            [
             0.3333333333333333,
             "#9c179e"
            ],
            [
             0.4444444444444444,
             "#bd3786"
            ],
            [
             0.5555555555555556,
             "#d8576b"
            ],
            [
             0.6666666666666666,
             "#ed7953"
            ],
            [
             0.7777777777777778,
             "#fb9f3a"
            ],
            [
             0.8888888888888888,
             "#fdca26"
            ],
            [
             1,
             "#f0f921"
            ]
           ],
           "sequentialminus": [
            [
             0,
             "#0d0887"
            ],
            [
             0.1111111111111111,
             "#46039f"
            ],
            [
             0.2222222222222222,
             "#7201a8"
            ],
            [
             0.3333333333333333,
             "#9c179e"
            ],
            [
             0.4444444444444444,
             "#bd3786"
            ],
            [
             0.5555555555555556,
             "#d8576b"
            ],
            [
             0.6666666666666666,
             "#ed7953"
            ],
            [
             0.7777777777777778,
             "#fb9f3a"
            ],
            [
             0.8888888888888888,
             "#fdca26"
            ],
            [
             1,
             "#f0f921"
            ]
           ]
          },
          "colorway": [
           "#636efa",
           "#EF553B",
           "#00cc96",
           "#ab63fa",
           "#FFA15A",
           "#19d3f3",
           "#FF6692",
           "#B6E880",
           "#FF97FF",
           "#FECB52"
          ],
          "font": {
           "color": "#2a3f5f"
          },
          "geo": {
           "bgcolor": "white",
           "lakecolor": "white",
           "landcolor": "#E5ECF6",
           "showlakes": true,
           "showland": true,
           "subunitcolor": "white"
          },
          "hoverlabel": {
           "align": "left"
          },
          "hovermode": "closest",
          "mapbox": {
           "style": "light"
          },
          "paper_bgcolor": "white",
          "plot_bgcolor": "#E5ECF6",
          "polar": {
           "angularaxis": {
            "gridcolor": "white",
            "linecolor": "white",
            "ticks": ""
           },
           "bgcolor": "#E5ECF6",
           "radialaxis": {
            "gridcolor": "white",
            "linecolor": "white",
            "ticks": ""
           }
          },
          "scene": {
           "xaxis": {
            "backgroundcolor": "#E5ECF6",
            "gridcolor": "white",
            "gridwidth": 2,
            "linecolor": "white",
            "showbackground": true,
            "ticks": "",
            "zerolinecolor": "white"
           },
           "yaxis": {
            "backgroundcolor": "#E5ECF6",
            "gridcolor": "white",
            "gridwidth": 2,
            "linecolor": "white",
            "showbackground": true,
            "ticks": "",
            "zerolinecolor": "white"
           },
           "zaxis": {
            "backgroundcolor": "#E5ECF6",
            "gridcolor": "white",
            "gridwidth": 2,
            "linecolor": "white",
            "showbackground": true,
            "ticks": "",
            "zerolinecolor": "white"
           }
          },
          "shapedefaults": {
           "line": {
            "color": "#2a3f5f"
           }
          },
          "ternary": {
           "aaxis": {
            "gridcolor": "white",
            "linecolor": "white",
            "ticks": ""
           },
           "baxis": {
            "gridcolor": "white",
            "linecolor": "white",
            "ticks": ""
           },
           "bgcolor": "#E5ECF6",
           "caxis": {
            "gridcolor": "white",
            "linecolor": "white",
            "ticks": ""
           }
          },
          "title": {
           "x": 0.05
          },
          "xaxis": {
           "automargin": true,
           "gridcolor": "white",
           "linecolor": "white",
           "ticks": "",
           "title": {
            "standoff": 15
           },
           "zerolinecolor": "white",
           "zerolinewidth": 2
          },
          "yaxis": {
           "automargin": true,
           "gridcolor": "white",
           "linecolor": "white",
           "ticks": "",
           "title": {
            "standoff": 15
           },
           "zerolinecolor": "white",
           "zerolinewidth": 2
          }
         }
        }
       }
      }
     },
     "metadata": {},
     "output_type": "display_data"
    }
   ],
   "source": [
    "# What is the propotion of financial aid received compared to total expenses for students across different majors?\n",
    "fig= px.pie(df, names='major', values='financial_aid')\n",
    "fig.show()"
   ]
  },
  {
   "cell_type": "code",
   "execution_count": 11,
   "metadata": {},
   "outputs": [
    {
     "data": {
      "application/vnd.plotly.v1+json": {
       "config": {
        "plotlyServerURL": "https://plot.ly"
       },
       "data": [
        {
         "hovertemplate": "monthly_income=%{x}<br>entertainment=%{y}<extra></extra>",
         "legendgroup": "",
         "marker": {
          "color": "#636efa",
          "symbol": "circle"
         },
         "mode": "markers",
         "name": "",
         "orientation": "v",
         "showlegend": false,
         "type": "scatter",
         "x": [
          958,
          1006,
          734,
          617,
          810,
          523,
          1354,
          631,
          1402,
          1423,
          762,
          1068,
          719,
          1176,
          1496,
          1227,
          1419,
          1454,
          1487,
          1157,
          1180,
          516,
          1225,
          582,
          1062,
          1054,
          667,
          796,
          905,
          531,
          1426,
          1465,
          522,
          1338,
          1363,
          1328,
          1350,
          1309,
          965,
          600,
          605,
          804,
          1274,
          509,
          1285,
          929,
          1163,
          1195,
          1036,
          588,
          1377,
          1451,
          669,
          1294,
          941,
          1131,
          854,
          1158,
          668,
          695,
          1375,
          1084,
          733,
          1061,
          1352,
          1092,
          963,
          1204,
          1184,
          562,
          1218,
          1235,
          1424,
          1176,
          1334,
          1442,
          983,
          914,
          898,
          1164,
          1484,
          1127,
          1105,
          1351,
          930,
          1346,
          1240,
          727,
          622,
          800,
          1199,
          1006,
          1295,
          1222,
          1384,
          1035,
          1395,
          767,
          933,
          803,
          1333,
          1115,
          920,
          780,
          882,
          959,
          748,
          810,
          965,
          784,
          970,
          1349,
          760,
          702,
          720,
          1286,
          1135,
          1030,
          1265,
          1175,
          1083,
          1487,
          1327,
          1095,
          1460,
          1354,
          836,
          1212,
          1483,
          998,
          885,
          726,
          1037,
          1456,
          676,
          571,
          1213,
          1112,
          1100,
          526,
          951,
          1301,
          1103,
          1083,
          860,
          1354,
          877,
          649,
          897,
          1147,
          1367,
          647,
          656,
          1131,
          1319,
          917,
          872,
          901,
          536,
          506,
          1201,
          1189,
          546,
          1181,
          810,
          855,
          1354,
          1056,
          620,
          1207,
          621,
          1033,
          722,
          1304,
          912,
          963,
          1286,
          1104,
          697,
          1230,
          1345,
          1411,
          1355,
          608,
          566,
          1310,
          1354,
          1020,
          1394,
          954,
          1448,
          968,
          1450,
          1316,
          904,
          1488,
          893,
          527,
          804,
          547,
          523,
          1040,
          918,
          504,
          1203,
          951,
          857,
          812,
          540,
          889,
          992,
          760,
          1199,
          578,
          994,
          552,
          1444,
          1203,
          1481,
          700,
          1087,
          672,
          825,
          1033,
          774,
          1365,
          810,
          856,
          985,
          919,
          637,
          894,
          874,
          850,
          879,
          811,
          809,
          596,
          856,
          886,
          1205,
          1353,
          1268,
          1112,
          1206,
          1159,
          1250,
          1120,
          1277,
          1442,
          776,
          800,
          1078,
          1404,
          1097,
          835,
          755,
          1087,
          931,
          983,
          639,
          527,
          744,
          1118,
          1276,
          880,
          1424,
          1276,
          697,
          1379,
          1466,
          1126,
          1126,
          618,
          785,
          770,
          1431,
          1338,
          1121,
          1245,
          748,
          1389,
          1122,
          1113,
          879,
          1489,
          869,
          1381,
          1325,
          581,
          694,
          615,
          1394,
          800,
          913,
          1243,
          655,
          667,
          1458,
          925,
          1105,
          737,
          1495,
          1298,
          1272,
          511,
          1161,
          1112,
          958,
          1176,
          727,
          1483,
          881,
          1347,
          725,
          1000,
          795,
          869,
          543,
          1470,
          734,
          669,
          1336,
          1436,
          1339,
          609,
          1036,
          1309,
          1471,
          658,
          684,
          907,
          846,
          1175,
          659,
          1488,
          1190,
          742,
          914,
          1485,
          582,
          1468,
          1021,
          760,
          969,
          990,
          1304,
          805,
          1179,
          573,
          843,
          1085,
          580,
          975,
          602,
          1103,
          816,
          1016,
          969,
          918,
          982,
          1021,
          521,
          1444,
          646,
          1296,
          1360,
          1123,
          1020,
          736,
          931,
          1443,
          730,
          561,
          1212,
          1282,
          1438,
          702,
          1433,
          1444,
          536,
          1260,
          701,
          1309,
          842,
          617,
          1134,
          992,
          1408,
          1368,
          716,
          1224,
          1349,
          802,
          973,
          736,
          571,
          833,
          713,
          1268,
          819,
          1268,
          1486,
          1005,
          1205,
          1356,
          817,
          706,
          1102,
          1279,
          1457,
          1306,
          1309,
          1482,
          1468,
          869,
          886,
          1443,
          766,
          1403,
          1372,
          1428,
          1303,
          572,
          558,
          1049,
          923,
          621,
          660,
          528,
          640,
          1427,
          527,
          1295,
          1219,
          959,
          1483,
          646,
          818,
          1268,
          563,
          1253,
          791,
          847,
          668,
          1022,
          725,
          733,
          684,
          604,
          1346,
          1464,
          1258,
          925,
          927,
          1230,
          1437,
          989,
          910,
          1323,
          668,
          1004,
          1415,
          948,
          1010,
          873,
          921,
          1459,
          672,
          1461,
          1492,
          627,
          961,
          954,
          1486,
          1331,
          551,
          1352,
          1437,
          1146,
          1341,
          1331,
          1195,
          1247,
          663,
          861,
          568,
          802,
          821,
          1009,
          526,
          502,
          860,
          1420,
          540,
          737,
          503,
          673,
          681,
          1356,
          1062,
          1399,
          1402,
          1184,
          743,
          1384,
          997,
          618,
          1320,
          959,
          950,
          1286,
          893,
          1126,
          679,
          803,
          664,
          1500,
          1005,
          883,
          1428,
          906,
          991,
          1246,
          1273,
          880,
          1356,
          916,
          1059,
          941,
          764,
          983,
          1295,
          1301,
          829,
          1296,
          1278,
          725,
          525,
          1006,
          872,
          549,
          885,
          1197,
          539,
          804,
          1109,
          1126,
          849,
          503,
          1293,
          903,
          1149,
          1363,
          1056,
          1245,
          1149,
          1226,
          965,
          1338,
          1414,
          1232,
          528,
          1377,
          1078,
          766,
          1289,
          887,
          1040,
          940,
          895,
          1113,
          982,
          1401,
          772,
          912,
          946,
          834,
          695,
          1479,
          994,
          843,
          1412,
          727,
          622,
          1392,
          1491,
          1038,
          854,
          1415,
          1136,
          971,
          1115,
          523,
          533,
          1129,
          739,
          1099,
          610,
          1305,
          1263,
          656,
          975,
          1459,
          1302,
          1115,
          816,
          1358,
          1054,
          1372,
          1101,
          1258,
          1399,
          1469,
          560,
          527,
          1165,
          996,
          630,
          542,
          648,
          639,
          729,
          1021,
          1229,
          660,
          1343,
          833,
          555,
          541,
          748,
          1477,
          1236,
          592,
          558,
          925,
          719,
          981,
          1381,
          929,
          1245,
          691,
          1326,
          1000,
          592,
          1227,
          575,
          1298,
          1141,
          703,
          929,
          1415,
          1359,
          1162,
          663,
          1432,
          663,
          1327,
          1045,
          619,
          815,
          728,
          941,
          1176,
          1092,
          1439,
          816,
          1413,
          1076,
          559,
          1144,
          1296,
          958,
          775,
          1483,
          1304,
          1400,
          1440,
          1460,
          1379,
          942,
          740,
          1186,
          731,
          1347,
          1085,
          665,
          1422,
          1366,
          714,
          1259,
          975,
          1420,
          604,
          1250,
          567,
          546,
          1169,
          834,
          1117,
          677,
          1433,
          889,
          670,
          645,
          1107,
          750,
          654,
          1141,
          811,
          1452,
          1255,
          737,
          1419,
          815,
          1034,
          1022,
          1341,
          999,
          1218,
          1332,
          903,
          932,
          634,
          553,
          547,
          867,
          863,
          603,
          1480,
          522,
          1376,
          1195,
          1223,
          613,
          844,
          620,
          983,
          996,
          1106,
          1032,
          1419,
          610,
          1449,
          1270,
          770,
          911,
          1303,
          1367,
          509,
          804,
          1268,
          1492,
          1402,
          673,
          1174,
          635,
          792,
          998,
          866,
          1408,
          732,
          1107,
          1165,
          1316,
          1471,
          536,
          1045,
          609,
          581,
          1106,
          1316,
          574,
          1115,
          1257,
          1069,
          757,
          794,
          1139,
          598,
          514,
          1479,
          633,
          1437,
          1135,
          1433,
          824,
          967,
          1126,
          885,
          525,
          1009,
          1478,
          547,
          549,
          1326,
          761,
          1344,
          895,
          1036,
          664,
          1403,
          1094,
          789,
          587,
          509,
          1382,
          1301,
          777,
          505,
          866,
          1329,
          1372,
          1004,
          1415,
          639,
          1397,
          935,
          882,
          1398,
          1461,
          1430,
          953,
          1456,
          892,
          539,
          1024,
          1405,
          691,
          1157,
          555,
          1245,
          1227,
          825,
          1359,
          556,
          1110,
          518,
          932,
          683,
          1397,
          1201,
          1402,
          844,
          1366,
          923,
          542,
          1130,
          848,
          1022,
          1189,
          771,
          1280,
          933,
          1257,
          1313,
          1034,
          669,
          728,
          569,
          960,
          1288,
          556,
          1413,
          957,
          1084,
          1270,
          845,
          1423,
          683,
          1309,
          888,
          1496,
          965,
          1329,
          1021,
          501,
          1223,
          1495,
          862,
          1037,
          505,
          1193,
          1452,
          1422,
          717,
          1333,
          978,
          1141,
          1399,
          1200,
          1053,
          1118,
          1094,
          1252,
          686,
          513,
          1174,
          1224,
          975,
          1435,
          894,
          1168,
          1482,
          1385,
          1476,
          812,
          1191,
          1440,
          1447,
          1030,
          1034,
          1406,
          1086,
          1334,
          507,
          1483,
          888,
          1204,
          1047,
          1279,
          613,
          1280,
          696,
          1191,
          1287,
          1391,
          1345,
          1344,
          779,
          1123,
          1038,
          595,
          1345,
          534,
          1176,
          836,
          1047,
          865,
          1148,
          696,
          778,
          1140,
          557,
          948,
          1249,
          1092,
          717,
          857,
          1021,
          1056,
          758,
          653,
          643,
          668,
          645,
          1020,
          1128,
          1186,
          528,
          774,
          1236,
          938,
          1169,
          1061,
          514,
          1015,
          743,
          913,
          1142,
          868,
          1464,
          1260,
          1326,
          1219,
          1038,
          1418,
          1385,
          553,
          1013,
          1019,
          669,
          933,
          1166,
          1197,
          973,
          1381,
          1082,
          1160,
          1011,
          1412,
          1391,
          1293,
          1380,
          764,
          1346,
          1407,
          957,
          1174,
          541
         ],
         "xaxis": "x",
         "y": [
          41,
          74,
          130,
          99,
          48,
          73,
          21,
          37,
          123,
          51,
          98,
          57,
          41,
          20,
          124,
          111,
          76,
          33,
          75,
          57,
          51,
          55,
          37,
          62,
          111,
          95,
          53,
          127,
          132,
          64,
          146,
          119,
          123,
          98,
          116,
          74,
          149,
          88,
          49,
          22,
          86,
          125,
          103,
          57,
          32,
          129,
          102,
          113,
          62,
          89,
          45,
          31,
          121,
          24,
          32,
          145,
          47,
          40,
          60,
          47,
          67,
          86,
          85,
          135,
          109,
          90,
          135,
          115,
          58,
          90,
          105,
          96,
          143,
          103,
          23,
          29,
          124,
          129,
          114,
          115,
          104,
          29,
          144,
          34,
          80,
          94,
          41,
          132,
          54,
          103,
          74,
          107,
          59,
          91,
          21,
          119,
          102,
          89,
          112,
          142,
          91,
          115,
          120,
          20,
          112,
          26,
          60,
          136,
          89,
          116,
          120,
          72,
          26,
          148,
          93,
          74,
          113,
          27,
          34,
          25,
          62,
          145,
          149,
          73,
          117,
          71,
          91,
          117,
          72,
          129,
          149,
          92,
          56,
          123,
          25,
          29,
          52,
          92,
          92,
          67,
          76,
          22,
          76,
          76,
          71,
          49,
          39,
          24,
          80,
          98,
          145,
          136,
          120,
          26,
          140,
          98,
          58,
          66,
          128,
          82,
          100,
          113,
          35,
          46,
          120,
          148,
          34,
          61,
          135,
          112,
          115,
          131,
          38,
          90,
          134,
          124,
          50,
          79,
          80,
          101,
          149,
          21,
          35,
          82,
          48,
          82,
          77,
          123,
          22,
          138,
          59,
          26,
          110,
          105,
          91,
          21,
          73,
          127,
          114,
          123,
          108,
          93,
          99,
          111,
          132,
          71,
          117,
          31,
          139,
          148,
          65,
          141,
          104,
          105,
          74,
          21,
          76,
          147,
          30,
          70,
          31,
          75,
          113,
          78,
          107,
          46,
          82,
          43,
          103,
          124,
          42,
          116,
          113,
          98,
          111,
          126,
          70,
          149,
          85,
          99,
          37,
          106,
          98,
          46,
          134,
          46,
          77,
          52,
          80,
          60,
          27,
          22,
          129,
          28,
          119,
          39,
          77,
          73,
          141,
          61,
          71,
          57,
          107,
          65,
          96,
          108,
          35,
          91,
          56,
          92,
          135,
          57,
          70,
          86,
          47,
          75,
          149,
          129,
          60,
          79,
          77,
          82,
          64,
          135,
          90,
          130,
          111,
          55,
          121,
          129,
          25,
          145,
          21,
          127,
          70,
          85,
          97,
          81,
          138,
          132,
          142,
          65,
          135,
          72,
          32,
          147,
          116,
          135,
          150,
          46,
          55,
          114,
          34,
          43,
          133,
          102,
          117,
          44,
          107,
          36,
          129,
          74,
          96,
          34,
          101,
          98,
          140,
          78,
          34,
          20,
          64,
          44,
          21,
          26,
          105,
          91,
          30,
          126,
          21,
          141,
          133,
          31,
          103,
          50,
          35,
          54,
          123,
          49,
          121,
          58,
          82,
          70,
          114,
          121,
          131,
          112,
          59,
          106,
          25,
          121,
          109,
          32,
          86,
          72,
          52,
          72,
          60,
          73,
          98,
          92,
          79,
          126,
          124,
          55,
          92,
          58,
          37,
          46,
          135,
          109,
          99,
          50,
          113,
          107,
          120,
          41,
          114,
          132,
          150,
          23,
          78,
          126,
          39,
          103,
          122,
          43,
          86,
          81,
          46,
          52,
          76,
          55,
          80,
          138,
          77,
          46,
          21,
          41,
          41,
          68,
          141,
          91,
          84,
          149,
          119,
          48,
          24,
          88,
          50,
          97,
          65,
          100,
          68,
          80,
          128,
          110,
          76,
          82,
          67,
          21,
          33,
          87,
          62,
          121,
          41,
          150,
          126,
          66,
          28,
          34,
          54,
          58,
          55,
          44,
          112,
          54,
          24,
          136,
          20,
          90,
          140,
          93,
          84,
          70,
          97,
          74,
          150,
          115,
          146,
          44,
          132,
          23,
          100,
          139,
          67,
          116,
          52,
          96,
          131,
          83,
          58,
          137,
          64,
          36,
          114,
          94,
          41,
          114,
          23,
          97,
          129,
          87,
          122,
          92,
          144,
          114,
          75,
          124,
          76,
          150,
          31,
          92,
          29,
          57,
          21,
          103,
          37,
          97,
          112,
          77,
          116,
          41,
          100,
          102,
          55,
          90,
          24,
          22,
          95,
          106,
          42,
          115,
          125,
          86,
          133,
          142,
          150,
          112,
          102,
          138,
          27,
          86,
          139,
          104,
          140,
          58,
          114,
          69,
          30,
          109,
          73,
          146,
          106,
          76,
          144,
          128,
          48,
          137,
          24,
          22,
          122,
          61,
          69,
          106,
          116,
          64,
          88,
          90,
          60,
          141,
          103,
          96,
          144,
          107,
          113,
          110,
          141,
          34,
          65,
          116,
          64,
          94,
          29,
          33,
          52,
          86,
          35,
          109,
          48,
          62,
          21,
          146,
          52,
          38,
          23,
          115,
          81,
          119,
          63,
          118,
          41,
          107,
          22,
          42,
          21,
          55,
          81,
          105,
          135,
          148,
          149,
          85,
          116,
          105,
          91,
          38,
          121,
          146,
          84,
          28,
          45,
          78,
          125,
          128,
          84,
          97,
          67,
          70,
          137,
          138,
          111,
          101,
          148,
          23,
          109,
          145,
          56,
          31,
          142,
          74,
          79,
          51,
          145,
          42,
          143,
          98,
          107,
          112,
          33,
          59,
          89,
          134,
          122,
          59,
          45,
          105,
          126,
          118,
          105,
          150,
          44,
          118,
          91,
          70,
          92,
          73,
          66,
          98,
          41,
          39,
          87,
          104,
          32,
          127,
          57,
          69,
          23,
          88,
          49,
          135,
          89,
          96,
          131,
          121,
          63,
          63,
          103,
          127,
          97,
          80,
          106,
          93,
          137,
          128,
          23,
          148,
          132,
          77,
          53,
          137,
          24,
          62,
          42,
          27,
          35,
          132,
          118,
          130,
          44,
          35,
          142,
          144,
          20,
          122,
          120,
          112,
          60,
          78,
          150,
          139,
          66,
          146,
          102,
          132,
          60,
          35,
          22,
          41,
          63,
          22,
          91,
          24,
          62,
          65,
          58,
          86,
          75,
          40,
          99,
          103,
          54,
          101,
          119,
          83,
          99,
          57,
          96,
          117,
          74,
          93,
          90,
          88,
          129,
          96,
          89,
          128,
          92,
          123,
          47,
          23,
          74,
          55,
          45,
          70,
          138,
          134,
          25,
          103,
          29,
          108,
          32,
          113,
          141,
          114,
          35,
          29,
          81,
          73,
          78,
          32,
          124,
          130,
          53,
          109,
          25,
          70,
          63,
          25,
          33,
          22,
          135,
          62,
          39,
          150,
          78,
          72,
          145,
          103,
          20,
          88,
          104,
          63,
          107,
          100,
          93,
          134,
          72,
          129,
          98,
          123,
          38,
          24,
          22,
          120,
          142,
          95,
          55,
          83,
          123,
          69,
          131,
          35,
          103,
          137,
          89,
          138,
          33,
          126,
          79,
          130,
          141,
          27,
          20,
          83,
          90,
          56,
          61,
          39,
          131,
          149,
          115,
          76,
          33,
          112,
          49,
          51,
          69,
          69,
          65,
          27,
          141,
          106,
          97,
          24,
          60,
          86,
          54,
          122,
          63,
          131,
          55,
          85,
          64,
          75,
          127,
          36,
          150,
          98,
          108,
          149,
          140,
          60,
          49,
          22,
          34,
          69,
          149,
          69,
          29,
          96,
          40,
          107,
          133,
          29,
          49,
          20,
          95,
          77,
          56,
          31,
          37,
          148,
          22,
          70,
          142,
          115,
          58,
          135,
          39,
          39,
          73,
          93,
          104,
          32,
          133,
          26,
          114,
          30,
          122,
          144,
          24,
          34,
          74,
          147,
          147,
          39,
          48,
          138,
          85,
          65,
          136,
          139,
          52,
          143,
          145,
          22,
          71,
          133,
          34,
          113,
          46,
          67,
          61,
          129,
          139,
          79,
          134,
          71,
          87,
          53,
          145,
          94,
          67,
          67,
          129,
          36,
          145,
          115,
          111,
          34,
          91,
          93,
          24,
          115,
          75,
          78,
          72,
          63,
          61,
          92,
          54,
          71,
          110,
          40,
          59,
          92,
          111,
          71,
          31,
          80,
          47,
          65,
          115,
          55,
          73,
          61,
          129,
          143,
          109,
          105,
          39,
          55,
          111,
          30,
          57,
          132,
          87,
          73,
          87,
          99,
          70,
          97,
          107,
          112,
          98,
          54,
          89,
          113,
          105,
          135,
          58,
          129,
          84,
          127,
          82,
          121,
          109,
          109,
          26,
          99,
          120,
          62,
          23,
          144,
          46,
          42,
          40,
          112,
          129,
          139
         ],
         "yaxis": "y"
        }
       ],
       "layout": {
        "legend": {
         "tracegroupgap": 0
        },
        "margin": {
         "t": 60
        },
        "template": {
         "data": {
          "bar": [
           {
            "error_x": {
             "color": "#2a3f5f"
            },
            "error_y": {
             "color": "#2a3f5f"
            },
            "marker": {
             "line": {
              "color": "#E5ECF6",
              "width": 0.5
             },
             "pattern": {
              "fillmode": "overlay",
              "size": 10,
              "solidity": 0.2
             }
            },
            "type": "bar"
           }
          ],
          "barpolar": [
           {
            "marker": {
             "line": {
              "color": "#E5ECF6",
              "width": 0.5
             },
             "pattern": {
              "fillmode": "overlay",
              "size": 10,
              "solidity": 0.2
             }
            },
            "type": "barpolar"
           }
          ],
          "carpet": [
           {
            "aaxis": {
             "endlinecolor": "#2a3f5f",
             "gridcolor": "white",
             "linecolor": "white",
             "minorgridcolor": "white",
             "startlinecolor": "#2a3f5f"
            },
            "baxis": {
             "endlinecolor": "#2a3f5f",
             "gridcolor": "white",
             "linecolor": "white",
             "minorgridcolor": "white",
             "startlinecolor": "#2a3f5f"
            },
            "type": "carpet"
           }
          ],
          "choropleth": [
           {
            "colorbar": {
             "outlinewidth": 0,
             "ticks": ""
            },
            "type": "choropleth"
           }
          ],
          "contour": [
           {
            "colorbar": {
             "outlinewidth": 0,
             "ticks": ""
            },
            "colorscale": [
             [
              0,
              "#0d0887"
             ],
             [
              0.1111111111111111,
              "#46039f"
             ],
             [
              0.2222222222222222,
              "#7201a8"
             ],
             [
              0.3333333333333333,
              "#9c179e"
             ],
             [
              0.4444444444444444,
              "#bd3786"
             ],
             [
              0.5555555555555556,
              "#d8576b"
             ],
             [
              0.6666666666666666,
              "#ed7953"
             ],
             [
              0.7777777777777778,
              "#fb9f3a"
             ],
             [
              0.8888888888888888,
              "#fdca26"
             ],
             [
              1,
              "#f0f921"
             ]
            ],
            "type": "contour"
           }
          ],
          "contourcarpet": [
           {
            "colorbar": {
             "outlinewidth": 0,
             "ticks": ""
            },
            "type": "contourcarpet"
           }
          ],
          "heatmap": [
           {
            "colorbar": {
             "outlinewidth": 0,
             "ticks": ""
            },
            "colorscale": [
             [
              0,
              "#0d0887"
             ],
             [
              0.1111111111111111,
              "#46039f"
             ],
             [
              0.2222222222222222,
              "#7201a8"
             ],
             [
              0.3333333333333333,
              "#9c179e"
             ],
             [
              0.4444444444444444,
              "#bd3786"
             ],
             [
              0.5555555555555556,
              "#d8576b"
             ],
             [
              0.6666666666666666,
              "#ed7953"
             ],
             [
              0.7777777777777778,
              "#fb9f3a"
             ],
             [
              0.8888888888888888,
              "#fdca26"
             ],
             [
              1,
              "#f0f921"
             ]
            ],
            "type": "heatmap"
           }
          ],
          "heatmapgl": [
           {
            "colorbar": {
             "outlinewidth": 0,
             "ticks": ""
            },
            "colorscale": [
             [
              0,
              "#0d0887"
             ],
             [
              0.1111111111111111,
              "#46039f"
             ],
             [
              0.2222222222222222,
              "#7201a8"
             ],
             [
              0.3333333333333333,
              "#9c179e"
             ],
             [
              0.4444444444444444,
              "#bd3786"
             ],
             [
              0.5555555555555556,
              "#d8576b"
             ],
             [
              0.6666666666666666,
              "#ed7953"
             ],
             [
              0.7777777777777778,
              "#fb9f3a"
             ],
             [
              0.8888888888888888,
              "#fdca26"
             ],
             [
              1,
              "#f0f921"
             ]
            ],
            "type": "heatmapgl"
           }
          ],
          "histogram": [
           {
            "marker": {
             "pattern": {
              "fillmode": "overlay",
              "size": 10,
              "solidity": 0.2
             }
            },
            "type": "histogram"
           }
          ],
          "histogram2d": [
           {
            "colorbar": {
             "outlinewidth": 0,
             "ticks": ""
            },
            "colorscale": [
             [
              0,
              "#0d0887"
             ],
             [
              0.1111111111111111,
              "#46039f"
             ],
             [
              0.2222222222222222,
              "#7201a8"
             ],
             [
              0.3333333333333333,
              "#9c179e"
             ],
             [
              0.4444444444444444,
              "#bd3786"
             ],
             [
              0.5555555555555556,
              "#d8576b"
             ],
             [
              0.6666666666666666,
              "#ed7953"
             ],
             [
              0.7777777777777778,
              "#fb9f3a"
             ],
             [
              0.8888888888888888,
              "#fdca26"
             ],
             [
              1,
              "#f0f921"
             ]
            ],
            "type": "histogram2d"
           }
          ],
          "histogram2dcontour": [
           {
            "colorbar": {
             "outlinewidth": 0,
             "ticks": ""
            },
            "colorscale": [
             [
              0,
              "#0d0887"
             ],
             [
              0.1111111111111111,
              "#46039f"
             ],
             [
              0.2222222222222222,
              "#7201a8"
             ],
             [
              0.3333333333333333,
              "#9c179e"
             ],
             [
              0.4444444444444444,
              "#bd3786"
             ],
             [
              0.5555555555555556,
              "#d8576b"
             ],
             [
              0.6666666666666666,
              "#ed7953"
             ],
             [
              0.7777777777777778,
              "#fb9f3a"
             ],
             [
              0.8888888888888888,
              "#fdca26"
             ],
             [
              1,
              "#f0f921"
             ]
            ],
            "type": "histogram2dcontour"
           }
          ],
          "mesh3d": [
           {
            "colorbar": {
             "outlinewidth": 0,
             "ticks": ""
            },
            "type": "mesh3d"
           }
          ],
          "parcoords": [
           {
            "line": {
             "colorbar": {
              "outlinewidth": 0,
              "ticks": ""
             }
            },
            "type": "parcoords"
           }
          ],
          "pie": [
           {
            "automargin": true,
            "type": "pie"
           }
          ],
          "scatter": [
           {
            "fillpattern": {
             "fillmode": "overlay",
             "size": 10,
             "solidity": 0.2
            },
            "type": "scatter"
           }
          ],
          "scatter3d": [
           {
            "line": {
             "colorbar": {
              "outlinewidth": 0,
              "ticks": ""
             }
            },
            "marker": {
             "colorbar": {
              "outlinewidth": 0,
              "ticks": ""
             }
            },
            "type": "scatter3d"
           }
          ],
          "scattercarpet": [
           {
            "marker": {
             "colorbar": {
              "outlinewidth": 0,
              "ticks": ""
             }
            },
            "type": "scattercarpet"
           }
          ],
          "scattergeo": [
           {
            "marker": {
             "colorbar": {
              "outlinewidth": 0,
              "ticks": ""
             }
            },
            "type": "scattergeo"
           }
          ],
          "scattergl": [
           {
            "marker": {
             "colorbar": {
              "outlinewidth": 0,
              "ticks": ""
             }
            },
            "type": "scattergl"
           }
          ],
          "scattermapbox": [
           {
            "marker": {
             "colorbar": {
              "outlinewidth": 0,
              "ticks": ""
             }
            },
            "type": "scattermapbox"
           }
          ],
          "scatterpolar": [
           {
            "marker": {
             "colorbar": {
              "outlinewidth": 0,
              "ticks": ""
             }
            },
            "type": "scatterpolar"
           }
          ],
          "scatterpolargl": [
           {
            "marker": {
             "colorbar": {
              "outlinewidth": 0,
              "ticks": ""
             }
            },
            "type": "scatterpolargl"
           }
          ],
          "scatterternary": [
           {
            "marker": {
             "colorbar": {
              "outlinewidth": 0,
              "ticks": ""
             }
            },
            "type": "scatterternary"
           }
          ],
          "surface": [
           {
            "colorbar": {
             "outlinewidth": 0,
             "ticks": ""
            },
            "colorscale": [
             [
              0,
              "#0d0887"
             ],
             [
              0.1111111111111111,
              "#46039f"
             ],
             [
              0.2222222222222222,
              "#7201a8"
             ],
             [
              0.3333333333333333,
              "#9c179e"
             ],
             [
              0.4444444444444444,
              "#bd3786"
             ],
             [
              0.5555555555555556,
              "#d8576b"
             ],
             [
              0.6666666666666666,
              "#ed7953"
             ],
             [
              0.7777777777777778,
              "#fb9f3a"
             ],
             [
              0.8888888888888888,
              "#fdca26"
             ],
             [
              1,
              "#f0f921"
             ]
            ],
            "type": "surface"
           }
          ],
          "table": [
           {
            "cells": {
             "fill": {
              "color": "#EBF0F8"
             },
             "line": {
              "color": "white"
             }
            },
            "header": {
             "fill": {
              "color": "#C8D4E3"
             },
             "line": {
              "color": "white"
             }
            },
            "type": "table"
           }
          ]
         },
         "layout": {
          "annotationdefaults": {
           "arrowcolor": "#2a3f5f",
           "arrowhead": 0,
           "arrowwidth": 1
          },
          "autotypenumbers": "strict",
          "coloraxis": {
           "colorbar": {
            "outlinewidth": 0,
            "ticks": ""
           }
          },
          "colorscale": {
           "diverging": [
            [
             0,
             "#8e0152"
            ],
            [
             0.1,
             "#c51b7d"
            ],
            [
             0.2,
             "#de77ae"
            ],
            [
             0.3,
             "#f1b6da"
            ],
            [
             0.4,
             "#fde0ef"
            ],
            [
             0.5,
             "#f7f7f7"
            ],
            [
             0.6,
             "#e6f5d0"
            ],
            [
             0.7,
             "#b8e186"
            ],
            [
             0.8,
             "#7fbc41"
            ],
            [
             0.9,
             "#4d9221"
            ],
            [
             1,
             "#276419"
            ]
           ],
           "sequential": [
            [
             0,
             "#0d0887"
            ],
            [
             0.1111111111111111,
             "#46039f"
            ],
            [
             0.2222222222222222,
             "#7201a8"
            ],
            [
             0.3333333333333333,
             "#9c179e"
            ],
            [
             0.4444444444444444,
             "#bd3786"
            ],
            [
             0.5555555555555556,
             "#d8576b"
            ],
            [
             0.6666666666666666,
             "#ed7953"
            ],
            [
             0.7777777777777778,
             "#fb9f3a"
            ],
            [
             0.8888888888888888,
             "#fdca26"
            ],
            [
             1,
             "#f0f921"
            ]
           ],
           "sequentialminus": [
            [
             0,
             "#0d0887"
            ],
            [
             0.1111111111111111,
             "#46039f"
            ],
            [
             0.2222222222222222,
             "#7201a8"
            ],
            [
             0.3333333333333333,
             "#9c179e"
            ],
            [
             0.4444444444444444,
             "#bd3786"
            ],
            [
             0.5555555555555556,
             "#d8576b"
            ],
            [
             0.6666666666666666,
             "#ed7953"
            ],
            [
             0.7777777777777778,
             "#fb9f3a"
            ],
            [
             0.8888888888888888,
             "#fdca26"
            ],
            [
             1,
             "#f0f921"
            ]
           ]
          },
          "colorway": [
           "#636efa",
           "#EF553B",
           "#00cc96",
           "#ab63fa",
           "#FFA15A",
           "#19d3f3",
           "#FF6692",
           "#B6E880",
           "#FF97FF",
           "#FECB52"
          ],
          "font": {
           "color": "#2a3f5f"
          },
          "geo": {
           "bgcolor": "white",
           "lakecolor": "white",
           "landcolor": "#E5ECF6",
           "showlakes": true,
           "showland": true,
           "subunitcolor": "white"
          },
          "hoverlabel": {
           "align": "left"
          },
          "hovermode": "closest",
          "mapbox": {
           "style": "light"
          },
          "paper_bgcolor": "white",
          "plot_bgcolor": "#E5ECF6",
          "polar": {
           "angularaxis": {
            "gridcolor": "white",
            "linecolor": "white",
            "ticks": ""
           },
           "bgcolor": "#E5ECF6",
           "radialaxis": {
            "gridcolor": "white",
            "linecolor": "white",
            "ticks": ""
           }
          },
          "scene": {
           "xaxis": {
            "backgroundcolor": "#E5ECF6",
            "gridcolor": "white",
            "gridwidth": 2,
            "linecolor": "white",
            "showbackground": true,
            "ticks": "",
            "zerolinecolor": "white"
           },
           "yaxis": {
            "backgroundcolor": "#E5ECF6",
            "gridcolor": "white",
            "gridwidth": 2,
            "linecolor": "white",
            "showbackground": true,
            "ticks": "",
            "zerolinecolor": "white"
           },
           "zaxis": {
            "backgroundcolor": "#E5ECF6",
            "gridcolor": "white",
            "gridwidth": 2,
            "linecolor": "white",
            "showbackground": true,
            "ticks": "",
            "zerolinecolor": "white"
           }
          },
          "shapedefaults": {
           "line": {
            "color": "#2a3f5f"
           }
          },
          "ternary": {
           "aaxis": {
            "gridcolor": "white",
            "linecolor": "white",
            "ticks": ""
           },
           "baxis": {
            "gridcolor": "white",
            "linecolor": "white",
            "ticks": ""
           },
           "bgcolor": "#E5ECF6",
           "caxis": {
            "gridcolor": "white",
            "linecolor": "white",
            "ticks": ""
           }
          },
          "title": {
           "x": 0.05
          },
          "xaxis": {
           "automargin": true,
           "gridcolor": "white",
           "linecolor": "white",
           "ticks": "",
           "title": {
            "standoff": 15
           },
           "zerolinecolor": "white",
           "zerolinewidth": 2
          },
          "yaxis": {
           "automargin": true,
           "gridcolor": "white",
           "linecolor": "white",
           "ticks": "",
           "title": {
            "standoff": 15
           },
           "zerolinecolor": "white",
           "zerolinewidth": 2
          }
         }
        },
        "xaxis": {
         "anchor": "y",
         "domain": [
          0,
          1
         ],
         "title": {
          "text": "monthly_income"
         }
        },
        "yaxis": {
         "anchor": "x",
         "domain": [
          0,
          1
         ],
         "title": {
          "text": "entertainment"
         }
        }
       }
      }
     },
     "metadata": {},
     "output_type": "display_data"
    }
   ],
   "source": [
    "# Is there any correlation between monthly income and entertainment expenses?\n",
    "fig =px.scatter(df,x= 'monthly_income', y='entertainment')\n",
    "fig.show()"
   ]
  },
  {
   "cell_type": "code",
   "execution_count": 12,
   "metadata": {},
   "outputs": [
    {
     "data": {
      "application/vnd.plotly.v1+json": {
       "config": {
        "plotlyServerURL": "https://plot.ly"
       },
       "data": [
        {
         "hovertemplate": "technology=%{x}<br>age=%{y}<extra></extra>",
         "legendgroup": "",
         "marker": {
          "color": "#636efa",
          "symbol": "circle"
         },
         "mode": "markers",
         "name": "",
         "orientation": "v",
         "showlegend": false,
         "type": "scatter",
         "x": [
          134,
          226,
          239,
          163,
          88,
          234,
          157,
          152,
          162,
          243,
          274,
          209,
          78,
          125,
          196,
          73,
          285,
          50,
          105,
          264,
          97,
          77,
          159,
          218,
          238,
          237,
          84,
          113,
          156,
          73,
          155,
          276,
          138,
          231,
          77,
          228,
          269,
          242,
          298,
          142,
          117,
          159,
          176,
          108,
          118,
          163,
          252,
          242,
          90,
          128,
          145,
          293,
          150,
          79,
          109,
          121,
          294,
          263,
          180,
          223,
          261,
          187,
          281,
          124,
          81,
          262,
          54,
          230,
          111,
          187,
          238,
          104,
          98,
          185,
          88,
          86,
          96,
          180,
          196,
          130,
          122,
          259,
          252,
          97,
          278,
          220,
          247,
          173,
          295,
          247,
          149,
          65,
          187,
          191,
          130,
          166,
          234,
          265,
          270,
          84,
          259,
          56,
          137,
          192,
          112,
          144,
          99,
          294,
          66,
          264,
          53,
          192,
          278,
          205,
          108,
          171,
          223,
          265,
          250,
          275,
          188,
          233,
          227,
          110,
          299,
          140,
          143,
          284,
          160,
          251,
          243,
          117,
          150,
          59,
          200,
          275,
          198,
          138,
          178,
          88,
          122,
          153,
          212,
          108,
          226,
          201,
          94,
          213,
          156,
          273,
          223,
          191,
          102,
          66,
          108,
          115,
          67,
          146,
          252,
          76,
          290,
          91,
          67,
          249,
          133,
          77,
          225,
          144,
          192,
          86,
          193,
          234,
          129,
          113,
          175,
          185,
          215,
          91,
          247,
          77,
          69,
          280,
          254,
          251,
          226,
          260,
          101,
          290,
          172,
          154,
          206,
          272,
          183,
          184,
          224,
          257,
          125,
          188,
          206,
          236,
          192,
          170,
          226,
          62,
          278,
          207,
          98,
          204,
          103,
          256,
          141,
          55,
          256,
          177,
          77,
          127,
          59,
          92,
          225,
          220,
          108,
          248,
          266,
          139,
          92,
          292,
          165,
          294,
          270,
          97,
          244,
          143,
          104,
          192,
          112,
          299,
          194,
          278,
          208,
          178,
          57,
          236,
          228,
          73,
          152,
          284,
          69,
          267,
          246,
          261,
          178,
          253,
          136,
          115,
          76,
          178,
          284,
          198,
          246,
          206,
          231,
          80,
          256,
          147,
          110,
          217,
          50,
          173,
          268,
          83,
          171,
          65,
          295,
          122,
          94,
          74,
          117,
          167,
          168,
          166,
          103,
          171,
          201,
          200,
          238,
          246,
          276,
          106,
          248,
          215,
          247,
          233,
          96,
          229,
          90,
          264,
          112,
          89,
          81,
          58,
          286,
          281,
          196,
          220,
          91,
          244,
          208,
          67,
          78,
          184,
          229,
          282,
          298,
          108,
          204,
          93,
          158,
          160,
          143,
          81,
          149,
          199,
          289,
          241,
          297,
          138,
          59,
          236,
          216,
          209,
          260,
          176,
          160,
          296,
          184,
          257,
          144,
          94,
          135,
          293,
          69,
          77,
          183,
          160,
          201,
          82,
          120,
          89,
          174,
          53,
          289,
          192,
          79,
          233,
          166,
          118,
          275,
          162,
          186,
          275,
          225,
          135,
          57,
          182,
          68,
          198,
          180,
          215,
          267,
          228,
          113,
          102,
          156,
          114,
          289,
          234,
          154,
          225,
          71,
          127,
          197,
          230,
          169,
          124,
          270,
          221,
          67,
          154,
          163,
          135,
          175,
          194,
          235,
          267,
          129,
          107,
          287,
          148,
          230,
          167,
          139,
          212,
          144,
          146,
          209,
          131,
          188,
          136,
          276,
          132,
          196,
          246,
          256,
          167,
          123,
          163,
          129,
          178,
          158,
          273,
          248,
          93,
          261,
          265,
          265,
          202,
          152,
          98,
          186,
          195,
          150,
          159,
          164,
          244,
          203,
          285,
          284,
          174,
          193,
          261,
          273,
          89,
          179,
          180,
          191,
          93,
          189,
          296,
          201,
          268,
          62,
          88,
          126,
          185,
          220,
          171,
          195,
          299,
          258,
          276,
          294,
          238,
          166,
          249,
          77,
          255,
          141,
          95,
          201,
          83,
          159,
          117,
          146,
          180,
          82,
          171,
          59,
          244,
          67,
          141,
          188,
          87,
          271,
          174,
          149,
          119,
          296,
          117,
          142,
          270,
          193,
          290,
          87,
          260,
          75,
          281,
          258,
          154,
          240,
          190,
          102,
          108,
          228,
          183,
          284,
          296,
          179,
          139,
          164,
          141,
          284,
          116,
          161,
          243,
          67,
          170,
          199,
          170,
          249,
          102,
          212,
          55,
          130,
          163,
          236,
          277,
          145,
          255,
          215,
          266,
          299,
          59,
          108,
          60,
          268,
          202,
          252,
          207,
          75,
          77,
          152,
          278,
          127,
          177,
          120,
          266,
          141,
          242,
          237,
          95,
          288,
          87,
          109,
          208,
          286,
          155,
          89,
          226,
          192,
          116,
          148,
          280,
          292,
          161,
          180,
          188,
          96,
          126,
          159,
          249,
          261,
          144,
          296,
          100,
          250,
          184,
          101,
          143,
          201,
          143,
          284,
          159,
          297,
          220,
          229,
          180,
          223,
          254,
          53,
          227,
          188,
          267,
          272,
          191,
          235,
          292,
          161,
          136,
          220,
          179,
          159,
          177,
          181,
          131,
          158,
          182,
          288,
          103,
          175,
          291,
          263,
          263,
          239,
          161,
          188,
          241,
          85,
          74,
          155,
          205,
          286,
          295,
          198,
          153,
          280,
          229,
          170,
          132,
          76,
          113,
          106,
          143,
          143,
          265,
          79,
          201,
          60,
          124,
          106,
          211,
          288,
          112,
          291,
          102,
          52,
          112,
          56,
          175,
          93,
          139,
          55,
          294,
          152,
          126,
          51,
          102,
          212,
          119,
          291,
          209,
          262,
          287,
          124,
          108,
          96,
          150,
          245,
          152,
          77,
          188,
          216,
          155,
          282,
          106,
          72,
          268,
          208,
          295,
          112,
          95,
          54,
          86,
          73,
          158,
          298,
          105,
          182,
          187,
          224,
          219,
          140,
          52,
          57,
          169,
          109,
          278,
          206,
          105,
          248,
          298,
          92,
          97,
          103,
          175,
          114,
          157,
          53,
          111,
          56,
          104,
          166,
          246,
          193,
          136,
          135,
          281,
          219,
          170,
          55,
          91,
          206,
          147,
          235,
          166,
          288,
          252,
          298,
          245,
          172,
          279,
          228,
          87,
          154,
          182,
          241,
          157,
          195,
          114,
          241,
          135,
          56,
          222,
          77,
          267,
          155,
          131,
          275,
          107,
          243,
          70,
          289,
          212,
          167,
          198,
          56,
          113,
          120,
          98,
          291,
          97,
          123,
          178,
          156,
          185,
          90,
          84,
          298,
          99,
          235,
          84,
          59,
          251,
          287,
          265,
          275,
          170,
          159,
          283,
          62,
          152,
          98,
          146,
          139,
          199,
          102,
          61,
          90,
          172,
          197,
          256,
          162,
          113,
          265,
          196,
          271,
          217,
          50,
          94,
          77,
          156,
          243,
          251,
          138,
          115,
          238,
          204,
          297,
          121,
          71,
          209,
          237,
          251,
          195,
          100,
          205,
          75,
          127,
          152,
          274,
          64,
          84,
          289,
          156,
          249,
          151,
          89,
          275,
          270,
          277,
          151,
          126,
          270,
          162,
          105,
          153,
          222,
          294,
          71,
          223,
          183,
          293,
          90,
          153,
          244,
          108,
          225,
          286,
          99,
          54,
          206,
          190,
          258,
          256,
          147,
          219,
          103,
          242,
          296,
          193,
          280,
          233,
          97,
          110,
          213,
          246,
          173,
          191,
          89,
          235,
          85,
          101,
          120,
          98,
          170,
          157,
          127,
          230,
          226,
          144,
          262,
          241,
          113,
          216,
          205,
          227,
          300,
          248,
          130,
          258,
          200,
          238,
          176,
          109,
          134,
          64,
          104,
          124,
          298,
          78,
          127,
          54,
          286,
          217,
          268,
          231,
          123,
          162,
          229,
          90,
          71,
          155,
          228,
          121,
          165,
          228,
          122,
          142,
          254,
          237,
          168,
          236,
          83,
          141,
          232,
          75,
          282,
          100,
          207,
          96,
          192,
          258,
          74,
          244,
          211,
          239,
          54,
          71,
          193,
          234,
          235,
          294,
          148,
          238,
          267,
          216,
          241,
          236,
          193,
          299,
          56,
          135,
          120,
          220,
          79,
          73,
          74,
          255,
          218,
          275,
          151,
          54,
          297,
          196,
          105,
          265,
          104,
          289,
          275,
          69,
          287,
          86,
          168,
          285,
          220,
          77,
          270,
          283,
          229,
          147,
          84,
          170,
          131,
          269,
          243,
          254,
          190,
          216,
          217,
          279,
          125,
          290,
          187,
          67,
          283,
          86,
          252,
          274,
          284,
          190,
          281
         ],
         "xaxis": "x",
         "y": [
          19,
          24,
          24,
          23,
          20,
          25,
          23,
          23,
          22,
          18,
          23,
          25,
          21,
          19,
          24,
          22,
          23,
          21,
          19,
          20,
          19,
          24,
          18,
          24,
          19,
          25,
          20,
          20,
          24,
          23,
          23,
          23,
          24,
          25,
          23,
          21,
          22,
          23,
          21,
          20,
          24,
          25,
          23,
          23,
          23,
          18,
          25,
          19,
          25,
          24,
          20,
          21,
          19,
          18,
          24,
          22,
          24,
          20,
          25,
          20,
          20,
          23,
          18,
          20,
          19,
          19,
          24,
          21,
          23,
          22,
          19,
          21,
          23,
          22,
          25,
          19,
          22,
          24,
          22,
          23,
          18,
          19,
          24,
          19,
          22,
          25,
          25,
          25,
          20,
          23,
          18,
          19,
          23,
          18,
          18,
          18,
          20,
          18,
          24,
          23,
          22,
          23,
          20,
          25,
          21,
          21,
          25,
          21,
          20,
          24,
          22,
          23,
          19,
          21,
          21,
          22,
          22,
          18,
          21,
          24,
          23,
          24,
          25,
          22,
          23,
          20,
          20,
          22,
          20,
          22,
          22,
          25,
          25,
          22,
          24,
          24,
          23,
          24,
          18,
          21,
          22,
          23,
          25,
          24,
          23,
          18,
          23,
          21,
          24,
          21,
          23,
          21,
          21,
          19,
          19,
          22,
          19,
          20,
          18,
          25,
          23,
          25,
          23,
          19,
          18,
          19,
          23,
          20,
          19,
          24,
          21,
          25,
          19,
          20,
          21,
          23,
          18,
          18,
          23,
          21,
          25,
          20,
          24,
          24,
          22,
          25,
          24,
          23,
          24,
          22,
          21,
          21,
          19,
          22,
          24,
          23,
          20,
          21,
          24,
          25,
          19,
          24,
          24,
          23,
          24,
          20,
          24,
          19,
          18,
          19,
          18,
          21,
          25,
          20,
          24,
          18,
          21,
          19,
          25,
          25,
          25,
          23,
          21,
          24,
          25,
          23,
          25,
          22,
          21,
          22,
          18,
          20,
          22,
          22,
          24,
          24,
          21,
          18,
          25,
          25,
          24,
          21,
          22,
          23,
          20,
          24,
          19,
          20,
          24,
          19,
          24,
          21,
          18,
          20,
          21,
          22,
          18,
          19,
          23,
          20,
          21,
          20,
          24,
          21,
          22,
          25,
          23,
          22,
          19,
          23,
          20,
          24,
          23,
          21,
          22,
          18,
          25,
          18,
          25,
          24,
          20,
          20,
          19,
          23,
          20,
          18,
          22,
          23,
          21,
          20,
          22,
          24,
          25,
          25,
          20,
          19,
          20,
          18,
          24,
          22,
          21,
          18,
          25,
          20,
          21,
          19,
          21,
          21,
          25,
          25,
          20,
          25,
          24,
          21,
          22,
          18,
          24,
          18,
          24,
          25,
          19,
          20,
          19,
          21,
          21,
          18,
          21,
          25,
          25,
          19,
          19,
          20,
          18,
          18,
          25,
          18,
          22,
          19,
          23,
          19,
          20,
          19,
          25,
          24,
          24,
          23,
          23,
          23,
          25,
          18,
          25,
          23,
          23,
          25,
          23,
          23,
          20,
          24,
          23,
          21,
          23,
          25,
          22,
          24,
          21,
          21,
          18,
          19,
          18,
          21,
          23,
          24,
          22,
          25,
          25,
          25,
          21,
          18,
          20,
          25,
          22,
          18,
          18,
          18,
          18,
          24,
          21,
          23,
          18,
          21,
          22,
          22,
          19,
          24,
          18,
          19,
          22,
          25,
          22,
          20,
          19,
          18,
          18,
          24,
          25,
          24,
          22,
          22,
          18,
          22,
          18,
          21,
          25,
          19,
          23,
          25,
          18,
          19,
          23,
          22,
          24,
          23,
          19,
          20,
          23,
          23,
          18,
          18,
          21,
          21,
          23,
          18,
          18,
          25,
          23,
          24,
          18,
          19,
          23,
          18,
          22,
          21,
          18,
          22,
          24,
          24,
          20,
          24,
          18,
          20,
          23,
          23,
          18,
          22,
          18,
          20,
          23,
          21,
          19,
          18,
          20,
          25,
          21,
          18,
          21,
          19,
          19,
          19,
          25,
          23,
          24,
          19,
          23,
          22,
          20,
          24,
          21,
          18,
          22,
          25,
          21,
          25,
          25,
          24,
          25,
          23,
          23,
          20,
          24,
          19,
          19,
          22,
          19,
          18,
          21,
          25,
          22,
          22,
          25,
          22,
          25,
          18,
          19,
          24,
          21,
          25,
          20,
          24,
          25,
          25,
          20,
          24,
          19,
          18,
          22,
          25,
          18,
          18,
          22,
          22,
          18,
          21,
          18,
          23,
          22,
          22,
          24,
          23,
          18,
          24,
          24,
          25,
          18,
          22,
          22,
          22,
          21,
          18,
          20,
          25,
          20,
          20,
          20,
          19,
          25,
          22,
          25,
          25,
          22,
          23,
          20,
          20,
          23,
          20,
          19,
          18,
          25,
          19,
          22,
          21,
          20,
          24,
          18,
          22,
          23,
          20,
          22,
          21,
          18,
          21,
          25,
          25,
          24,
          22,
          18,
          20,
          23,
          23,
          24,
          20,
          21,
          25,
          21,
          22,
          25,
          23,
          19,
          22,
          24,
          21,
          18,
          22,
          20,
          20,
          24,
          19,
          22,
          18,
          25,
          23,
          23,
          23,
          22,
          25,
          25,
          18,
          24,
          24,
          20,
          24,
          24,
          23,
          23,
          21,
          23,
          24,
          20,
          25,
          24,
          19,
          19,
          22,
          18,
          19,
          23,
          21,
          21,
          25,
          22,
          22,
          22,
          21,
          22,
          25,
          25,
          23,
          18,
          24,
          25,
          18,
          24,
          20,
          24,
          18,
          25,
          22,
          20,
          19,
          23,
          25,
          23,
          23,
          18,
          23,
          18,
          18,
          20,
          18,
          22,
          21,
          21,
          20,
          21,
          18,
          22,
          18,
          22,
          18,
          24,
          21,
          23,
          20,
          24,
          25,
          25,
          19,
          24,
          24,
          22,
          20,
          18,
          25,
          18,
          23,
          20,
          19,
          22,
          22,
          24,
          21,
          25,
          19,
          24,
          24,
          25,
          20,
          25,
          18,
          23,
          19,
          25,
          20,
          20,
          21,
          19,
          21,
          22,
          21,
          20,
          22,
          23,
          20,
          24,
          25,
          23,
          25,
          24,
          23,
          20,
          21,
          24,
          20,
          25,
          21,
          25,
          21,
          18,
          20,
          25,
          21,
          18,
          22,
          22,
          24,
          21,
          25,
          24,
          22,
          25,
          18,
          23,
          20,
          22,
          19,
          25,
          18,
          25,
          18,
          19,
          25,
          22,
          23,
          22,
          23,
          24,
          22,
          20,
          23,
          22,
          21,
          23,
          25,
          18,
          24,
          19,
          21,
          18,
          21,
          24,
          20,
          20,
          22,
          19,
          19,
          25,
          23,
          22,
          21,
          22,
          23,
          21,
          23,
          24,
          25,
          22,
          21,
          20,
          24,
          25,
          21,
          25,
          20,
          18,
          19,
          22,
          25,
          21,
          25,
          22,
          23,
          22,
          22,
          23,
          24,
          25,
          23,
          19,
          25,
          23,
          19,
          24,
          19,
          20,
          24,
          23,
          20,
          19,
          18,
          18,
          20,
          24,
          24,
          22,
          19,
          22,
          20,
          25,
          22,
          21,
          19,
          21,
          25,
          25,
          18,
          18,
          22,
          20,
          21,
          19,
          22,
          24,
          24,
          22,
          25,
          19,
          19,
          21,
          23,
          23,
          19,
          23,
          18,
          25,
          21,
          24,
          24,
          21,
          19,
          19,
          18,
          19,
          18,
          22,
          23,
          25,
          24,
          22,
          24,
          21,
          19,
          21,
          25,
          24,
          25,
          20,
          21,
          18,
          21,
          19,
          25,
          25,
          19,
          24,
          18,
          24,
          25,
          24,
          24,
          25,
          22,
          24,
          21,
          25,
          21,
          21,
          18,
          18,
          25,
          24,
          23,
          18,
          22,
          21,
          25,
          19,
          20,
          22,
          18,
          20,
          24,
          21,
          23,
          20,
          21,
          25,
          25,
          21,
          20,
          23,
          23,
          21,
          19,
          18,
          25,
          20,
          24,
          23,
          23,
          19,
          23,
          23,
          22,
          22,
          25,
          19,
          24,
          20,
          18,
          24,
          18,
          21,
          19,
          22,
          22,
          24,
          24,
          24,
          20,
          19,
          18,
          22,
          25,
          21,
          21,
          25,
          25,
          20,
          20,
          22,
          23,
          25,
          22,
          24,
          22,
          25,
          24,
          19,
          18,
          21,
          24,
          25,
          19,
          21,
          19,
          18,
          19,
          25,
          18,
          23,
          20,
          18,
          24,
          19,
          20,
          25,
          19,
          23,
          22,
          23,
          22,
          20,
          24,
          20,
          20,
          22,
          22,
          19,
          20,
          22,
          24
         ],
         "yaxis": "y"
        }
       ],
       "layout": {
        "legend": {
         "tracegroupgap": 0
        },
        "margin": {
         "t": 60
        },
        "template": {
         "data": {
          "bar": [
           {
            "error_x": {
             "color": "#2a3f5f"
            },
            "error_y": {
             "color": "#2a3f5f"
            },
            "marker": {
             "line": {
              "color": "#E5ECF6",
              "width": 0.5
             },
             "pattern": {
              "fillmode": "overlay",
              "size": 10,
              "solidity": 0.2
             }
            },
            "type": "bar"
           }
          ],
          "barpolar": [
           {
            "marker": {
             "line": {
              "color": "#E5ECF6",
              "width": 0.5
             },
             "pattern": {
              "fillmode": "overlay",
              "size": 10,
              "solidity": 0.2
             }
            },
            "type": "barpolar"
           }
          ],
          "carpet": [
           {
            "aaxis": {
             "endlinecolor": "#2a3f5f",
             "gridcolor": "white",
             "linecolor": "white",
             "minorgridcolor": "white",
             "startlinecolor": "#2a3f5f"
            },
            "baxis": {
             "endlinecolor": "#2a3f5f",
             "gridcolor": "white",
             "linecolor": "white",
             "minorgridcolor": "white",
             "startlinecolor": "#2a3f5f"
            },
            "type": "carpet"
           }
          ],
          "choropleth": [
           {
            "colorbar": {
             "outlinewidth": 0,
             "ticks": ""
            },
            "type": "choropleth"
           }
          ],
          "contour": [
           {
            "colorbar": {
             "outlinewidth": 0,
             "ticks": ""
            },
            "colorscale": [
             [
              0,
              "#0d0887"
             ],
             [
              0.1111111111111111,
              "#46039f"
             ],
             [
              0.2222222222222222,
              "#7201a8"
             ],
             [
              0.3333333333333333,
              "#9c179e"
             ],
             [
              0.4444444444444444,
              "#bd3786"
             ],
             [
              0.5555555555555556,
              "#d8576b"
             ],
             [
              0.6666666666666666,
              "#ed7953"
             ],
             [
              0.7777777777777778,
              "#fb9f3a"
             ],
             [
              0.8888888888888888,
              "#fdca26"
             ],
             [
              1,
              "#f0f921"
             ]
            ],
            "type": "contour"
           }
          ],
          "contourcarpet": [
           {
            "colorbar": {
             "outlinewidth": 0,
             "ticks": ""
            },
            "type": "contourcarpet"
           }
          ],
          "heatmap": [
           {
            "colorbar": {
             "outlinewidth": 0,
             "ticks": ""
            },
            "colorscale": [
             [
              0,
              "#0d0887"
             ],
             [
              0.1111111111111111,
              "#46039f"
             ],
             [
              0.2222222222222222,
              "#7201a8"
             ],
             [
              0.3333333333333333,
              "#9c179e"
             ],
             [
              0.4444444444444444,
              "#bd3786"
             ],
             [
              0.5555555555555556,
              "#d8576b"
             ],
             [
              0.6666666666666666,
              "#ed7953"
             ],
             [
              0.7777777777777778,
              "#fb9f3a"
             ],
             [
              0.8888888888888888,
              "#fdca26"
             ],
             [
              1,
              "#f0f921"
             ]
            ],
            "type": "heatmap"
           }
          ],
          "heatmapgl": [
           {
            "colorbar": {
             "outlinewidth": 0,
             "ticks": ""
            },
            "colorscale": [
             [
              0,
              "#0d0887"
             ],
             [
              0.1111111111111111,
              "#46039f"
             ],
             [
              0.2222222222222222,
              "#7201a8"
             ],
             [
              0.3333333333333333,
              "#9c179e"
             ],
             [
              0.4444444444444444,
              "#bd3786"
             ],
             [
              0.5555555555555556,
              "#d8576b"
             ],
             [
              0.6666666666666666,
              "#ed7953"
             ],
             [
              0.7777777777777778,
              "#fb9f3a"
             ],
             [
              0.8888888888888888,
              "#fdca26"
             ],
             [
              1,
              "#f0f921"
             ]
            ],
            "type": "heatmapgl"
           }
          ],
          "histogram": [
           {
            "marker": {
             "pattern": {
              "fillmode": "overlay",
              "size": 10,
              "solidity": 0.2
             }
            },
            "type": "histogram"
           }
          ],
          "histogram2d": [
           {
            "colorbar": {
             "outlinewidth": 0,
             "ticks": ""
            },
            "colorscale": [
             [
              0,
              "#0d0887"
             ],
             [
              0.1111111111111111,
              "#46039f"
             ],
             [
              0.2222222222222222,
              "#7201a8"
             ],
             [
              0.3333333333333333,
              "#9c179e"
             ],
             [
              0.4444444444444444,
              "#bd3786"
             ],
             [
              0.5555555555555556,
              "#d8576b"
             ],
             [
              0.6666666666666666,
              "#ed7953"
             ],
             [
              0.7777777777777778,
              "#fb9f3a"
             ],
             [
              0.8888888888888888,
              "#fdca26"
             ],
             [
              1,
              "#f0f921"
             ]
            ],
            "type": "histogram2d"
           }
          ],
          "histogram2dcontour": [
           {
            "colorbar": {
             "outlinewidth": 0,
             "ticks": ""
            },
            "colorscale": [
             [
              0,
              "#0d0887"
             ],
             [
              0.1111111111111111,
              "#46039f"
             ],
             [
              0.2222222222222222,
              "#7201a8"
             ],
             [
              0.3333333333333333,
              "#9c179e"
             ],
             [
              0.4444444444444444,
              "#bd3786"
             ],
             [
              0.5555555555555556,
              "#d8576b"
             ],
             [
              0.6666666666666666,
              "#ed7953"
             ],
             [
              0.7777777777777778,
              "#fb9f3a"
             ],
             [
              0.8888888888888888,
              "#fdca26"
             ],
             [
              1,
              "#f0f921"
             ]
            ],
            "type": "histogram2dcontour"
           }
          ],
          "mesh3d": [
           {
            "colorbar": {
             "outlinewidth": 0,
             "ticks": ""
            },
            "type": "mesh3d"
           }
          ],
          "parcoords": [
           {
            "line": {
             "colorbar": {
              "outlinewidth": 0,
              "ticks": ""
             }
            },
            "type": "parcoords"
           }
          ],
          "pie": [
           {
            "automargin": true,
            "type": "pie"
           }
          ],
          "scatter": [
           {
            "fillpattern": {
             "fillmode": "overlay",
             "size": 10,
             "solidity": 0.2
            },
            "type": "scatter"
           }
          ],
          "scatter3d": [
           {
            "line": {
             "colorbar": {
              "outlinewidth": 0,
              "ticks": ""
             }
            },
            "marker": {
             "colorbar": {
              "outlinewidth": 0,
              "ticks": ""
             }
            },
            "type": "scatter3d"
           }
          ],
          "scattercarpet": [
           {
            "marker": {
             "colorbar": {
              "outlinewidth": 0,
              "ticks": ""
             }
            },
            "type": "scattercarpet"
           }
          ],
          "scattergeo": [
           {
            "marker": {
             "colorbar": {
              "outlinewidth": 0,
              "ticks": ""
             }
            },
            "type": "scattergeo"
           }
          ],
          "scattergl": [
           {
            "marker": {
             "colorbar": {
              "outlinewidth": 0,
              "ticks": ""
             }
            },
            "type": "scattergl"
           }
          ],
          "scattermapbox": [
           {
            "marker": {
             "colorbar": {
              "outlinewidth": 0,
              "ticks": ""
             }
            },
            "type": "scattermapbox"
           }
          ],
          "scatterpolar": [
           {
            "marker": {
             "colorbar": {
              "outlinewidth": 0,
              "ticks": ""
             }
            },
            "type": "scatterpolar"
           }
          ],
          "scatterpolargl": [
           {
            "marker": {
             "colorbar": {
              "outlinewidth": 0,
              "ticks": ""
             }
            },
            "type": "scatterpolargl"
           }
          ],
          "scatterternary": [
           {
            "marker": {
             "colorbar": {
              "outlinewidth": 0,
              "ticks": ""
             }
            },
            "type": "scatterternary"
           }
          ],
          "surface": [
           {
            "colorbar": {
             "outlinewidth": 0,
             "ticks": ""
            },
            "colorscale": [
             [
              0,
              "#0d0887"
             ],
             [
              0.1111111111111111,
              "#46039f"
             ],
             [
              0.2222222222222222,
              "#7201a8"
             ],
             [
              0.3333333333333333,
              "#9c179e"
             ],
             [
              0.4444444444444444,
              "#bd3786"
             ],
             [
              0.5555555555555556,
              "#d8576b"
             ],
             [
              0.6666666666666666,
              "#ed7953"
             ],
             [
              0.7777777777777778,
              "#fb9f3a"
             ],
             [
              0.8888888888888888,
              "#fdca26"
             ],
             [
              1,
              "#f0f921"
             ]
            ],
            "type": "surface"
           }
          ],
          "table": [
           {
            "cells": {
             "fill": {
              "color": "#EBF0F8"
             },
             "line": {
              "color": "white"
             }
            },
            "header": {
             "fill": {
              "color": "#C8D4E3"
             },
             "line": {
              "color": "white"
             }
            },
            "type": "table"
           }
          ]
         },
         "layout": {
          "annotationdefaults": {
           "arrowcolor": "#2a3f5f",
           "arrowhead": 0,
           "arrowwidth": 1
          },
          "autotypenumbers": "strict",
          "coloraxis": {
           "colorbar": {
            "outlinewidth": 0,
            "ticks": ""
           }
          },
          "colorscale": {
           "diverging": [
            [
             0,
             "#8e0152"
            ],
            [
             0.1,
             "#c51b7d"
            ],
            [
             0.2,
             "#de77ae"
            ],
            [
             0.3,
             "#f1b6da"
            ],
            [
             0.4,
             "#fde0ef"
            ],
            [
             0.5,
             "#f7f7f7"
            ],
            [
             0.6,
             "#e6f5d0"
            ],
            [
             0.7,
             "#b8e186"
            ],
            [
             0.8,
             "#7fbc41"
            ],
            [
             0.9,
             "#4d9221"
            ],
            [
             1,
             "#276419"
            ]
           ],
           "sequential": [
            [
             0,
             "#0d0887"
            ],
            [
             0.1111111111111111,
             "#46039f"
            ],
            [
             0.2222222222222222,
             "#7201a8"
            ],
            [
             0.3333333333333333,
             "#9c179e"
            ],
            [
             0.4444444444444444,
             "#bd3786"
            ],
            [
             0.5555555555555556,
             "#d8576b"
            ],
            [
             0.6666666666666666,
             "#ed7953"
            ],
            [
             0.7777777777777778,
             "#fb9f3a"
            ],
            [
             0.8888888888888888,
             "#fdca26"
            ],
            [
             1,
             "#f0f921"
            ]
           ],
           "sequentialminus": [
            [
             0,
             "#0d0887"
            ],
            [
             0.1111111111111111,
             "#46039f"
            ],
            [
             0.2222222222222222,
             "#7201a8"
            ],
            [
             0.3333333333333333,
             "#9c179e"
            ],
            [
             0.4444444444444444,
             "#bd3786"
            ],
            [
             0.5555555555555556,
             "#d8576b"
            ],
            [
             0.6666666666666666,
             "#ed7953"
            ],
            [
             0.7777777777777778,
             "#fb9f3a"
            ],
            [
             0.8888888888888888,
             "#fdca26"
            ],
            [
             1,
             "#f0f921"
            ]
           ]
          },
          "colorway": [
           "#636efa",
           "#EF553B",
           "#00cc96",
           "#ab63fa",
           "#FFA15A",
           "#19d3f3",
           "#FF6692",
           "#B6E880",
           "#FF97FF",
           "#FECB52"
          ],
          "font": {
           "color": "#2a3f5f"
          },
          "geo": {
           "bgcolor": "white",
           "lakecolor": "white",
           "landcolor": "#E5ECF6",
           "showlakes": true,
           "showland": true,
           "subunitcolor": "white"
          },
          "hoverlabel": {
           "align": "left"
          },
          "hovermode": "closest",
          "mapbox": {
           "style": "light"
          },
          "paper_bgcolor": "white",
          "plot_bgcolor": "#E5ECF6",
          "polar": {
           "angularaxis": {
            "gridcolor": "white",
            "linecolor": "white",
            "ticks": ""
           },
           "bgcolor": "#E5ECF6",
           "radialaxis": {
            "gridcolor": "white",
            "linecolor": "white",
            "ticks": ""
           }
          },
          "scene": {
           "xaxis": {
            "backgroundcolor": "#E5ECF6",
            "gridcolor": "white",
            "gridwidth": 2,
            "linecolor": "white",
            "showbackground": true,
            "ticks": "",
            "zerolinecolor": "white"
           },
           "yaxis": {
            "backgroundcolor": "#E5ECF6",
            "gridcolor": "white",
            "gridwidth": 2,
            "linecolor": "white",
            "showbackground": true,
            "ticks": "",
            "zerolinecolor": "white"
           },
           "zaxis": {
            "backgroundcolor": "#E5ECF6",
            "gridcolor": "white",
            "gridwidth": 2,
            "linecolor": "white",
            "showbackground": true,
            "ticks": "",
            "zerolinecolor": "white"
           }
          },
          "shapedefaults": {
           "line": {
            "color": "#2a3f5f"
           }
          },
          "ternary": {
           "aaxis": {
            "gridcolor": "white",
            "linecolor": "white",
            "ticks": ""
           },
           "baxis": {
            "gridcolor": "white",
            "linecolor": "white",
            "ticks": ""
           },
           "bgcolor": "#E5ECF6",
           "caxis": {
            "gridcolor": "white",
            "linecolor": "white",
            "ticks": ""
           }
          },
          "title": {
           "x": 0.05
          },
          "xaxis": {
           "automargin": true,
           "gridcolor": "white",
           "linecolor": "white",
           "ticks": "",
           "title": {
            "standoff": 15
           },
           "zerolinecolor": "white",
           "zerolinewidth": 2
          },
          "yaxis": {
           "automargin": true,
           "gridcolor": "white",
           "linecolor": "white",
           "ticks": "",
           "title": {
            "standoff": 15
           },
           "zerolinecolor": "white",
           "zerolinewidth": 2
          }
         }
        },
        "xaxis": {
         "anchor": "y",
         "domain": [
          0,
          1
         ],
         "title": {
          "text": "technology"
         }
        },
        "yaxis": {
         "anchor": "x",
         "domain": [
          0,
          1
         ],
         "title": {
          "text": "age"
         }
        }
       }
      }
     },
     "metadata": {},
     "output_type": "display_data"
    }
   ],
   "source": [
    "#How does technology expense vary with respect to age of students?\n",
    "fig= px.scatter(df,x='technology', y='age')\n",
    "fig.show()"
   ]
  },
  {
   "cell_type": "code",
   "execution_count": 13,
   "metadata": {},
   "outputs": [
    {
     "data": {
      "application/vnd.plotly.v1+json": {
       "config": {
        "plotlyServerURL": "https://plot.ly"
       },
       "data": [
        {
         "branchvalues": "total",
         "domain": {
          "x": [
           0,
           1
          ],
          "y": [
           0,
           1
          ]
         },
         "hovertemplate": "labels=%{label}<br>miscellaneous=%{value}<br>parent=%{parent}<br>id=%{id}<extra></extra>",
         "ids": [
          "Biology/Female",
          "Computer Science/Female",
          "Economics/Female",
          "Engineering/Female",
          "Psychology/Female",
          "Biology/Male",
          "Computer Science/Male",
          "Economics/Male",
          "Engineering/Male",
          "Psychology/Male",
          "Biology/Non-binary",
          "Computer Science/Non-binary",
          "Economics/Non-binary",
          "Engineering/Non-binary",
          "Psychology/Non-binary",
          "Biology",
          "Computer Science",
          "Economics",
          "Engineering",
          "Psychology"
         ],
         "labels": [
          "Female",
          "Female",
          "Female",
          "Female",
          "Female",
          "Male",
          "Male",
          "Male",
          "Male",
          "Male",
          "Non-binary",
          "Non-binary",
          "Non-binary",
          "Non-binary",
          "Non-binary",
          "Biology",
          "Computer Science",
          "Economics",
          "Engineering",
          "Psychology"
         ],
         "name": "",
         "parents": [
          "Biology",
          "Computer Science",
          "Economics",
          "Engineering",
          "Psychology",
          "Biology",
          "Computer Science",
          "Economics",
          "Engineering",
          "Psychology",
          "Biology",
          "Computer Science",
          "Economics",
          "Engineering",
          "Psychology",
          "",
          "",
          "",
          "",
          ""
         ],
         "type": "sunburst",
         "values": [
          7168,
          7105,
          6142,
          7657,
          7029,
          8695,
          7572,
          7751,
          7236,
          6849,
          9308,
          6634,
          7897,
          6018,
          5849,
          25171,
          21311,
          21790,
          20911,
          19727
         ]
        }
       ],
       "layout": {
        "legend": {
         "tracegroupgap": 0
        },
        "margin": {
         "t": 60
        },
        "template": {
         "data": {
          "bar": [
           {
            "error_x": {
             "color": "#2a3f5f"
            },
            "error_y": {
             "color": "#2a3f5f"
            },
            "marker": {
             "line": {
              "color": "#E5ECF6",
              "width": 0.5
             },
             "pattern": {
              "fillmode": "overlay",
              "size": 10,
              "solidity": 0.2
             }
            },
            "type": "bar"
           }
          ],
          "barpolar": [
           {
            "marker": {
             "line": {
              "color": "#E5ECF6",
              "width": 0.5
             },
             "pattern": {
              "fillmode": "overlay",
              "size": 10,
              "solidity": 0.2
             }
            },
            "type": "barpolar"
           }
          ],
          "carpet": [
           {
            "aaxis": {
             "endlinecolor": "#2a3f5f",
             "gridcolor": "white",
             "linecolor": "white",
             "minorgridcolor": "white",
             "startlinecolor": "#2a3f5f"
            },
            "baxis": {
             "endlinecolor": "#2a3f5f",
             "gridcolor": "white",
             "linecolor": "white",
             "minorgridcolor": "white",
             "startlinecolor": "#2a3f5f"
            },
            "type": "carpet"
           }
          ],
          "choropleth": [
           {
            "colorbar": {
             "outlinewidth": 0,
             "ticks": ""
            },
            "type": "choropleth"
           }
          ],
          "contour": [
           {
            "colorbar": {
             "outlinewidth": 0,
             "ticks": ""
            },
            "colorscale": [
             [
              0,
              "#0d0887"
             ],
             [
              0.1111111111111111,
              "#46039f"
             ],
             [
              0.2222222222222222,
              "#7201a8"
             ],
             [
              0.3333333333333333,
              "#9c179e"
             ],
             [
              0.4444444444444444,
              "#bd3786"
             ],
             [
              0.5555555555555556,
              "#d8576b"
             ],
             [
              0.6666666666666666,
              "#ed7953"
             ],
             [
              0.7777777777777778,
              "#fb9f3a"
             ],
             [
              0.8888888888888888,
              "#fdca26"
             ],
             [
              1,
              "#f0f921"
             ]
            ],
            "type": "contour"
           }
          ],
          "contourcarpet": [
           {
            "colorbar": {
             "outlinewidth": 0,
             "ticks": ""
            },
            "type": "contourcarpet"
           }
          ],
          "heatmap": [
           {
            "colorbar": {
             "outlinewidth": 0,
             "ticks": ""
            },
            "colorscale": [
             [
              0,
              "#0d0887"
             ],
             [
              0.1111111111111111,
              "#46039f"
             ],
             [
              0.2222222222222222,
              "#7201a8"
             ],
             [
              0.3333333333333333,
              "#9c179e"
             ],
             [
              0.4444444444444444,
              "#bd3786"
             ],
             [
              0.5555555555555556,
              "#d8576b"
             ],
             [
              0.6666666666666666,
              "#ed7953"
             ],
             [
              0.7777777777777778,
              "#fb9f3a"
             ],
             [
              0.8888888888888888,
              "#fdca26"
             ],
             [
              1,
              "#f0f921"
             ]
            ],
            "type": "heatmap"
           }
          ],
          "heatmapgl": [
           {
            "colorbar": {
             "outlinewidth": 0,
             "ticks": ""
            },
            "colorscale": [
             [
              0,
              "#0d0887"
             ],
             [
              0.1111111111111111,
              "#46039f"
             ],
             [
              0.2222222222222222,
              "#7201a8"
             ],
             [
              0.3333333333333333,
              "#9c179e"
             ],
             [
              0.4444444444444444,
              "#bd3786"
             ],
             [
              0.5555555555555556,
              "#d8576b"
             ],
             [
              0.6666666666666666,
              "#ed7953"
             ],
             [
              0.7777777777777778,
              "#fb9f3a"
             ],
             [
              0.8888888888888888,
              "#fdca26"
             ],
             [
              1,
              "#f0f921"
             ]
            ],
            "type": "heatmapgl"
           }
          ],
          "histogram": [
           {
            "marker": {
             "pattern": {
              "fillmode": "overlay",
              "size": 10,
              "solidity": 0.2
             }
            },
            "type": "histogram"
           }
          ],
          "histogram2d": [
           {
            "colorbar": {
             "outlinewidth": 0,
             "ticks": ""
            },
            "colorscale": [
             [
              0,
              "#0d0887"
             ],
             [
              0.1111111111111111,
              "#46039f"
             ],
             [
              0.2222222222222222,
              "#7201a8"
             ],
             [
              0.3333333333333333,
              "#9c179e"
             ],
             [
              0.4444444444444444,
              "#bd3786"
             ],
             [
              0.5555555555555556,
              "#d8576b"
             ],
             [
              0.6666666666666666,
              "#ed7953"
             ],
             [
              0.7777777777777778,
              "#fb9f3a"
             ],
             [
              0.8888888888888888,
              "#fdca26"
             ],
             [
              1,
              "#f0f921"
             ]
            ],
            "type": "histogram2d"
           }
          ],
          "histogram2dcontour": [
           {
            "colorbar": {
             "outlinewidth": 0,
             "ticks": ""
            },
            "colorscale": [
             [
              0,
              "#0d0887"
             ],
             [
              0.1111111111111111,
              "#46039f"
             ],
             [
              0.2222222222222222,
              "#7201a8"
             ],
             [
              0.3333333333333333,
              "#9c179e"
             ],
             [
              0.4444444444444444,
              "#bd3786"
             ],
             [
              0.5555555555555556,
              "#d8576b"
             ],
             [
              0.6666666666666666,
              "#ed7953"
             ],
             [
              0.7777777777777778,
              "#fb9f3a"
             ],
             [
              0.8888888888888888,
              "#fdca26"
             ],
             [
              1,
              "#f0f921"
             ]
            ],
            "type": "histogram2dcontour"
           }
          ],
          "mesh3d": [
           {
            "colorbar": {
             "outlinewidth": 0,
             "ticks": ""
            },
            "type": "mesh3d"
           }
          ],
          "parcoords": [
           {
            "line": {
             "colorbar": {
              "outlinewidth": 0,
              "ticks": ""
             }
            },
            "type": "parcoords"
           }
          ],
          "pie": [
           {
            "automargin": true,
            "type": "pie"
           }
          ],
          "scatter": [
           {
            "fillpattern": {
             "fillmode": "overlay",
             "size": 10,
             "solidity": 0.2
            },
            "type": "scatter"
           }
          ],
          "scatter3d": [
           {
            "line": {
             "colorbar": {
              "outlinewidth": 0,
              "ticks": ""
             }
            },
            "marker": {
             "colorbar": {
              "outlinewidth": 0,
              "ticks": ""
             }
            },
            "type": "scatter3d"
           }
          ],
          "scattercarpet": [
           {
            "marker": {
             "colorbar": {
              "outlinewidth": 0,
              "ticks": ""
             }
            },
            "type": "scattercarpet"
           }
          ],
          "scattergeo": [
           {
            "marker": {
             "colorbar": {
              "outlinewidth": 0,
              "ticks": ""
             }
            },
            "type": "scattergeo"
           }
          ],
          "scattergl": [
           {
            "marker": {
             "colorbar": {
              "outlinewidth": 0,
              "ticks": ""
             }
            },
            "type": "scattergl"
           }
          ],
          "scattermapbox": [
           {
            "marker": {
             "colorbar": {
              "outlinewidth": 0,
              "ticks": ""
             }
            },
            "type": "scattermapbox"
           }
          ],
          "scatterpolar": [
           {
            "marker": {
             "colorbar": {
              "outlinewidth": 0,
              "ticks": ""
             }
            },
            "type": "scatterpolar"
           }
          ],
          "scatterpolargl": [
           {
            "marker": {
             "colorbar": {
              "outlinewidth": 0,
              "ticks": ""
             }
            },
            "type": "scatterpolargl"
           }
          ],
          "scatterternary": [
           {
            "marker": {
             "colorbar": {
              "outlinewidth": 0,
              "ticks": ""
             }
            },
            "type": "scatterternary"
           }
          ],
          "surface": [
           {
            "colorbar": {
             "outlinewidth": 0,
             "ticks": ""
            },
            "colorscale": [
             [
              0,
              "#0d0887"
             ],
             [
              0.1111111111111111,
              "#46039f"
             ],
             [
              0.2222222222222222,
              "#7201a8"
             ],
             [
              0.3333333333333333,
              "#9c179e"
             ],
             [
              0.4444444444444444,
              "#bd3786"
             ],
             [
              0.5555555555555556,
              "#d8576b"
             ],
             [
              0.6666666666666666,
              "#ed7953"
             ],
             [
              0.7777777777777778,
              "#fb9f3a"
             ],
             [
              0.8888888888888888,
              "#fdca26"
             ],
             [
              1,
              "#f0f921"
             ]
            ],
            "type": "surface"
           }
          ],
          "table": [
           {
            "cells": {
             "fill": {
              "color": "#EBF0F8"
             },
             "line": {
              "color": "white"
             }
            },
            "header": {
             "fill": {
              "color": "#C8D4E3"
             },
             "line": {
              "color": "white"
             }
            },
            "type": "table"
           }
          ]
         },
         "layout": {
          "annotationdefaults": {
           "arrowcolor": "#2a3f5f",
           "arrowhead": 0,
           "arrowwidth": 1
          },
          "autotypenumbers": "strict",
          "coloraxis": {
           "colorbar": {
            "outlinewidth": 0,
            "ticks": ""
           }
          },
          "colorscale": {
           "diverging": [
            [
             0,
             "#8e0152"
            ],
            [
             0.1,
             "#c51b7d"
            ],
            [
             0.2,
             "#de77ae"
            ],
            [
             0.3,
             "#f1b6da"
            ],
            [
             0.4,
             "#fde0ef"
            ],
            [
             0.5,
             "#f7f7f7"
            ],
            [
             0.6,
             "#e6f5d0"
            ],
            [
             0.7,
             "#b8e186"
            ],
            [
             0.8,
             "#7fbc41"
            ],
            [
             0.9,
             "#4d9221"
            ],
            [
             1,
             "#276419"
            ]
           ],
           "sequential": [
            [
             0,
             "#0d0887"
            ],
            [
             0.1111111111111111,
             "#46039f"
            ],
            [
             0.2222222222222222,
             "#7201a8"
            ],
            [
             0.3333333333333333,
             "#9c179e"
            ],
            [
             0.4444444444444444,
             "#bd3786"
            ],
            [
             0.5555555555555556,
             "#d8576b"
            ],
            [
             0.6666666666666666,
             "#ed7953"
            ],
            [
             0.7777777777777778,
             "#fb9f3a"
            ],
            [
             0.8888888888888888,
             "#fdca26"
            ],
            [
             1,
             "#f0f921"
            ]
           ],
           "sequentialminus": [
            [
             0,
             "#0d0887"
            ],
            [
             0.1111111111111111,
             "#46039f"
            ],
            [
             0.2222222222222222,
             "#7201a8"
            ],
            [
             0.3333333333333333,
             "#9c179e"
            ],
            [
             0.4444444444444444,
             "#bd3786"
            ],
            [
             0.5555555555555556,
             "#d8576b"
            ],
            [
             0.6666666666666666,
             "#ed7953"
            ],
            [
             0.7777777777777778,
             "#fb9f3a"
            ],
            [
             0.8888888888888888,
             "#fdca26"
            ],
            [
             1,
             "#f0f921"
            ]
           ]
          },
          "colorway": [
           "#636efa",
           "#EF553B",
           "#00cc96",
           "#ab63fa",
           "#FFA15A",
           "#19d3f3",
           "#FF6692",
           "#B6E880",
           "#FF97FF",
           "#FECB52"
          ],
          "font": {
           "color": "#2a3f5f"
          },
          "geo": {
           "bgcolor": "white",
           "lakecolor": "white",
           "landcolor": "#E5ECF6",
           "showlakes": true,
           "showland": true,
           "subunitcolor": "white"
          },
          "hoverlabel": {
           "align": "left"
          },
          "hovermode": "closest",
          "mapbox": {
           "style": "light"
          },
          "paper_bgcolor": "white",
          "plot_bgcolor": "#E5ECF6",
          "polar": {
           "angularaxis": {
            "gridcolor": "white",
            "linecolor": "white",
            "ticks": ""
           },
           "bgcolor": "#E5ECF6",
           "radialaxis": {
            "gridcolor": "white",
            "linecolor": "white",
            "ticks": ""
           }
          },
          "scene": {
           "xaxis": {
            "backgroundcolor": "#E5ECF6",
            "gridcolor": "white",
            "gridwidth": 2,
            "linecolor": "white",
            "showbackground": true,
            "ticks": "",
            "zerolinecolor": "white"
           },
           "yaxis": {
            "backgroundcolor": "#E5ECF6",
            "gridcolor": "white",
            "gridwidth": 2,
            "linecolor": "white",
            "showbackground": true,
            "ticks": "",
            "zerolinecolor": "white"
           },
           "zaxis": {
            "backgroundcolor": "#E5ECF6",
            "gridcolor": "white",
            "gridwidth": 2,
            "linecolor": "white",
            "showbackground": true,
            "ticks": "",
            "zerolinecolor": "white"
           }
          },
          "shapedefaults": {
           "line": {
            "color": "#2a3f5f"
           }
          },
          "ternary": {
           "aaxis": {
            "gridcolor": "white",
            "linecolor": "white",
            "ticks": ""
           },
           "baxis": {
            "gridcolor": "white",
            "linecolor": "white",
            "ticks": ""
           },
           "bgcolor": "#E5ECF6",
           "caxis": {
            "gridcolor": "white",
            "linecolor": "white",
            "ticks": ""
           }
          },
          "title": {
           "x": 0.05
          },
          "xaxis": {
           "automargin": true,
           "gridcolor": "white",
           "linecolor": "white",
           "ticks": "",
           "title": {
            "standoff": 15
           },
           "zerolinecolor": "white",
           "zerolinewidth": 2
          },
          "yaxis": {
           "automargin": true,
           "gridcolor": "white",
           "linecolor": "white",
           "ticks": "",
           "title": {
            "standoff": 15
           },
           "zerolinecolor": "white",
           "zerolinewidth": 2
          }
         }
        }
       }
      }
     },
     "metadata": {},
     "output_type": "display_data"
    }
   ],
   "source": [
    "# Can we visualize the breakdown of miscelleanous expenses across different categories within each major?\n",
    "fig=px.sunburst(df, path=['major', 'gender',], values='miscellaneous' )\n",
    "fig.show()"
   ]
  },
  {
   "cell_type": "code",
   "execution_count": null,
   "metadata": {},
   "outputs": [],
   "source": []
  }
 ],
 "metadata": {
  "kernelspec": {
   "display_name": "Python 3",
   "language": "python",
   "name": "python3"
  },
  "language_info": {
   "codemirror_mode": {
    "name": "ipython",
    "version": 3
   },
   "file_extension": ".py",
   "mimetype": "text/x-python",
   "name": "python",
   "nbconvert_exporter": "python",
   "pygments_lexer": "ipython3",
   "version": "3.11.1"
  }
 },
 "nbformat": 4,
 "nbformat_minor": 2
}
