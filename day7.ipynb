{
 "cells": [
  {
   "cell_type": "code",
   "execution_count": 1,
   "id": "5c3cbe8c",
   "metadata": {},
   "outputs": [],
   "source": [
    "#you have been employed"
   ]
  },
  {
   "cell_type": "code",
   "execution_count": 10,
   "id": "792047e3",
   "metadata": {},
   "outputs": [
    {
     "name": "stdout",
     "output_type": "stream",
     "text": [
      "Enter Your StudentID 003\n",
      "STUDENT FINAL REPORT\n",
      "Name James\n",
      "Gender Male\n",
      "PythonAssignment 85\n",
      "PythonExam 89\n",
      "DataScienceAssignment 80\n",
      "DataScienceExam 80\n",
      "Overall Score: 85.5\n"
     ]
    }
   ],
   "source": [
    "def result_portal():\n",
    "    records = {\n",
    "    '001':{'Name':'Micheal','Gender':'Male','PythonAssignment':70,'PythonExam':74,'DataScienceAssignment':68,'DataScienceExam':90},\n",
    "    '002':{'Name':'Michelle','Gender':'Female','PythonAssignment':86,'PythonExam':80,'DataScienceAssignment':79,'DataScienceExam':85},\n",
    "    '003':{'Name':'James','Gender':'Male','PythonAssignment':85,'PythonExam':89,'DataScienceAssignment':80,'DataScienceExam':88},\n",
    "    '004':{'Name':'Jemimah','Gender':'Female','PythonAssignment':79,'PythonExam':80,'DataScienceAssignment':76,'DataScienceExam':79},\n",
    "    '005':{'Name':'Daniel','Gender':'Male','PythonAssignment':90,'PythonExam':87,'DataScienceAssignment':89,'DataScienceExam':79},\n",
    "    '006':{'Name':'David','Gender':'Male','PythonAssignment':98,'PythonExam':84,'DataScienceAssignment':79,'DataScienceExam':88},\n",
    "    '007':{'Name':'Daniella','Gender':'Female','PythonAssignment':100,'PythonExam':100,'DataScienceAssignment':100,'DataScienceExam':100},\n",
    "}\n",
    "    regid = input('Enter Your StudentID ')\n",
    "    for studentID in records:\n",
    "        if regid == studentID:\n",
    "            print('STUDENT FINAL REPORT')\n",
    "            print('Name:',records[studentID]['Name'])\n",
    "            print('Gender:',records[studentID]['Gender'])\n",
    "            print('PythonAssignment:',records[studentID]['PythonAssignment'])\n",
    "            print('PythonExam:',records[studentID]['PythonExam'])\n",
    "            print('DataScienceAssignment:',records[studentID]['DataScienceAssignment'])\n",
    "            print('DataScienceExam:',records[studentID]['DataScienceAssignment'])\n",
    "            Average_Score = (records[studentID]['PythonAssignment'] + records[studentID]['PythonExam'] +\n",
    "                             records[studentID]['DataScienceAssignment'] + records[studentID]['DataScienceExam'])/4\n",
    "            print('Overall Score:',Average_Score)\n",
    "            \n",
    "            break\n",
    "\n",
    "    else: \n",
    "            print('You are not registered in our system')\n",
    "\n",
    "result_portal()"
   ]
  },
  {
   "cell_type": "code",
   "execution_count": 1,
   "id": "9f126b37",
   "metadata": {},
   "outputs": [
    {
     "name": "stdout",
     "output_type": "stream",
     "text": [
      "Enter Your StudentID 007\n",
      "You are not registered in our system\n",
      "You are not registered in our system\n",
      "You are not registered in our system\n",
      "You are not registered in our system\n",
      "You are not registered in our system\n",
      "You are not registered in our system\n",
      "STUDENT FINAL REPORT\n",
      "Name {'Name': 'Daniella', 'Gender': 'Female', 'PythonAssignment': 100, 'PythonExam': 100, 'DataScienceAssignment': 100, 'DataScienceExam': 100}\n"
     ]
    }
   ],
   "source": [
    "def result_portal():\n",
    "    records = {\n",
    "    '001':{'Name':'Micheal','Gender':'Male','PythonAssignment':70,'PythonExam':74,'DataScienceAssignment':68,'DataScienceExam':90},\n",
    "    '002':{'Name':'Michelle','Gender':'Female','PythonAssignment':86,'PythonExam':80,'DataScienceAssignment':79,'DataScienceExam':85},\n",
    "    '003':{'Name':'James','Gender':'Male','PythonAssignment':85,'PythonExam':89,'DataScienceAssignment':80,'DataScienceExam':88},\n",
    "    '004':{'Name':'Jemimah','Gender':'Female','PythonAssignment':79,'PythonExam':80,'DataScienceAssignment':76,'DataScienceExam':79},\n",
    "    '005':{'Name':'Daniel','Gender':'Male','PythonAssignment':90,'PythonExam':87,'DataScienceAssignment':89,'DataScienceExam':79},\n",
    "    '006':{'Name':'David','Gender':'Male','PythonAssignment':98,'PythonExam':84,'DataScienceAssignment':79,'DataScienceExam':88},\n",
    "    '007':{'Name':'Daniella','Gender':'Female','PythonAssignment':100,'PythonExam':100,'DataScienceAssignment':100,'DataScienceExam':100},\n",
    "}\n",
    "    regid = input('Enter Your StudentID ')\n",
    "    for studentID in records:\n",
    "        if regid == studentID:\n",
    "            print('STUDENT FINAL REPORT')\n",
    "            print('Name',records[studentID])\n",
    "            break\n",
    "        else: \n",
    "            print('You are not registered in our system')\n",
    "\n",
    "result_portal()"
   ]
  },
  {
   "cell_type": "code",
   "execution_count": 12,
   "id": "3101cedc",
   "metadata": {},
   "outputs": [
    {
     "name": "stdout",
     "output_type": "stream",
     "text": [
      "56.22222222222222\n"
     ]
    }
   ],
   "source": [
    "def average(*numbers):# this is a function with a non variable let, showing that the number goes on and on \n",
    "    avg = sum(numbers)/len(numbers)\n",
    "    print(avg)\n",
    "average(14,52,36,39,38,88,56,98,85)"
   ]
  },
  {
   "cell_type": "code",
   "execution_count": 16,
   "id": "e85bf051",
   "metadata": {},
   "outputs": [
    {
     "ename": "ModuleNotFoundError",
     "evalue": "No module named 'mymodule'",
     "output_type": "error",
     "traceback": [
      "\u001b[1;31m---------------------------------------------------------------------------\u001b[0m",
      "\u001b[1;31mModuleNotFoundError\u001b[0m                       Traceback (most recent call last)",
      "Cell \u001b[1;32mIn[16], line 1\u001b[0m\n\u001b[1;32m----> 1\u001b[0m \u001b[38;5;28;01mimport\u001b[39;00m \u001b[38;5;21;01mmymodule\u001b[39;00m\n\u001b[0;32m      2\u001b[0m \u001b[38;5;28mprint\u001b[39m(\u001b[38;5;28mdir\u001b[39m(mymodule))\n",
      "\u001b[1;31mModuleNotFoundError\u001b[0m: No module named 'mymodule'"
     ]
    }
   ],
   "source": [
    "import mymodule\n",
    "print(dir(mymodule))"
   ]
  },
  {
   "cell_type": "code",
   "execution_count": 17,
   "id": "ad4d2e42",
   "metadata": {},
   "outputs": [],
   "source": [
    "#double * means when providing value provide key ( variable let of keyword argument)"
   ]
  },
  {
   "cell_type": "raw",
   "id": "f962eb90",
   "metadata": {},
   "source": []
  },
  {
   "cell_type": "code",
   "execution_count": 18,
   "id": "0903e786",
   "metadata": {},
   "outputs": [
    {
     "name": "stdout",
     "output_type": "stream",
     "text": [
      "Name : Ade\n"
     ]
    }
   ],
   "source": [
    "def records(**details):\n",
    "    for key,value in details.items():\n",
    "        print(key,':',value)\n",
    "records(Name = 'Ade')"
   ]
  },
  {
   "cell_type": "code",
   "execution_count": null,
   "id": "d2076182",
   "metadata": {},
   "outputs": [],
   "source": [
    "#next week\n",
    "#class\n",
    "#object\n",
    "#attribute\n",
    "#method\n",
    "#__init__\n",
    "#self"
   ]
  }
 ],
 "metadata": {
  "kernelspec": {
   "display_name": "Python 3 (ipykernel)",
   "language": "python",
   "name": "python3"
  },
  "language_info": {
   "codemirror_mode": {
    "name": "ipython",
    "version": 3
   },
   "file_extension": ".py",
   "mimetype": "text/x-python",
   "name": "python",
   "nbconvert_exporter": "python",
   "pygments_lexer": "ipython3",
   "version": "3.11.5"
  }
 },
 "nbformat": 4,
 "nbformat_minor": 5
}
