{
 "cells": [
  {
   "cell_type": "code",
   "execution_count": 1,
   "id": "d8a61895",
   "metadata": {},
   "outputs": [
    {
     "name": "stdout",
     "output_type": "stream",
     "text": [
      "['MAXYEAR', 'MINYEAR', 'UTC', '__all__', '__builtins__', '__cached__', '__doc__', '__file__', '__loader__', '__name__', '__package__', '__spec__', 'date', 'datetime', 'datetime_CAPI', 'sys', 'time', 'timedelta', 'timezone', 'tzinfo']\n"
     ]
    }
   ],
   "source": [
    "import datetime\n",
    "print(dir(datetime))"
   ]
  },
  {
   "cell_type": "code",
   "execution_count": 2,
   "id": "8d2fe722",
   "metadata": {},
   "outputs": [
    {
     "data": {
      "text/plain": [
       "datetime.date(2000, 2, 22)"
      ]
     },
     "execution_count": 2,
     "metadata": {},
     "output_type": "execute_result"
    }
   ],
   "source": [
    "date1 = datetime.date(2000,2,22)\n",
    "date1"
   ]
  },
  {
   "cell_type": "code",
   "execution_count": 3,
   "id": "e9a6baa7",
   "metadata": {},
   "outputs": [
    {
     "name": "stdout",
     "output_type": "stream",
     "text": [
      "2000\n",
      "2\n",
      "22\n",
      "1\n",
      "2\n"
     ]
    }
   ],
   "source": [
    "print(date1.year)\n",
    "print(date1.month)\n",
    "print(date1.day)\n",
    "print(date1.weekday())\n",
    "print(date1.isoweekday())"
   ]
  },
  {
   "cell_type": "code",
   "execution_count": 4,
   "id": "0a367463",
   "metadata": {},
   "outputs": [
    {
     "data": {
      "text/plain": [
       "datetime.date(2024, 1, 30)"
      ]
     },
     "execution_count": 4,
     "metadata": {},
     "output_type": "execute_result"
    }
   ],
   "source": [
    "currentdate = datetime.date.today()\n",
    "currentdate"
   ]
  },
  {
   "cell_type": "code",
   "execution_count": 5,
   "id": "c85d3baf",
   "metadata": {},
   "outputs": [
    {
     "name": "stdout",
     "output_type": "stream",
     "text": [
      "Tuesday\n",
      "Tue\n",
      "January\n",
      "Jan\n",
      "2024\n",
      "24\n",
      "01\n",
      "30\n"
     ]
    }
   ],
   "source": [
    "print(currentdate.strftime('%A'))\n",
    "print(currentdate.strftime('%a'))\n",
    "print(currentdate.strftime('%B'))\n",
    "print(currentdate.strftime('%b'))\n",
    "print(currentdate.strftime('%Y'))\n",
    "print(currentdate.strftime('%y'))\n",
    "print(currentdate.strftime('%m'))\n",
    "print(currentdate.strftime('%d'))"
   ]
  },
  {
   "cell_type": "code",
   "execution_count": 6,
   "id": "c74ea2c7",
   "metadata": {},
   "outputs": [],
   "source": [
    "# A - day of the week\n",
    "# B - Month \n",
    "# Y - year in numbers\n",
    "# m - month in numbers\n",
    "# d - day in numbers"
   ]
  },
  {
   "cell_type": "code",
   "execution_count": 7,
   "id": "49f617fc",
   "metadata": {},
   "outputs": [
    {
     "data": {
      "text/plain": [
       "'30th of January, 2024'"
      ]
     },
     "execution_count": 7,
     "metadata": {},
     "output_type": "execute_result"
    }
   ],
   "source": [
    "#format the current date in this format 30th January, 2024\n",
    "currentdate.strftime('%dth of %B, %Y')"
   ]
  },
  {
   "cell_type": "code",
   "execution_count": 8,
   "id": "d909ed48",
   "metadata": {},
   "outputs": [
    {
     "data": {
      "text/plain": [
       "datetime.time(23, 59, 59, 30)"
      ]
     },
     "execution_count": 8,
     "metadata": {},
     "output_type": "execute_result"
    }
   ],
   "source": [
    "time1 = datetime.time(23, 59, 59, 30)\n",
    "time1"
   ]
  },
  {
   "cell_type": "code",
   "execution_count": 9,
   "id": "b94ed344",
   "metadata": {},
   "outputs": [
    {
     "name": "stdout",
     "output_type": "stream",
     "text": [
      "23\n",
      "59\n",
      "59\n",
      "30\n"
     ]
    }
   ],
   "source": [
    "print(time1.hour)\n",
    "print(time1.minute)\n",
    "print(time1.second)\n",
    "print(time1.microsecond)"
   ]
  },
  {
   "cell_type": "code",
   "execution_count": 26,
   "id": "6be34d80",
   "metadata": {},
   "outputs": [
    {
     "name": "stdout",
     "output_type": "stream",
     "text": [
      "16:55:04.099012\n"
     ]
    }
   ],
   "source": [
    "currenttime = datetime.datetime.now().time()\n",
    "print(currenttime)"
   ]
  },
  {
   "cell_type": "code",
   "execution_count": 27,
   "id": "73ebd243",
   "metadata": {},
   "outputs": [
    {
     "name": "stdout",
     "output_type": "stream",
     "text": [
      "16\n",
      "04\n",
      "55\n",
      "04\n",
      "099012\n",
      "PM\n"
     ]
    }
   ],
   "source": [
    "print(currenttime.strftime('%H'))\n",
    "print(currenttime.strftime('%I'))\n",
    "print(currenttime.strftime('%M'))\n",
    "print(currenttime.strftime('%S'))\n",
    "print(currenttime.strftime('%f'))\n",
    "print(currenttime.strftime('%p'))"
   ]
  },
  {
   "cell_type": "code",
   "execution_count": 25,
   "id": "1b2db9d8",
   "metadata": {},
   "outputs": [],
   "source": [
    "# H - hour in 24 hr format\n",
    "# I- hour in 12 hr format\n",
    "# M - minute\n",
    "# S - seconds\n",
    "# f - microsecond\n",
    "# p - am or pm"
   ]
  },
  {
   "cell_type": "code",
   "execution_count": 31,
   "id": "b14600f9",
   "metadata": {},
   "outputs": [
    {
     "data": {
      "text/plain": [
       "datetime.datetime(2024, 1, 30, 16, 58, 26, 163371)"
      ]
     },
     "execution_count": 31,
     "metadata": {},
     "output_type": "execute_result"
    }
   ],
   "source": [
    "current_date_time = datetime.datetime.now()\n",
    "current_date_time"
   ]
  },
  {
   "cell_type": "code",
   "execution_count": 34,
   "id": "73f1abee",
   "metadata": {},
   "outputs": [
    {
     "name": "stdout",
     "output_type": "stream",
     "text": [
      "Please enter your date [mm/dd/yy]:02/22/2022\n",
      "2022-02-22\n"
     ]
    }
   ],
   "source": [
    "#strptime: this converts a date in string format to datetime format\n",
    "date2 = input('Please enter your date [mm/dd/yy]:')\n",
    "cdate = datetime.datetime.strptime(date2,'%m/%d/%Y').date()\n",
    "print(cdate)"
   ]
  },
  {
   "cell_type": "code",
   "execution_count": 35,
   "id": "837a8812",
   "metadata": {},
   "outputs": [],
   "source": [
    "#timedelta: it is the difference between two dates and time"
   ]
  },
  {
   "cell_type": "code",
   "execution_count": 36,
   "id": "588c13b3",
   "metadata": {},
   "outputs": [
    {
     "data": {
      "text/plain": [
       "datetime.timedelta(days=8743)"
      ]
     },
     "execution_count": 36,
     "metadata": {},
     "output_type": "execute_result"
    }
   ],
   "source": [
    "currentdate - date1"
   ]
  },
  {
   "cell_type": "code",
   "execution_count": 37,
   "id": "6d090161",
   "metadata": {},
   "outputs": [
    {
     "data": {
      "text/plain": [
       "datetime.date(2024, 6, 18)"
      ]
     },
     "execution_count": 37,
     "metadata": {},
     "output_type": "execute_result"
    }
   ],
   "source": [
    "currentdate + datetime.timedelta(weeks = 20)"
   ]
  },
  {
   "cell_type": "code",
   "execution_count": 38,
   "id": "91552a4f",
   "metadata": {},
   "outputs": [],
   "source": [
    "#Earlycode is building a system for students, you are instructed by the leader to writre a code that allows students to\n",
    "#check their exam date in weeks and days from the current date"
   ]
  },
  {
   "cell_type": "code",
   "execution_count": 39,
   "id": "d43fbbc2",
   "metadata": {},
   "outputs": [],
   "source": [
    "examdate = datetime.date(2024,4,25)\n",
    "currentdate = input('Please enter todays date [yy/mm/dd]')\n",
    "print(f'')"
   ]
  },
  {
   "cell_type": "code",
   "execution_count": 48,
   "id": "199109b3",
   "metadata": {},
   "outputs": [
    {
     "name": "stdout",
     "output_type": "stream",
     "text": [
      "Please enter the day you are to write your exam in [yy/mm/dd]2024/04/30\n",
      "13 weeks\n",
      "0 days\n"
     ]
    }
   ],
   "source": [
    "examdate = input('Please enter the day you are to write your exam in [yy/mm/dd]')\n",
    "edate = datetime.datetime.strptime(examdate,'%Y/%m/%d').date()\n",
    "currentdate = datetime.date.today()\n",
    "difference = edate - currentdate\n",
    "weeks = difference.days//7\n",
    "days = difference.days%7\n",
    "print (f'{weeks} weeks')\n",
    "print (f'{days} days')"
   ]
  },
  {
   "cell_type": "code",
   "execution_count": null,
   "id": "49494827",
   "metadata": {},
   "outputs": [],
   "source": []
  }
 ],
 "metadata": {
  "kernelspec": {
   "display_name": "Python 3 (ipykernel)",
   "language": "python",
   "name": "python3"
  },
  "language_info": {
   "codemirror_mode": {
    "name": "ipython",
    "version": 3
   },
   "file_extension": ".py",
   "mimetype": "text/x-python",
   "name": "python",
   "nbconvert_exporter": "python",
   "pygments_lexer": "ipython3",
   "version": "3.11.5"
  }
 },
 "nbformat": 4,
 "nbformat_minor": 5
}
