{
 "cells": [
  {
   "cell_type": "code",
   "execution_count": 1,
   "id": "88364978",
   "metadata": {},
   "outputs": [],
   "source": [
    "def greet():\n",
    "    print('Welcome to python class')"
   ]
  },
  {
   "cell_type": "code",
   "execution_count": 2,
   "id": "9dac3973",
   "metadata": {},
   "outputs": [
    {
     "name": "stdout",
     "output_type": "stream",
     "text": [
      "Welcome to python class\n",
      "None\n"
     ]
    }
   ],
   "source": [
    "print(greet())"
   ]
  },
  {
   "cell_type": "code",
   "execution_count": 4,
   "id": "841db1ce",
   "metadata": {},
   "outputs": [
    {
     "name": "stdout",
     "output_type": "stream",
     "text": [
      "Welcome to python class\n"
     ]
    }
   ],
   "source": [
    "greet()"
   ]
  },
  {
   "cell_type": "code",
   "execution_count": 8,
   "id": "4c535103",
   "metadata": {},
   "outputs": [
    {
     "name": "stdout",
     "output_type": "stream",
     "text": [
      "Orange Juice\n"
     ]
    }
   ],
   "source": [
    "def drink():\n",
    "    print('Orange Juice')\n",
    "drink()"
   ]
  },
  {
   "cell_type": "code",
   "execution_count": 11,
   "id": "2ed0c07e",
   "metadata": {},
   "outputs": [
    {
     "name": "stdout",
     "output_type": "stream",
     "text": [
      "Congratulations you are eligible to vote\n"
     ]
    }
   ],
   "source": [
    "def votecheck(name,gender,age):\n",
    "    if age >= 18:\n",
    "        print('Congratulations you are eligible to vote')\n",
    "    else:\n",
    "        print('Opss sorry you are not eligible to vote')\n",
    "votecheck('Telma','Female',18)"
   ]
  },
  {
   "cell_type": "code",
   "execution_count": 12,
   "id": "98b1ec3c",
   "metadata": {},
   "outputs": [],
   "source": [
    "#write a function to check if a user is eligible for rugby sport or football sport based on the weight\n",
    "#175 above weight for rugby and weight below football sport"
   ]
  },
  {
   "cell_type": "code",
   "execution_count": 13,
   "id": "3b62879e",
   "metadata": {},
   "outputs": [
    {
     "name": "stdout",
     "output_type": "stream",
     "text": [
      "You are eligible to play rugby\n"
     ]
    }
   ],
   "source": [
    "def sportapplication(name,gender,weight):\n",
    "    if weight >= 175:\n",
    "        print('You are eligible to play rugby')\n",
    "    else:\n",
    "        print('You are eligible to play football')\n",
    "sportapplication('Micheasl','Male',189)"
   ]
  },
  {
   "cell_type": "code",
   "execution_count": 15,
   "id": "8126b7ba",
   "metadata": {},
   "outputs": [
    {
     "name": "stdout",
     "output_type": "stream",
     "text": [
      "Congratulations you are eligible to vote\n"
     ]
    }
   ],
   "source": [
    "#default parameter\n",
    "def votecheck(name,gender,age = 18):\n",
    "    if age >= 18:\n",
    "        print('Congratulations you are eligible to vote')\n",
    "    else:\n",
    "        print('Opss sorry you are not eligible to vote')\n",
    "votecheck('Telma','Female',)"
   ]
  },
  {
   "cell_type": "code",
   "execution_count": 18,
   "id": "5282ff3a",
   "metadata": {},
   "outputs": [
    {
     "name": "stdout",
     "output_type": "stream",
     "text": [
      "PLAYER ONE DICE OUTCOME: 7\n",
      "PLAYER TWO DICE OUTCOME: 7\n",
      "DRAW.......\n",
      "PLAYER ONE DICE OUTCOME: 9\n",
      "PLAYER TWO DICE OUTCOME: 6\n",
      "PLAYER ONE WINS........\n",
      "PLAYER ONE DICE OUTCOME: 9\n",
      "PLAYER TWO DICE OUTCOME: 7\n",
      "PLAYER ONE WINS........\n",
      "PLAYER ONE DICE OUTCOME: 7\n",
      "PLAYER TWO DICE OUTCOME: 6\n",
      "PLAYER ONE WINS........\n",
      "PLAYER ONE DICE OUTCOME: 6\n",
      "PLAYER TWO DICE OUTCOME: 6\n",
      "DRAW.......\n",
      "PLAYER ONE DICE OUTCOME: 5\n",
      "PLAYER TWO DICE OUTCOME: 9\n",
      "PLAYER TWO WINS........\n",
      "PLAYER ONE DICE OUTCOME: 10\n",
      "PLAYER TWO DICE OUTCOME: 6\n",
      "PLAYER ONE WINS........\n",
      "PLAYER ONE DICE OUTCOME: 6\n",
      "PLAYER TWO DICE OUTCOME: 7\n",
      "PLAYER TWO WINS........\n",
      "PLAYER ONE DICE OUTCOME: 6\n",
      "PLAYER TWO DICE OUTCOME: 6\n",
      "DRAW.......\n",
      "PLAYER ONE DICE OUTCOME: 7\n",
      "PLAYER TWO DICE OUTCOME: 2\n",
      "PLAYER ONE WINS........\n",
      "PLAYER ONE IS THE OVERALL WINNER BY 38 POINT\n"
     ]
    }
   ],
   "source": [
    "#assignment four\n",
    "def rolldicegame():\n",
    "    import random\n",
    "    playeronescore = 0\n",
    "    playertwoscore = 0\n",
    "    counter = 1\n",
    "    while counter <= 10:\n",
    "        dice1 = random.randint(1,6) + random.randint(1,6)\n",
    "        dice2 = random.randint(1,6) + random.randint(1,6)\n",
    "        if dice1 > dice2:\n",
    "            print('PLAYER ONE DICE OUTCOME:', dice1)\n",
    "            print('PLAYER TWO DICE OUTCOME:', dice2)\n",
    "            print('PLAYER ONE WINS........')\n",
    "            playeronescore += 5\n",
    "        \n",
    "        elif dice2 > dice1:\n",
    "            print('PLAYER ONE DICE OUTCOME:', dice1)\n",
    "            print('PLAYER TWO DICE OUTCOME:', dice2)\n",
    "            print('PLAYER TWO WINS........')\n",
    "            playeronescore += 5\n",
    "        \n",
    "        else:\n",
    "            print('PLAYER ONE DICE OUTCOME:', dice1)\n",
    "            print('PLAYER TWO DICE OUTCOME:', dice2)\n",
    "            print('DRAW.......')\n",
    "            playertwoscore += 1\n",
    "            playeronescore += 1\n",
    "        counter += 1\n",
    "    if playeronescore > playertwoscore:\n",
    "        print(f'PLAYER ONE IS THE OVERALL WINNER BY {playeronescore} POINT')\n",
    "    elif playeronescore < playertwoscore:\n",
    "        print(f'PLAYER TWO IS THE OVERALL WINNER BY {playertwoscore} POINT')\n",
    "    else:\n",
    "        print('NO WINNER, IT IS A DRAW')\n",
    "rolldicegame()"
   ]
  },
  {
   "cell_type": "code",
   "execution_count": 19,
   "id": "f8b4f5de",
   "metadata": {},
   "outputs": [],
   "source": [
    "#write a python function that allows a user to continuosly order food items until they choose to stop. It will then \n",
    "#calculate the total price and print a reciept."
   ]
  },
  {
   "cell_type": "code",
   "execution_count": 24,
   "id": "9cfcd82e",
   "metadata": {},
   "outputs": [
    {
     "name": "stdout",
     "output_type": "stream",
     "text": [
      "\n",
      "MENU\n",
      "Pizza:$15.000000\n",
      "Sandwich:$7.500000\n",
      "Salad:$4.990000\n",
      "Fries:$3.990000\n",
      "Burger:$8.000000\n",
      "Enter the food item you want to order(or done to finish)pizza\n",
      "Invalid choice, choose from menu.\n",
      "\n",
      "MENU\n",
      "Pizza:$15.000000\n",
      "Sandwich:$7.500000\n",
      "Salad:$4.990000\n",
      "Fries:$3.990000\n",
      "Burger:$8.000000\n",
      "Enter the food item you want to order(or done to finish)burger\n",
      "Invalid choice, choose from menu.\n",
      "\n",
      "MENU\n",
      "Pizza:$15.000000\n",
      "Sandwich:$7.500000\n",
      "Salad:$4.990000\n",
      "Fries:$3.990000\n",
      "Burger:$8.000000\n",
      "Enter the food item you want to order(or done to finish)salad\n",
      "Invalid choice, choose from menu.\n",
      "\n",
      "MENU\n",
      "Pizza:$15.000000\n",
      "Sandwich:$7.500000\n",
      "Salad:$4.990000\n",
      "Fries:$3.990000\n",
      "Burger:$8.000000\n",
      "Enter the food item you want to order(or done to finish)Salad\n",
      "Invalid choice, choose from menu.\n",
      "\n",
      "MENU\n",
      "Pizza:$15.000000\n",
      "Sandwich:$7.500000\n",
      "Salad:$4.990000\n",
      "Fries:$3.990000\n",
      "Burger:$8.000000\n",
      "Enter the food item you want to order(or done to finish)done\n",
      "\n",
      "RECEIPT\n",
      "Total price is  0.0\n"
     ]
    }
   ],
   "source": [
    "def order_food():\n",
    "    menu = {\n",
    "        'Pizza': 15.0,\n",
    "        'Sandwich':7.5,\n",
    "        'Salad':4.99,\n",
    "        'Fries':3.99,\n",
    "        'Burger':8.00\n",
    "    }\n",
    "    order = {}\n",
    "    totalprice = 0.0\n",
    "    while True:\n",
    "        print('\\nMENU')\n",
    "        for item,price in menu.items():\n",
    "            print(f'{item.capitalize()}:${price:2f}')\n",
    "        user_choice = input('Enter the food item you want to order(or done to finish)').lower()\n",
    "        \n",
    "        if user_choice =='done':\n",
    "            break\n",
    "        if user_choice in menu:\n",
    "            quantity = int(input(f'HOW MANY {user_choice}s DO YOU WANT TO ORDER?'))\n",
    "            order[user_choice] = quantity\n",
    "            totalprice += menu[user_choice] * quantity\n",
    "        else:\n",
    "            print('Invalid choice, choose from menu.')\n",
    "    print('\\nRECEIPT')\n",
    "    for item,quantity in order.items():\n",
    "        print(f'{item.capitalize()}:{quantity} x ${price:.2f} = ${menu[item] * quantity}')\n",
    "    print('Total price is ', totalprice)\n",
    "order_food()\n",
    "                                 "
   ]
  },
  {
   "cell_type": "code",
   "execution_count": null,
   "id": "1e71ba42",
   "metadata": {},
   "outputs": [],
   "source": []
  }
 ],
 "metadata": {
  "kernelspec": {
   "display_name": "Python 3 (ipykernel)",
   "language": "python",
   "name": "python3"
  },
  "language_info": {
   "codemirror_mode": {
    "name": "ipython",
    "version": 3
   },
   "file_extension": ".py",
   "mimetype": "text/x-python",
   "name": "python",
   "nbconvert_exporter": "python",
   "pygments_lexer": "ipython3",
   "version": "3.11.5"
  }
 },
 "nbformat": 4,
 "nbformat_minor": 5
}
